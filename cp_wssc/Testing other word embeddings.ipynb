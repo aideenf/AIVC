{
 "cells": [
  {
   "cell_type": "markdown",
   "metadata": {},
   "source": [
    "## Using embeddings trained from stack overflow data\n",
    "[source](https://github.com/vefstathiou/SO_word2vec)"
   ]
  },
  {
   "cell_type": "code",
   "execution_count": 1,
   "metadata": {},
   "outputs": [
    {
     "name": "stderr",
     "output_type": "stream",
     "text": [
      "Using TensorFlow backend.\n",
      "/usr/local/lib/python3.7/site-packages/tensorflow/python/framework/dtypes.py:516: FutureWarning: Passing (type, 1) or '1type' as a synonym of type is deprecated; in a future version of numpy, it will be understood as (type, (1,)) / '(1,)type'.\n",
      "  _np_qint8 = np.dtype([(\"qint8\", np.int8, 1)])\n",
      "/usr/local/lib/python3.7/site-packages/tensorflow/python/framework/dtypes.py:517: FutureWarning: Passing (type, 1) or '1type' as a synonym of type is deprecated; in a future version of numpy, it will be understood as (type, (1,)) / '(1,)type'.\n",
      "  _np_quint8 = np.dtype([(\"quint8\", np.uint8, 1)])\n",
      "/usr/local/lib/python3.7/site-packages/tensorflow/python/framework/dtypes.py:518: FutureWarning: Passing (type, 1) or '1type' as a synonym of type is deprecated; in a future version of numpy, it will be understood as (type, (1,)) / '(1,)type'.\n",
      "  _np_qint16 = np.dtype([(\"qint16\", np.int16, 1)])\n",
      "/usr/local/lib/python3.7/site-packages/tensorflow/python/framework/dtypes.py:519: FutureWarning: Passing (type, 1) or '1type' as a synonym of type is deprecated; in a future version of numpy, it will be understood as (type, (1,)) / '(1,)type'.\n",
      "  _np_quint16 = np.dtype([(\"quint16\", np.uint16, 1)])\n",
      "/usr/local/lib/python3.7/site-packages/tensorflow/python/framework/dtypes.py:520: FutureWarning: Passing (type, 1) or '1type' as a synonym of type is deprecated; in a future version of numpy, it will be understood as (type, (1,)) / '(1,)type'.\n",
      "  _np_qint32 = np.dtype([(\"qint32\", np.int32, 1)])\n",
      "/usr/local/lib/python3.7/site-packages/tensorflow/python/framework/dtypes.py:525: FutureWarning: Passing (type, 1) or '1type' as a synonym of type is deprecated; in a future version of numpy, it will be understood as (type, (1,)) / '(1,)type'.\n",
      "  np_resource = np.dtype([(\"resource\", np.ubyte, 1)])\n",
      "/usr/local/lib/python3.7/site-packages/tensorboard/compat/tensorflow_stub/dtypes.py:541: FutureWarning: Passing (type, 1) or '1type' as a synonym of type is deprecated; in a future version of numpy, it will be understood as (type, (1,)) / '(1,)type'.\n",
      "  _np_qint8 = np.dtype([(\"qint8\", np.int8, 1)])\n",
      "/usr/local/lib/python3.7/site-packages/tensorboard/compat/tensorflow_stub/dtypes.py:542: FutureWarning: Passing (type, 1) or '1type' as a synonym of type is deprecated; in a future version of numpy, it will be understood as (type, (1,)) / '(1,)type'.\n",
      "  _np_quint8 = np.dtype([(\"quint8\", np.uint8, 1)])\n",
      "/usr/local/lib/python3.7/site-packages/tensorboard/compat/tensorflow_stub/dtypes.py:543: FutureWarning: Passing (type, 1) or '1type' as a synonym of type is deprecated; in a future version of numpy, it will be understood as (type, (1,)) / '(1,)type'.\n",
      "  _np_qint16 = np.dtype([(\"qint16\", np.int16, 1)])\n",
      "/usr/local/lib/python3.7/site-packages/tensorboard/compat/tensorflow_stub/dtypes.py:544: FutureWarning: Passing (type, 1) or '1type' as a synonym of type is deprecated; in a future version of numpy, it will be understood as (type, (1,)) / '(1,)type'.\n",
      "  _np_quint16 = np.dtype([(\"quint16\", np.uint16, 1)])\n",
      "/usr/local/lib/python3.7/site-packages/tensorboard/compat/tensorflow_stub/dtypes.py:545: FutureWarning: Passing (type, 1) or '1type' as a synonym of type is deprecated; in a future version of numpy, it will be understood as (type, (1,)) / '(1,)type'.\n",
      "  _np_qint32 = np.dtype([(\"qint32\", np.int32, 1)])\n",
      "/usr/local/lib/python3.7/site-packages/tensorboard/compat/tensorflow_stub/dtypes.py:550: FutureWarning: Passing (type, 1) or '1type' as a synonym of type is deprecated; in a future version of numpy, it will be understood as (type, (1,)) / '(1,)type'.\n",
      "  np_resource = np.dtype([(\"resource\", np.ubyte, 1)])\n",
      "Models training helpers.ipynb:16: FutureWarning: Sorting because non-concatenation axis is not aligned. A future version\n",
      "of pandas will change to not sort by default.\n",
      "\n",
      "To accept the future behavior, pass 'sort=False'.\n",
      "\n",
      "To retain the current behavior and silence the warning, pass 'sort=True'.\n",
      "\n",
      "  \"\\n\",\n"
     ]
    }
   ],
   "source": [
    "%run \"Models training helpers.ipynb\" sort=False"
   ]
  },
  {
   "cell_type": "code",
   "execution_count": 3,
   "metadata": {},
   "outputs": [],
   "source": [
    "from gensim.models.keyedvectors import KeyedVectors\n",
    "SO_embeddings = KeyedVectors.load_word2vec_format(\"Data/SO_vectors_200.bin\", binary=True)"
   ]
  },
  {
   "cell_type": "code",
   "execution_count": 4,
   "metadata": {},
   "outputs": [
    {
     "data": {
      "text/plain": [
       "0.86835635"
      ]
     },
     "execution_count": 4,
     "metadata": {},
     "output_type": "execute_result"
    }
   ],
   "source": [
    "SO_embeddings.similarity('computer', 'pc')"
   ]
  },
  {
   "cell_type": "code",
   "execution_count": 5,
   "metadata": {},
   "outputs": [
    {
     "data": {
      "text/plain": [
       "True"
      ]
     },
     "execution_count": 5,
     "metadata": {},
     "output_type": "execute_result"
    }
   ],
   "source": [
    "'computer' in SO_embeddings"
   ]
  },
  {
   "cell_type": "code",
   "execution_count": 36,
   "metadata": {},
   "outputs": [],
   "source": [
    "CONVENTION = \"Industrial\"\n",
    "CONVENTION_LOWER = CONVENTION.lower()\n",
    "EMBEDDING_DIM=200\n",
    "NUM_EPOCHS=20"
   ]
  },
  {
   "cell_type": "code",
   "execution_count": 37,
   "metadata": {},
   "outputs": [],
   "source": [
    "training_df = read_training_data()\n",
    "df = training_df[training_df['convention'] == CONVENTION]"
   ]
  },
  {
   "cell_type": "code",
   "execution_count": 38,
   "metadata": {},
   "outputs": [
    {
     "data": {
      "text/html": [
       "<div>\n",
       "<style scoped>\n",
       "    .dataframe tbody tr th:only-of-type {\n",
       "        vertical-align: middle;\n",
       "    }\n",
       "\n",
       "    .dataframe tbody tr th {\n",
       "        vertical-align: top;\n",
       "    }\n",
       "\n",
       "    .dataframe thead th {\n",
       "        text-align: right;\n",
       "    }\n",
       "</style>\n",
       "<table border=\"1\" class=\"dataframe\">\n",
       "  <thead>\n",
       "    <tr style=\"text-align: right;\">\n",
       "      <th></th>\n",
       "      <th>text</th>\n",
       "      <th>provenance</th>\n",
       "      <th>convention</th>\n",
       "      <th>label</th>\n",
       "    </tr>\n",
       "  </thead>\n",
       "  <tbody>\n",
       "    <tr>\n",
       "      <td>0</td>\n",
       "      <td>The parser generates events similar to an xml ...</td>\n",
       "      <td>efficiency</td>\n",
       "      <td>Industrial</td>\n",
       "      <td>1</td>\n",
       "    </tr>\n",
       "    <tr>\n",
       "      <td>1</td>\n",
       "      <td>Verify response time of the Application Under ...</td>\n",
       "      <td>efficiency</td>\n",
       "      <td>Industrial</td>\n",
       "      <td>1</td>\n",
       "    </tr>\n",
       "    <tr>\n",
       "      <td>2</td>\n",
       "      <td>Flexible and powerful JSON manipulation, valid...</td>\n",
       "      <td>efficiency</td>\n",
       "      <td>Industrial</td>\n",
       "      <td>1</td>\n",
       "    </tr>\n",
       "    <tr>\n",
       "      <td>3</td>\n",
       "      <td>Requires data to be entered only once, with no...</td>\n",
       "      <td>efficiency</td>\n",
       "      <td>Industrial</td>\n",
       "      <td>1</td>\n",
       "    </tr>\n",
       "    <tr>\n",
       "      <td>4</td>\n",
       "      <td>DebugBear - Monitor website performance and Li...</td>\n",
       "      <td>efficiency</td>\n",
       "      <td>Industrial</td>\n",
       "      <td>1</td>\n",
       "    </tr>\n",
       "  </tbody>\n",
       "</table>\n",
       "</div>"
      ],
      "text/plain": [
       "                                                text  provenance  convention  \\\n",
       "0  The parser generates events similar to an xml ...  efficiency  Industrial   \n",
       "1  Verify response time of the Application Under ...  efficiency  Industrial   \n",
       "2  Flexible and powerful JSON manipulation, valid...  efficiency  Industrial   \n",
       "3  Requires data to be entered only once, with no...  efficiency  Industrial   \n",
       "4  DebugBear - Monitor website performance and Li...  efficiency  Industrial   \n",
       "\n",
       "   label  \n",
       "0      1  \n",
       "1      1  \n",
       "2      1  \n",
       "3      1  \n",
       "4      1  "
      ]
     },
     "execution_count": 38,
     "metadata": {},
     "output_type": "execute_result"
    }
   ],
   "source": [
    "### Ading more green examples\n",
    "green_audit_df = pd.read_csv(\"Data/Iterative-models-building/Classification results/Conventions/Audited/audited_ALL_2019-10-08-20:23:58.598102.tsv\", sep=\"\\t\")\n",
    "green_audit_df = green_audit_df[['text', 'provenance', 'convention', 'new']]\n",
    "green_audit_df = green_audit_df.rename(columns={\"new\": \"label\"})\n",
    "green_audit_df = green_audit_df[green_audit_df['convention']==CONVENTION_LOWER]\n",
    "green_audit_df['convention'] = CONVENTION\n",
    "green_audit_df.head(5)"
   ]
  },
  {
   "cell_type": "code",
   "execution_count": 39,
   "metadata": {},
   "outputs": [
    {
     "name": "stderr",
     "output_type": "stream",
     "text": [
      "/usr/local/lib/python3.7/site-packages/ipykernel_launcher.py:1: FutureWarning: Sorting because non-concatenation axis is not aligned. A future version\n",
      "of pandas will change to not sort by default.\n",
      "\n",
      "To accept the future behavior, pass 'sort=False'.\n",
      "\n",
      "To retain the current behavior and silence the warning, pass 'sort=True'.\n",
      "\n",
      "  \"\"\"Entry point for launching an IPython kernel.\n"
     ]
    }
   ],
   "source": [
    "df = pd.concat([df, green_audit_df])"
   ]
  },
  {
   "cell_type": "code",
   "execution_count": 40,
   "metadata": {},
   "outputs": [],
   "source": [
    "## Training a deep learning model given training, validation data\n",
    "def train_DL_model(x_train, y_train, x_val, y_val, tokenizer, num_epochs=NUM_EPOCHS):\n",
    "    \n",
    "    word_index = tokenizer.word_index\n",
    "    \n",
    "    print('\\nNumber of elements from each class in traing and validation set ')\n",
    "    print(y_train.sum(axis=0))\n",
    "    print(y_val.sum(axis=0))\n",
    "\n",
    "\n",
    "    embedding_matrix = np.random.random((len(word_index) + 1, EMBEDDING_DIM))\n",
    "    for word, i in word_index.items():\n",
    "        if word in SO_embeddings:\n",
    "            \n",
    "            embedding_vector = SO_embeddings[word]#embeddings_index.get(word)\n",
    "        else:\n",
    "            embedding_vector = None\n",
    "        if embedding_vector is not None:\n",
    "            # words not found in embedding index will be all-zeros.\n",
    "            embedding_matrix[i] = embedding_vector\n",
    "\n",
    "    embedding_layer = Embedding(len(word_index) + 1,\n",
    "                                EMBEDDING_DIM,\n",
    "                                weights=[embedding_matrix],\n",
    "                                input_length=MAX_SEQUENCE_LENGTH,\n",
    "                                trainable=False)\n",
    "    \n",
    "\n",
    "    convs = []\n",
    "    filter_sizes = [3,4,5]\n",
    "\n",
    "    sequence_input = Input(shape=(MAX_SEQUENCE_LENGTH,), dtype='int32')\n",
    "    embedded_sequences = embedding_layer(sequence_input)\n",
    "\n",
    "    for fsz in filter_sizes:\n",
    "        l_conv = Conv1D(nb_filter=128,filter_length=fsz,activation='relu')(embedded_sequences)\n",
    "        l_pool = MaxPooling1D(5)(l_conv)\n",
    "        convs.append(l_pool)\n",
    "\n",
    "    l_merge = Concatenate(axis=1)(convs)#\n",
    "    \n",
    "    l_cov1= Conv1D(128, 5, activation='relu')(l_merge)\n",
    "    l_pool1 = MaxPooling1D(5)(l_cov1)\n",
    "\n",
    "    l_flat = Flatten()(l_pool1)\n",
    "    l_dense = Dense(128, activation='relu')(l_flat)\n",
    "    preds = Dense(2, activation='softmax')(l_dense)\n",
    "    \"\"\"\n",
    "    l_cov1= Conv1D(128, 5, activation='relu')(l_merge)\n",
    "    l_pool1 = MaxPooling1D(5)(l_cov1)\n",
    "    l_cov2 = Conv1D(128, 5, activation='relu')(l_pool1)\n",
    "\n",
    "    l_flat = Flatten()(l_cov2)\n",
    "    \n",
    "    l_dense = Dense(128, activation='relu')(l_flat)\n",
    "    preds = Dense(2, activation='softmax')\n",
    "    \"\"\"\n",
    "    model = Model(sequence_input, preds)\n",
    "    model.compile(loss='categorical_crossentropy',\n",
    "                  optimizer='rmsprop',\n",
    "                  metrics=['acc'])\n",
    "\n",
    "    \n",
    "    print(\"model fitting - more complex convolutional neural network\")\n",
    "    model.summary()\n",
    "    train_history = model.fit(x_train, y_train, validation_data=(x_val, y_val),epochs=num_epochs, batch_size=50, callbacks=[roc_callback(validation_data=(x_val, y_val))])\n",
    "\n",
    "    return model,tokenizer,x_val,y_val, train_history"
   ]
  },
  {
   "cell_type": "code",
   "execution_count": 41,
   "metadata": {
    "scrolled": false
   },
   "outputs": [
    {
     "name": "stdout",
     "output_type": "stream",
     "text": [
      "Found 86029 unique tokens.\n",
      "----------------------------------------------------------------\n",
      "            Industrial                  \n",
      "----------------------------------------------------------------\n",
      "Shape of data tensor: (1812, 40)\n",
      "Shape of label tensor: (1812, 2)\n",
      "\n",
      "Number of elements from each class in traing and validation set \n",
      "[912. 538.]\n",
      "[229. 133.]\n"
     ]
    },
    {
     "name": "stderr",
     "output_type": "stream",
     "text": [
      "/usr/local/lib/python3.7/site-packages/ipykernel_launcher.py:36: UserWarning: Update your `Conv1D` call to the Keras 2 API: `Conv1D(activation=\"relu\", filters=128, kernel_size=3)`\n",
      "/usr/local/lib/python3.7/site-packages/ipykernel_launcher.py:36: UserWarning: Update your `Conv1D` call to the Keras 2 API: `Conv1D(activation=\"relu\", filters=128, kernel_size=4)`\n",
      "/usr/local/lib/python3.7/site-packages/ipykernel_launcher.py:36: UserWarning: Update your `Conv1D` call to the Keras 2 API: `Conv1D(activation=\"relu\", filters=128, kernel_size=5)`\n"
     ]
    },
    {
     "name": "stdout",
     "output_type": "stream",
     "text": [
      "model fitting - more complex convolutional neural network\n",
      "Model: \"model_5\"\n",
      "__________________________________________________________________________________________________\n",
      "Layer (type)                    Output Shape         Param #     Connected to                     \n",
      "==================================================================================================\n",
      "input_5 (InputLayer)            (None, 40)           0                                            \n",
      "__________________________________________________________________________________________________\n",
      "embedding_5 (Embedding)         (None, 40, 200)      17206000    input_5[0][0]                    \n",
      "__________________________________________________________________________________________________\n",
      "conv1d_17 (Conv1D)              (None, 38, 128)      76928       embedding_5[0][0]                \n",
      "__________________________________________________________________________________________________\n",
      "conv1d_18 (Conv1D)              (None, 37, 128)      102528      embedding_5[0][0]                \n",
      "__________________________________________________________________________________________________\n",
      "conv1d_19 (Conv1D)              (None, 36, 128)      128128      embedding_5[0][0]                \n",
      "__________________________________________________________________________________________________\n",
      "max_pooling1d_17 (MaxPooling1D) (None, 7, 128)       0           conv1d_17[0][0]                  \n",
      "__________________________________________________________________________________________________\n",
      "max_pooling1d_18 (MaxPooling1D) (None, 7, 128)       0           conv1d_18[0][0]                  \n",
      "__________________________________________________________________________________________________\n",
      "max_pooling1d_19 (MaxPooling1D) (None, 7, 128)       0           conv1d_19[0][0]                  \n",
      "__________________________________________________________________________________________________\n",
      "concatenate_5 (Concatenate)     (None, 21, 128)      0           max_pooling1d_17[0][0]           \n",
      "                                                                 max_pooling1d_18[0][0]           \n",
      "                                                                 max_pooling1d_19[0][0]           \n",
      "__________________________________________________________________________________________________\n",
      "conv1d_20 (Conv1D)              (None, 17, 128)      82048       concatenate_5[0][0]              \n",
      "__________________________________________________________________________________________________\n",
      "max_pooling1d_20 (MaxPooling1D) (None, 3, 128)       0           conv1d_20[0][0]                  \n",
      "__________________________________________________________________________________________________\n",
      "flatten_5 (Flatten)             (None, 384)          0           max_pooling1d_20[0][0]           \n",
      "__________________________________________________________________________________________________\n",
      "dense_9 (Dense)                 (None, 128)          49280       flatten_5[0][0]                  \n",
      "__________________________________________________________________________________________________\n",
      "dense_10 (Dense)                (None, 2)            258         dense_9[0][0]                    \n",
      "==================================================================================================\n",
      "Total params: 17,645,170\n",
      "Trainable params: 439,170\n",
      "Non-trainable params: 17,206,000\n",
      "__________________________________________________________________________________________________\n",
      "Train on 1450 samples, validate on 362 samples\n",
      "Epoch 1/20\n",
      "1450/1450 [==============================] - 1s 786us/step - loss: 1.0551 - acc: 0.6234 - val_loss: 0.6548 - val_acc: 0.6243\n",
      "Roc-AUC on validation: 0.8409\n",
      "Epoch 2/20\n",
      "1450/1450 [==============================] - 1s 406us/step - loss: 0.4762 - acc: 0.7772 - val_loss: 0.3616 - val_acc: 0.8232\n",
      "Roc-AUC on validation: 0.924\n",
      "Epoch 3/20\n",
      "1450/1450 [==============================] - 1s 410us/step - loss: 0.3054 - acc: 0.8759 - val_loss: 0.3036 - val_acc: 0.8729\n",
      "Roc-AUC on validation: 0.9524\n",
      "Epoch 4/20\n",
      "1450/1450 [==============================] - 1s 404us/step - loss: 0.1695 - acc: 0.9379 - val_loss: 0.4314 - val_acc: 0.8149\n",
      "Roc-AUC on validation: 0.9568\n",
      "Epoch 5/20\n",
      "1450/1450 [==============================] - 1s 414us/step - loss: 0.0999 - acc: 0.9634 - val_loss: 0.3887 - val_acc: 0.8398\n",
      "Roc-AUC on validation: 0.9609\n",
      "Epoch 6/20\n",
      "1450/1450 [==============================] - 1s 440us/step - loss: 0.0936 - acc: 0.9676 - val_loss: 0.9385 - val_acc: 0.7735\n",
      "Roc-AUC on validation: 0.9463\n",
      "Epoch 7/20\n",
      "1450/1450 [==============================] - 1s 446us/step - loss: 0.0501 - acc: 0.9807 - val_loss: 0.2868 - val_acc: 0.9033\n",
      "Roc-AUC on validation: 0.9678\n",
      "Epoch 8/20\n",
      "1450/1450 [==============================] - 1s 459us/step - loss: 0.0739 - acc: 0.9731 - val_loss: 0.2980 - val_acc: 0.8840\n",
      "Roc-AUC on validation: 0.9667\n",
      "Epoch 9/20\n",
      "1450/1450 [==============================] - 1s 439us/step - loss: 0.0353 - acc: 0.9848 - val_loss: 0.3250 - val_acc: 0.9061\n",
      "Roc-AUC on validation: 0.9685\n",
      "Epoch 10/20\n",
      "1450/1450 [==============================] - 1s 425us/step - loss: 0.0366 - acc: 0.9876 - val_loss: 0.3517 - val_acc: 0.8840\n",
      "Roc-AUC on validation: 0.9683\n",
      "Epoch 11/20\n",
      "1450/1450 [==============================] - 1s 454us/step - loss: 0.1038 - acc: 0.9669 - val_loss: 0.3314 - val_acc: 0.8702\n",
      "Roc-AUC on validation: 0.9676\n",
      "Epoch 12/20\n",
      "1450/1450 [==============================] - 1s 451us/step - loss: 0.0188 - acc: 0.9903 - val_loss: 0.3432 - val_acc: 0.8867\n",
      "Roc-AUC on validation: 0.9681\n",
      "Epoch 13/20\n",
      "1450/1450 [==============================] - 1s 467us/step - loss: 0.0737 - acc: 0.9710 - val_loss: 0.4073 - val_acc: 0.8812\n",
      "Roc-AUC on validation: 0.9627\n",
      "Epoch 14/20\n",
      "1450/1450 [==============================] - 1s 466us/step - loss: 0.0199 - acc: 0.9910 - val_loss: 0.3879 - val_acc: 0.8978\n",
      "Roc-AUC on validation: 0.9647\n",
      "Epoch 15/20\n",
      "1450/1450 [==============================] - 1s 450us/step - loss: 0.0231 - acc: 0.9883 - val_loss: 0.4827 - val_acc: 0.8978\n",
      "Roc-AUC on validation: 0.9657\n",
      "Epoch 16/20\n",
      "1450/1450 [==============================] - 1s 499us/step - loss: 0.0596 - acc: 0.9766 - val_loss: 0.4201 - val_acc: 0.8923\n",
      "Roc-AUC on validation: 0.9635\n",
      "Epoch 17/20\n",
      "1450/1450 [==============================] - 1s 479us/step - loss: 0.0174 - acc: 0.9890 - val_loss: 0.5086 - val_acc: 0.8867\n",
      "Roc-AUC on validation: 0.9637\n",
      "Epoch 18/20\n",
      "1450/1450 [==============================] - 1s 446us/step - loss: 0.0172 - acc: 0.9903 - val_loss: 0.5545 - val_acc: 0.9006\n",
      "Roc-AUC on validation: 0.9642\n",
      "Epoch 19/20\n",
      "1450/1450 [==============================] - 1s 439us/step - loss: 0.0626 - acc: 0.9793 - val_loss: 0.6455 - val_acc: 0.8564\n",
      "Roc-AUC on validation: 0.9509\n",
      "Epoch 20/20\n",
      "1450/1450 [==============================] - 1s 447us/step - loss: 0.0177 - acc: 0.9903 - val_loss: 0.5200 - val_acc: 0.8895\n",
      "Roc-AUC on validation: 0.9616\n",
      "\n",
      "\n",
      "\n",
      "\n"
     ]
    }
   ],
   "source": [
    "conv_models = train_DL_models(df,\n",
    "            data_class_column=\"convention\", \n",
    "            data_label_column=\"label\",\n",
    "            df_val=None,\n",
    "            tokenizer=extended_tokenizer,\n",
    "            random_seed=0, \n",
    "            use_validation=True, num_epochs=NUM_EPOCHS)"
   ]
  },
  {
   "cell_type": "code",
   "execution_count": 42,
   "metadata": {},
   "outputs": [],
   "source": [
    "accs = conv_models[4][CONVENTION].history['acc']\n",
    "val_accs = conv_models[4][CONVENTION].history['val_acc']"
   ]
  },
  {
   "cell_type": "code",
   "execution_count": 43,
   "metadata": {},
   "outputs": [
    {
     "data": {
      "image/png": "[encoded data removed]",
      "text/plain": [
       "<Figure size 720x720 with 2 Axes>"
      ]
     },
     "metadata": {
      "needs_background": "light"
     },
     "output_type": "display_data"
    }
   ],
   "source": [
    "epochs=np.arange(0,NUM_EPOCHS,1)\n",
    "\n",
    "fig = plt.figure(figsize=[10,10])\n",
    "fig.suptitle(\"Stack overflow embeddings \\n      Checking performance on multiple random data partitions\\n       ({} Convention)\".format(CONVENTION), fontsize=16)\n",
    "plt.subplot(2, 2, 1)\n",
    "plt.subplots_adjust(wspace=0.4, hspace=0.4)\n",
    "\n",
    "\n",
    "plt.plot(epochs,accs, label=\"Test\")\n",
    "plt.title(\"Training accuracies per epoch\")\n",
    "plt.xlabel(\"epochs\")\n",
    "plt.ylabel(\"acc score\")\n",
    "plt.legend()\n",
    "\n",
    "plt.subplot(2, 2, 2)\n",
    "\n",
    "plt.plot(epochs,val_accs, label=\"Test\")\n",
    "plt.title(\"Validation accuracies per epoch\")\n",
    "plt.xlabel(\"epochs\")\n",
    "plt.ylabel(\"acc score\")\n",
    "plt.legend()\n",
    "plt.show()\n"
   ]
  },
  {
   "cell_type": "code",
   "execution_count": 44,
   "metadata": {},
   "outputs": [
    {
     "name": "stdout",
     "output_type": "stream",
     "text": [
      "-----------------------------------------------------\n",
      " >> DL model results\n",
      " >> Top sentences with higher confidence for Github:\n",
      "            (Industrial convention)\n",
      "-----------------------------------------------------\n",
      "\n",
      "surprisingly threading and debugging introduces nearlyno overhead.statethis project is still in an alpha state.\n",
      "\n",
      "pca decomposition 2d projection of the data based on classes.\n",
      "\n",
      "the project achieves roughly 0.65 roc auc score using logistic regression and neural networks.\n",
      "\n",
      "sense data science development platform a new cloud platform for data science and big data analyticscollaborate on, scale, and deploy data analysis and advanced analytics projects radically faster.\n",
      "\n",
      "deepspeech.py train files .. data cv en clips train.csv dev files .. data cv en clips dev.csv test files .. data cv en clips test.csv training a modelthe central python script is deepspeech.py in the project s root directory.\n",
      "\n",
      "mxfusion - modular probabilistic programming on mxnet sklearn-crfsuite - a scikit-learn inspired api for crfsuite.\n",
      "\n",
      "wikipediathis project contains pytudes python programs, usually short, for perfecting programming skills.some are in jupyter ipython notebooks, some in .py files.\n",
      "\n",
      "b machine-learning-projectsa collection of machine learning projects.\n",
      "\n",
      "b machine learning docsthis repository contains text, source code, and build tools for the open source machine learning documentation guides project at branger briz.\n",
      "\n",
      "mxfusion - modular probabilistic programming on mxnet sklearn-crfsuite - a scikit-learn inspired api for crfsuite.\n",
      "\n",
      "b ml.jssome simple machine learning projects done in javascript node and python jupyter notebook .\n",
      "\n",
      "preferred networks is renown for applying real-time machine-learning technologies to new applications in the field of iot.\n",
      "\n",
      "b rmastering opencv with practical computer vision projects r rfull source-code for the book.\n",
      "\n",
      "96.5 sensitivity at high sensitivity setpoint green br right confusion matrix, without normalization.\n",
      "\n",
      "b tensorflow-xnor-bnnbinarynets in tensorflow with xnor gemm op dependenciesthe project was tested with python 3.6.1 tensorflow 1.2.1 numpy 1.13.1 g 4.8.4 cuda compilation tools, release 8.0, v8.0.44 using this repo 1 - compile the gemm op.so library1.\n",
      "\n",
      "b project deepspeechdeepspeech is an open source speech-to-text engine, using a model trained by machine learning techniques based on baidu s deep speech research paper.\n",
      "\n",
      "it works great for project video.mp4 and challenge video.mp4.\n",
      "\n",
      "initialize a datmo project datmo init 3. copy the datmo code above into a train.py file in your my project directory4.\n",
      "\n",
      "cornell-moe provides high-performance implementations of bayesopt methods appropriate for industrial applications.\n",
      "\n",
      "help show this command line interface and exit.commands engine-generate generate a new marvin engine project.\n",
      "\n"
     ]
    }
   ],
   "source": [
    "NUM_SENTENCES_TO_SHOW=20\n",
    "\n",
    "df_test = pd.read_csv(os.path.join(GATHERED_DATA_FOLDER, \"gathered_github_sentences.tsv\"), sep=\"\\t\")\n",
    "\n",
    "test_sentences = df_test['sentence'].values\n",
    "test_sentences = np.array([sent for sent in test_sentences if len(sent.split(\" \"))<40])\n",
    "\n",
    "test_seq = extended_tokenizer.texts_to_sequences(test_sentences)\n",
    "test_seq = pad_sequences(test_seq, maxlen=MAX_SEQUENCE_LENGTH)\n",
    "\n",
    "preds = conv_models[0][CONVENTION].predict(test_seq)[:,1]\n",
    "\n",
    "print(\"-----------------------------------------------------\")\n",
    "print(\" >> DL model results\")\n",
    "print(\" >> Top sentences with higher confidence for Github:\")\n",
    "print(\"            ({} convention)\".format(CONVENTION))\n",
    "print(\"-----------------------------------------------------\\n\")\n",
    "for s in test_sentences[preds.argsort()[-NUM_SENTENCES_TO_SHOW:][::-1]]:\n",
    "    print(\"{}\\n\".format(s))"
   ]
  },
  {
   "cell_type": "code",
   "execution_count": null,
   "metadata": {},
   "outputs": [],
   "source": []
  }
 ],
 "metadata": {
  "kernelspec": {
   "display_name": "Python 3",
   "language": "python",
   "name": "python3"
  },
  "language_info": {
   "codemirror_mode": {
    "name": "ipython",
    "version": 3
   },
   "file_extension": ".py",
   "mimetype": "text/x-python",
   "name": "python",
   "nbconvert_exporter": "python",
   "pygments_lexer": "ipython3",
   "version": "3.7.4"
  }
 },
 "nbformat": 4,
 "nbformat_minor": 2
}
