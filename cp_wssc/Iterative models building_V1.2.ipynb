{
 "cells": [
  {
   "cell_type": "markdown",
   "metadata": {},
   "source": [
    "# Pre-requisits\n",
    "- \"Models training helpers.ipynb should be contained in the same directory as this file\n",
    "    in order to run command %run \"Models training helpers.ipynb\" sort=False and utilize the helpers\n",
    "- Glove should be downloaded to 'Data/Iterative-models-building/Training data/glove.6B.100d.t\n",
    "    this is where Models training helpers.ipynb will pick it up   \n"
   ]
  },
  {
   "cell_type": "markdown",
   "metadata": {
    "toc": true
   },
   "source": [
    "<h1>Iterative Model Building - Table of Contents<span class=\"tocSkip\"></span></h1>\n",
    "<div class=\"toc\"><ul class=\"toc-item\"><li><span><a href=\"#Pre-requisits\" data-toc-modified-id=\"Pre-requisits-1\"><span class=\"toc-item-num\">1&nbsp;&nbsp;</span>Pre-requisits</a></span></li><li><span><a href=\"#Import-&quot;Models-training-helpers.ipynb-and-3-helper-classes.\" data-toc-modified-id=\"Import-&quot;Models-training-helpers.ipynb-and-3-helper-classes.-2\"><span class=\"toc-item-num\">2&nbsp;&nbsp;</span>Import \"Models training helpers.ipynb and 3 helper classes.</a></span></li><li><span><a href=\"#Setup-Github-credentials-to-be-used-for-reading-data-and-in-some-cases-pushing-data-directly-to-github\" data-toc-modified-id=\"Setup-Github-credentials-to-be-used-for-reading-data-and-in-some-cases-pushing-data-directly-to-github-3\"><span class=\"toc-item-num\">3&nbsp;&nbsp;</span>Setup Github credentials to be used for reading data and in some cases pushing data directly to github</a></span></li><li><span><a href=\"#Data-gathering\" data-toc-modified-id=\"Data-gathering-4\"><span class=\"toc-item-num\">4&nbsp;&nbsp;</span>Data gathering</a></span></li><li><span><a href=\"#Clasification---load-the-classifiers-from-pickle-files\" data-toc-modified-id=\"Clasification---load-the-classifiers-from-pickle-files-5\"><span class=\"toc-item-num\">5&nbsp;&nbsp;</span>Clasification - load the classifiers from pickle files</a></span></li><li><span><a href=\"#Pass-all-the-combined-convention-sentences-through-each-convention-classifier.\" data-toc-modified-id=\"Pass-all-the-combined-convention-sentences-through-each-convention-classifier.-6\"><span class=\"toc-item-num\">6&nbsp;&nbsp;</span>Pass all the combined convention sentences through each convention classifier.</a></span></li><li><span><a href=\"#Annotate-data-for-each-type-of-classifications-(high-confidence,-medium,-low-+-the-confidence-score)---Not-currently-in-use\" data-toc-modified-id=\"Annotate-data-for-each-type-of-classifications-(high-confidence,-medium,-low-+-the-confidence-score)---Not-currently-in-use-7\"><span class=\"toc-item-num\">7&nbsp;&nbsp;</span>Annotate data for each type of classifications (high confidence, medium, low + the confidence score) - Not currently in use</a></span></li><li><span><a href=\"#Add-a-column-&quot;confidence-level&quot;,--to-the-classified-sentences-per-convention,-based-on-the-value-of-confidence-score\" data-toc-modified-id=\"Add-a-column-&quot;confidence-level&quot;,--to-the-classified-sentences-per-convention,-based-on-the-value-of-confidence-score-8\"><span class=\"toc-item-num\">8&nbsp;&nbsp;</span>Add a column \"confidence level\",  to the classified sentences per convention, based on the value of confidence score</a></span></li><li><span><a href=\"#Store-conventions-classification-results-to-the-following-location:\" data-toc-modified-id=\"Store-conventions-classification-results-to-the-following-location:-9\"><span class=\"toc-item-num\">9&nbsp;&nbsp;</span>Store conventions classification results to the following location:</a></span></li><li><span><a href=\"#Create-the-aggregated-dataframe-of-the-classified-&quot;Gathered_data&quot;-to-then-used-by-the-audit-tool-to-obtain-more-training-data\" data-toc-modified-id=\"Create-the-aggregated-dataframe-of-the-classified-&quot;Gathered_data&quot;-to-then-used-by-the-audit-tool-to-obtain-more-training-data-10\"><span class=\"toc-item-num\">10&nbsp;&nbsp;</span>Create the aggregated dataframe of the classified \"Gathered_data\" to then used by the audit tool to obtain more training data</a></span></li><li><span><a href=\"#Next-steps-to-be-done-manually-via-the-audit-tool,-which-will-created-audit-files-at-location-AUDITED_DATA_DIR_GIT\" data-toc-modified-id=\"Next-steps-to-be-done-manually-via-the-audit-tool,-which-will-created-audit-files-at-location-AUDITED_DATA_DIR_GIT-11\"><span class=\"toc-item-num\">11&nbsp;&nbsp;</span>Next steps to be done manually via the audit tool, which will created audit files at location AUDITED_DATA_DIR_GIT</a></span></li><li><span><a href=\"#Collect-Audited-Data-for-purpose-of-retraining.\" data-toc-modified-id=\"Collect-Audited-Data-for-purpose-of-retraining.-12\"><span class=\"toc-item-num\">12&nbsp;&nbsp;</span>Collect Audited Data for purpose of retraining.</a></span></li><li><span><a href=\"#Retrain-the-models-with-the-new-audited-data-and-training-data\" data-toc-modified-id=\"Retrain-the-models-with-the-new-audited-data-and-training-data-13\"><span class=\"toc-item-num\">13&nbsp;&nbsp;</span>Retrain the models with the new audited data and training data</a></span></li><li><span><a href=\"#Get-Stopwords\" data-toc-modified-id=\"Get-Stopwords-14\"><span class=\"toc-item-num\">14&nbsp;&nbsp;</span>Get Stopwords</a></span></li></ul></div>"
   ]
  },
  {
   "cell_type": "markdown",
   "metadata": {},
   "source": [
    "# Import \"Models training helpers.ipynb and 3 helper classes. \n"
   ]
  },
  {
   "cell_type": "code",
   "execution_count": 275,
   "metadata": {
    "ExecuteTime": {
     "end_time": "2019-10-15T08:33:15.715103Z",
     "start_time": "2019-10-15T08:33:15.376918Z"
    },
    "scrolled": true
   },
   "outputs": [
    {
     "name": "stdout",
     "output_type": "stream",
     "text": [
      "Necessary libraries imported.\n",
      "Initialised generic_parsing_helpers class and methods\n",
      "Initialised AIVM_helper class and methods\n",
      "Initialised model_helpers class and methods\n"
     ]
    },
    {
     "data": {
      "text/html": [
       "You will find instantiate_model_helpers_for_project at the very TOP of All_helper_classes.ipynb, If you do not want to change the default config, used across all files you can instantiate your own model_helpers() instead."
      ],
      "text/plain": [
       "<IPython.core.display.HTML object>"
      ]
     },
     "metadata": {},
     "output_type": "display_data"
    },
    {
     "data": {
      "text/html": [
       "SEQUENCE_LENGTH 32"
      ],
      "text/plain": [
       "<IPython.core.display.HTML object>"
      ]
     },
     "metadata": {},
     "output_type": "display_data"
    },
    {
     "data": {
      "text/html": [
       "MAX_NB_WORDS 10000"
      ],
      "text/plain": [
       "<IPython.core.display.HTML object>"
      ]
     },
     "metadata": {},
     "output_type": "display_data"
    },
    {
     "data": {
      "text/html": [
       "EMBEDDING_DIM 100"
      ],
      "text/plain": [
       "<IPython.core.display.HTML object>"
      ]
     },
     "metadata": {},
     "output_type": "display_data"
    },
    {
     "data": {
      "text/html": [
       "VALIDATION_SPLIT 0.2"
      ],
      "text/plain": [
       "<IPython.core.display.HTML object>"
      ]
     },
     "metadata": {},
     "output_type": "display_data"
    },
    {
     "data": {
      "text/html": [
       "TFIDF_MAX_FEATURES 10000"
      ],
      "text/plain": [
       "<IPython.core.display.HTML object>"
      ]
     },
     "metadata": {},
     "output_type": "display_data"
    },
    {
     "data": {
      "text/html": [
       "NUM_EPOCHS 20"
      ],
      "text/plain": [
       "<IPython.core.display.HTML object>"
      ]
     },
     "metadata": {},
     "output_type": "display_data"
    },
    {
     "name": "stdout",
     "output_type": "stream",
     "text": [
      "\n"
     ]
    },
    {
     "data": {
      "text/html": [
       "*****GIT PROJECT*******"
      ],
      "text/plain": [
       "<IPython.core.display.HTML object>"
      ]
     },
     "metadata": {},
     "output_type": "display_data"
    },
    {
     "data": {
      "text/html": [
       "paths.GIT_OWNER: aideenf"
      ],
      "text/plain": [
       "<IPython.core.display.HTML object>"
      ]
     },
     "metadata": {},
     "output_type": "display_data"
    },
    {
     "data": {
      "text/html": [
       "paths.GIT_REPO: AIVC"
      ],
      "text/plain": [
       "<IPython.core.display.HTML object>"
      ]
     },
     "metadata": {},
     "output_type": "display_data"
    },
    {
     "data": {
      "text/html": [
       "paths.GIT_OWNER_REPO: aideenf/AIVC"
      ],
      "text/plain": [
       "<IPython.core.display.HTML object>"
      ]
     },
     "metadata": {},
     "output_type": "display_data"
    },
    {
     "name": "stdout",
     "output_type": "stream",
     "text": [
      "\n"
     ]
    },
    {
     "data": {
      "text/html": [
       "*****PROJECT PATHS*******"
      ],
      "text/plain": [
       "<IPython.core.display.HTML object>"
      ]
     },
     "metadata": {},
     "output_type": "display_data"
    },
    {
     "data": {
      "text/html": [
       "paths.BASE_DIR_LOCAL: ./Data/Iterative-models-building"
      ],
      "text/plain": [
       "<IPython.core.display.HTML object>"
      ]
     },
     "metadata": {},
     "output_type": "display_data"
    },
    {
     "data": {
      "text/html": [
       "paths.GLOVE_DIR_LOCAL : Data/Iterative-models-building/Training data/"
      ],
      "text/plain": [
       "<IPython.core.display.HTML object>"
      ]
     },
     "metadata": {},
     "output_type": "display_data"
    },
    {
     "data": {
      "text/html": [
       "paths.GATHERED_DATA_CONV_DIR_LOCAL : Data/Iterative-models-building/Gathered_data/Conventions/"
      ],
      "text/plain": [
       "<IPython.core.display.HTML object>"
      ]
     },
     "metadata": {},
     "output_type": "display_data"
    },
    {
     "data": {
      "text/html": [
       "paths.GATHERED_DATA_CONV_DIR_GIT : cp_wssc/Data/Iterative-models-building/Gathered_data/Conventions/"
      ],
      "text/plain": [
       "<IPython.core.display.HTML object>"
      ]
     },
     "metadata": {},
     "output_type": "display_data"
    },
    {
     "data": {
      "text/html": [
       "paths.GITHUB_GATHERED_URL_PATH : https://raw.githubusercontent.com/aideenf/AIVC/master/cp_wssc/Data/Iterative-models-building/Gathered_data/Conventions/"
      ],
      "text/plain": [
       "<IPython.core.display.HTML object>"
      ]
     },
     "metadata": {},
     "output_type": "display_data"
    },
    {
     "data": {
      "text/html": [
       "paths.MODELS_DIR_LOCAL : ./Data/Iterative-models-building/Models/"
      ],
      "text/plain": [
       "<IPython.core.display.HTML object>"
      ]
     },
     "metadata": {},
     "output_type": "display_data"
    },
    {
     "data": {
      "text/html": [
       "paths.STOP_WORDS_DIR_FILE_LOCAL : Data/Iterative-models-building/Training data/resources/stopwords.txt"
      ],
      "text/plain": [
       "<IPython.core.display.HTML object>"
      ]
     },
     "metadata": {},
     "output_type": "display_data"
    },
    {
     "data": {
      "text/html": [
       "paths.STOP_WORDS_URL_GIT : https://raw.githubusercontent.com/aideenf/AIVC/master/cp_wssc/Data/Iterative-models-building/Training data/resources/stopwords.txt"
      ],
      "text/plain": [
       "<IPython.core.display.HTML object>"
      ]
     },
     "metadata": {},
     "output_type": "display_data"
    },
    {
     "data": {
      "text/html": [
       "paths.TRAINING_DATA_DIR_FILE_LOCAL : Data/Iterative-models-building/Training data/Conventions/training_aggregated_conventions.tsv"
      ],
      "text/plain": [
       "<IPython.core.display.HTML object>"
      ]
     },
     "metadata": {},
     "output_type": "display_data"
    },
    {
     "data": {
      "text/html": [
       "paths.TRAINING_DATA_DIR_FILE_GIT : https://raw.githubusercontent.com/aideenf/AIVC/master/cp_wssc/Data/Iterative-models-building/Training%20data/Conventions/training_aggregated_conventions.tsv"
      ],
      "text/plain": [
       "<IPython.core.display.HTML object>"
      ]
     },
     "metadata": {},
     "output_type": "display_data"
    },
    {
     "data": {
      "text/html": [
       "paths.TRAINING_DATA_DIR_LOCAL : Data/Iterative-models-building/Training data/Conventions/"
      ],
      "text/plain": [
       "<IPython.core.display.HTML object>"
      ]
     },
     "metadata": {},
     "output_type": "display_data"
    },
    {
     "data": {
      "text/html": [
       "paths.TRAINING_DATA_DIR_GIT : cp_wssc/Data/Iterative-models-building/Training data/Conventions/"
      ],
      "text/plain": [
       "<IPython.core.display.HTML object>"
      ]
     },
     "metadata": {},
     "output_type": "display_data"
    },
    {
     "data": {
      "text/html": [
       "paths.AUDITED_DATA_DIR_LOCAL : ./Data/Iterative-models-building/Classification results/Conventions/Audited/"
      ],
      "text/plain": [
       "<IPython.core.display.HTML object>"
      ]
     },
     "metadata": {},
     "output_type": "display_data"
    },
    {
     "data": {
      "text/html": [
       "paths.AUDITED_DATA_DIR_GIT : cp_wssc/Data/Iterative-models-building/Classification results/Conventions/Audited/"
      ],
      "text/plain": [
       "<IPython.core.display.HTML object>"
      ]
     },
     "metadata": {},
     "output_type": "display_data"
    },
    {
     "data": {
      "text/html": [
       "paths.GITHUB_AUDIT_URL_PATH : https://raw.githubusercontent.com/aideenf/AIVC/master/cp_wssc/Data/Iterative-models-building/Classification%20results/Conventions/Audited/"
      ],
      "text/plain": [
       "<IPython.core.display.HTML object>"
      ]
     },
     "metadata": {},
     "output_type": "display_data"
    },
    {
     "data": {
      "text/html": [
       "paths.GITHUB_AGGREGATED_AUDIT_URL_FILE : https://raw.githubusercontent.com/aideenf/AIVC/master/cp_wssc/Data/Iterative-models-building/Classification%20results/Conventions/Audited/audited_ALL.tsv"
      ],
      "text/plain": [
       "<IPython.core.display.HTML object>"
      ]
     },
     "metadata": {},
     "output_type": "display_data"
    },
    {
     "data": {
      "text/html": [
       "paths.CONV_MODEL_PCKL_URL : https://github.com/aideenf/AIVC/blob/master/cp_wssc/Data/Iterative-models-building/Models/conv_models_items.pickle?raw=true"
      ],
      "text/plain": [
       "<IPython.core.display.HTML object>"
      ]
     },
     "metadata": {},
     "output_type": "display_data"
    },
    {
     "data": {
      "text/html": [
       "paths.SIMPLER_MODEL_PCKL_URL : https://github.com/aideenf/AIVC/blob/master/cp_wssc/Data/Iterative-models-building/Models/Simpler_ML_models.pickle?raw=true"
      ],
      "text/plain": [
       "<IPython.core.display.HTML object>"
      ]
     },
     "metadata": {},
     "output_type": "display_data"
    },
    {
     "data": {
      "text/html": [
       "paths.CLASSIFIED_DATA_DIR_LOCAL : ./Data/Iterative-models-building/Classification results/Conventions/"
      ],
      "text/plain": [
       "<IPython.core.display.HTML object>"
      ]
     },
     "metadata": {},
     "output_type": "display_data"
    },
    {
     "data": {
      "text/html": [
       "paths.CLASSIFIED_DATA_DIR_GIT : cp_wssc/Data/Iterative-models-building/Classification results/Conventions/"
      ],
      "text/plain": [
       "<IPython.core.display.HTML object>"
      ]
     },
     "metadata": {},
     "output_type": "display_data"
    }
   ],
   "source": [
    "%run \"All_helper_classes.ipynb\" sort=False\n",
    "\n",
    "#from \"Models training helpers.ipynb\" we will import 3 helper classes and the associated helper methods.\n",
    "parsing_helpers = generic_parsing_helpers()\n",
    "aivm_helper = AIVM_helper()\n",
    "model_helpers = default_model_helpers_for_project()\n",
    "paths = project_paths()\n",
    "#Get the latest version of the aggregated already audited data (output from the audit tool) directly from GIT\n",
    "\n"
   ]
  },
  {
   "cell_type": "code",
   "execution_count": null,
   "metadata": {
    "ExecuteTime": {
     "end_time": "2019-10-15T08:13:24.286509Z",
     "start_time": "2019-10-15T08:13:22.129Z"
    }
   },
   "outputs": [],
   "source": [
    "%%javascript\n",
    "//To remove scroll from any output area and automatically extend the jupyter cell\n",
    "IPython.OutputArea.prototype._should_scroll = function(lines) {\n",
    "    return false;\n",
    "}"
   ]
  },
  {
   "cell_type": "markdown",
   "metadata": {},
   "source": [
    "# Setup Github credentials to be used for reading data and in some cases pushing data directly to github\n",
    "\n",
    "*****Rember to add your github user and passeord here*******"
   ]
  },
  {
   "cell_type": "code",
   "execution_count": null,
   "metadata": {
    "ExecuteTime": {
     "end_time": "2019-10-15T00:52:16.324131Z",
     "start_time": "2019-10-15T00:51:40.440Z"
    }
   },
   "outputs": [],
   "source": [
    "#To read all the data files directly from  github\n",
    "USE_GIT_HUB = True \n",
    "\n",
    "\n",
    "\n",
    "#########To push data files directly to  github - usr/pssword required######\n",
    "GIT_USER = 'aideenf' \n",
    "GIT_PSWD = 'aid99rk4'\n",
    "###*******END-POPULATE GIT_HUB Credentials ********#########################"
   ]
  },
  {
   "cell_type": "markdown",
   "metadata": {},
   "source": [
    "# Data gathering\n",
    "\n",
    "To be done for different sources, to have high variability. It's important to keep tracking of where does each sentence come from (add a label of provenance).\n",
    "Identified data sources:\n",
    "    - Google\n",
    "    - Github\n",
    "    - Semantic Scholar\n",
    "    - pdf files"
   ]
  },
  {
   "cell_type": "code",
   "execution_count": 135,
   "metadata": {
    "ExecuteTime": {
     "end_time": "2019-10-14T20:18:52.800018Z",
     "start_time": "2019-10-14T20:18:32.053310Z"
    }
   },
   "outputs": [
    {
     "name": "stdout",
     "output_type": "stream",
     "text": [
      "Initialised AIVM_helper class and methods\n"
     ]
    }
   ],
   "source": [
    "USE_GIT_HUB = True  #Use github directly to read the training data and gathered data\n",
    "\n",
    "# Read the gathered_data files \"paths.TRAINING_DATA_DIR_FILE\" with column_to_clean = 'text' and return \n",
    "# a pandas Data Frame\n",
    "gathered_conventions_files, gathered_conventions_df = model_helpers.get_aggregated_gathered_data (\n",
    "                            USE_GIT_HUB,\n",
    "                            paths.GATHERED_DATA_CONV_DIR_GIT,\n",
    "                            paths.GATHERED_DATA_CONV_DIR_LOCAL,\n",
    "                            paths.GITHUB_GATHERED_URL_PATH, \n",
    "                            paths.GIT_OWNER,\n",
    "                            paths.GIT_REPO)\n",
    "\n",
    "display (\"Now we have a dictionary(gathered_conventions_data) of dataframes one entry for each gathered sentence source:\" , gathered_conventions_files)\n",
    "display (gathered_conventions_df.head(5))"
   ]
  },
  {
   "cell_type": "markdown",
   "metadata": {},
   "source": [
    "# Clasification - load the classifiers from pickle files\n",
    "\n",
    "Classify, using each of the classifiers, the gathered sentences\n",
    "Right now the pickle files are always read from the local machine as they are not compressed and are too big to store on gitHub. it will be convenient if we either\n",
    "    - push to another centralized location automatically on creation\n",
    "    \n",
    "in order to avoid the need for manual synchronization. Note that the code to read from cloud is partially implemented. see below! "
   ]
  },
  {
   "cell_type": "code",
   "execution_count": 281,
   "metadata": {
    "ExecuteTime": {
     "end_time": "2019-10-15T08:49:50.719774Z",
     "start_time": "2019-10-15T08:49:41.687800Z"
    },
    "scrolled": true
   },
   "outputs": [],
   "source": [
    "## Read pickled classifiers https://www.thoughtco.com/using-pickle-to-save-objects-2813661\n",
    "# Note: pickle is used for serializing and de-serializing a Python object structure. \n",
    "# Any object in python can be pickled so that it can be saved on disk. \n",
    "# What pickle does is that it “serialises” the object first before writing it to file. \n",
    "# Pickling is a way to convert a python object (list, dict, etc.) into a character stream\n",
    "## read convention models from pickle file from gitHub or local  (NOTE: this is in GIT)\n",
    "USE_GIT_HUB = True\n",
    "if(USE_GIT_HUB == True): \n",
    "     \n",
    "    #make sure updated pickle files are in github\n",
    "     _conventions_models, _conventions_tokenizers, _conventions_data_val_x ,_conventions_data_val_y ,_conventions_train_histories = model_helpers.read_DL_models_from_pickle(True, paths.CONV_MODEL_PCKL_URL, paths.MODELS_DIR_LOCAL)\n",
    "   \n",
    "    \n",
    "elif(USE_GIT_HUB == False):\n",
    "    ## Load the  convention models from the downloaded pickle file             \n",
    "    _conventions_models, _conventions_tokenizers, _conventions_data_val_x ,_conventions_data_val_y ,_conventions_train_histories = model_helpers.read_DL_models_from_pickle(False, 'conv_models_items.pickle', paths.MODELS_DIR_LOCAL)"
   ]
  },
  {
   "cell_type": "markdown",
   "metadata": {},
   "source": [
    "# Pass all the combined convention sentences through each convention classifier. "
   ]
  },
  {
   "cell_type": "code",
   "execution_count": 282,
   "metadata": {
    "ExecuteTime": {
     "end_time": "2019-10-15T08:51:52.857665Z",
     "start_time": "2019-10-15T08:50:30.082110Z"
    },
    "scrolled": true
   },
   "outputs": [
    {
     "data": {
      "text/plain": [
       "{'training_Domestic.txt': array([0.49484226, 0.5286302 , 0.3985585 , ..., 0.01692784, 0.01085482,\n",
       "        0.21079467], dtype=float32),\n",
       " 'training_Civic.txt': array([0.04898009, 0.00690331, 0.0257176 , ..., 0.00725713, 0.00043306,\n",
       "        0.01036146], dtype=float32),\n",
       " 'training_Project.txt': array([8.4338385e-01, 2.3925945e-01, 7.5533372e-01, ..., 1.7265688e-01,\n",
       "        8.0423959e-04, 9.7571075e-01], dtype=float32),\n",
       " 'training_Inspired.txt': array([0.00118321, 0.32361186, 0.02998996, ..., 0.02082202, 0.2663042 ,\n",
       "        0.00473872], dtype=float32),\n",
       " 'training_Green.txt': array([0.00276766, 0.2844936 , 0.042117  , ..., 0.08290219, 0.01610001,\n",
       "        0.01512012], dtype=float32),\n",
       " 'training_Market.txt': array([1.6413704e-01, 1.4360935e-03, 2.6892603e-04, ..., 7.1194448e-04,\n",
       "        1.2051293e-02, 1.0864363e-05], dtype=float32),\n",
       " 'training_Industrial.txt': array([0.7737953 , 0.18235698, 0.05561984, ..., 0.37716824, 0.99817514,\n",
       "        0.9960849 ], dtype=float32),\n",
       " 'training_Renown.txt': array([0.00453601, 0.05858297, 0.0797587 , ..., 0.00978723, 0.10841773,\n",
       "        0.0046782 ], dtype=float32)}"
      ]
     },
     "metadata": {},
     "output_type": "display_data"
    },
    {
     "data": {
      "text/plain": [
       "7"
      ]
     },
     "execution_count": 282,
     "metadata": {},
     "output_type": "execute_result"
    }
   ],
   "source": [
    "data_sentences = gathered_conventions_df['text']\n",
    "data_sentences_provenance = gathered_conventions_df['provenance']\n",
    "\n",
    "\n",
    "conventions_classification = model_helpers.calculate_matches_DL( data_sentences, _conventions_models, _conventions_tokenizers)\n",
    "display (conventions_classifications)\n",
    "gc.collect()"
   ]
  },
  {
   "cell_type": "markdown",
   "metadata": {},
   "source": [
    "# Annotate data for each type of classifications (high confidence, medium, low + the confidence score) - Not currently in use"
   ]
  },
  {
   "cell_type": "code",
   "execution_count": 298,
   "metadata": {
    "ExecuteTime": {
     "end_time": "2019-10-15T09:13:50.898420Z",
     "start_time": "2019-10-15T09:13:50.878095Z"
    }
   },
   "outputs": [],
   "source": [
    "class ClassificationResult:\n",
    "        \n",
    "    def __init__(self, text, value, level, provenance='Unknown'):\n",
    "        self.text = text\n",
    "        self.confidence_value = value\n",
    "        self.confidence_level = level\n",
    "        self.data_provenance = provenance\n",
    "        \n",
    "    def __str__(self):\n",
    "        return \"{} -- {} -- {}\".format(self.text, self.confidence_value, self.confidence_level)\n",
    "    \n",
    "    def __repr__(self):\n",
    "        return \"{} -- {} -- {}\".format(self.text, self.confidence_value, self.confidence_level)\n",
    "        \n",
    "        \n",
    "def split_sentences_by_confidence (calculated_classifications, _sentences, _sentences_provenance):\n",
    "\n",
    "    stratified_classifications = {}\n",
    "\n",
    "    for k in calculated_classifications.keys():\n",
    "        classifications = calculated_classifications[k]\n",
    "        display (classifications)\n",
    "        ## Low level percentile eg 33\n",
    "        low_percentile = np.percentile(classifications, 33)#0.2\n",
    "        classifications_low = np.where(classifications<=low_percentile)[0]\n",
    "        print(classifications_low)\n",
    "\n",
    "        ## Medium level percentile\n",
    "        medium_percentile = np.percentile(classifications, 66)#0.8\n",
    "        classifications_medium = np.where((classifications<=medium_percentile) & (classifications>low_percentile))[0]\n",
    "        #print(classifications_medium)\n",
    "\n",
    "        ## High level percentile\n",
    "        top_percentile = np.percentile(classifications, 100) #1.0\n",
    "        classifications_top = np.where((classifications<=top_percentile) & (classifications>medium_percentile))[0]\n",
    "        #print(classifications_top)\n",
    "       \n",
    "        classified_sentences = []\n",
    "        print(classifications_low)\n",
    "        for i1 in classifications_low:\n",
    "            c1 = ClassificationResult(_sentences[i1], classifications[i1], \"Low\", _sentences_provenance[i1])\n",
    "            classified_sentences.append(c1)\n",
    "\n",
    "        for i2 in classifications_medium:\n",
    "            c2 = ClassificationResult(_sentences[i2], classifications[i2], \"Medium\", _sentences_provenance[i2])\n",
    "            classified_sentences.append(c2)\n",
    "\n",
    "        for i3 in classifications_top:\n",
    "            c3 = ClassificationResult(_sentences[i3], classifications[i3], \"High\", _sentences_provenance[i3])\n",
    "            classified_sentences.append(c3)\n",
    "            \n",
    "        stratified_classifications[aivm_helper.clean_file_name(k)] = classified_sentences\n",
    "    return stratified_classifications"
   ]
  },
  {
   "cell_type": "markdown",
   "metadata": {},
   "source": [
    "# Add a column \"confidence level\",  to the classified sentences per convention, based on the value of confidence score\n",
    "\n",
    "Not currently used as we do not need the confidence level for the audit tool, only the confidence score"
   ]
  },
  {
   "cell_type": "code",
   "execution_count": 300,
   "metadata": {
    "ExecuteTime": {
     "end_time": "2019-10-15T09:25:50.679183Z",
     "start_time": "2019-10-15T09:25:50.675009Z"
    }
   },
   "outputs": [],
   "source": [
    "#conv_stratified_classifications = split_sentences_by_confidence(conventions_classifications, data_sentences, data_sentences_provenance)"
   ]
  },
  {
   "cell_type": "markdown",
   "metadata": {},
   "source": [
    "# Store conventions classification results to the following location:\n",
    "* paths.CLASSIFIED_DATA_DIR_LOCAL \n",
    "* paths.CLASSIFIED_DATA_DIR_GIT directly to git if this option is activated.\n",
    "\n",
    "in format \"results_{convention}_.tsv\"\n",
    "\n",
    "A conventions_classifications list exists per convention and contains the probability that the sentence was classified as 1, for each model for each sentence. \n",
    "so we have:\n",
    "    * conventions_classifications (score per model per sentence from gathered_data)\n",
    "    * data_sentences  (list of sentences from gathered_dat)\n",
    "    * data_sentences_provenance (list of provenance from gathered_data)\n",
    "    \n",
    " We will use this data to create one results file per convention and store to\n",
    " \n",
    "paths.CLASSIFIED_DATA_DIR_LOCAL: ./Data/Iterative-models-building/Classification results/Conventions/\n",
    "paths.CLASSIFIED_DATA_DIR_GIT: cp_wssc/Data/Iterative-models-building/Classification results/Conventions/"
   ]
  },
  {
   "cell_type": "code",
   "execution_count": null,
   "metadata": {
    "ExecuteTime": {
     "end_time": "2019-10-15T17:55:46.218594Z",
     "start_time": "2019-10-15T17:55:27.694Z"
    },
    "scrolled": true
   },
   "outputs": [],
   "source": [
    "#conventions_classifications  for scenario where the split_sentences_by_confidence method was previously called.\n",
    "def create_classified_files_with_conf_level (conv_stratified_classifications, data_sentences,data_sentences_provenance ):\n",
    "    file_list = []\n",
    "    file_list_git = []\n",
    "  \n",
    "    for k in conv_stratified_classifications.keys():\n",
    "        file_name = k.replace(\"training_\", \"\")\n",
    "        file_name = file_name.replace(\".txt\", \"\")\n",
    "        # if we do not want the \"training in the name\" k.replace(\"training_\", \"\").lower()\n",
    "        with open(os.path.join(paths.CLASSIFIED_DATA_DIR_LOCAL, \"{}_.tsv\".format(file_name)), \"w\")as f3:\n",
    "        \n",
    "            file_list.append(paths.CLASSIFIED_DATA_DIR_LOCAL + \"{}_.tsv\".format(file_name))\n",
    "            file_list_git.append(paths.CLASSIFIED_DATA_DIR_GIT + \"{}_.tsv\".format(file_name))\n",
    "        \n",
    "            f3.write(\"{}\\t{}\\t{}\\t{}\\t{}\\n\".format(\"text\", \"convention\", \"confidence_value\", \"confidence_level\", \"data_provenance\"))\n",
    "    \n",
    "            for c in conv_stratified_classifications[k]:\n",
    "                convention = k.replace(\"training_\", \"\").lower()     \n",
    "                f3.write(\"{}\\t{}\\t{}\\t{}\\t{}\\n\".format(c.text, convention, c.confidence_value, c.confidence_level, c.data_provenance))\n",
    "            f3.close()\n",
    "    return file_list, file_list_git   \n",
    "    gc.collect()\n",
    "    \n",
    "    \n",
    "#conventions_classifications exists per convention and contains the probability that the sentence was classified as 1\n",
    "#for each model for each sentence\n",
    "def create_classified_files (conventions_classifications, data_sentences, data_sentences_provenance, dir_local, dir_git):\n",
    "    \n",
    "    file_list = []\n",
    "    file_list_git = []\n",
    "    print(\"saving files to :\",dir_local)\n",
    "    for k in conventions_classifications.keys():\n",
    "        file_name = k.replace(\"training_\", \"\")\n",
    "        file_name = file_name.replace(\".txt\", \"\")\n",
    "        # if we do not want the \"training in the name\" k.replace(\"training_\", \"\").lower()\n",
    "        with open(os.path.join(dir_local, \"results_{}.tsv\".format(file_name)), \"w\")as f3:\n",
    "        \n",
    "            file_list.append(dir_local + \"results_{}.tsv\".format(file_name))\n",
    "            file_list_git.append(dir_git + \"results_{}.tsv\".format(file_name))\n",
    "        \n",
    "            f3.write(\"{}\\t{}\\t{}\\t{}\\n\".format(\"text\", \"convention\", \"confidence_value\", \"data_provenance\"))\n",
    "    \n",
    "            for cc, ds, dsp in zip(conventions_classifications[k], data_sentences, data_sentences_provenance ):\n",
    "                convention = k.replace(\"training_\", \"\").lower()     \n",
    "                f3.write(\"{}\\t{}\\t{}\\t{}\\n\".format(ds, convention, cc, dsp))\n",
    "            f3.close()\n",
    "    return file_list, file_list_git\n",
    "        \n",
    "    gc.collect()\n",
    "\n"
   ]
  },
  {
   "cell_type": "code",
   "execution_count": 345,
   "metadata": {
    "ExecuteTime": {
     "end_time": "2019-10-15T17:55:52.428390Z",
     "start_time": "2019-10-15T17:55:50.833701Z"
    }
   },
   "outputs": [
    {
     "name": "stdout",
     "output_type": "stream",
     "text": [
      "saving files to : ./Data/Iterative-models-building/Classification results/Conventions/\n"
     ]
    }
   ],
   "source": [
    "\n",
    "file_list_classified, file_list_classified_git = create_classified_files (conventions_classifications, \n",
    "                                                                         data_sentences, \n",
    "                                                                         data_sentences_provenance,\n",
    "                                                                         paths.CLASSIFIED_DATA_DIR_LOCAL,\n",
    "                                                                         paths.CLASSIFIED_DATA_DIR_GIT)"
   ]
  },
  {
   "cell_type": "code",
   "execution_count": 346,
   "metadata": {
    "ExecuteTime": {
     "end_time": "2019-10-15T17:56:14.645013Z",
     "start_time": "2019-10-15T17:56:14.634336Z"
    },
    "scrolled": true
   },
   "outputs": [],
   "source": [
    "def save_results_to_git(file_list_classified, file_list_classified_git, git_user, git_pswd, git_owner_repo):\n",
    "    \n",
    "    #push to github\n",
    "    my_file_list = file_list_classified\n",
    "    push_to_git_as = file_list_classified_git\n",
    "    commit, message = aivm_helper.save_to_github(git_user, git_pswd, git_owner_repo, my_file_list, push_to_git_as, \"auto push classified conventions\")\n",
    "\n",
    "    if (commit != \"error\"):\n",
    "        print (\"File to commit:\", my_file_list)\n",
    "        print (\"Push to git as:\", push_to_git_as)\n",
    "        print (\"Commit: \", commit)\n",
    "        display(HTML(\"<font color='green'><b>Files Merged and Saved!!</b></font>\"))\n",
    "        \n",
    "            \n",
    "    if (commit == \"error\"):\n",
    "        print (\"File to commit: \", my_file_list)\n",
    "        print (\"Push to git as: \", push_to_git_as)\n",
    "        display(HTML(\"<font color='red'><b>Warning!!</b></font>\"))\n",
    "        print(message)\n",
    "    return file_list_classified"
   ]
  },
  {
   "cell_type": "code",
   "execution_count": 347,
   "metadata": {
    "ExecuteTime": {
     "end_time": "2019-10-15T17:57:53.717227Z",
     "start_time": "2019-10-15T17:56:36.023609Z"
    }
   },
   "outputs": [
    {
     "name": "stdout",
     "output_type": "stream",
     "text": [
      "commit GitCommit(sha=\"d18642871fb31ba64025702d697c60bd8d8a7ddc\")\n",
      "File to commit: ['./Data/Iterative-models-building/Classification results/Conventions/results_Domestic.tsv', './Data/Iterative-models-building/Classification results/Conventions/results_Civic.tsv', './Data/Iterative-models-building/Classification results/Conventions/results_Project.tsv', './Data/Iterative-models-building/Classification results/Conventions/results_Inspired.tsv', './Data/Iterative-models-building/Classification results/Conventions/results_Green.tsv', './Data/Iterative-models-building/Classification results/Conventions/results_Market.tsv', './Data/Iterative-models-building/Classification results/Conventions/results_Industrial.tsv', './Data/Iterative-models-building/Classification results/Conventions/results_Renown.tsv']\n",
      "Push to git as: ['cp_wssc/Data/Iterative-models-building/Classification results/Conventions/results_Domestic.tsv', 'cp_wssc/Data/Iterative-models-building/Classification results/Conventions/results_Civic.tsv', 'cp_wssc/Data/Iterative-models-building/Classification results/Conventions/results_Project.tsv', 'cp_wssc/Data/Iterative-models-building/Classification results/Conventions/results_Inspired.tsv', 'cp_wssc/Data/Iterative-models-building/Classification results/Conventions/results_Green.tsv', 'cp_wssc/Data/Iterative-models-building/Classification results/Conventions/results_Market.tsv', 'cp_wssc/Data/Iterative-models-building/Classification results/Conventions/results_Industrial.tsv', 'cp_wssc/Data/Iterative-models-building/Classification results/Conventions/results_Renown.tsv']\n",
      "Commit:  GitCommit(sha=\"d18642871fb31ba64025702d697c60bd8d8a7ddc\")\n"
     ]
    },
    {
     "data": {
      "text/html": [
       "<font color='green'><b>Files Merged and Saved!!</b></font>"
      ],
      "text/plain": [
       "<IPython.core.display.HTML object>"
      ]
     },
     "metadata": {},
     "output_type": "display_data"
    }
   ],
   "source": [
    "USE_GIT_HUB = True\n",
    "save_results_to_git(file_list_classified, file_list_classified_git, GIT_USER, GIT_PSWD, paths.GIT_OWNER_REPO)"
   ]
  },
  {
   "cell_type": "markdown",
   "metadata": {},
   "source": [
    "# Create the aggregated dataframe of the classified \"Gathered_data\" to then used by the audit tool to obtain more training data"
   ]
  },
  {
   "cell_type": "code",
   "execution_count": 349,
   "metadata": {
    "ExecuteTime": {
     "end_time": "2019-10-15T18:02:26.831134Z",
     "start_time": "2019-10-15T18:02:26.825615Z"
    },
    "scrolled": false
   },
   "outputs": [
    {
     "name": "stdout",
     "output_type": "stream",
     "text": [
      "['./Data/Iterative-models-building/Classification results/Conventions/results_Domestic.tsv', './Data/Iterative-models-building/Classification results/Conventions/results_Civic.tsv', './Data/Iterative-models-building/Classification results/Conventions/results_Project.tsv', './Data/Iterative-models-building/Classification results/Conventions/results_Inspired.tsv', './Data/Iterative-models-building/Classification results/Conventions/results_Green.tsv', './Data/Iterative-models-building/Classification results/Conventions/results_Market.tsv', './Data/Iterative-models-building/Classification results/Conventions/results_Industrial.tsv', './Data/Iterative-models-building/Classification results/Conventions/results_Renown.tsv']\n"
     ]
    }
   ],
   "source": [
    "print (file_list_classified)"
   ]
  },
  {
   "cell_type": "code",
   "execution_count": null,
   "metadata": {
    "ExecuteTime": {
     "end_time": "2019-10-13T23:27:43.780391Z",
     "start_time": "2019-10-13T23:27:21.663Z"
    }
   },
   "outputs": [],
   "source": [
    "#Create an aggregated DataFrame and then a tsv/csv file of the full data for auditing\n",
    "#This code is to create a file and push it to git hub to be read by the audit tool only\n",
    "# This is independant piece of code, removing it will only remove this functionality\n",
    "# leaving it here means that when we retrain the model this file will be auto updated with\n",
    "# new labels. (to discuss with David - to revert this to the format that can be used by the \n",
    "# model training process)\n",
    "def create_toAudit_data_in_git(file_list_classified, GIT_USER, GIT_PSWD, paths.GIT_OWNER_REPO, paths.CLASSIFIED_DATA_DIR_LOCAL, paths.CLASSIFIED_DATA_DIR_GIT )\n",
    "    file_list = file_list_classified\n",
    "    df_list = [pd.read_csv(file, sep='\\t') for file in file_list]\n",
    "    #concatenate them \n",
    "    print(\"Concatenate all files to one\")\n",
    "    convention_sentences_df = pd.concat(df_list)\n",
    "    ## We will perform one hot encoding\n",
    "    print(\"Applying one hot encoding to convention to have format suitable for audit tool (binary and for all)\")\n",
    "    convention_sentences_df[\"convention\"] = pd.Categorical(convention_sentences_df[\"convention\"])\n",
    "    dfDummies = pd.get_dummies(convention_sentences_df[\"convention\"], prefix=\"convention\")\n",
    "    convention_sentences_df = pd.concat([convention_sentences_df, dfDummies], axis=1)\n",
    "    convention_sentences_df = convention_sentences_df.drop([\"convention\"], axis=1)\n",
    "\n",
    "    ## Now we will save a file 'audit_training_data.tsv'  and zipped version locally which contains all of the results\n",
    "    file_name = 'audit_training_data.tsv'\n",
    "    file_name_zip = 'audit_training_data.gz'\n",
    "\n",
    "    convention_sentences_df.to_csv(paths.CLASSIFIED_DATA_DIR_LOCAL + file_name)\n",
    "    convention_sentences_df.to_csv(paths.CLASSIFIED_DATA_DIR_LOCAL + file_name_zip, compression='gzip')\n",
    "\n",
    "    ## We will also push this to git hub for use by audit tool\n",
    "    if(USE_GIT_HUB == False):\n",
    "        #Call helper file to zip the file for push to github\n",
    "        my_file_list = [paths.CLASSIFIED_DATA_DIR_LOCAL + file_name_zip]\n",
    "        push_to_git_as = [paths.CLASSIFIED_DATA_DIR_GIT +file_name_zip]\n",
    "\n",
    "        commit, message = aivm_helper.save_to_github(GIT_USER, GIT_PSWD, paths.GIT_OWNER_REPO, my_file_list, push_to_git_as, \"auto push for audit\")\n",
    "\n",
    "        if (commit != \"error\"):\n",
    "            print (\"File to commit:\", my_file_list[0])\n",
    "            print (\"Push to git as:\", push_to_git_as[0])\n",
    "            print (\"Commit: \", commit)\n",
    "            display(HTML(\"<font color='green'><b>Files Merged and Saved!!</b></font>\"))\n",
    "        \n",
    "            \n",
    "        if (commit == \"error\"):\n",
    "            print (\"File to commit: \", my_file_list[0])\n",
    "            print (\"Push to git as: \", push_to_git_as[0])\n",
    "            display(HTML(\"<font color='red'><b>Warning!!</b></font>\"))\n",
    "            print(message)\n",
    "\n",
    "\n",
    "            \n",
    "create_toAudit_data_in_git(file_list_classified, GIT_USER, GIT_PSWD, paths.GIT_OWNER_REPO, paths.CLASSIFIED_DATA_DIR_LOCAL, paths.CLASSIFIED_DATA_DIR_GIT )"
   ]
  },
  {
   "cell_type": "code",
   "execution_count": null,
   "metadata": {
    "ExecuteTime": {
     "end_time": "2019-10-04T20:16:25.030994Z",
     "start_time": "2019-10-04T20:16:25.023992Z"
    }
   },
   "outputs": [],
   "source": [
    "print(conv_stratified_classifications['training_Domestic'][0].text)\n",
    "print(conv_stratified_classifications['training_Domestic'][1].text)"
   ]
  },
  {
   "cell_type": "markdown",
   "metadata": {},
   "source": [
    "# Next steps to be done manually via the audit tool, which will created audit files at location AUDITED_DATA_DIR_GIT\n",
    "\n"
   ]
  },
  {
   "cell_type": "markdown",
   "metadata": {},
   "source": [
    "Audit vai tool"
   ]
  },
  {
   "cell_type": "markdown",
   "metadata": {},
   "source": [
    "filter via provrnance or convention"
   ]
  },
  {
   "cell_type": "markdown",
   "metadata": {},
   "source": [
    "# Collect Audited Data for purpose of retraining. \n",
    "The files that have been produced by the audit tool are retrieved and consolodated into a data frame, this data frame is then converted to tsv file to produce one TSV file with all audited results.\n",
    "\n",
    "This file will be called... 'audited_ALL_{date}-{time}.tsv' \n",
    "\n",
    "Any other process that wishes to use this file should look for the most recent 'audited_ALL_{date}-{time}.tsv'  or retrieve new version with this method"
   ]
  },
  {
   "cell_type": "code",
   "execution_count": 33,
   "metadata": {
    "ExecuteTime": {
     "end_time": "2019-10-14T01:14:19.418659Z",
     "start_time": "2019-10-14T01:14:19.403732Z"
    },
    "scrolled": false
   },
   "outputs": [],
   "source": [
    "#Method to aggregate the audited data and to return a pandas DB containing the aggregated content. \n",
    "def aggregate_audited_data_from_git (audited_data_dir_git,\n",
    "                            github_audit_url, \n",
    "                            audited_data_dir_local,\n",
    "                            git_user, \n",
    "                            git_pswd, \n",
    "                            git_owner_repo,\n",
    "                            git_owner,\n",
    "                            git_repo) :\n",
    "\n",
    "    audited_data_dir_git = audited_data_dir_git\n",
    "    github_audit_url = github_audit_url\n",
    "    audited_data_dir_local = audited_data_dir_local\n",
    "    git_user = git_user\n",
    "    git_pswd = git_pswd\n",
    "    git_owner_repo = git_owner_repo\n",
    "    git_owner = git_owner\n",
    "    git_repo = git_repo\n",
    "\n",
    "    # list all files from 'Audited' folder at cp_wssc/Data/Iterative-models-building/Classification%20results/Conventions/Audited/\n",
    "    # Helper file call to Returns a list of files from the github owner, repo and dir_ref\n",
    "    my_file_list = aivm_helper.list_files_from_github_dir (git_owner, git_repo, audited_data_dir_git)\n",
    "    ## Helper file call to Remove our standard excluded files and all files that are not \"audited_training_data\"\n",
    "    my_file_list = aivm_helper.remove_excluded_files_except(my_file_list, \"audited_training_data\")\n",
    "    if (len(my_file_list) > 0):\n",
    "        display (my_file_list.sort())\n",
    "        #Returns a dataframe of concatinated files from github, of names from file_list from the github url specified.\n",
    "        audited_df = aivm_helper.concat_files_from_github_dir (github_audit_url, my_file_list)\n",
    "        date, time = aivm_helper.time_stamp()\n",
    "        # file_name = 'audited_ALL_' + date + '-' + time + '.gz' # If using compression\n",
    "        #df.to_csv(FILE_PATH + file_name, sep='\\t', compression='gzip') # If using compression\n",
    "\n",
    "        file_name = 'audited_ALL_' + date + '-' + time + '.tsv'\n",
    "        file_name_unique = 'audited_ALL.tsv'\n",
    "        \n",
    "        audited_df.to_csv(audited_data_dir_local + file_name, sep='\\t')\n",
    "\n",
    "        #push to github\n",
    "        my_file_list = [audited_data_dir_local + file_name, audited_data_dir_local + file_name]\n",
    "        push_to_git_as = [audited_data_dir_git + file_name_unique, audited_data_dir_git + file_name]\n",
    "\n",
    "        commit, message = aivm_helper.save_to_github(git_user, git_pswd, git_owner_repo, my_file_list, push_to_git_as, \"auto push aggregated audit\")\n",
    "\n",
    "        if (commit != \"error\"):\n",
    "            print (\"File to commit:\", my_file_list[0])\n",
    "            print (\"Push to git as:\", push_to_git_as[0])\n",
    "            print (\"Commit: \", commit)\n",
    "            display(HTML(\"<font color='green'><b>Files Merged and Saved!!</b></font>\"))\n",
    "        \n",
    "            \n",
    "        if (commit == \"error\"):\n",
    "            print (\"File to commit: \", my_file_list[0])\n",
    "            print (\"Push to git as: \", push_to_git_as[0])\n",
    "            display(HTML(\"<font color='red'><b>Warning!!</b></font>\"))\n",
    "            print(message)\n",
    "    \n",
    "        return audited_df, message\n",
    "    else:\n",
    "        print (\"*****NO FILES RETRIEVED******\")\n",
    "    gc.collect()\n",
    "    \n",
    "    \n",
    "\n"
   ]
  },
  {
   "cell_type": "code",
   "execution_count": 36,
   "metadata": {
    "ExecuteTime": {
     "end_time": "2019-10-14T07:45:58.096019Z",
     "start_time": "2019-10-14T07:45:06.717223Z"
    },
    "scrolled": true
   },
   "outputs": [
    {
     "data": {
      "text/plain": [
       "None"
      ]
     },
     "metadata": {},
     "output_type": "display_data"
    },
    {
     "name": "stdout",
     "output_type": "stream",
     "text": [
      "Got here  []\n",
      "<class 'github.InputGitTreeElement.InputGitTreeElement'>\n",
      "Got here  [<github.InputGitTreeElement.InputGitTreeElement object at 0x14440eb00>]\n",
      "<class 'github.InputGitTreeElement.InputGitTreeElement'>\n",
      "commit GitCommit(sha=\"4a3a482780098e4f390cbe738709b16c9ceab545\")\n",
      "File to commit: ./Data/Iterative-models-building/Classification results/Conventions/Audited/audited_ALL_2019-10-14-09:45:49.811247.tsv\n",
      "Push to git as: cp_wssc/Data/Iterative-models-building/Classification results/Conventions/Audited/audited_ALL.tsv\n",
      "Commit:  GitCommit(sha=\"4a3a482780098e4f390cbe738709b16c9ceab545\")\n"
     ]
    },
    {
     "data": {
      "text/html": [
       "<font color='green'><b>Files Merged and Saved!!</b></font>"
      ],
      "text/plain": [
       "<IPython.core.display.HTML object>"
      ]
     },
     "metadata": {},
     "output_type": "display_data"
    },
    {
     "data": {
      "text/html": [
       "<div>\n",
       "<style scoped>\n",
       "    .dataframe tbody tr th:only-of-type {\n",
       "        vertical-align: middle;\n",
       "    }\n",
       "\n",
       "    .dataframe tbody tr th {\n",
       "        vertical-align: top;\n",
       "    }\n",
       "\n",
       "    .dataframe thead th {\n",
       "        text-align: right;\n",
       "    }\n",
       "</style>\n",
       "<table border=\"1\" class=\"dataframe\">\n",
       "  <thead>\n",
       "    <tr style=\"text-align: right;\">\n",
       "      <th></th>\n",
       "      <th>text</th>\n",
       "      <th>provenance</th>\n",
       "      <th>convention</th>\n",
       "      <th>old</th>\n",
       "      <th>new</th>\n",
       "    </tr>\n",
       "  </thead>\n",
       "  <tbody>\n",
       "    <tr>\n",
       "      <th>0</th>\n",
       "      <td>The system computes color, motion, and shape c...</td>\n",
       "      <td>Semantic Scholar</td>\n",
       "      <td>inspired</td>\n",
       "      <td>1</td>\n",
       "      <td>0</td>\n",
       "    </tr>\n",
       "    <tr>\n",
       "      <th>1</th>\n",
       "      <td>To behave in a socially compliant way, robots ...</td>\n",
       "      <td>Semantic Scholar</td>\n",
       "      <td>inspired</td>\n",
       "      <td>1</td>\n",
       "      <td>0</td>\n",
       "    </tr>\n",
       "    <tr>\n",
       "      <th>2</th>\n",
       "      <td>Extraterrestrial drilling is an important samp...</td>\n",
       "      <td>Semantic Scholar</td>\n",
       "      <td>inspired</td>\n",
       "      <td>1</td>\n",
       "      <td>1</td>\n",
       "    </tr>\n",
       "    <tr>\n",
       "      <th>3</th>\n",
       "      <td>I am Srivatsan Srinivasan (I know!</td>\n",
       "      <td>Semantic Scholar</td>\n",
       "      <td>inspired</td>\n",
       "      <td>1</td>\n",
       "      <td>0</td>\n",
       "    </tr>\n",
       "    <tr>\n",
       "      <th>4</th>\n",
       "      <td>We demonstrate how the task priorities can be ...</td>\n",
       "      <td>Semantic Scholar</td>\n",
       "      <td>inspired</td>\n",
       "      <td>1</td>\n",
       "      <td>0</td>\n",
       "    </tr>\n",
       "  </tbody>\n",
       "</table>\n",
       "</div>"
      ],
      "text/plain": [
       "                                                text        provenance  \\\n",
       "0  The system computes color, motion, and shape c...  Semantic Scholar   \n",
       "1  To behave in a socially compliant way, robots ...  Semantic Scholar   \n",
       "2  Extraterrestrial drilling is an important samp...  Semantic Scholar   \n",
       "3                 I am Srivatsan Srinivasan (I know!  Semantic Scholar   \n",
       "4  We demonstrate how the task priorities can be ...  Semantic Scholar   \n",
       "\n",
       "  convention old new  \n",
       "0   inspired   1   0  \n",
       "1   inspired   1   0  \n",
       "2   inspired   1   1  \n",
       "3   inspired   1   0  \n",
       "4   inspired   1   0  "
      ]
     },
     "metadata": {},
     "output_type": "display_data"
    },
    {
     "name": "stdout",
     "output_type": "stream",
     "text": [
      "ok\n",
      "The number of audited samples is 1404\n"
     ]
    }
   ],
   "source": [
    "#Call the aggregate_audited_data method to have the aggregated data regenerated and a pandas data frame returned.\n",
    "audited_df, message = aggregate_audited_data_from_git (paths.AUDITED_DATA_DIR_GIT,\n",
    "                            paths.GITHUB_AUDIT_URL_PATH, \n",
    "                            paths.AUDITED_DATA_DIR_LOCAL,\n",
    "                            GIT_USER, \n",
    "                            GIT_PSWD, \n",
    "                            GIT_OWNER_REPO,\n",
    "                            GIT_OWNER,\n",
    "                            GIT_REPO)\n",
    "\n",
    "display (audited_df.head(5))\n",
    "print (message)\n",
    "print (\"The number of audited samples is\", audited_df.shape[0])\n",
    "\n",
    "\n",
    "#Get the latest version of the aggregated already audited data (output from the audit tool) directly from GIT\n",
    "audited_data_df = model_helpers.retrieve_aggregate_audited_data_from_git (paths.GITHUB_AGGREGATED_AUDIT_URL_FILE)\n"
   ]
  },
  {
   "cell_type": "markdown",
   "metadata": {},
   "source": [
    "# Retrain the models with the new audited data and training data - still to be reviewed"
   ]
  },
  {
   "cell_type": "code",
   "execution_count": null,
   "metadata": {
    "ExecuteTime": {
     "end_time": "2019-10-13T15:17:17.731583Z",
     "start_time": "2019-10-13T15:17:17.726793Z"
    }
   },
   "outputs": [],
   "source": [
    "# Read the already static training data file \"paths.TRAINING_DATA_DIR_FILE\" with column_to_clean = 'text' and return \n",
    "# a pandas Data Frame of training data\n",
    "training_df = model_helpers.get_training_data(\n",
    "                            USE_GIT_HUB,\n",
    "                            paths.TRAINING_DATA_DIR_FILE_GIT,\n",
    "                            paths.TRAINING_DATA_DIR_FILE_LOCAL, \n",
    "                            paths.GIT_OWNER,\n",
    "                            paths.GIT_REPO)"
   ]
  },
  {
   "cell_type": "code",
   "execution_count": 105,
   "metadata": {
    "ExecuteTime": {
     "end_time": "2019-10-14T09:33:01.002847Z",
     "start_time": "2019-10-14T09:33:00.991947Z"
    }
   },
   "outputs": [],
   "source": [
    "def save_df_data_histogram(df, local, git, to_git, git_user, git_pswd, git_owner_repo):\n",
    "    df = df\n",
    "    git_user = git_user\n",
    "    git_pswd = git_pswd\n",
    "    git_owner_repo = git_owner_repo\n",
    "    plot = df[['convention', 'new']].copy().rename(columns={\"new\": \"Count\"}).groupby('convention').count().plot(kind='bar', title=\"Audited per convention\")  \n",
    "   \n",
    "    \n",
    "    \n",
    "    fig = plot.get_figure()\n",
    "    fig.savefig(local + 'audited.png')\n",
    "    \n",
    "    if to_git == True:\n",
    "        my_file_list = [local + 'audited.png']\n",
    "        push_to_git_as = [git + 'audited.png']\n",
    "    \n",
    "        commit, message = aivm_helper.save_to_github(git_user, git_pswd, git_owner_repo, my_file_list, push_to_git_as, \"auto push classified conventions\")\n",
    "\n",
    "        if (commit != \"error\"):\n",
    "            print (\"File to commit:\", my_file_list)\n",
    "            print (\"Push to git as:\", push_to_git_as)\n",
    "            print (\"Commit: \", commit)\n",
    "            display(HTML(\"<font color='green'><b>Files Merged and Saved!!</b></font>\"))\n",
    "        \n",
    "            \n",
    "        if (commit == \"error\"):\n",
    "            print (\"File to commit: \", my_file_list)\n",
    "            print (\"Push to git as: \", push_to_git_as)\n",
    "            display(HTML(\"<font color='red'><b>Warning!!</b></font>\"))\n",
    "            print(message)\n",
    "    gc.collect()\n",
    "    return plot"
   ]
  },
  {
   "cell_type": "code",
   "execution_count": null,
   "metadata": {
    "ExecuteTime": {
     "end_time": "2019-10-13T15:18:06.648538Z",
     "start_time": "2019-10-13T15:18:06.011596Z"
    },
    "scrolled": true
   },
   "outputs": [],
   "source": [
    "# calling the last created aggregation of the audited data.\n",
    "#Get the latest version of the aggregated already audited data (output from the audit tool) directly from GIT\n",
    "audited_data_df = model_helpers.retrieve_aggregate_audited_data_from_git (paths.GITHUB_AGGREGATED_AUDIT_URL_FILE)\n"
   ]
  },
  {
   "cell_type": "code",
   "execution_count": 109,
   "metadata": {
    "ExecuteTime": {
     "end_time": "2019-10-14T09:38:10.619813Z",
     "start_time": "2019-10-14T09:38:05.759568Z"
    },
    "scrolled": false
   },
   "outputs": [
    {
     "name": "stdout",
     "output_type": "stream",
     "text": [
      "The number of audited samples is 1404\n",
      "commit GitCommit(sha=\"694b640e1529d1b86dbcae37937654d78fd98ec2\")\n",
      "File to commit: ['./Data/Iterative-models-building/Classification results/Conventions/Audited/audited.png']\n",
      "Push to git as: ['cp_wssc/Data/Iterative-models-building/Classification results/Conventions/Audited/audited.png']\n",
      "Commit:  GitCommit(sha=\"694b640e1529d1b86dbcae37937654d78fd98ec2\")\n"
     ]
    },
    {
     "data": {
      "text/html": [
       "<font color='green'><b>Files Merged and Saved!!</b></font>"
      ],
      "text/plain": [
       "<IPython.core.display.HTML object>"
      ]
     },
     "metadata": {},
     "output_type": "display_data"
    },
    {
     "data": {
      "text/plain": [
       "<matplotlib.axes._subplots.AxesSubplot at 0x14706d400>"
      ]
     },
     "metadata": {},
     "output_type": "display_data"
    },
    {
     "data": {
      "image/png": "[encoded data removed]",
      "text/plain": [
       "<Figure size 432x288 with 1 Axes>"
      ]
     },
     "metadata": {},
     "output_type": "display_data"
    }
   ],
   "source": [
    "print (\"The number of audited samples is\", audited_df.shape[0])\n",
    "plot = save_audited_data_histogram(audited_df, \n",
    "                            paths.AUDITED_DATA_DIR_LOCAL, \n",
    "                            paths.AUDITED_DATA_DIR_GIT, \n",
    "                            True, \n",
    "                            GIT_USER, \n",
    "                            GIT_PSWD, \n",
    "                            GIT_OWNER_REPO  )\n",
    "display(plot)"
   ]
  },
  {
   "cell_type": "code",
   "execution_count": 121,
   "metadata": {
    "ExecuteTime": {
     "end_time": "2019-10-14T10:20:44.579188Z",
     "start_time": "2019-10-14T10:20:43.957224Z"
    },
    "scrolled": true
   },
   "outputs": [
    {
     "data": {
      "text/plain": [
       "<matplotlib.axes._subplots.AxesSubplot at 0x1449b70f0>"
      ]
     },
     "execution_count": 121,
     "metadata": {},
     "output_type": "execute_result"
    },
    {
     "data": {
      "image/png": "[encoded data removed]",
      "text/plain": [
       "<Figure size 432x288 with 1 Axes>"
      ]
     },
     "metadata": {},
     "output_type": "display_data"
    },
    {
     "data": {
      "image/png": "[encoded data removed]",
      "text/plain": [
       "<Figure size 432x288 with 1 Axes>"
      ]
     },
     "metadata": {},
     "output_type": "display_data"
    }
   ],
   "source": [
    "test =  audited_df[['convention', 'new', 'old']].copy()\n",
    "test[test['new']==1].groupby('convention').count().plot(kind='bar', title=\"False Negative or True Positive\")  \n",
    "test[test['new']==0].groupby('convention').count().plot(kind='bar', title=\"False Positive or True Negative\") \n",
    "test[test['new']==1].groupby('convention').count().plot(kind='bar', title=\"False Negative or True Positive\")  \n",
    "test[test['new']==0].groupby('convention').count().plot(kind='bar', title=\"False Positive or True Negative\")"
   ]
  },
  {
   "cell_type": "code",
   "execution_count": 54,
   "metadata": {
    "ExecuteTime": {
     "end_time": "2019-10-14T08:36:29.907176Z",
     "start_time": "2019-10-14T08:36:29.898744Z"
    },
    "scrolled": true
   },
   "outputs": [
    {
     "name": "stdout",
     "output_type": "stream",
     "text": [
      "Data/Iterative-models-building/Training data/Conventions/training_aggregated_conventions.tsv\n",
      "cp_wssc/Data/Iterative-models-building/Training data/Conventions/training_aggregated_conventions.tsv\n",
      "Data/Iterative-models-building/Training data/Conventions/\n",
      "cp_wssc/Data/Iterative-models-building/Training data/Conventions/\n"
     ]
    }
   ],
   "source": [
    "print(paths.TRAINING_DATA_DIR_FILE_LOCAL)\n",
    "print(paths.TRAINING_DATA_DIR_FILE_GIT)\n",
    "print(paths.TRAINING_DATA_DIR_LOCAL)\n",
    "print(paths.TRAINING_DATA_DIR_GIT)"
   ]
  },
  {
   "cell_type": "code",
   "execution_count": 37,
   "metadata": {
    "ExecuteTime": {
     "end_time": "2019-10-14T08:07:15.149488Z",
     "start_time": "2019-10-14T08:07:15.114459Z"
    }
   },
   "outputs": [
    {
     "ename": "NotADirectoryError",
     "evalue": "[Errno 20] Not a directory: 'Data/Iterative-models-building/Training data/Conventions/training_aggregated_conventions.tsv'",
     "output_type": "error",
     "traceback": [
      "\u001b[0;31m---------------------------------------------------------------------------\u001b[0m",
      "\u001b[0;31mNotADirectoryError\u001b[0m                        Traceback (most recent call last)",
      "\u001b[0;32m<ipython-input-37-0f48faa2a08d>\u001b[0m in \u001b[0;36m<module>\u001b[0;34m\u001b[0m\n\u001b[0;32m----> 1\u001b[0;31m \u001b[0mtraining_files\u001b[0m \u001b[0;34m=\u001b[0m \u001b[0;34m[\u001b[0m\u001b[0mf\u001b[0m \u001b[0;32mfor\u001b[0m \u001b[0mf\u001b[0m \u001b[0;32min\u001b[0m \u001b[0mos\u001b[0m\u001b[0;34m.\u001b[0m\u001b[0mlistdir\u001b[0m\u001b[0;34m(\u001b[0m\u001b[0mpaths\u001b[0m\u001b[0;34m.\u001b[0m\u001b[0mTRAINING_DATA_DIR_FILE_LOCAL\u001b[0m\u001b[0;34m)\u001b[0m \u001b[0;32mif\u001b[0m \u001b[0;34m(\u001b[0m\u001b[0mos\u001b[0m\u001b[0;34m.\u001b[0m\u001b[0mpath\u001b[0m\u001b[0;34m.\u001b[0m\u001b[0misfile\u001b[0m\u001b[0;34m(\u001b[0m\u001b[0mos\u001b[0m\u001b[0;34m.\u001b[0m\u001b[0mpath\u001b[0m\u001b[0;34m.\u001b[0m\u001b[0mjoin\u001b[0m\u001b[0;34m(\u001b[0m\u001b[0mmypath\u001b[0m\u001b[0;34m,\u001b[0m \u001b[0mf\u001b[0m\u001b[0;34m)\u001b[0m\u001b[0;34m)\u001b[0m \u001b[0;32mand\u001b[0m \u001b[0;34m\"training\"\u001b[0m \u001b[0;32min\u001b[0m \u001b[0mf\u001b[0m \u001b[0;32mand\u001b[0m \u001b[0;32mnot\u001b[0m \u001b[0mf\u001b[0m\u001b[0;34m.\u001b[0m\u001b[0mstartswith\u001b[0m\u001b[0;34m(\u001b[0m \u001b[0;34m'.'\u001b[0m \u001b[0;34m)\u001b[0m\u001b[0;34m)\u001b[0m \u001b[0;32mand\u001b[0m \u001b[0;32mnot\u001b[0m \u001b[0;34m\"random\"\u001b[0m \u001b[0;32min\u001b[0m \u001b[0mf\u001b[0m\u001b[0;34m]\u001b[0m\u001b[0;31m#[:2]\u001b[0m\u001b[0;34m\u001b[0m\u001b[0m\n\u001b[0m\u001b[1;32m      2\u001b[0m \u001b[0;34m\u001b[0m\u001b[0m\n\u001b[1;32m      3\u001b[0m \u001b[0;34m\u001b[0m\u001b[0m\n\u001b[1;32m      4\u001b[0m \u001b[0;34m\u001b[0m\u001b[0m\n\u001b[1;32m      5\u001b[0m \u001b[0;34m\u001b[0m\u001b[0m\n",
      "\u001b[0;31mNotADirectoryError\u001b[0m: [Errno 20] Not a directory: 'Data/Iterative-models-building/Training data/Conventions/training_aggregated_conventions.tsv'"
     ]
    }
   ],
   "source": [
    "training_files = [f for f in os.listdir(paths.TRAINING_DATA_DIR_LOCAL) if (os.path.isfile(os.path.join(mypath, f)) and \"training\" in f and not f.startswith( '.' )) and not \"random\" in f]#[:2]\n",
    "\n",
    "\n",
    "\n",
    "\n",
    "training_files"
   ]
  },
  {
   "cell_type": "code",
   "execution_count": null,
   "metadata": {},
   "outputs": [],
   "source": [
    "FEATURES_LENGTH = 3000\n",
    "VALIDATION_SPLIT = 0.25\n",
    "GENERATE_NEW_TRAINING_FILES = False"
   ]
  },
  {
   "cell_type": "markdown",
   "metadata": {},
   "source": [
    "# Get Stopwords\n",
    "We should also read these directly from github"
   ]
  },
  {
   "cell_type": "code",
   "execution_count": null,
   "metadata": {
    "ExecuteTime": {
     "end_time": "2019-10-13T21:39:10.938466Z",
     "start_time": "2019-10-13T21:39:10.929063Z"
    }
   },
   "outputs": [],
   "source": [
    "stopwords= parsing_helpers.get_stop_words(paths.STOP_WORDS_PATH)"
   ]
  },
  {
   "cell_type": "code",
   "execution_count": null,
   "metadata": {},
   "outputs": [],
   "source": [
    "_conv_ML_models = {}\n",
    "_test_data_x = {}\n",
    "_test_data_y = {}\n",
    "\n",
    "\n",
    "for f in training_files:\n",
    "    print(\"----------------------------------------------------------------\")\n",
    "    print(\"            {}                  \".format(f))\n",
    "    print(\"----------------------------------------------------------------\")\n",
    "\n",
    "    \n",
    "    \n",
    "    ## USING licensing text from github\n",
    "    data_train = pd.read_csv(mypath+f, sep='\\t')\n",
    "\n",
    "    #data_train = pd.read_csv('Data/TRAINING_0/training_contributions.txt', sep='\\t')\n",
    "\n",
    "    print(data_train.shape)\n",
    "\n",
    "    _texts = []\n",
    "    _labels = []\n",
    "\n",
    "    for idx in range(data_train.text.shape[0]):\n",
    "        \n",
    "        text = [data_train.text[idx]] #BeautifulSoup(data_train.text[idx])\n",
    "        \n",
    "        _texts.append(parsing_helpers.clean_str(text))#.encode('ascii','ignore')))\n",
    "        _labels.append(int(data_train.category[idx]))\n",
    "        \n",
    "    #SHUFFLE and DATA SPLITTING \n",
    "    x_train, x_val, y_train, y_val = train_test_split(_texts, _labels, test_size=VALIDATION_SPLIT, random_state=42)\n",
    "    \n",
    "    _test_data_x[f] = np.array(x_val)[np.where(np.array(y_val)==1)]\n",
    "    _test_data_y[f] = np.array(y_val)[np.where(np.array(y_val)==1)]\n",
    "    \n",
    "    model1 = model_helpers.train_new_text_pipelineNB(x_train, y_train)\n",
    "    tmp_pred = model1.predict(x_val)\n",
    "    print(\"Accuracy: {}\".format(np.mean(tmp_pred == y_val)))\n",
    "\n",
    "    _conv_ML_models[f] = model1\n",
    "    \n",
    "    #print(\"  Naive-Bayes: \",mean1)\n",
    "    #print(\"  Random-Forest: \",mean2)\n",
    "    #print(metrics.classification_report(_labels, pred))\n",
    "        \n",
    "    print(\"\\n\\n\\n\")\n"
   ]
  },
  {
   "cell_type": "code",
   "execution_count": null,
   "metadata": {},
   "outputs": [],
   "source": [
    "#conv_ML_matches = calculate_matches_ML( data_sentences, _conv_ML_models)\n",
    "conv_ML_matches = model_helpers.calculate_matches_mixture( data_sentences, _conv_ML_models, _conventions_models, _conventions_tokenizers)"
   ]
  },
  {
   "cell_type": "code",
   "execution_count": null,
   "metadata": {},
   "outputs": [],
   "source": [
    "_conv_ML_models['training_Domestic.txt'].predict_proba([data_sentences[0]])"
   ]
  },
  {
   "cell_type": "code",
   "execution_count": null,
   "metadata": {},
   "outputs": [],
   "source": [
    "def get_confidence_value(C):\n",
    "    return C.confidence_value"
   ]
  },
  {
   "cell_type": "code",
   "execution_count": null,
   "metadata": {},
   "outputs": [],
   "source": [
    "## Conventions results sampling\n",
    "conv_stratified_classifications = split_sentences_by_confidence(conv_ML_matches, data_sentences, data_sentences_provenance)\n",
    "\n",
    "for k in conv_stratified_classifications.keys():\n",
    "    with open(os.path.join(BASE_DIR, \"Classification results\", CONVS_DIR_NAME, \"ML_{}_stratified_classifications.tsv\".format(k)), \"w\")as f3:\n",
    "\n",
    "        f3.write(\"{}\\t{}\\t{}\\t{}\\n\".format(\"text\", \"confidence_value\", \"confidence_level\", \"data_provenance\"))\n",
    "    \n",
    "        for c in sorted(conv_stratified_classifications[k],key=get_confidence_value, reverse=True):\n",
    "            \n",
    "            f3.write(\"{}\\t{}\\t{}\\t{}\\n\".format(c.text, c.confidence_value, c.confidence_level, c.data_provenance))\n",
    "\n",
    "        f3.close()\n",
    "    "
   ]
  },
  {
   "cell_type": "code",
   "execution_count": null,
   "metadata": {},
   "outputs": [],
   "source": [
    "conv_stratified_classifications.keys()"
   ]
  },
  {
   "cell_type": "code",
   "execution_count": null,
   "metadata": {},
   "outputs": [],
   "source": [
    "conv_stratified_classifications['training_Civic'],"
   ]
  }
 ],
 "metadata": {
  "kernelspec": {
   "display_name": "Python 3",
   "language": "python",
   "name": "python3"
  },
  "language_info": {
   "codemirror_mode": {
    "name": "ipython",
    "version": 3
   },
   "file_extension": ".py",
   "mimetype": "text/x-python",
   "name": "python",
   "nbconvert_exporter": "python",
   "pygments_lexer": "ipython3",
   "version": "3.6.0"
  },
  "toc": {
   "base_numbering": 1,
   "nav_menu": {},
   "number_sections": true,
   "sideBar": true,
   "skip_h1_title": false,
   "title_cell": "Iterative Model Building - Table of Contents",
   "title_sidebar": "Contents",
   "toc_cell": true,
   "toc_position": {
    "height": "calc(100% - 180px)",
    "left": "10px",
    "top": "150px",
    "width": "256.391px"
   },
   "toc_section_display": true,
   "toc_window_display": false
  },
  "varInspector": {
   "cols": {
    "lenName": 16,
    "lenType": 16,
    "lenVar": 40
   },
   "kernels_config": {
    "python": {
     "delete_cmd_postfix": "",
     "delete_cmd_prefix": "del ",
     "library": "var_list.py",
     "varRefreshCmd": "print(var_dic_list())"
    },
    "r": {
     "delete_cmd_postfix": ") ",
     "delete_cmd_prefix": "rm(",
     "library": "var_list.r",
     "varRefreshCmd": "cat(var_dic_list()) "
    }
   },
   "types_to_exclude": [
    "module",
    "function",
    "builtin_function_or_method",
    "instance",
    "_Feature"
   ],
   "window_display": true
  }
 },
 "nbformat": 4,
 "nbformat_minor": 4
}
