{
 "cells": [
  {
   "cell_type": "markdown",
   "metadata": {},
   "source": [
    "\n",
    "- Reddit, AI subredit: https://www.reddit.com/r/artificial/ \n",
    "\n",
    "-- Description: r/artificial is the largest subreddit dedicated to all issues related to Artificial Intelligence or AI\n",
    "\n",
    "-- Community size: 92.3K members \n",
    "-- Available tool to parse reddit: https://praw.readthedocs.io/en/latest/tutorials/comments.html\n",
    "\n",
    "-- to obtain a year of historical reddits we can use \n",
    "https://towardsdatascience.com/scrape-reddit-data-using-python-and-google-bigquery-44180b579892\n",
    "\n",
    "https://minimaxir.com/2015/10/reddit-bigquery/\n",
    "\n",
    "pushShift API https://medium.com/@RareLoot/using-pushshifts-api-to-extract-reddit-submissions-fb517b286563\n"
   ]
  },
  {
   "cell_type": "code",
   "execution_count": 517,
   "metadata": {
    "ExecuteTime": {
     "end_time": "2019-11-30T14:41:16.906403Z",
     "start_time": "2019-11-30T14:41:10.981678Z"
    },
    "scrolled": true
   },
   "outputs": [
    {
     "name": "stdout",
     "output_type": "stream",
     "text": [
      "Requirement already satisfied: praw in /Users/aideenf/.pyenv/versions/3.6.0/envs/python3.6/lib/python3.6/site-packages (6.4.0)\n",
      "Requirement already satisfied: prawcore<2.0,>=1.0.1 in /Users/aideenf/.pyenv/versions/3.6.0/envs/python3.6/lib/python3.6/site-packages (from praw) (1.0.1)\n",
      "Requirement already satisfied: websocket-client>=0.54.0 in /Users/aideenf/.pyenv/versions/3.6.0/envs/python3.6/lib/python3.6/site-packages (from praw) (0.56.0)\n",
      "Requirement already satisfied: update-checker>=0.16 in /Users/aideenf/.pyenv/versions/3.6.0/envs/python3.6/lib/python3.6/site-packages (from praw) (0.16)\n",
      "Requirement already satisfied: requests<3.0,>=2.6.0 in /Users/aideenf/.pyenv/versions/3.6.0/envs/python3.6/lib/python3.6/site-packages (from prawcore<2.0,>=1.0.1->praw) (2.21.0)\n",
      "Requirement already satisfied: six in /Users/aideenf/.pyenv/versions/3.6.0/envs/python3.6/lib/python3.6/site-packages (from websocket-client>=0.54.0->praw) (1.12.0)\n",
      "Requirement already satisfied: chardet<3.1.0,>=3.0.2 in /Users/aideenf/.pyenv/versions/3.6.0/envs/python3.6/lib/python3.6/site-packages (from requests<3.0,>=2.6.0->prawcore<2.0,>=1.0.1->praw) (3.0.4)\n",
      "Requirement already satisfied: idna<2.9,>=2.5 in /Users/aideenf/.pyenv/versions/3.6.0/envs/python3.6/lib/python3.6/site-packages (from requests<3.0,>=2.6.0->prawcore<2.0,>=1.0.1->praw) (2.8)\n",
      "Requirement already satisfied: urllib3<1.25,>=1.21.1 in /Users/aideenf/.pyenv/versions/3.6.0/envs/python3.6/lib/python3.6/site-packages (from requests<3.0,>=2.6.0->prawcore<2.0,>=1.0.1->praw) (1.24.1)\n",
      "Requirement already satisfied: certifi>=2017.4.17 in /Users/aideenf/.pyenv/versions/3.6.0/envs/python3.6/lib/python3.6/site-packages (from requests<3.0,>=2.6.0->prawcore<2.0,>=1.0.1->praw) (2018.11.29)\n",
      "\u001b[33mWARNING: You are using pip version 19.2.1, however version 19.3.1 is available.\n",
      "You should consider upgrading via the 'pip install --upgrade pip' command.\u001b[0m\n",
      "Requirement already satisfied: psaw in /Users/aideenf/.pyenv/versions/3.6.0/envs/python3.6/lib/python3.6/site-packages (0.0.7)\n",
      "Requirement already satisfied: requests in /Users/aideenf/.pyenv/versions/3.6.0/envs/python3.6/lib/python3.6/site-packages (from psaw) (2.21.0)\n",
      "Requirement already satisfied: certifi>=2017.4.17 in /Users/aideenf/.pyenv/versions/3.6.0/envs/python3.6/lib/python3.6/site-packages (from requests->psaw) (2018.11.29)\n",
      "Requirement already satisfied: chardet<3.1.0,>=3.0.2 in /Users/aideenf/.pyenv/versions/3.6.0/envs/python3.6/lib/python3.6/site-packages (from requests->psaw) (3.0.4)\n",
      "Requirement already satisfied: urllib3<1.25,>=1.21.1 in /Users/aideenf/.pyenv/versions/3.6.0/envs/python3.6/lib/python3.6/site-packages (from requests->psaw) (1.24.1)\n",
      "Requirement already satisfied: idna<2.9,>=2.5 in /Users/aideenf/.pyenv/versions/3.6.0/envs/python3.6/lib/python3.6/site-packages (from requests->psaw) (2.8)\n",
      "\u001b[33mWARNING: You are using pip version 19.2.1, however version 19.3.1 is available.\n",
      "You should consider upgrading via the 'pip install --upgrade pip' command.\u001b[0m\n"
     ]
    }
   ],
   "source": [
    "!pip install praw\n",
    "!pip install psaw\n",
    "#! usr/bin/env python3\n",
    "import praw #Python Reddit API Wrapper\n",
    "import pandas as pd\n",
    "import datetime as dt\n",
    "from psaw import PushshiftAPI\n",
    "\n"
   ]
  },
  {
   "cell_type": "code",
   "execution_count": 518,
   "metadata": {
    "ExecuteTime": {
     "end_time": "2019-11-30T14:41:21.416772Z",
     "start_time": "2019-11-30T14:41:20.917240Z"
    }
   },
   "outputs": [
    {
     "name": "stdout",
     "output_type": "stream",
     "text": [
      "Necessary libraries imported.\n",
      "Initialised generic_parsing_helpers class and methods\n",
      "Initialised AIVM_helper class and methods\n",
      "Initialised model_helpers class and methods\n"
     ]
    }
   ],
   "source": [
    "%run \"All_helper_classes.ipynb\" sort=False\n",
    "\n",
    "#from \"Models training helpers.ipynb\" we will import 3 helper classes and the associated helper methods.\n",
    "parsing_helpers = generic_parsing_helpers()\n",
    "aivm_helper = AIVM_helper()\n",
    "model_helpers, info = default_model_helpers_for_project()\n",
    "#if you want to see the paths now can call with...\n",
    "paths = project_paths()\n"
   ]
  },
  {
   "cell_type": "code",
   "execution_count": 519,
   "metadata": {
    "ExecuteTime": {
     "end_time": "2019-11-30T14:41:24.373647Z",
     "start_time": "2019-11-30T14:41:24.364248Z"
    }
   },
   "outputs": [
    {
     "data": {
      "application/javascript": [
       "//To remove scroll from any output area and automatically extend the jupyter cell\n",
       "IPython.OutputArea.prototype._should_scroll = function(lines) {\n",
       "    return false;}\n"
      ],
      "text/plain": [
       "<IPython.core.display.Javascript object>"
      ]
     },
     "metadata": {},
     "output_type": "display_data"
    }
   ],
   "source": [
    "%%javascript\n",
    "//To remove scroll from any output area and automatically extend the jupyter cell\n",
    "IPython.OutputArea.prototype._should_scroll = function(lines) {\n",
    "    return false;}"
   ]
  },
  {
   "cell_type": "code",
   "execution_count": 520,
   "metadata": {
    "ExecuteTime": {
     "end_time": "2019-11-30T14:41:27.402665Z",
     "start_time": "2019-11-30T14:41:27.391239Z"
    }
   },
   "outputs": [],
   "source": [
    "credentials = {'REDDIT_USER_NAME':'unmakingyou',\n",
    "               'REDDIT_PASSWORD':'*******',\n",
    "               'APP_NAME' : 'AIVC',\n",
    "               'PERSONAL_USE_SCRIPT':'LEvS54694dQuMg',\n",
    "              'SECRET_KEY' :'J5Z28cV8NTT9sohzpUk-G-dtVUo'}"
   ]
  },
  {
   "cell_type": "code",
   "execution_count": 498,
   "metadata": {
    "ExecuteTime": {
     "end_time": "2019-11-30T14:08:28.599984Z",
     "start_time": "2019-11-30T14:08:28.572362Z"
    }
   },
   "outputs": [],
   "source": [
    "class SubredditScraper:\n",
    "\n",
    "\n",
    "    def __init__(self, sub, credentials, sort='new', lim=900, mode='w'):\n",
    "        print (credentials)\n",
    "        self.sort = sort\n",
    "        self.lim = lim\n",
    "        self.mode = mode\n",
    "        self.subreddit = sub\n",
    "        self.credentials = credentials\n",
    "        \n",
    "        \n",
    "        self.REDDIT_USER_NAME = self.credentials['REDDIT_USER_NAME']\n",
    "        self.REDDIT_PASSWORD = self.credentials['REDDIT_PASSWORD']\n",
    "        self.APP_NAME = self.credentials['APP_NAME']\n",
    "        self.PERSONAL_USE_SCRIPT = self.credentials['PERSONAL_USE_SCRIPT']\n",
    "        self.SECRET_KEY = self.credentials['SECRET_KEY']\n",
    "        print(\n",
    "            f'SubredditScraper instance created with values '\n",
    "            f'sub = {sub}, sort = {sort}, lim = {lim}, mode = {mode}')\n",
    "        \n",
    "        self.reddit = praw.Reddit(client_id= self.PERSONAL_USE_SCRIPT,\n",
    "                                  client_secret= self.SECRET_KEY , \n",
    "                                  user_agent= self.APP_NAME, \n",
    "                                  username=self.REDDIT_USER_NAME, \n",
    "                                  password=self.REDDIT_PASSWORD)\n",
    "        self.api = PushshiftAPI(self.reddit)\n",
    "        \n",
    "    def get_submissions(self):\n",
    "        if self.sort == 'new':\n",
    "            return self.sort, reddit.subreddit(self.subreddit).new(limit=self.lim), self.api\n",
    "        elif self.sort == 'top':\n",
    "            return self.sort, reddit.subreddit(self.subreddit).top(limit=self.lim), self.api\n",
    "        elif self.sort == 'hot':\n",
    "            return self.sort, reddit.subreddit(self.subreddit).hot(limit=self.lim), self.api\n",
    "        elif self.sort == 'controversial':\n",
    "            return self.sort, reddit.subreddit(self.subreddit).controversial(limit=self.lim), self.api\n",
    "        elif self.sort == 'rising':\n",
    "            return self.sort, reddit.subreddit(self.subreddit).rising(limit=self.lim), self.api\n",
    "        elif self.sort == 'gilded':\n",
    "            return self.sort, reddit.subreddit(self.subreddit).gilded(limit=self.lim), self.api \n",
    "        else:\n",
    "            self.sort = 'hot'\n",
    "            print('Sort method  not recognized, defaulting to hot.')\n",
    "            return self.sort, reddit.subreddit(self.sub).hot(limit=self.lim), self.api\n",
    "        \n",
    "    def clean_description (self, text):\n",
    "        #https://regex101.com/r/cO8lqs/2\n",
    "        #remove html markup\n",
    "        text = re.sub(\"(<.*?>)\",\"\",text)\n",
    "        text = re.sub(\"[\\|\\[].*?[\\|\\]]\", \"\", text)\n",
    "        text = re.sub(r'http[s]?://(?:[a-zA-Z]|[0-9]|[$-_@.&+]|[!*\\(\\),]|(?:%[0-9a-fA-F][0-9a-fA-F]))+', '', text, flags=re.MULTILINE)\n",
    "        text = text.replace(\"-\", \" \")  \n",
    "      \n",
    "        text = html.unescape(text)\n",
    "        text = text.replace('\\n', ' ').replace('\\r', '').replace('\\'', '\"').replace('\"', \"'\")\n",
    "        text = text.strip()\n",
    "        text = re.sub(' +', ' ', text)\n",
    "        text = re.sub(' \\.+', ' ', text)\n",
    "       \n",
    "        text = re.sub('<', '', text)\n",
    "        text = re.sub('>', '', text)\n",
    "        text = text.replace(u'\\xa0', u' ')\n",
    "        \n",
    "       \n",
    "        \n",
    "        return text\n",
    "    "
   ]
  },
  {
   "cell_type": "markdown",
   "metadata": {},
   "source": [
    "# Create scraper class with Subreddit and Credentials defined\n",
    "r/artificial is the largest subreddit dedicated to all issues related to Artificial Intelligence or AI. What does that mean? That is actually a tricky question, as the definition of AI is a topic of hot debate among people both inside and outside of the field. Broadly speaking, it is about machines that behave intelligently in some way, but this means different things to different people.\n",
    "    Note: There are several sorts that we can use to iterate through the submissions: \n",
    "        - .hot, \n",
    "        - .new, \n",
    "        - .controversial, \n",
    "        - .top, \n",
    "        - .rising,\n",
    "        - .gilded. \n",
    "        \n",
    "We can also use .search(\"SEARCH_KEYWORDS\") to get only results matching an engine search."
   ]
  },
  {
   "cell_type": "code",
   "execution_count": 514,
   "metadata": {
    "ExecuteTime": {
     "end_time": "2019-11-30T14:38:15.794754Z",
     "start_time": "2019-11-30T14:38:15.217111Z"
    },
    "scrolled": true
   },
   "outputs": [
    {
     "name": "stdout",
     "output_type": "stream",
     "text": [
      "{'REDDIT_USER_NAME': 'unmakingyou', 'REDDIT_PASSWORD': 'aid00rk5', 'APP_NAME': 'AIVC', 'PERSONAL_USE_SCRIPT': 'LEvS54694dQuMg', 'SECRET_KEY': 'J5Z28cV8NTT9sohzpUk-G-dtVUo'}\n",
      "SubredditScraper instance created with values sub = artificial, sort = hot, lim = 1000, mode = w\n"
     ]
    }
   ],
   "source": [
    "subreddit_scrape = SubredditScraper('artificial', credentials, sort='hot', lim=1000, mode='w')"
   ]
  },
  {
   "cell_type": "markdown",
   "metadata": {},
   "source": [
    "# Obtain 'Submission' Objects\n",
    "once we have a Subreddit instance, we can iterate through some of its submissions, each bound to an instance of Submission. \n",
    "\n",
    "    *Note: Carlos was proposing to only gather posts and first level answers\n",
    "    *Note: Reddit’s request limit* is 1000 (work-around for this by querying the subreddits by date)"
   ]
  },
  {
   "cell_type": "code",
   "execution_count": 515,
   "metadata": {
    "ExecuteTime": {
     "end_time": "2019-11-30T14:38:19.787949Z",
     "start_time": "2019-11-30T14:38:19.772847Z"
    },
    "scrolled": false
   },
   "outputs": [
    {
     "data": {
      "text/plain": [
       "'hot'"
      ]
     },
     "metadata": {},
     "output_type": "display_data"
    },
    {
     "data": {
      "text/plain": [
       "<praw.models.listing.generator.ListingGenerator at 0x1391798d0>"
      ]
     },
     "metadata": {},
     "output_type": "display_data"
    },
    {
     "data": {
      "text/plain": [
       "<psaw.PushshiftAPI.PushshiftAPI at 0x110d4f860>"
      ]
     },
     "metadata": {},
     "output_type": "display_data"
    }
   ],
   "source": [
    "sort, submissions, psaw_api = subreddit_scrape.get_submissions()\n",
    "display (sort, submissions, api)"
   ]
  },
  {
   "cell_type": "code",
   "execution_count": 516,
   "metadata": {
    "ExecuteTime": {
     "end_time": "2019-11-30T14:39:06.550902Z",
     "start_time": "2019-11-30T14:38:49.988893Z"
    },
    "scrolled": true
   },
   "outputs": [],
   "source": [
    "topics_dict = { \"id\":[],\n",
    "                \"title\":[],\n",
    "                \"comment_num\": [], \n",
    "                \"comments\":[],\n",
    "                \"score\":[],   \n",
    "                \"created\": [], \n",
    "                \"body\":[],\n",
    "                 \n",
    "              }\n",
    "\n",
    "for submission in submissions:\n",
    "    topics_dict[\"id\"].append(submission.id)\n",
    "    topics_dict[\"title\"].append(submission.title)\n",
    "    topics_dict[\"comment_num\"].append(submission.num_comments)\n",
    "    topics_dict[\"score\"].append(submission.score)\n",
    "    topics_dict[\"created\"].append(submission.created)\n",
    "    topics_dict[\"body\"].append(submission.selftext)"
   ]
  },
  {
   "cell_type": "markdown",
   "metadata": {},
   "source": [
    "# Obtain a 'CommentForrest' object per submission\n",
    "With a submission object we can then interact with its CommentForest through the submission’s comments attribute.\n",
    "    - A CommentForest is a list of top-level comments each of which contains a CommentForest of replies."
   ]
  },
  {
   "cell_type": "code",
   "execution_count": 392,
   "metadata": {
    "ExecuteTime": {
     "end_time": "2019-11-29T22:07:04.161882Z",
     "start_time": "2019-11-29T22:06:42.078038Z"
    },
    "scrolled": true
   },
   "outputs": [],
   "source": [
    "for _id, x in zip(topics_dict[\"id\"], range(len(topics_dict[\"id\"])))  :\n",
    "    submission = reddit.submission(id= _id)\n",
    "#     print (\"************\",x)\n",
    "    #all 'MoreComments' objects will be replaced until there are none left, as long as they satisfy the threshold.\n",
    "    submission.comments.replace_more(limit=None)\n",
    "    text = topics_dict[\"title\"][x] + '.'\n",
    "    for top_level_comment in submission.comments:\n",
    "        #the body of the top level comments\n",
    "        text = text + \" \" + top_level_comment.body\n",
    "        for second_level_comment in top_level_comment.replies:\n",
    "            text = text + \" \" + second_level_comment.body\n",
    "    text = subreddit_scrape.clean_description(text)\n",
    "    topics_dict[\"comments\"].append(text)\n",
    "#     display (text) print (\"\")"
   ]
  },
  {
   "cell_type": "code",
   "execution_count": 395,
   "metadata": {
    "ExecuteTime": {
     "end_time": "2019-11-29T22:07:13.770376Z",
     "start_time": "2019-11-29T22:07:13.761396Z"
    }
   },
   "outputs": [],
   "source": [
    "def get_date(created):\n",
    "    return dt.datetime.fromtimestamp(created)\n",
    "\n",
    "timestamp = reddit_data_pd[\"created\"].apply(get_date)\n",
    "reddit_data_pd['created'] = timestamp"
   ]
  },
  {
   "cell_type": "code",
   "execution_count": 397,
   "metadata": {
    "ExecuteTime": {
     "end_time": "2019-11-29T22:07:45.655112Z",
     "start_time": "2019-11-29T22:07:45.645653Z"
    },
    "scrolled": true
   },
   "outputs": [
    {
     "name": "stdout",
     "output_type": "stream",
     "text": [
      "25\n"
     ]
    }
   ],
   "source": [
    "print (len(reddit_data_pd.id.unique()))"
   ]
  },
  {
   "cell_type": "code",
   "execution_count": 398,
   "metadata": {
    "ExecuteTime": {
     "end_time": "2019-11-29T22:07:47.698803Z",
     "start_time": "2019-11-29T22:07:47.685305Z"
    }
   },
   "outputs": [],
   "source": [
    "reddit_data_pd.to_csv( \"./reddit_data_rising.csv\", index = None, header=True)"
   ]
  },
  {
   "cell_type": "code",
   "execution_count": 551,
   "metadata": {
    "ExecuteTime": {
     "end_time": "2019-12-01T13:55:42.734272Z",
     "start_time": "2019-12-01T13:55:41.462184Z"
    }
   },
   "outputs": [
    {
     "name": "stdout",
     "output_type": "stream",
     "text": [
      "4013\n",
      "2826\n"
     ]
    }
   ],
   "source": [
    "data1 = pd.read_csv(\"./reddit_data_new.csv\") \n",
    "data2 = pd.read_csv(\"./reddit_data_top.csv\")\n",
    "data3 = pd.read_csv(\"./reddit_data_hot.csv\")\n",
    "data4 = pd.read_csv(\"./reddit_data_contro.csv\")\n",
    "data5 = pd.read_csv(\"./reddit_data_rising.csv\")\n",
    "total_recent = pd.concat([data1, data2, data3, data4, data5])\n",
    "print (total_recent.shape[0])\n",
    "print (len(total_recent.id.unique()))\n",
    "total_recent.to_csv( \"./reddit_data_all_recent.csv\", index = None, header=True)"
   ]
  },
  {
   "cell_type": "code",
   "execution_count": 400,
   "metadata": {
    "ExecuteTime": {
     "end_time": "2019-11-29T22:08:00.861635Z",
     "start_time": "2019-11-29T22:08:00.839803Z"
    }
   },
   "outputs": [
    {
     "data": {
      "text/html": [
       "<div>\n",
       "<style scoped>\n",
       "    .dataframe tbody tr th:only-of-type {\n",
       "        vertical-align: middle;\n",
       "    }\n",
       "\n",
       "    .dataframe tbody tr th {\n",
       "        vertical-align: top;\n",
       "    }\n",
       "\n",
       "    .dataframe thead th {\n",
       "        text-align: right;\n",
       "    }\n",
       "</style>\n",
       "<table border=\"1\" class=\"dataframe\">\n",
       "  <thead>\n",
       "    <tr style=\"text-align: right;\">\n",
       "      <th></th>\n",
       "      <th>id</th>\n",
       "      <th>title</th>\n",
       "      <th>comment_num</th>\n",
       "      <th>comments</th>\n",
       "      <th>score</th>\n",
       "      <th>created</th>\n",
       "      <th>body</th>\n",
       "    </tr>\n",
       "  </thead>\n",
       "  <tbody>\n",
       "    <tr>\n",
       "      <th>0</th>\n",
       "      <td>e3jfe3</td>\n",
       "      <td>A list of Monte Carlo tree search research pap...</td>\n",
       "      <td>0</td>\n",
       "      <td>A list of Monte Carlo tree search research pap...</td>\n",
       "      <td>1</td>\n",
       "      <td>2019-11-30 04:24:18</td>\n",
       "      <td>&amp;#x200B;\\n\\nhttps://preview.redd.it/vie7kcgzeo...</td>\n",
       "    </tr>\n",
       "    <tr>\n",
       "      <th>1</th>\n",
       "      <td>e3i7ff</td>\n",
       "      <td>Question about AI from a newbie</td>\n",
       "      <td>2</td>\n",
       "      <td>Question about AI from a newbie. The results d...</td>\n",
       "      <td>1</td>\n",
       "      <td>2019-11-30 03:00:49</td>\n",
       "      <td>Hi guys. I dont have any experience on program...</td>\n",
       "    </tr>\n",
       "    <tr>\n",
       "      <th>2</th>\n",
       "      <td>e3i7dk</td>\n",
       "      <td>Former Go champion beaten by DeepMind retires ...</td>\n",
       "      <td>1</td>\n",
       "      <td>Former Go champion beaten by DeepMind retires ...</td>\n",
       "      <td>2</td>\n",
       "      <td>2019-11-30 03:00:43</td>\n",
       "      <td>NaN</td>\n",
       "    </tr>\n",
       "    <tr>\n",
       "      <th>3</th>\n",
       "      <td>e3hv3m</td>\n",
       "      <td>Critical AI Algorithms Are Not Secure (Yet)</td>\n",
       "      <td>0</td>\n",
       "      <td>Critical AI Algorithms Are Not Secure (Yet).</td>\n",
       "      <td>1</td>\n",
       "      <td>2019-11-30 02:36:02</td>\n",
       "      <td>NaN</td>\n",
       "    </tr>\n",
       "    <tr>\n",
       "      <th>4</th>\n",
       "      <td>e3hq03</td>\n",
       "      <td>Tencent Open-Sources High-Performance Graph Co...</td>\n",
       "      <td>0</td>\n",
       "      <td>Tencent Open Sources High Performance Graph Co...</td>\n",
       "      <td>1</td>\n",
       "      <td>2019-11-30 02:25:51</td>\n",
       "      <td>NaN</td>\n",
       "    </tr>\n",
       "    <tr>\n",
       "      <th>5</th>\n",
       "      <td>e3h9fv</td>\n",
       "      <td>Advice on Research prospects</td>\n",
       "      <td>0</td>\n",
       "      <td>Advice on Research prospects.</td>\n",
       "      <td>1</td>\n",
       "      <td>2019-11-30 01:54:45</td>\n",
       "      <td>What are the research prospects at the interse...</td>\n",
       "    </tr>\n",
       "    <tr>\n",
       "      <th>6</th>\n",
       "      <td>e3h503</td>\n",
       "      <td>Here is a good list of AI experts in Europe to...</td>\n",
       "      <td>0</td>\n",
       "      <td>Here is a good list of AI experts in Europe to...</td>\n",
       "      <td>4</td>\n",
       "      <td>2019-11-30 01:45:40</td>\n",
       "      <td>NaN</td>\n",
       "    </tr>\n",
       "    <tr>\n",
       "      <th>7</th>\n",
       "      <td>e3h2yy</td>\n",
       "      <td>How can AI be used to categorize emails?</td>\n",
       "      <td>0</td>\n",
       "      <td>How can AI be used to categorize emails?.</td>\n",
       "      <td>0</td>\n",
       "      <td>2019-11-30 01:41:23</td>\n",
       "      <td>Through text-based classification or natural l...</td>\n",
       "    </tr>\n",
       "    <tr>\n",
       "      <th>8</th>\n",
       "      <td>e3feph</td>\n",
       "      <td>Facebook Secretly Built a Facial Recognition A...</td>\n",
       "      <td>3</td>\n",
       "      <td>Facebook Secretly Built a Facial Recognition A...</td>\n",
       "      <td>26</td>\n",
       "      <td>2019-11-29 23:28:42</td>\n",
       "      <td>NaN</td>\n",
       "    </tr>\n",
       "    <tr>\n",
       "      <th>9</th>\n",
       "      <td>e3eykd</td>\n",
       "      <td>What if we make an GAI give it access to the i...</td>\n",
       "      <td>6</td>\n",
       "      <td>What if we make an GAI give it access to the i...</td>\n",
       "      <td>0</td>\n",
       "      <td>2019-11-29 22:48:52</td>\n",
       "      <td>The idea is we make some super intelligent AI ...</td>\n",
       "    </tr>\n",
       "  </tbody>\n",
       "</table>\n",
       "</div>"
      ],
      "text/plain": [
       "       id                                              title  comment_num  \\\n",
       "0  e3jfe3  A list of Monte Carlo tree search research pap...            0   \n",
       "1  e3i7ff                    Question about AI from a newbie            2   \n",
       "2  e3i7dk  Former Go champion beaten by DeepMind retires ...            1   \n",
       "3  e3hv3m        Critical AI Algorithms Are Not Secure (Yet)            0   \n",
       "4  e3hq03  Tencent Open-Sources High-Performance Graph Co...            0   \n",
       "5  e3h9fv                       Advice on Research prospects            0   \n",
       "6  e3h503  Here is a good list of AI experts in Europe to...            0   \n",
       "7  e3h2yy           How can AI be used to categorize emails?            0   \n",
       "8  e3feph  Facebook Secretly Built a Facial Recognition A...            3   \n",
       "9  e3eykd  What if we make an GAI give it access to the i...            6   \n",
       "\n",
       "                                            comments  score  \\\n",
       "0  A list of Monte Carlo tree search research pap...      1   \n",
       "1  Question about AI from a newbie. The results d...      1   \n",
       "2  Former Go champion beaten by DeepMind retires ...      2   \n",
       "3       Critical AI Algorithms Are Not Secure (Yet).      1   \n",
       "4  Tencent Open Sources High Performance Graph Co...      1   \n",
       "5                      Advice on Research prospects.      1   \n",
       "6  Here is a good list of AI experts in Europe to...      4   \n",
       "7          How can AI be used to categorize emails?.      0   \n",
       "8  Facebook Secretly Built a Facial Recognition A...     26   \n",
       "9  What if we make an GAI give it access to the i...      0   \n",
       "\n",
       "               created                                               body  \n",
       "0  2019-11-30 04:24:18  &#x200B;\\n\\nhttps://preview.redd.it/vie7kcgzeo...  \n",
       "1  2019-11-30 03:00:49  Hi guys. I dont have any experience on program...  \n",
       "2  2019-11-30 03:00:43                                                NaN  \n",
       "3  2019-11-30 02:36:02                                                NaN  \n",
       "4  2019-11-30 02:25:51                                                NaN  \n",
       "5  2019-11-30 01:54:45  What are the research prospects at the interse...  \n",
       "6  2019-11-30 01:45:40                                                NaN  \n",
       "7  2019-11-30 01:41:23  Through text-based classification or natural l...  \n",
       "8  2019-11-29 23:28:42                                                NaN  \n",
       "9  2019-11-29 22:48:52  The idea is we make some super intelligent AI ...  "
      ]
     },
     "metadata": {},
     "output_type": "display_data"
    }
   ],
   "source": [
    "display(total.head(10))"
   ]
  },
  {
   "cell_type": "code",
   "execution_count": 401,
   "metadata": {
    "ExecuteTime": {
     "end_time": "2019-11-29T22:08:04.889317Z",
     "start_time": "2019-11-29T22:08:04.871035Z"
    },
    "scrolled": true
   },
   "outputs": [
    {
     "data": {
      "text/html": [
       "<div>\n",
       "<style scoped>\n",
       "    .dataframe tbody tr th:only-of-type {\n",
       "        vertical-align: middle;\n",
       "    }\n",
       "\n",
       "    .dataframe tbody tr th {\n",
       "        vertical-align: top;\n",
       "    }\n",
       "\n",
       "    .dataframe thead th {\n",
       "        text-align: right;\n",
       "    }\n",
       "</style>\n",
       "<table border=\"1\" class=\"dataframe\">\n",
       "  <thead>\n",
       "    <tr style=\"text-align: right;\">\n",
       "      <th></th>\n",
       "      <th>id</th>\n",
       "      <th>title</th>\n",
       "      <th>comment_num</th>\n",
       "      <th>comments</th>\n",
       "      <th>score</th>\n",
       "      <th>created</th>\n",
       "      <th>body</th>\n",
       "    </tr>\n",
       "  </thead>\n",
       "  <tbody>\n",
       "    <tr>\n",
       "      <th>0</th>\n",
       "      <td>e3jfe3</td>\n",
       "      <td>A list of Monte Carlo tree search research pap...</td>\n",
       "      <td>0</td>\n",
       "      <td>A list of Monte Carlo tree search research pap...</td>\n",
       "      <td>1</td>\n",
       "      <td>2019-11-30 04:24:18</td>\n",
       "      <td>&amp;#x200B;\\n\\nhttps://preview.redd.it/vie7kcgzeo...</td>\n",
       "    </tr>\n",
       "  </tbody>\n",
       "</table>\n",
       "</div>"
      ],
      "text/plain": [
       "       id                                              title  comment_num  \\\n",
       "0  e3jfe3  A list of Monte Carlo tree search research pap...            0   \n",
       "\n",
       "                                            comments  score  \\\n",
       "0  A list of Monte Carlo tree search research pap...      1   \n",
       "\n",
       "               created                                               body  \n",
       "0  2019-11-30 04:24:18  &#x200B;\\n\\nhttps://preview.redd.it/vie7kcgzeo...  "
      ]
     },
     "metadata": {},
     "output_type": "display_data"
    }
   ],
   "source": [
    "display(total.iloc[0:1])\n",
    "display(total.iloc[0][3])"
   ]
  },
  {
   "cell_type": "markdown",
   "metadata": {},
   "source": [
    "# Historic Reddits using psaw api"
   ]
  },
  {
   "cell_type": "code",
   "execution_count": 530,
   "metadata": {
    "ExecuteTime": {
     "end_time": "2019-11-30T18:56:42.784491Z",
     "start_time": "2019-11-30T18:45:47.901272Z"
    },
    "scrolled": true
   },
   "outputs": [
    {
     "name": "stdout",
     "output_type": "stream",
     "text": [
      "{'REDDIT_USER_NAME': 'unmakingyou', 'REDDIT_PASSWORD': 'aid00rk5', 'APP_NAME': 'AIVC', 'PERSONAL_USE_SCRIPT': 'LEvS54694dQuMg', 'SECRET_KEY': 'J5Z28cV8NTT9sohzpUk-G-dtVUo'}\n",
      "SubredditScraper instance created with values sub = artificial, sort = hot, lim = 1000, mode = w\n"
     ]
    },
    {
     "data": {
      "text/plain": [
       "'hot'"
      ]
     },
     "metadata": {},
     "output_type": "display_data"
    },
    {
     "data": {
      "text/plain": [
       "<praw.models.listing.generator.ListingGenerator at 0x13ab4cc18>"
      ]
     },
     "metadata": {},
     "output_type": "display_data"
    },
    {
     "data": {
      "text/plain": [
       "<psaw.PushshiftAPI.PushshiftAPI at 0x110d4f860>"
      ]
     },
     "metadata": {},
     "output_type": "display_data"
    },
    {
     "name": "stdout",
     "output_type": "stream",
     "text": [
      "1567375200\n",
      "['AI isn’t funny anymore', 'What is a Chatbot -Top Ways AI is Impacting the Mobile Development Industry - Kontorara', 'Peter Norvig - Artificial Intelligence: A Modern Approach | Artificial Intelligence Podcast', 'Picture Perfect Beauty Courtesy AI Makeup Artist', \"Spot's launch is a reality check on the current state of AI/robotics\", 'Songwriting (music and lyrics), music mastering, video and more created by AI', 'A Warning From Ron Swanson [DeepFake Voice]', 'Top 5 Future Applications of Artificial Intelligence', 'Hi ! I just wrote an article about the Dual Shot Face Detector, which was presented in CVPR 2019. What do you think of it?', 'Study: Artificial intelligence can diagnose diseases with impressive accuracy. 14 studies suggest that deep learning systems correctly detect a disease 87 percent of the time, while healthcare professionals are accurate 86 percent of the time.', 'Beautiful vid on connections between the different types of machine learning and evolution.', 'Visualizing a Neural Network Controlling an Interplanetary Spacecraft Trajectory', 'Psicoterapeuta Online', \"We’re delighted to invite you for our upcoming Q&A with Senior VP, Head of Risk Analytics Abhaya Kant who will answer your questions on AI, ML & Modeling trends, barriers in banking & finance, Don't hesitate to post your questions here -https://www.econolytics.in/webinar.php\", 'Why do we need Artificial Intelligence', 'Top 7 TED Talks about Machine Learning', 'Business Applications of Artificial Intelligence Bots Today', 'Artificial Intelligence vs Machine Learning', 'A Growing Need For Data Scientists and The Automation Paradox', 'Evolutionary Artificial Intelligence', 'Free (Robot) Hugs! An Embracing Multimodal Dataset', 'I Think AI Has Gone Too Far lol.', '‘Backronym’ May Help To Generate Ideas in Machine Learning by Visualizing Hundreds of Research Papers Together', 'Emergent Tool Use from Multi-Agent Interaction', '[StarCraft AI] SSCAIT Report 140: Calm before the storm', '2 AI fight for the same parking spot', 'What exactly is AI? Why is it important? How does it work? 🤔 👇 Could someone shares more resources?', 'CitiOS is an interesting project in blockchain industry.', 'Should I quit my data science job in industry and go back to school at 30 to complete an undergrad degree and a PhD in AI?', 'Kindered AI wants to make artificial general intelligence', 'How to determine if a regression model is overfitting or not?', \"YouTuber charged loads of fans $199 for shoddy machine-learning course that copy-pasted other people's GitHub code\", 'Artificial Intelligence & Algorithms: Pros & Cons', 'Artificial Intelligence in Operations (AIOps)', 'The viral selfie app ImageNet Roulette seemed fun – until it called me a racist slur', 'Neural Networks (Deep Learning) - Part 1 Introduction', 'AI Exponentially Accelerates Drug Development', 'Career in AI with a background in neuroscience?', 'AI and Data Science Tools on Amazon Web Services', 'Sony Is Creating A Next-Gen AI Help Assistant For Gameplay Guidance', 'Where can I learn to build AI to play board games ysing Python', 'Is hide-and-seek a relevant environment for AI training', 'AI identifies genes linked to heart failure', 'Can a computer fool you into thinking it is human? \"man who was tricked was one of the founders of the Loebner Prize, an annual test of artificial conversation in which computers try to fool humans into thinking that they, too, are human.\"', \"NASA aims to send shapeshifting robots to explore Saturn's moons\", 'robots are learning to trek through unknown environments', 'AI really makes your business customer friendly!', 'How They Made The Autoblow A.I. BJ Machine', 'CitiOS - PROBLEM STATEMENT', '[N] Amidst controversy regarding his most recent course, Siraj Raval is to present at the European Space Astronomy Center Workshop as a tutor', 'Needs your feedback for AI populization project', 'Functional AI generated fiction', 'Open Hearing on Deepfakes and Artificial Intelligence', 'Can #AI be CREATIVE?', 'Google’s ALBERT Is a Leaner BERT; Achieves SOTA on 3 NLP Benchmarks', 'Understanding Machine Learning: From Theory to Algorithms (PDF)', 'Best Chatbot Framework to Build Powerful Bots', 'Artificial Intelligence in Supply Chain Management', '\"Constructing the Meaning of Humanoid Sex Robots\"', 'Improving Operational Efficiency by Integrating AI in ERP Systems', 'Alibaba Group launches new AI chip to boost cloud computing business', 'Future of Artificial Intelligence: The Fourth Industrial Revolution', 'CitiOS Blockchain', 'An AGI scenario that fascinates me……', 'Employer Branding And Communications', 'Inventions, made by...', 'Inventions, inspired by..', \"We're connecting AI & Data Science talent and projects across the MEA region. Want to make it your mission?! Join in and grow the community.\", 'What is a good Introduction of Artificial Intelligence?', 'Improving Operational Efficiency by Integrating AI in ERP Systems', 'How to make your own deep learning accelerator chip', 'picc line shower cover', 'What are the best artificial Intelligence certifications?', 'Multi-Agent Hide and Seek - OpenAI', 'Multi-Agent Hide and Seek', 'Artificial Intelligence & Algorithms: pros & cons | (AI-Documentary) DW Documentary', 'ARM and Qualcomm Will Continue to Supply Huawei Despite US Ban', 'I resored/upscaled the opening for Yu Yu Hakusho (originally 640x480) to 4K using ai-machine learning. Results are very impressive.', 'Reproducibility Challenges in Machine Learning for Health', 'The value of AI in customer experience', 'Evolution Of Self-Driving Cars, Neural Network & Shape', 'The Beginners’ guide to Artificial Intelligence', 'Top 5 Real Time Applications of Artificial Intelligence', 'How AI help us in future?', 'Top Countries Shaken Up, Fearing AI Will Snatch Away Their Jobs', 'How to Make CRM Operations Smart With Artificial Intelligence', 'Team building programmes in Delhi', 'AI Automation in Filmmaking: Roll camera – AI – Action!', 'AI Automation in Filmmaking: Roll camera – AI – Action!', 'I just learned about Neural Network. Any good articles I can follow?', 'What are the advantages and disadvantages of Articial Intelligence?', 'What are your views on blockchain technology?', 'Hedge fund AI algo detecting Iran attack in real time and reacting to it', 'The Artificial Intelligence Journey in Contact Centers', '5 WAYS ARTIFICIAL INTELLIGENCE WILL IMPACT HEALTH INDUSTRY', 'A Concept Album about AI - Aniagiasi by Bryan Nord on Spotify', 'Machine learning finds new metamaterial designs for energy harvesting', '[N] Udacity had an interventional meeting with Siraj Raval on content theft for his AI course', 'A New Patent That Is Arguably the Successor to Deep Learning and the Future of Artificial General Intelligence. Imagination Engines Inc. Breaks Radio Silence to Talk About Its Radically New Form of AI', 'Turn your Data into Answers: How AI Search will Transform your Business', 'What’s Cooking? Google VideoBERT Predicts Recipes', 'Artificial Intelligence Has A Gender Bias Problem – Just Ask Siri', 'AI-Generated Writing: Potentially More Creative Than Imagined', 'our future will be way different than anyone thinks', 'future will be way different than we like to think', 'Alibaba’s New AI Chip Can Process Nearly 80K Images Per Second', 'Cambridge Analytica whistleblower Chris Wylie to headline Big Data LDN 2019 Keynote Programme', 'Potential positive and negative outcomes of AI', '\"Artificial Intelligence\" is a Misleading Term', 'Smart Boxes - My first Python AI / Genetic Algorithm Program', \"'Artificial Intelligence' is a Misleading Term\", 'I will likely start with med school next spring. Should I be worried that AI is going to replace me in the near future?', 'Is Artificial Intelligence an Existential Threat?', 'Research groups in Strategic AI for Games and Pathfinding', 'Why Signal Automation and it’s benefits?', 'Engage With Engage2Win to Make a Change in Your Company', 'Artificial Intelligence help you in future to grow your self.', 'A unique company with phenomenal and innovative approach to their work', 'What is the future of artificial intelligence?', 'Creating Digital Revolution with Applications of Blockchain and Artificial Intelligence', 'Peter Thiel Shares His Thoughts About Where AI is Headed', 'How to Improve Search Relevance – 5 Types of Search Evaluation', \"Tutorial: Clone your voice using Microsoft Azure's Cognitive Services\", 'Autonomous Shipping: What will the ship of the future look like?', 'Researchers Use Vile Comments from Trump Subreddit to Train AI to Battle Hate Speech', 'AI Learns to Park - Deep Reinforcement Learning', \"Microsoft's ultimate AI challenge: optimizing Earth's use\", 'Building Engaging Conversational Interfaces with DialogFlow', 'Amazon ML Director Begins DeepMind Professorship at Cambridge', 'A paper recently published in Nature reports that an AI has now managed to predict future scientific discoveries by simply extracting meaningful data from research publications', 'Boston Dynamics’ Atlas can now do an impressive gymnastics routine 1 Featuring somersaults, a handstand, and even a split leap', 'Which job profession is the best if you want to be on the forefront to develop real Artificial Intelligence (AGI)?', '8 Tips To Ease Your Switch In AI Career', 'Where should i start with learning how Ai works?', 'How AI governance solutions are impacting Automotive Industry?', 'Difference Between Artificial Intelligence and Automation', 'Artificial Intelligence updates in 2019 | Learn AI | OnlineITGuru', 'Account Suspended', '#AI, #IoT, #MAS An Intro to Phenomenological IoT (Conceptual Basis)', 'Machine Learning and Blockchain To Predict Consumer Behavior', 'How Business Intelligence can benefit your sales and marketing', 'Is there a curated list of AI project I can test and interact with on the internet somewhere to have a broad idea of what the tech is capable of?', 'Can Artificial Intelligence Become Dangerous? - Quantum Computers, Interdimensional, Super A.I.', 'Learning Machine Learning', 'Muscle and Bone Simulation', 'Facial Recognition Ticketing Launches in Shenzhen, China Subways', 'Transformer-Based Language Model Writes Abstracts For Scientific Papers', 'Free online training event, 5 different tracks with topics covering all aspects of AI and machine learning. Streamed via Twitch, so you can interact and ask any questions during the sessions.', 'AI Deepfakes: when seeing is no longer - Podcast', 'Found some good AI courses', 'AI vs AI: ‘FakeSpotter’ Studies Neurons to Bust DeepFakes', 'How to create customer profile for retail in food & beverage using AI? (meaning how to link their in-store receipts, with call center deliver calls, marketing profiles on social media)', 'AI Visualizes Your Post Cosmetic Surgery Appearance', 'Google Has A Network More Like The Brain. Google Research has some breakthrough results with a more biologically plausible artificial neural network - project Ihmehimmeli', \"Hybrid Chatbots are Coming for Facebook's Libra Cryptocurrency\", 'How AI will Impact your Business Growth in 2020?', 'ARTIFICIAL INTELLIGENCE & MACHINE LEARNING NOW ASSISTING IN SECURITY', \"We're connecting AI & Data Science talent and projects across the MEA region. Want to make it your mission?! Help share and grow the community.\", 'Bias and discrimination in AI', 'Know more about how Travel and Hospitality industries are harnessing the power of artificial intelligence intending to improve the consumer experience.', 'Artificial Intelligence (AI) in Education Market Size worth $6bn by 2024', 'War Movie: Hrithik Roshan and Tiger Shroff Movie Release on 2 October 2019', \"What are some technical jobs in AI companies that don't require a PHD/Master's in AI/ML?\", 'Boat Rental Memberships | Monthly Boat Rentals in Miami | Miami Rent Boat - Boat Rental', 'Is it 100% naive to enter AI without doing any formal training?', 'Google is bringing Assistant to people without internet connection', '[StarCraft AI] SSCAIT Report 139: Epic recommendations', '[D] Siraj Apologizes and Promises Refunds within 30 days', 'The Answer to Forecasting Bitcoin May Lie in Artificial Intelligence', 'Machine learning accessible to all, without programming experience', 'AI Turned These Emojis Into Photorealistic Monstrosities', 'Decent minimal code examples of neural networks?', 'AI Mobile technology', 'I like their work, and I want to say a huge thank you to them for the innovative', 'Two AI Agents fight for the same Parking Spot', 'Good resource on new AI updates?', \"Is AI good enough to find what kind of song I want to listen to based on ones I'm listening to now and liking?\", 'Live Life in Full Bloom -Guitar (feat. Jack Ma) | Composed with AI | AIVA', 'BACKTRACKING ALGORITHM FOR THE N QUEENS PROBLEM & PYTHON IMPLEMENTATION: ARTIFICIAL INTELLIGENCE', 'Singapore-based artificial intelligence (AI) and big data startup, Advance.ai, has reportedly bagged hefty nine-figure funding in a rather successful Series-C round', 'AI generated classical piano composition', '[D] Siraj Raval - Potentially exploiting students, banning students asking for refund. Thoughts?', '10 Best Artificial Intelligence Course & Certification', 'Found some good Artificial Intelligence Course & Certification', 'Interested in coding a revenue management AI to update best prices for hotels and airbnb accounts. Any idea of where to start or existing project on the topic? (Python preferred)', 'AI newsletters', 'The AI community', 'AI avatar', 'Metropolis Colorized with DeOldify', 'Logic and the History of Artificial intelligence', \"Here's a list of 7 top research on arXiV on AI/deep learning for August 2019 as per Daniel Gutierrez\", 'This Ben Goertzel interview needs to be heard.', 'New AI could generate faces that match the expressions of anonymous subjects to grant them privacy—without losing their ability to express themselves', 'Artificial Intelligence Has a Huge Carbon Footprint. But It Doesn’t Have To.', 'Using machine learning to reconstruct deteriorated Van Gogh drawings', 'Artificial Intelligence Takes On Earthquake Prediction', 'God is in the Rain - a collage about AI, simulation theory and mirror neurons', 'The use of AI in laser scanning workflows is maturing... but how ready is it?', 'Which Mathematics Course should I take before getting started in ML? Please help me!', 'Huawei Flexes AI Muscle With New Mate 30 Gesture Control and Smart Rotation', 'Implementing Hierarchical Categories with an Ensemble Classifier to Overcome Dataset Limitations', 'AI / ML – Past, Present & Future – Part I - MUST READ', 'AI / ML – Past, Present & Future – Get started', 'AI ML - A good start - Worth reading', 'A great example of how AI is making our lives better right now', 'Fighting Hunger with Artificial Intelligence: A Practical Guide for Creating A Quality Satellite Imagery Dataset for Agricultural Applications', 'With a changing workforce, robots/automated workforce vs humans, what new management skills are required to successfully lead the new workforce?', 'Any other companies you think should have been on there? AI 50: America’s Most Promising Artificial Intelligence Companies', 'AI-a Projection of Optimum Human Performance?', \"Shouldn't Element AI be on that list? Any other companies you think should have been on there?\", 'Artificial Intelligence with AWS', \"A fresh look on an AI that knows what surrounds him and then adapt, move and shoot monsters. The AI is built on the Unity's Survival Shooter Tutorial.\", 'This guy is doing some funky A.I.', 'Watch How Artificial Cars Learn To Drive Racing Tracks - Evolutionary Algorithm', 'Building Engaging Conversational Interfaces with DialogFlow', 'Accelerating Supply Chain Processes with Next-gen Technologies', '5 Ways Artificial Intelligence Will Change The World As We Know It', 'Building Tomorrow: Artificial You (with Susan Schneider)', 'Can you tell the difference between Real Trump and Fake AI Trump tweets?', 'Deep learning application able to predict El Niño events up to 18 months in advance', 'How To Stop AI From Eavesdropping', 'AI plays hide and seek against itself', 'AI / ML – Past, Present & Future – Part II', 'Computers and Humans ‘See’ Differently. Does It Matter?', 'Colin Angle: iRobot CEO | Artificial Intelligence Podcast', 'Machine Learning for your apartment hunt. Part 1', 'The beginning of AI and religion is here', 'Landmark recognition in Cloud Mail.ru using deep learning: how and why', 'The real reason businesses are failing at AI', 'AI and Game Theory - A Primer', 'Is this a step towards Doug McIllroy’s dream of automating and industrialising software development?', 'Why artificial intelligence leads to job growth', 'RPA – The Future Of Business Process Automation', 'The Kira Systems Guide to AI-Driven Contract Analysis', 'How we made landmark recognition in Cloud Mail.ru, and why', 'How would artificial intelligence (AI) impact jobs?', 'Diversity in A.I. Robots- BINA48 2am Thoughts', 'Children Getting Affected By AI – What AI Means For Kids', 'Autonomous Artificial Intelligence Is Entering The Worlds Of Art, Poetry, and Music', 'Random dude no. 32 — Steemit', 'Quantum Chemistry Breakthrough: DeepMind Uses Neural Networks to Tackle Schrödinger Equation', 'Artificial intelligence is changing every aspect of war', 'Why These Two Innovations In Artificial Intelligence Are So Important', 'Better Call Trump: Money Laundering 101 [DeepFake Video and DeepFake Voice]', 'Artificial Intelligence and Machine Learning in Healthcare', 'AI-Generated Writing Market Burgeoning to $US 1.1 Billion by 2025:', 'New AI Technique Builds Dynamic Images From a Single Photo', 'Easiest way to find out if an image has a human in it or not (for free)', 'Do you really think blockchain & AI are major technologies for innovation?', 'How long?', 'AI / ML – Past, Present & Future – Part I', 'The sports industry embraces AI and robots to make games fairer and more exciting', 'AI Agents Startle Researchers With Unexpected Hide-and-Seek Strategies', 'AI 50 Founders Say This Is What People Get Wrong About Artificial Intelligence', 'Wazifa For Husband Controlling – Dua For Husband Good Health', 'AI learned to use tools after nearly 500 million games of hide and seek', 'I ran 10 images from thispersondoesnotexist.com (face generator) through ImageNet Roulette (human classification)', 'Finnish Researchers Build AI to Predict Nanoparticle Structures', 'Some good Artificial Intelligence courses and tutorials.', 'This Pytorch Library ‘SpeedTorch’ Might Speedup Your Pytorch Deep Learning Projects [Github link included]', 'Classy Modern Pop | Composed with AI | AIVA', 'The future will be everything but boring.', 'Data Science at Scale Training – Your ticket to new career and income opportunities', 'The Consumer Right that Makes NYPA the Toughest Privacy Act for AI', 'Why Playing Hide-and-Seek Could Lead AI to Humanlike Intelligence', 'Tabula Rasa - Rethinking the intelligence of machine minds', 'MIT prof on being human in an AI world on Brains Byte Back podcast', 'Developing Super-Intelligence in modern day computers.', 'Chip on the Shoulder: How China Aims to Compete in Semiconductors', 'COD MW3 live !!', 'What you absolutely need to know about CNNs', 'Some of the Striking Ways That Artificial Intelligence Will Shape the World', '5 differences between Machine Learning and Statistical Modeling', 'Career Prospects Iowa', 'How To Get Started In Artificial Intelligence And Machine Learning', 'Current Trends In Artificial Intelligence', 'Impact of Artificial Intelligence in IT Industry', '(AI) Artificial Intelligence -Digital Transformation Meetup', 'AI appliance in the government sector: what challenges you face on the way', 'The Best Introduction to Neural Networks Yet*', 'To understand artificial intelligence in 2019, watch this 1960 TV show', 'An Intro to Phenomenological IoT (biological basis)', 'Car Damage Recognition', 'Vuggestue / Bornehave - Middle thing?', 'Parallel Parking, AI Ho-Hum Challenge For Driverless Cars, But Maybe Not', 'Trying to write my economics thesis about AI', 'So why did Elon Musk warn us about A.I but develops one?', 'Evolving AIs eating each other | With Pheromones ! [OC]', 'See How AI Stereotypes You', 'With our current level of AI, could a team create a program that would be able to color manga accurately by \"viewing\" the anime?', \"Google's Artificial intelligence system is able to detect 26 skin diseases\", '\"Attention Schema Theory\" a funny response given what it is', 'Chinese Face Recognition vending machine.', 'Artificial Intelligence: Computer Says YES (But Is It Right?)', '[crosspost] Gary Marcus, co-author of Rebooting AI with Ernest Davis, is doing an AMA in r/AskScience!', 'AI and Media Coalesce to Fight Fake News', 'New AI Face Anonymization Model Protects Privacy', 'The Ultimate Guide to Learning Artificial Intelligence', 'Artificial intelligence will be big, so prepare. According to a McKinsey report, 400 million to 800 million jobs worldwide could be displaced by 2030 as a result of machines.', 'AI is watching China’s students but how well can it really see? 22-year-old student at a university in northwestern China must get through face scanners to enter her dormitory and register attendance, while cameras above the blackboards in her classrooms keep an eye on the students’ attentiveness.', 'Types of Artificial Intelligence: Details That Everyone Should Know - Aiiot Talk', 'AI and ethics: The debate that needs to be had', 'Why You Need to Study Artificial Intelligence 2020', 'DuckDuckGo now has a BANG for finding Jobs in AI', 'AI Can Now Pass School Tests but Still Falls Short on the Turing Test', 'Medical professionals can use AI create a digital replica of patients to predict effectiveness of treatment.', 'A.I.-Generated Adventure Game Rewrites Itself Every Time You Play', 'Image Optimization with Machine Learning', 'Advice on a non-stem major wanting to pursue the AI field.', 'Explain How Python Is Best Fit For Artificial Intelligence In Web Development?', 'Interview with a Professor in Artificial Intelligence: The Future of Artificial Intelligence', 'Interview with a Deep Learning expert - The Technically Speaking Podcast', '[Project] Multilingual Neural Machine Translation using Transformers with Conditional Normalization.', '[StarCraft AI] SSCAIT Report 138: There can be only one', 'A Brief History of AI from 1940s till Today (Image Credit: Deepkapha.ai )', 'Artificial Intelligence and India', 'Joining the Technological Frontiers of AI and Biotech', '[P] Conditional Density Estimation Python Package and Large Benchmark with Neural Networks (MDN, KMN, Normalizing Flow) and Non-/Semi-parametric estimators', 'Best papers/code for Visual Dubbing?', 'LiDAR Industry Hits Impasse: Was Elon Musk Right After All?', 'A* ALGORITHM BASICS FOR PATH FINDING & HEURISTICS METHODS : ARTIFICIAL INTELLIGENCE', 'Has Wavelet Transform any use in AI? are they related?', \"Recently Attended O'Reilly AI Conference in San Jose, Ca. Here Are the Takeawys from the Keynotes\", 'tik tok CƯỜI XỈU', 'Hi, I’m a medical student from the UK and I’m quite interested in the role of AI in medicine and AI as a whole. Was wondering if anyone could direct me to any good resources or books to learn about AI, I currently know very little TIA', 'Name Stone: AI Powered Infinity Stone', 'Warning About Illicit AI Experiments', '24 Python libraries for every Python developer', 'François Chollet: Keras, Deep Learning, and the Progress of AI | Artificial Intelligence Podcast', 'Artificially made brain organoids are developing in ways scientists didn’t think was possible. Nasa flies the mini brains to the International Space Station to test the effects of zero gravity.', 'Huawei Wants To Tackle NVIDIA And Google With A Solid AI Strategy', 'Interesting research topics for MSc in Artificial Intelligence.', 'The hobbyists competing to make AI human', 'AI Provides a Helping Hand to Clinicians', 'Anyone has built an AI beauty context jet? Which tools to use to start built one that works by submitting a photo to it and have it ranked?', 'How I Learned AI for Free (and You Can Too!)', \"Bayes' theorem explained with examples and implications for life.\", 'AI and its impact on us - Elon Musk, Joe Rogan, David Icke', 'IEEE Ranks Robot Creepiness: Sophia Is Not Even Close to the Top', 'Over Next Three Years, Employees will Need Reskilling as AI Takes Jobs', 'AI-Powered News Service Radar Publishes 200,000th News Story', 'Building Custom Deep Learning Based OCR models', 'Top Reasons For Rolling Demand of Software Development Outsourcing', 'Relationship', 'The Birthplace of AI: The 1956 Dartmouth Workshop', 'Nick Bostrom on Joe Rogan', 'JesseAI or Jesse Artificial Intelligence a GOFAI Open Source and written in C++', 'GE Healthcare wins first FDA clearance for A.I. powered X-ray system', 'Can AI Art Authentication Put An End To Art Forgery?', 'GPT-2: How to Build \"The AI That\\'s Too Dangerous to Release”', 'Webinar Deep Learning in Machine Vision', 'Nasty Language Processing: Textual Triggers Transform Bots Into Bigots', 'Sorry, but your cat or dog AI is damaging the world (discussing the \"Green AI\" paper).', 'AI ethics podcast', '10 Must-Try Open Source Tools for Machine Learning', 'Near-Replica of Controversial Fake News Generator Released', 'Artificial Intelligence vs. Machine Learning vs. NLP', 'AI for dating apps: how machines help people find love', 'Tableau Online Training', '5 Best Artificial Intelligence Tools', 'Machine Learning and Flint Water Crisis', 'What are The Major Types of Artificial Intelligence?', 'Chatbot Development Is Amplifying The Business Growth Stories', 'Build Career In #AIML | Great Lakes PG Program AIML | Great Learning', 'Contact Form, Survey &amp; Form Builder &#8211; MightyForms &#8211; WordPress plugin &#124; WordPre', 'Artificial Intelligence and Design Project', 'How to Get Annotated Data for Machine Learning', \"What is artificial intelligence and how does it work? What's your thoughts?\", 'Cancer detecting', 'A.I. Expert Andrew Ng Talks Artificial Intelligence', 'Artificial Intelligence May Help Slow Down the Aging Process - Conduct Science', 'The Current State of Machine Vision Technology', 'QAit AI Learns by Interacting With Its Environment', 'Google Files Patent for AI Infant Monitoring', 'Assuming that in the future there are communities of superintelligent AI how large should the community be?', 'How Artificial Intelligence Will Affect Your career in IT industry', 'Does Latvia have an AI strategy?', 'What is Artificial Intelligence and Machine Learning? | PGP-AIML Great Lakes | Great Learning', 'Virtual Assistant Stats 2019', 'Real-Time Object Detector With Less Data | PGPAIML | Great Learning', 'Designer Babies & AI', 'Find Jobs in AI and Big Data', 'What is the state and future of AI technology? Looking year back to see if we have advanced much...', 'Here are 7 Data Science Projects on GitHub to Showcase your Machine Learning Skills!', 'Here are 7 Data Science Projects on GitHub to Showcase your Machine Learning Skills!', 'Where AI Data Gets Biased', \"Podcast: New software that identifies potential drug abusers on the internet and try's to get them help.\", 'AI Chip Duel: A13 Bionic VS Kirin 990 5G', 'AI Chip Duel: A13 Bionic VS Kirin 990 5G | The fastest chip ever in a smartphone, that quickly handles the tasks that matter most to people every day', 'Great and quick question!', 'A World With No jobs: AI and UBI Discussed by ex-NASA Engineer, Political Economist - Podcast', 'New Artificial Intelligence Tool Instantly Summarizes Text', 'long way from artificial general intelligence but what is this about', 'Former Coinbase CTO believes blockchain phones could be the solution to deepfake AI scams', 'Has Man Created A New Species', 'Has Man Created A New Species', 'Chinese Gaming Giant NetEase Leverages AI to Create 3D Game Characters from Selfies | This method has already been used over one million times by Chinese gamers.', 'Generative AI: A Key to Machine Intelligence?', 'The StorageAI is a simple AI that controls drones around a normal storage Area. The drones collect, sort and deliver Items all around the storage. Thanks all for Watching! and what do you think about this type of AI these days rendering workers obsolete?', 'The Future and Philosophy of Machine Consciousness - Towards Data Science', 'Is Unplugging A Conscious Computer Murder? | Dilemma Podcast Episode 6', 'Questions & Answers via voice interfaces', \"Musk is also get involved in AI field. As we all know that he's working on a project\", 'This is how to stop the looming “AI winter”: companies need to actually make some money', 'Google launches TensorFlow machine learning framework for graphical data', 'Creating Digital Revolution with Applications of Blockchain and Artificial Intelligence', 'Infographic on Virtual Assistant Facts', 'Best Artificial Intelligence Books for Beginners in 2019', 'Racecar trainer using a Genetic algorithm (updated)', 'Clueless about AI - what jobs will still be after-sought and attractive in 5-10 years?', 'Best Artificial Intelligence Books for Beginners in 2019', 'Neural Structured Learning: A new way for AI to learn', 'Freedom Financial Network gives employees instant IT help with a chatbot in Slack', 'R.I.P. Python 2: October 16, 2000 — January 1, 2020 | Survey indicates 84 percent Python developers had adopted Python 3', 'R.I.P. Python 2: October 16, 2000 — January 1, 2020 | The end of Python 2 means they will be more vulnerable to bugs, attacks, and security issues.', 'How an AI Startup Designed a Drug Candidate in Just 46 Days', 'Top 10 Chinese Cities for AI Development: Beijing Ranks №1', 'Is the future invention of strong AI felt in the present? And if so, how?', 'If Data is the new oil, then AI is the new carbon emissions.', 'HoloLens 2 by Microsoft Allows You To Step Into Mixed Reality', 'What is AI (Artificial Intelligence)', 'Element AI CEO expected to leave as company closes in on US$100 million in new funding: Sources', 'Deep learning to identify cancer using handwriting samples', 'Creative Graduation Project', 'Document Embedding Techniques: A Literature Review 📃🌐', 'Neural Network Based Optimal Control in Astrodynamics', 'AI Security and Ethics? Do you think that there are additional standards required? What frameworks do you use?', 'Artificial Intelligence: Where Is The Limit?', 'Not a very important post, but my mom refuses to believe that AI will get smart enough', 'AI ML – Past, Present & Future – Part 1', 'DARPA is Sending Robots Underground to Teach Them to Save Lives', 'Artificial Intelligence In Education (Studyum)', 'Benefits of Using AI in Supply Chain Management', 'How to integrate of TensorFlow Model in Angular Application?', 'Google open-sources datasets for AI assistants with human-level understanding', 'Towards a new generation of AI-powered social networks?', 'AI-Powered Stickers and Emojis Deliver Next-Gen Personalisation', 'Huawei launches its Ascend 910 artificial intelligence processor', 'Something from Naruto that might actually be useful for AI', '[StarCraft AI] SSCAIT Report 137: Still v Protoss', 'Artificial Intelligence at Autodesk for 3D and VFX Content Creation', 'Google open-sources datasets for AI assistants with human-level understanding', 'Vijay Kumar: Flying Robots | Artificial Intelligence Podcast', 'Please fill out my short survey for my Artificial Intelligence EPQ', 'Facebook works on a virtual assistant bot in Minecraft', 'signup and claim your first sample before you order visit website https://www.junglekush420.com/', 'Are Worries Over AI’s Effect on the Financial Jobs Market Warranted?', 'Computer Pseudoscience: \"the real danger posed by so-called artificial intelligence is not that machines might become smarter than we are but that they will always remain infinitely dumber. \"', 'Artificial Intelligence Will Hog All the Best Menial Tasks. As AI gets better at performing routine tasks traditionally done by humans, only stressful ones will be left. The work experience could suffer.', 'How Artificial Intelligence (AI) is Helping to Make Blockchain Safer', 'Aigents AI news bot can have news items have created and shared manually now', 'AI Graphics?', \"[AI application] AirGesture - Let's play game without keyboard\", 'Technical Question !', 'Object Detection Using Yolo Framework (Python Implementation)', 'A Comprehensive Guide To Object Detection Using Yolo Framework', '\"Artificial intelligence and machine learning can improve the accuracy and precision of Earth system models. Better accuracy increases confidence that physical risk predictions derived from these models can support rational decisions\", says Jupiter\\'s CEO.', 'The Rise of AI (What Is Deep Learning | Deep Learning Basics)', 'Alie. Most accuracy AI recommender system. Here is explainer video of AI work process.', 'Quantum computers are interfering from a parallel universe: Looking for sustenance', 'A.I. Learns the Best Way of Earning and Saving Money (Simulation)', 'How Artificial Intelligence Drives Customer Experience for Better Business', 'Artificial Intelligence and Machine Learning', 'Artificial Intelligence and Machine Learning', 'In any organization having correct communication', 'Would a superintelligent AI shut itself down due to this contradiction?', 'So since we have AI that generates faces, video, voice synthesis, and text how about an AI that combines all these together', 'The governing instinct of the mind in a machine is going to be fear.', 'How to make an AI read your handwriting (LAB) : Crash Course Ai #5', \"Billionaire's Jack Ma and Elon Musk debate in Shanghai at WAIC 2019\", 'What is or are the best language to develop A.I.?', 'Leveraging AI to Transform Power Grid Security', 'Is there data available about successful neural network architectures?', 'Why Self-Driving Cars Are Hard To Make', 'How Artificial Intelligence Supports Human Intelligence in Business', 'Could you program an AI to see?', 'How did we train deep nets before back propagation?', \"Google files patent for using A.I. to track a baby's body and eye movements\", 'Facebook Introduces Dataset & Challenge to Counter DeepFakes', 'Realization of Everything', 'Scientists develop a deep learning method to solve a fundamental problem in statistical physics', 'Artificial Intelligence (AI) is Awesome. How? || Know what the Other People Thinks Of it', 'Huawei Introduces World’s First Flagship 5G SoC in Challenge to Samsung and Qualcomm', 'Artificial intelligence and war. As computers play a bigger role in warfare, the dangers to humans rise', 'AI dev kit for spotting astroids', 'Realization of Everything', 'New features with Google Assistant such as Ambient Mode and start voice and video calls', 'Really wonderful hermit crab and snail shell', 'Bill gates and elon musk share their thoughts on AI it seems both have same thoughts', 'Bill gates and elon musk share their thoughts on AI it seems both have same thoughts', 'Smart Gym Equipment Startups 2019', 'Enhancing Salesforce Commerce Cloud with AI|Salesforce CRM', '[P] Conditional Density Estimation Python Package and Large Benchmark with Neural Networks (MDN, KMN, Normalizing Flow) and Non-/Semi-parametric estimators', 'Artificial Intelligence (AI) is Awesome. How?', 'How To Avoid Fallacies In Data - Common Data Analysis Problems', 'Bill gates and elon musk share their thoughts on AI it seems both have same thoughts', 'Realization of Everything', 'Personal assistant', 'Photo Frames Adelaide | Art & Frame Picture Framing', 'AI for business', 'Project: Write With Transformer. Complete your sentences with the current state-of-the-art in NLP', 'Most Github Development of Any Blockchain AI Software - Decentralized App For AI', \"Amazon AI 'Rekognition' Can Now Detect Fear\", 'What is the market demand for AI engineers jobs (quantity) in the coming 5 years?', 'AI passes a scientific test conducted for students with more than 90% correct answers', 'An Electronic Chip That Makes ‘Memories’ Is A Step Towards Creating Bionic Brains', 'AI Platform as a Service: Definition, Architecture, Vendors', 'Mirror, Mirror on the Wall, AI Knows Where You Are', 'The next wave of artificial intelligence: Get ready for four-horned Bolivian unicorns. A new generation of predictive-text engines has the potential to write coherent and compelling stories — and unleash a torrent of fake news.', 'AI technology transforming recycling industry', '9 Ways Artificial Intelligence Is Reinventing Human Resources', \"Top Security Operations Challenges Outlined by Gartner's Market Guide for SOAR\", 'Ligadewa ~ Daftar Agen Judi Online Paling Terpercaya ~ Bola303', 'Awesome Artificial Intelligence Research and Projects on Computer Vision News (with codes!) September 2019', 'Smart Gym Equipment Startups 2019', 'The Role of AI and Machine Learning in Data Quality', '[AI DISCUSSION] Which Artificial Intelligence Assistant apps do you use? What do you like / dislike about them? (e.g. Google Assistant, Apple Siri, Microsoft Cortana, etc.)', 'Designing Conscious Systems', 'AI Learns to Park - Deep Reinforcement Learning', 'Emotion-reading algorithms cannot predict intentions via facial expressions. Though algorithms are increasingly being deployed in all facets of life, a new study has found that they fail basic tests as truth detectors.', 'What are the Components of Artificial Intelligence? How is Artificial Intelligence used?', 'Startups similar to Deepsource that uses AI to analyse source code for issues?', \"You're a data scientist ? 5 Tips For Getting a Job\", 'Why is understanding natural language important for resolving IT support tickets?', 'Relationship among related but distinct terms: Data Science vs. Big Data vs. Artificial Intelligence vs. Machine Learning vs. Neural Networks vs. Deep Learning', 'Artificial intelligence for multiplayer indie game?', 'Udacity and Bertelsmann Scholarship', 'A Breakthrough for A.I. Technology: Passing an 8th-Grade Science Test', 'Where do I get started with AI?', 'One Network to Fit All Hardware: New MIT AutoML Method Trains 14X Faster Than SOTA NAS', 'Cyberthieves used Deepfaked Voice of CEO to Steal Almost $250,000 from Company', 'Deep-learning AI helps scientists see more clearly inside the cell', 'Remove personal data in seconds with AI-powered anonymization app', 'DATA DAY : Your right way to learning data science', 'DATA DAY : Your right way to learning data science', \"Trying to create AI that achieves human level intelligence by itself is jumping from simple AI to Super Human AI, it'd be beyond human intelligence to have our intelligence on our own\", 'Artificial Intelligence, Inspiration, Plagiarism and Copyrights', 'A New Era Beckons as First Drug Is Created by AI', 'AI-Based Future beckons… Are You Ready?', 'AI could help to drastically speed up the discovery of new drugs. New AI system successfully identified six substances that block a certain enzyme responsible for fibrosis in just 3 weeks. Traditional methods can take 10 to 20 years doing similar job.', 'Do you agree with this list of top AI influencers? Is there anyone you think is not and should be on there?', 'Dynamic pricing through machine learning', 'Artificial Intelligence Without the Utopian Promise-land and Dystopian Armageddon', 'AI Can Learn a Lot Even from Single Cells', 'What Russian Chatbots Think About Us. A Russian experiment with AI-powered chatbots yields surprisingly sophisticated conversations — and a warning.', 'Data Science Specialization from John’s Hopkins University - Accelerate your career and income potential', 'Chinese “DeepFake” App Goes Viral, Renewing Concerns About Potential Misuse of Face-Swapping Tech', \"How YouTube is Addictive : YouTube's Recommendation System and how Videos Affect the Brain\", 'Sequence Learning in consciousness', 'How YouTube is Addictive: The Recommendation System and how Videos Affect our Brain', 'No, Artificial Intelligence Isn’t Coming After Copywriting Jobs', 'Clone a Voice in Five Seconds With This AI Toolbox', 'USPTO Issues a Request for Comments on Patents and Artificial Intelligence', 'Promising Marriage: The Fusion of 5G, IoT, and AI', 'Faiss, Annoy, hnsw or better NGT-oong?', \"Is there a chatbot that can scan an entire website's contents and then essentially act like a Q&A tool?\", 'Tersangka Hoaks Asrama Papua Ditahan Polisi ~ Update Info', 'Transformer with Python and TensorFlow 2.0 – Training', 'The recent trends in AI - AI Weekly - Issue #5 - New to ML section, Personal AI trainer, DistilBERT, Revisiting Bias-Variance', 'Say hi to TF-GAN, A lightweight GAN library for TensorFlow 2.0', 'Nick Bostrom- Superintelligence (AI, Drones, Govt Supercomputers, Cyborgs)', 'Why do people believe AI can become sentient?', 'Why AI Is Reading Your Resume and What Can You Do About It', 'What are some bad sides of Ai that has happened?', 'The best way to connect with leading AI experts in Palo Alto - MIT AI Conference - Discount Ends Midnight on 9/4', 'A.I. Apocalypse: More Myth Than Reality', 'Novel math could bring machine learning to the next level', \"Zao's deepfake app replaces faces in seconds\", 'How AI Can Improve Your B2B Sales And Marketing', 'Reinforcement Learning - LOL', '10 First Jobs that Will Be Eliminated by AI', 'This company has an AI that can review your insurance claim and answer it in minutes', 'AI Video Colourization Without References or Human Guidance', 'What Does Your Phone Know About You ? 📱', 'Jack Ma and Elon Musk debate AI', 'You use Python Environments with Conda ? here is how to manage them- part 2-', 'Elon Musk Vs Jack Ma: Thoughts on AI, Mars', 'Deep fakes: Zao, a free deepfake face-swapping app that’s able to to place your likeness into scenes from hundreds of movies and TV shows after uploading just a single photograph.', 'AI and Other Emerging Technologies Soon to Turn Traditional Nurses into Information Integrators', '5 Steps to Artificial General Intelligence', 'The most powerful person in Silicon Valley - Billionaire Masayoshi Son has the most audacious vision for an AI-powered utopia where machines control how we live', \"Do you think it should be illegal to train an AI to model someone's face (Deepfake) without their consent?\", 'In neural networks with a logistic regression you iterate over all the exampels to propagate, how does that work with linear regression?']\n"
     ]
    },
    {
     "data": {
      "text/html": [
       "<div>\n",
       "<style scoped>\n",
       "    .dataframe tbody tr th:only-of-type {\n",
       "        vertical-align: middle;\n",
       "    }\n",
       "\n",
       "    .dataframe tbody tr th {\n",
       "        vertical-align: top;\n",
       "    }\n",
       "\n",
       "    .dataframe thead th {\n",
       "        text-align: right;\n",
       "    }\n",
       "</style>\n",
       "<table border=\"1\" class=\"dataframe\">\n",
       "  <thead>\n",
       "    <tr style=\"text-align: right;\">\n",
       "      <th></th>\n",
       "      <th>id</th>\n",
       "      <th>title</th>\n",
       "      <th>comment_num</th>\n",
       "      <th>comments</th>\n",
       "      <th>score</th>\n",
       "      <th>created</th>\n",
       "      <th>body</th>\n",
       "    </tr>\n",
       "  </thead>\n",
       "  <tbody>\n",
       "    <tr>\n",
       "      <th>0</th>\n",
       "      <td>dbhpys</td>\n",
       "      <td>AI isn’t funny anymore</td>\n",
       "      <td>2</td>\n",
       "      <td>AI isn’t funny anymore. We probably need to st...</td>\n",
       "      <td>3</td>\n",
       "      <td>2019-10-01 06:27:47</td>\n",
       "      <td></td>\n",
       "    </tr>\n",
       "    <tr>\n",
       "      <th>1</th>\n",
       "      <td>dbfyex</td>\n",
       "      <td>What is a Chatbot -Top Ways AI is Impacting th...</td>\n",
       "      <td>0</td>\n",
       "      <td>What is a Chatbot Top Ways AI is Impacting the...</td>\n",
       "      <td>2</td>\n",
       "      <td>2019-10-01 04:31:43</td>\n",
       "      <td></td>\n",
       "    </tr>\n",
       "    <tr>\n",
       "      <th>2</th>\n",
       "      <td>dbfe2z</td>\n",
       "      <td>Peter Norvig - Artificial Intelligence: A Mode...</td>\n",
       "      <td>1</td>\n",
       "      <td>Peter Norvig Artificial Intelligence: A Modern...</td>\n",
       "      <td>12</td>\n",
       "      <td>2019-10-01 03:54:22</td>\n",
       "      <td></td>\n",
       "    </tr>\n",
       "    <tr>\n",
       "      <th>3</th>\n",
       "      <td>dbeyst</td>\n",
       "      <td>Picture Perfect Beauty Courtesy AI Makeup Artist</td>\n",
       "      <td>0</td>\n",
       "      <td>Picture Perfect Beauty Courtesy AI Makeup Artist.</td>\n",
       "      <td>3</td>\n",
       "      <td>2019-10-01 03:26:21</td>\n",
       "      <td></td>\n",
       "    </tr>\n",
       "    <tr>\n",
       "      <th>4</th>\n",
       "      <td>dbdwey</td>\n",
       "      <td>Spot's launch is a reality check on the curren...</td>\n",
       "      <td>0</td>\n",
       "      <td>Spot's launch is a reality check on the curren...</td>\n",
       "      <td>5</td>\n",
       "      <td>2019-10-01 02:14:15</td>\n",
       "      <td>Boston Dynamics launched its flagship Spot rob...</td>\n",
       "    </tr>\n",
       "  </tbody>\n",
       "</table>\n",
       "</div>"
      ],
      "text/plain": [
       "       id                                              title  comment_num  \\\n",
       "0  dbhpys                             AI isn’t funny anymore            2   \n",
       "1  dbfyex  What is a Chatbot -Top Ways AI is Impacting th...            0   \n",
       "2  dbfe2z  Peter Norvig - Artificial Intelligence: A Mode...            1   \n",
       "3  dbeyst   Picture Perfect Beauty Courtesy AI Makeup Artist            0   \n",
       "4  dbdwey  Spot's launch is a reality check on the curren...            0   \n",
       "\n",
       "                                            comments  score  \\\n",
       "0  AI isn’t funny anymore. We probably need to st...      3   \n",
       "1  What is a Chatbot Top Ways AI is Impacting the...      2   \n",
       "2  Peter Norvig Artificial Intelligence: A Modern...     12   \n",
       "3  Picture Perfect Beauty Courtesy AI Makeup Artist.      3   \n",
       "4  Spot's launch is a reality check on the curren...      5   \n",
       "\n",
       "              created                                               body  \n",
       "0 2019-10-01 06:27:47                                                     \n",
       "1 2019-10-01 04:31:43                                                     \n",
       "2 2019-10-01 03:54:22                                                     \n",
       "3 2019-10-01 03:26:21                                                     \n",
       "4 2019-10-01 02:14:15  Boston Dynamics launched its flagship Spot rob...  "
      ]
     },
     "metadata": {},
     "output_type": "display_data"
    },
    {
     "data": {
      "text/plain": [
       "583"
      ]
     },
     "metadata": {},
     "output_type": "display_data"
    }
   ],
   "source": [
    "subreddit_scrape = SubredditScraper('artificial', credentials, sort='hot', lim=1000, mode='w')\n",
    "\n",
    "sort, submissions, psaw_api = subreddit_scrape.get_submissions()\n",
    "display (sort, submissions, api)\n",
    "\n",
    "start_epoch=int(dt.datetime(2019, 9, 2).timestamp()) #Year, month, day\n",
    "end_epoch=int(dt.datetime(2019, 10, 1).timestamp())\n",
    "print (start_epoch)\n",
    "\n",
    "submissions = list(api.search_submissions(before=end_epoch,\n",
    "                                          after=start_epoch,\n",
    "                            subreddit='artificial',\n",
    "                            filter=['url','author', 'title', 'subreddit'],\n",
    "                            limit=1000))\n",
    "\n",
    "\n",
    "topics_dict = { \"id\":[],\n",
    "                \"title\":[],\n",
    "                \"comment_num\": [], \n",
    "                \"comments\":[],\n",
    "                \"score\":[],   \n",
    "                \"created\": [], \n",
    "                \"body\":[],\n",
    "                 \n",
    "              }\n",
    "\n",
    "for submission in submissions:\n",
    "    topics_dict[\"id\"].append(submission.id)\n",
    "    topics_dict[\"title\"].append(submission.title)\n",
    "    topics_dict[\"comment_num\"].append(submission.num_comments)\n",
    "    topics_dict[\"score\"].append(submission.score)\n",
    "    topics_dict[\"created\"].append(submission.created)\n",
    "    topics_dict[\"body\"].append(submission.selftext)\n",
    "print (topics_dict[\"title\"])\n",
    "\n",
    "for _id, x in zip(topics_dict[\"id\"], range(len(topics_dict[\"id\"])))  :\n",
    "    submission = reddit.submission(id= _id)\n",
    "#     print (\"************\",x)\n",
    "    #all 'MoreComments' objects will be replaced until there are none left, as long as they satisfy the threshold.\n",
    "    submission.comments.replace_more(limit=None)\n",
    "    text = topics_dict[\"title\"][x] + '.'\n",
    "    for top_level_comment in submission.comments:\n",
    "        #the body of the top level comments\n",
    "        text = text + \" \" + top_level_comment.body\n",
    "        for second_level_comment in top_level_comment.replies:\n",
    "            text = text + \" \" + second_level_comment.body\n",
    "    text = subreddit_scrape.clean_description(text)\n",
    "    topics_dict[\"comments\"].append(text)\n",
    "#     display (text) \n",
    "#     print (\"\")\n",
    "    \n",
    "    \n",
    "\n",
    "reddit_data_pd = pd.DataFrame(topics_dict)\n",
    "timestamp = reddit_data_pd[\"created\"].apply(get_date)\n",
    "reddit_data_pd['created'] = timestamp\n",
    "\n",
    "display (reddit_data_pd.head())\n",
    "display (reddit_data_pd.shape[0])\n",
    "reddit_data_pd.to_csv( \"./reddit_data_historic_Sep_2019.csv\", index = None, header=True)"
   ]
  },
  {
   "cell_type": "code",
   "execution_count": 552,
   "metadata": {
    "ExecuteTime": {
     "end_time": "2019-12-01T14:01:38.292693Z",
     "start_time": "2019-12-01T14:01:36.914684Z"
    },
    "scrolled": false
   },
   "outputs": [
    {
     "name": "stdout",
     "output_type": "stream",
     "text": [
      "recent len 4013\n",
      "recent unique 2826\n",
      "total len 9550\n",
      "total unique 7706\n",
      "8534\n",
      "7706\n",
      "[ 12   5  30  34  10  11  13   3  20  14   2   4  37  15  17   7  19  71\n",
      "   6  39   9  24   8  21  25  22  38  44 104 120  29  36  16  48  46  26\n",
      "  47  41  31  18  23  35  40  72  59  32  28 112  52  49  53  27  92  50\n",
      "  45  81  66  80  51  82  33  88 142  42  90  74  58  65  60  67  43  57\n",
      "  87 128  54  73  62  61  99  55  83  56  84]\n",
      "3660\n"
     ]
    },
    {
     "data": {
      "text/html": [
       "<div>\n",
       "<style scoped>\n",
       "    .dataframe tbody tr th:only-of-type {\n",
       "        vertical-align: middle;\n",
       "    }\n",
       "\n",
       "    .dataframe tbody tr th {\n",
       "        vertical-align: top;\n",
       "    }\n",
       "\n",
       "    .dataframe thead th {\n",
       "        text-align: right;\n",
       "    }\n",
       "</style>\n",
       "<table border=\"1\" class=\"dataframe\">\n",
       "  <thead>\n",
       "    <tr style=\"text-align: right;\">\n",
       "      <th></th>\n",
       "      <th>id</th>\n",
       "      <th>title</th>\n",
       "      <th>comment_num</th>\n",
       "      <th>comments</th>\n",
       "      <th>score</th>\n",
       "      <th>created</th>\n",
       "      <th>body</th>\n",
       "    </tr>\n",
       "  </thead>\n",
       "  <tbody>\n",
       "    <tr>\n",
       "      <th>3</th>\n",
       "      <td>alrasv</td>\n",
       "      <td>Original video + Stennifer Lawrscemi</td>\n",
       "      <td>12</td>\n",
       "      <td>Original video + Stennifer Lawrscemi. There's ...</td>\n",
       "      <td>86</td>\n",
       "      <td>2019-02-01 01:37:36</td>\n",
       "      <td>[deleted]</td>\n",
       "    </tr>\n",
       "    <tr>\n",
       "      <th>11</th>\n",
       "      <td>alp4h8</td>\n",
       "      <td>Robot that can ‘imagine itself' built by scien...</td>\n",
       "      <td>5</td>\n",
       "      <td>Robot that can ‘imagine itself' built by scien...</td>\n",
       "      <td>12</td>\n",
       "      <td>2019-01-31 21:48:58</td>\n",
       "      <td>NaN</td>\n",
       "    </tr>\n",
       "    <tr>\n",
       "      <th>18</th>\n",
       "      <td>almwcp</td>\n",
       "      <td>Conditions on StarCraft Supremacy and fair pla...</td>\n",
       "      <td>30</td>\n",
       "      <td>Conditions on StarCraft Supremacy and fair pla...</td>\n",
       "      <td>13</td>\n",
       "      <td>2019-01-31 15:59:05</td>\n",
       "      <td>NaN</td>\n",
       "    </tr>\n",
       "    <tr>\n",
       "      <th>21</th>\n",
       "      <td>all1yw</td>\n",
       "      <td>What is the next branch of math which will be ...</td>\n",
       "      <td>34</td>\n",
       "      <td>What is the next branch of math which will be ...</td>\n",
       "      <td>37</td>\n",
       "      <td>2019-01-31 12:06:47</td>\n",
       "      <td>We had logic, optimization and applied statist...</td>\n",
       "    </tr>\n",
       "    <tr>\n",
       "      <th>22</th>\n",
       "      <td>alkklt</td>\n",
       "      <td>Posted in /hardware, suggested I ask you guys....</td>\n",
       "      <td>10</td>\n",
       "      <td>Posted in /hardware, suggested I ask you guys....</td>\n",
       "      <td>1</td>\n",
       "      <td>2019-01-31 11:12:00</td>\n",
       "      <td>This has to be something that's been considere...</td>\n",
       "    </tr>\n",
       "    <tr>\n",
       "      <th>23</th>\n",
       "      <td>alk978</td>\n",
       "      <td>Will someone humor me and ELI5 why Alexa is so...</td>\n",
       "      <td>11</td>\n",
       "      <td>Will someone humor me and ELI5 why Alexa is so...</td>\n",
       "      <td>2</td>\n",
       "      <td>2019-01-31 10:37:03</td>\n",
       "      <td>Hello all,\\n\\n&amp;#x200B;\\n\\nI'm perfectly willin...</td>\n",
       "    </tr>\n",
       "    <tr>\n",
       "      <th>24</th>\n",
       "      <td>aliljx</td>\n",
       "      <td>A Step Closer to Self-Aware Machines</td>\n",
       "      <td>13</td>\n",
       "      <td>A Step Closer to Self Aware Machines. Interest...</td>\n",
       "      <td>44</td>\n",
       "      <td>2019-01-31 07:49:49</td>\n",
       "      <td>NaN</td>\n",
       "    </tr>\n",
       "    <tr>\n",
       "      <th>29</th>\n",
       "      <td>ald81z</td>\n",
       "      <td>Lastest machine learning methods applications ...</td>\n",
       "      <td>3</td>\n",
       "      <td>Lastest machine learning methods applications ...</td>\n",
       "      <td>7</td>\n",
       "      <td>2019-01-30 23:33:03</td>\n",
       "      <td>I wonder why none of the recent methods in rob...</td>\n",
       "    </tr>\n",
       "    <tr>\n",
       "      <th>40</th>\n",
       "      <td>alaftc</td>\n",
       "      <td>IBM releases Diversity in Faces, a dataset wit...</td>\n",
       "      <td>20</td>\n",
       "      <td>IBM releases Diversity in Faces, a dataset wit...</td>\n",
       "      <td>132</td>\n",
       "      <td>2019-01-30 16:43:41</td>\n",
       "      <td>NaN</td>\n",
       "    </tr>\n",
       "    <tr>\n",
       "      <th>43</th>\n",
       "      <td>al9di2</td>\n",
       "      <td>What if you set the goal of an AGI to earn mon...</td>\n",
       "      <td>14</td>\n",
       "      <td>What if you set the goal of an AGI to earn mon...</td>\n",
       "      <td>0</td>\n",
       "      <td>2019-01-30 14:15:48</td>\n",
       "      <td>Is there any way that could go wrong?</td>\n",
       "    </tr>\n",
       "  </tbody>\n",
       "</table>\n",
       "</div>"
      ],
      "text/plain": [
       "        id                                              title  comment_num  \\\n",
       "3   alrasv               Original video + Stennifer Lawrscemi           12   \n",
       "11  alp4h8  Robot that can ‘imagine itself' built by scien...            5   \n",
       "18  almwcp  Conditions on StarCraft Supremacy and fair pla...           30   \n",
       "21  all1yw  What is the next branch of math which will be ...           34   \n",
       "22  alkklt  Posted in /hardware, suggested I ask you guys....           10   \n",
       "23  alk978  Will someone humor me and ELI5 why Alexa is so...           11   \n",
       "24  aliljx               A Step Closer to Self-Aware Machines           13   \n",
       "29  ald81z  Lastest machine learning methods applications ...            3   \n",
       "40  alaftc  IBM releases Diversity in Faces, a dataset wit...           20   \n",
       "43  al9di2  What if you set the goal of an AGI to earn mon...           14   \n",
       "\n",
       "                                             comments  score  \\\n",
       "3   Original video + Stennifer Lawrscemi. There's ...     86   \n",
       "11  Robot that can ‘imagine itself' built by scien...     12   \n",
       "18  Conditions on StarCraft Supremacy and fair pla...     13   \n",
       "21  What is the next branch of math which will be ...     37   \n",
       "22  Posted in /hardware, suggested I ask you guys....      1   \n",
       "23  Will someone humor me and ELI5 why Alexa is so...      2   \n",
       "24  A Step Closer to Self Aware Machines. Interest...     44   \n",
       "29  Lastest machine learning methods applications ...      7   \n",
       "40  IBM releases Diversity in Faces, a dataset wit...    132   \n",
       "43  What if you set the goal of an AGI to earn mon...      0   \n",
       "\n",
       "                created                                               body  \n",
       "3   2019-02-01 01:37:36                                          [deleted]  \n",
       "11  2019-01-31 21:48:58                                                NaN  \n",
       "18  2019-01-31 15:59:05                                                NaN  \n",
       "21  2019-01-31 12:06:47  We had logic, optimization and applied statist...  \n",
       "22  2019-01-31 11:12:00  This has to be something that's been considere...  \n",
       "23  2019-01-31 10:37:03  Hello all,\\n\\n&#x200B;\\n\\nI'm perfectly willin...  \n",
       "24  2019-01-31 07:49:49                                                NaN  \n",
       "29  2019-01-30 23:33:03  I wonder why none of the recent methods in rob...  \n",
       "40  2019-01-30 16:43:41                                                NaN  \n",
       "43  2019-01-30 14:15:48              Is there any way that could go wrong?  "
      ]
     },
     "metadata": {},
     "output_type": "display_data"
    },
    {
     "data": {
      "text/html": [
       "<div>\n",
       "<style scoped>\n",
       "    .dataframe tbody tr th:only-of-type {\n",
       "        vertical-align: middle;\n",
       "    }\n",
       "\n",
       "    .dataframe tbody tr th {\n",
       "        vertical-align: top;\n",
       "    }\n",
       "\n",
       "    .dataframe thead th {\n",
       "        text-align: right;\n",
       "    }\n",
       "</style>\n",
       "<table border=\"1\" class=\"dataframe\">\n",
       "  <thead>\n",
       "    <tr style=\"text-align: right;\">\n",
       "      <th></th>\n",
       "      <th>id</th>\n",
       "      <th>title</th>\n",
       "      <th>comment_num</th>\n",
       "      <th>comments</th>\n",
       "      <th>score</th>\n",
       "      <th>created</th>\n",
       "      <th>body</th>\n",
       "    </tr>\n",
       "  </thead>\n",
       "  <tbody>\n",
       "  </tbody>\n",
       "</table>\n",
       "</div>"
      ],
      "text/plain": [
       "Empty DataFrame\n",
       "Columns: [id, title, comment_num, comments, score, created, body]\n",
       "Index: []"
      ]
     },
     "metadata": {},
     "output_type": "display_data"
    },
    {
     "data": {
      "text/plain": [
       "\"Robot that can ‘imagine itself' built by scientists. After digging around for a while, ( seems to be the article they're talking about. TL;DR: Show the robot thousands of different trajectories, train it to learn its kinematic structure, then use this model to complete a picking task (44% pick rate) and a hand writing task Very sensationalized article imo Yeah I was literally thinking after reading the headline, 'okay... What NN architecture did they use and how ling did it have to train on looking at pictures of itself?' 😂 nothing revolutionary, keep science writing off pop media Robots have been mapping environment around them for a while. About time, they figure out their dimensions and mechanical movement. wow that is a interesting development in robotics.\""
      ]
     },
     "metadata": {},
     "output_type": "display_data"
    }
   ],
   "source": [
    "data1 = pd.read_csv(\"./reddit_data_historic_Jan_2019.csv\") \n",
    "data2 = pd.read_csv(\"./reddit_data_historic_Feb_2019.csv\")\n",
    "data3 = pd.read_csv(\"./reddit_data_historic_Mar_2019.csv\")\n",
    "data4 = pd.read_csv(\"./reddit_data_historic_Apr_2019.csv\")\n",
    "data5 = pd.read_csv(\"./reddit_data_historic_May_2019.csv\")\n",
    "data6 = pd.read_csv(\"./reddit_data_historic_Jun_2019.csv\")\n",
    "data7 = pd.read_csv(\"./reddit_data_historic_Jul_2019.csv\")\n",
    "data8 = pd.read_csv(\"./reddit_data_historic_Aug_2019.csv\")\n",
    "data9 = pd.read_csv(\"./reddit_data_historic_Sep_2019.csv\")\n",
    "\n",
    "total = pd.concat([data1, data2, data3, data4, data5,data6, data7, data8, data9, total_recent])\n",
    "print (\"recent len\", total_recent.shape[0])\n",
    "print (\"recent unique\", len(total_recent.id.unique()))\n",
    "print (\"total len\",total.shape[0])\n",
    "print (\"total unique\",len(total.id.unique()))\n",
    "\n",
    "total.drop_duplicates(subset=None, keep='last', inplace=True)\n",
    "total.to_csv( \"./reddit_data_all.csv\", index = None, header=True)\n",
    "print (total.shape[0])\n",
    "print (len(total.id.unique()))\n",
    "\n",
    "total = total.loc[total['comment_num'] > 1]\n",
    "print (total['comment_num'].unique())\n",
    "print (total.shape[0])\n",
    "display(total.head(10))\n",
    "display(total.iloc[1:1])\n",
    "display(total.iloc[1][3])"
   ]
  },
  {
   "cell_type": "code",
   "execution_count": 550,
   "metadata": {
    "ExecuteTime": {
     "end_time": "2019-11-30T20:30:26.353739Z",
     "start_time": "2019-11-30T20:30:26.276959Z"
    }
   },
   "outputs": [
    {
     "data": {
      "text/html": [
       "<div>\n",
       "<style scoped>\n",
       "    .dataframe tbody tr th:only-of-type {\n",
       "        vertical-align: middle;\n",
       "    }\n",
       "\n",
       "    .dataframe tbody tr th {\n",
       "        vertical-align: top;\n",
       "    }\n",
       "\n",
       "    .dataframe thead th {\n",
       "        text-align: right;\n",
       "    }\n",
       "</style>\n",
       "<table border=\"1\" class=\"dataframe\">\n",
       "  <thead>\n",
       "    <tr style=\"text-align: right;\">\n",
       "      <th></th>\n",
       "      <th>id</th>\n",
       "      <th>title</th>\n",
       "      <th>comment_num</th>\n",
       "      <th>comments</th>\n",
       "      <th>score</th>\n",
       "      <th>created</th>\n",
       "      <th>body</th>\n",
       "    </tr>\n",
       "  </thead>\n",
       "  <tbody>\n",
       "  </tbody>\n",
       "</table>\n",
       "</div>"
      ],
      "text/plain": [
       "Empty DataFrame\n",
       "Columns: [id, title, comment_num, comments, score, created, body]\n",
       "Index: []"
      ]
     },
     "metadata": {},
     "output_type": "display_data"
    },
    {
     "data": {
      "text/plain": [
       "\"What is the next branch of math which will be rebranded as AI?. wait hold up when did logic enter the picture? Good old fashioned AI Back in the 1850's, when people automated syllogistic logic and produced mechanical machines that could work through syllogism problems. you'll have to dig through the references here, and all, if you want any real understanding, but the info is there for you. ( It was what Liebniz drew upon when he made boolean logic a thing, and the substratum of logical operators that underwrites all of computer science except maybe binary storage of information and related theories. enjoy. See knowledge base, knowledge representation. What a loaded, sour question... Why rebranded? Something happened between Leibniz, Descartes & Co and now. I really hate statements like 'AI/ML is really just X', X = {Linear Algebra; Applied Statistics; } You could have asked the question more productively as: Which branch of math is most under utilised / overlooked in current AI research? (or similar) Ikr? Sure the term is way overused, but if AI is just ____ , then why did we never see these results from researchers in the ____ field? It seems like the way math is combined and applied is what makes it AI Graph Theory Graphs have been used in knowledge representation formalisms for 50+ years. Graph theory is already well ingrained in the fabric of AI! I'm not sure if we'll see a re branding of it being AI itself, though... Relevant xkcd: Neural ordinary differential equations. Not necessarily a replacement but a new method of optimization Game theory. Maybe it won't be next, but it has to happen at some point in order to have consciousness. Reality is maths all the way down. Or is math reality all the way down? Geomatics Great post. Glad I am not the only one thinking the same thing. Everything is fucking AI. BTW, don't forget about bidding or auction systems like Vickrey. Can you show me a paper on CNN image recognition from mathematicians pre LeCun work? The logic of yours is not only childish, its stupid. By your logic, every profession should study math and nothing else. I'm not one for buzz words, but with the way things are going, it's looking more and more like intelligence is mostly applied mathematics. Doesn't matter if it first emerged organically through evolution. So a lot of fields of mathematics will come into play while we try to develop new intelligences. If you're an engineer who's specialized in designing CNC machines, it wouldn't be wrong to say you're involved in manufacturing. Those machines aren't only used in manufacturing, and there's also many other machines involved. But getting pedantic about it doesn't help anything. Don't worry it will take 2 more years before: addition gets absorbed. The real test is when will AI be identified as just a mildly interesting branch of stats? Spot on 👍 Actually i suspect more papers in future would have much of physics based formulations involving Lagrangians etc Are neural nets a branch of maths? I’ll second Category theory. Also topology. And expect a double down on logic(s) as we push in the “explainability” direction. I work in this space, mainly logic, optimisation and graph theory. My lab is heavily rebranding to artificial intelligence after being data science not long ago. I’m counting down until the next buzzword and another rebrand and lay off lol. what a troll. Downvote this. Matrix algebra\""
      ]
     },
     "metadata": {},
     "output_type": "display_data"
    },
    {
     "data": {
      "text/plain": [
       "\"We had logic, optimization and applied statistics/regression. What will be the next branch of math which we will call as part of AI?\\n\\n\\nI'm suspecting applied category theory\""
      ]
     },
     "metadata": {},
     "output_type": "display_data"
    }
   ],
   "source": [
    "display(total.iloc[1:1])\n",
    "display(total.iloc[3][3])\n",
    "display(total.iloc[3][6])"
   ]
  },
  {
   "cell_type": "markdown",
   "metadata": {},
   "source": [
    "# Google BigQuery Data Reddit - downloaded but not used\n",
    "https://towardsdatascience.com/scrape-reddit-data-using-python-and-google-bigquery-44180b579892"
   ]
  },
  {
   "cell_type": "code",
   "execution_count": 470,
   "metadata": {
    "ExecuteTime": {
     "end_time": "2019-11-30T13:46:16.668601Z",
     "start_time": "2019-11-30T13:46:16.577174Z"
    }
   },
   "outputs": [],
   "source": [
    "submissions = pd.read_csv(\"./submissions_0719.csv\")\n",
    "submissions1 = pd.read_csv(\"./comments_0719.csv\")\n",
    "comments = pd.read_csv(\"./comments.csv\")\n",
    "display (submissions.head())\n",
    "display(submissions.iloc[0][1])\n",
    "comments.drop_duplicates(subset=None, keep='first', inplace=True)\n",
    "print (comments.shape[0])\n",
    "print (len(comments.id.unique()))\n",
    "comments = comments.drop(comments[comments.body =='[removed]'].index)\n",
    "comments = comments.drop(comments[comments.body =='[deleted]'].index)\n",
    "comments = comments.drop(['id'], axis = 1)\n",
    "\n",
    "comments = comments.rename(columns={'parent_id': 'id'})\n",
    "display (comments.head())\n",
    "print (comments.shape[0])\n",
    "grouped = comments.groupby('parent_id')['body']\n",
    "\n",
    "display (grouped.tail(100))\n",
    "\n",
    "new = submissions.join(comments.set_index('id')[['body']], on='id')\n",
    "display (new.head())"
   ]
  }
 ],
 "metadata": {
  "hide_input": false,
  "kernelspec": {
   "display_name": "Python3.6 PyEnv",
   "language": "python",
   "name": "python3.6"
  },
  "language_info": {
   "codemirror_mode": {
    "name": "ipython",
    "version": 3
   },
   "file_extension": ".py",
   "mimetype": "text/x-python",
   "name": "python",
   "nbconvert_exporter": "python",
   "pygments_lexer": "ipython3",
   "version": "3.6.0"
  },
  "toc": {
   "base_numbering": 1,
   "nav_menu": {},
   "number_sections": true,
   "sideBar": true,
   "skip_h1_title": false,
   "title_cell": "Table of Contents",
   "title_sidebar": "Contents",
   "toc_cell": false,
   "toc_position": {},
   "toc_section_display": true,
   "toc_window_display": false
  },
  "varInspector": {
   "cols": {
    "lenName": 16,
    "lenType": 16,
    "lenVar": 40
   },
   "kernels_config": {
    "python": {
     "delete_cmd_postfix": "",
     "delete_cmd_prefix": "del ",
     "library": "var_list.py",
     "varRefreshCmd": "print(var_dic_list())"
    },
    "r": {
     "delete_cmd_postfix": ") ",
     "delete_cmd_prefix": "rm(",
     "library": "var_list.r",
     "varRefreshCmd": "cat(var_dic_list()) "
    }
   },
   "types_to_exclude": [
    "module",
    "function",
    "builtin_function_or_method",
    "instance",
    "_Feature"
   ],
   "window_display": true
  }
 },
 "nbformat": 4,
 "nbformat_minor": 2
}
