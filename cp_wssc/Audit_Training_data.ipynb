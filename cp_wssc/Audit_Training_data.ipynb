{
 "cells": [
  {
   "cell_type": "markdown",
   "metadata": {},
   "source": [
    "# UI to conduct a manual audit of the labels from conventions classifiers. \n",
    "\n",
    "\n",
    "# ***IF NOT USING BINDER - UNCHECK THE BOX***\n",
    "\n",
    "\n",
    "The output of the classifiers are stored to\n",
    "\n",
    "    -file 'audit_training_data.gz (which is a zipped pandas database) \n",
    "    -location: cp_wssc/Data/Iterative-models-building/Classification results/Conventions/\n",
    "\n",
    "The UI randomly displays an already classified sentence for the purpose of audit and correction\n",
    "\n",
    "Completed audits will be stored locally until the \"Save to GIT\" button is selected, in which case the tsv of audit will be stored to \n",
    "\n",
    "    - file 'audit_training_data-{gituser}{date}.tsv \n",
    "    -location: cp_wssc/Data/Iterative-models-building/Classification results/Conventions/Audited/\n",
    "\n",
    "Content of the Audited files may be coccat and added to the Train_Validate data.\n"
   ]
  },
  {
   "cell_type": "code",
   "execution_count": 18,
   "metadata": {
    "ExecuteTime": {
     "end_time": "2019-10-05T10:57:44.668103Z",
     "start_time": "2019-10-05T10:57:44.661172Z"
    }
   },
   "outputs": [],
   "source": [
    "import os\n",
    "import re\n",
    "import random\n",
    "import glob\n",
    "import pandas as pd\n",
    "import numpy as np\n",
    "from datetime import datetime\n",
    "from IPython.display import display, clear_output, HTML\n",
    "import base64\n",
    "import io\n",
    "import ipywidgets as widgets\n",
    "from ipywidgets import interact, interact_manual\n",
    "import base64\n",
    "from github import Github\n",
    "from github import InputGitTreeElement\n",
    "import requests\n",
    "import time"
   ]
  },
  {
   "cell_type": "code",
   "execution_count": 19,
   "metadata": {
    "ExecuteTime": {
     "end_time": "2019-10-05T10:57:48.643920Z",
     "start_time": "2019-10-05T10:57:48.632692Z"
    }
   },
   "outputs": [
    {
     "data": {
      "application/javascript": [
       "//To remove scroll from any output area and automatically extend the jupyter cell\n",
       "IPython.OutputArea.prototype._should_scroll = function(lines) {\n",
       "    return false;\n",
       "}\n"
      ],
      "text/plain": [
       "<IPython.core.display.Javascript object>"
      ]
     },
     "metadata": {},
     "output_type": "display_data"
    }
   ],
   "source": [
    "%%javascript\n",
    "//To remove scroll from any output area and automatically extend the jupyter cell\n",
    "IPython.OutputArea.prototype._should_scroll = function(lines) {\n",
    "    return false;\n",
    "}"
   ]
  },
  {
   "cell_type": "code",
   "execution_count": 20,
   "metadata": {
    "ExecuteTime": {
     "end_time": "2019-10-05T10:57:52.271251Z",
     "start_time": "2019-10-05T10:57:52.246204Z"
    },
    "scrolled": true
   },
   "outputs": [
    {
     "data": {
      "application/vnd.jupyter.widget-view+json": {
       "model_id": "c5f22367b3e443329b5610191ef3b991",
       "version_major": 2,
       "version_minor": 0
      },
      "text/plain": [
       "Checkbox(value=True, description='*MUST un-check thid box IF NOT running on binder', layout=Layout(width='500p…"
      ]
     },
     "metadata": {},
     "output_type": "display_data"
    },
    {
     "name": "stdout",
     "output_type": "stream",
     "text": [
      "\n",
      "....loading test tool\n",
      "./Data/Iterative-models-building/Classification results/Conventions/Audited/\n"
     ]
    }
   ],
   "source": [
    "FLAG__ON_BINDER = True\n",
    "FLAG__FROM_GIT = True\n",
    "\n",
    "my_style = {'description_width': 'initial'}\n",
    "my_layout = {'width': '500px'}\n",
    "my_layout_short = {'width': '300px'}\n",
    "\n",
    "box_binder = widgets.Checkbox(True, description='*MUST un-check thid box IF NOT running on binder', style = my_style, layout = my_layout)\n",
    "\n",
    "def update_box_binder(change):\n",
    "    global FLAG__ON_BINDER\n",
    "    global FILE_PATH\n",
    "    global DOWNLOAD_PATH\n",
    "    FILE_NAME = 'audit_training_data.gz'\n",
    "    FLAG__ON_BINDER = change['new']\n",
    "    \n",
    "    if (FLAG__ON_BINDER == True):\n",
    "        DOWNLOAD_PATH = '/home/jovyan/cp_wssc/Data/Iterative-models-building/Classification results/Conventions/'\n",
    "        DOWNLOAD_PATH = DOWNLOAD_PATH + FILE_NAME\n",
    "        FILE_PATH = '/home/jovyan/cp_wssc/Data/Iterative-models-building/Classification results/Conventions/Audited/'\n",
    "\n",
    "    else:\n",
    "        DOWNLOAD_PATH = './Data/Iterative-models-building/Classification results/Conventions/'\n",
    "        DOWNLOAD_PATH = DOWNLOAD_PATH + FILE_NAME\n",
    "        FILE_PATH = './Data/Iterative-models-building/Classification results/Conventions/Audited/'\n",
    "        if not os.path.exists(DOWNLOAD_PATH):\n",
    "            os.makedirs(DOWNLOAD_PATH)\n",
    "\n",
    "        if not os.path.exists(FILE_PATH):\n",
    "            os.makedirs(FILE_PATH)\n",
    "    print (FILE_PATH)\n",
    "   \n",
    "    \n",
    "box_binder.observe(update_box_binder, 'value')\n",
    "\n",
    "display(box_binder)\n",
    "print (\"\")\n",
    "print(\"....loading test tool\")"
   ]
  },
  {
   "cell_type": "code",
   "execution_count": 21,
   "metadata": {
    "ExecuteTime": {
     "end_time": "2019-10-05T10:57:55.787607Z",
     "start_time": "2019-10-05T10:57:55.778247Z"
    }
   },
   "outputs": [],
   "source": [
    "FILE_NAME = 'audit_training_data.gz'\n",
    "\n",
    "TOTAL_RECORDS_AUDITED = 0\n",
    "TOTAL_UNSAVED_AUDITS = 0\n",
    "LAST_SAVED = \"\"\n",
    "\n",
    "if FLAG__ON_BINDER == True:\n",
    "    DOWNLOAD_PATH = '/home/jovyan/cp_wssc/Data/Iterative-models-building/Classification results/Conventions/'\n",
    "    DOWNLOAD_PATH = DOWNLOAD_PATH + FILE_NAME\n",
    "    FILE_PATH = '/home/jovyan/cp_wssc/Data/Iterative-models-building/Classification results/Conventions/Audited/'\n",
    "    \n",
    "else:\n",
    "    DOWNLOAD_PATH = './Data/Iterative-models-building/Classification results/Conventions/'\n",
    "    DOWNLOAD_PATH = DOWNLOAD_PATH + FILE_NAME\n",
    "    FILE_PATH = './Data/Iterative-models-building/Classification results/Conventions/Audited/'\n",
    "    \n",
    "if FLAG__FROM_GIT == True:\n",
    "    DOWNLOAD_PATH = 'https://github.com/aideenf/AIVC/blob/master/cp_wssc/Data/Iterative-models-building/Classification%20results/Conventions/audit_training_data.gz?raw=true'\n",
    "    GIT_PUSH_PATH = 'cp_wssc/Data/Iterative-models-building/Classification results/Conventions/Audited/'    "
   ]
  },
  {
   "cell_type": "code",
   "execution_count": 22,
   "metadata": {
    "ExecuteTime": {
     "end_time": "2019-10-05T10:58:00.071487Z",
     "start_time": "2019-10-05T10:58:00.057617Z"
    },
    "scrolled": true
   },
   "outputs": [],
   "source": [
    "def retrieve_data_frame ():\n",
    "   \n",
    "    if FLAG__FROM_GIT == True:\n",
    "        # sep='\\t'  to specify tab seperated?\n",
    "        df = pd.read_csv(DOWNLOAD_PATH, error_bad_lines=False, compression='gzip', header=0, quotechar='\"')\n",
    "\n",
    "    if FLAG__FROM_GIT == False:\n",
    "        df = pd.read_csv(DOWNLOAD_PATH, sep='\\t')\n",
    "\n",
    "    df = df.drop(df.columns[0], axis=1)\n",
    "    #print(\"num of records with NaN\", df.isna().sum() )\n",
    "    #Drop any rows where there is 0 confidence value. \n",
    "    df = df.dropna(subset=['confidence_value'])\n",
    "    #if source is not specified, fill as other. \n",
    "    df['data_provenance'] = df.data_provenance.fillna('other')\n",
    "     #print(\"num of records with NaN\", df.isna().sum() )\n",
    "    row_to_edit = df.sample(n = 1)\n",
    "    index_number = 0 \n",
    "    print(\"data file loaded:\", len(df.index), \" rows\")\n",
    "    return df\n"
   ]
  },
  {
   "cell_type": "code",
   "execution_count": 23,
   "metadata": {
    "ExecuteTime": {
     "end_time": "2019-10-05T10:58:12.907131Z",
     "start_time": "2019-10-05T10:58:04.383159Z"
    },
    "scrolled": true
   },
   "outputs": [
    {
     "name": "stdout",
     "output_type": "stream",
     "text": [
      "data file loaded: 209073  rows\n"
     ]
    }
   ],
   "source": [
    "convention_sentences_df = []\n",
    "\n",
    "audited_df = pd.DataFrame(columns=['text', 'provenance', 'convention', 'old', 'new'])\n",
    "convention_sentences_df = retrieve_data_frame ()"
   ]
  },
  {
   "cell_type": "code",
   "execution_count": 35,
   "metadata": {
    "ExecuteTime": {
     "end_time": "2019-10-05T11:28:11.527797Z",
     "start_time": "2019-10-05T11:28:11.517800Z"
    }
   },
   "outputs": [
    {
     "data": {
      "text/plain": [
       "'Data to audit loaded from GitHub repo'"
      ]
     },
     "metadata": {},
     "output_type": "display_data"
    }
   ],
   "source": [
    "min_confidence = convention_sentences_df.confidence_value.min()\n",
    "if min_confidence < .01:\n",
    "    min_confidence = 0\n",
    "\n",
    "max_confidence = convention_sentences_df.confidence_value.max()\n",
    "display (\"Data to audit loaded from GitHub repo\")"
   ]
  },
  {
   "cell_type": "code",
   "execution_count": 25,
   "metadata": {
    "ExecuteTime": {
     "end_time": "2019-10-05T10:58:20.930899Z",
     "start_time": "2019-10-05T10:58:20.897196Z"
    }
   },
   "outputs": [],
   "source": [
    "def time_stamp():\n",
    "    now = datetime.now()\n",
    "    timestamp = datetime.timestamp(now)\n",
    "    dt_object = datetime.fromtimestamp(timestamp)\n",
    "    words = str(dt_object).split(' ');\n",
    "    return words[0], words[1]\n",
    "\n",
    "def save_to_github(git_user, git_password, git_repo, my_file_list, push_to_git_as):\n",
    "    '''\n",
    "    in order to push a file to github it must first be stored locally, then pushed\n",
    "    this local location can also be local to a virtual machine. \n",
    "    takes: \n",
    "            git username, password, repo, \n",
    "            a list of files to push to git ie the full local location of file,\n",
    "            a matching list of paths to push each file to in Git hub \n",
    "    '''\n",
    "    user = git_user\n",
    "    password = git_password\n",
    "    url = git_repo\n",
    "    file_list = []  #push these list of files to git\n",
    "    file_names = [] #push to this location in git\n",
    "    \n",
    "    \n",
    "    try:\n",
    "        g = Github(user, password)\n",
    "        repo = g.get_user().get_repo(url)\n",
    "\n",
    "        file_list = my_file_list \n",
    "        file_names = push_to_git_as\n",
    "                 \n",
    "        commit_message = 'training data updated via the audit tool'\n",
    "    \n",
    "        master_ref = repo.get_git_ref('heads/master')\n",
    "        master_sha = master_ref.object.sha\n",
    "        base_tree = repo.get_git_tree(master_sha)\n",
    "        element_list = list()\n",
    "\n",
    "        for i, entry in enumerate(file_list):\n",
    "            print (\"file to commit:\", entry)\n",
    "            \n",
    "            with open(entry) as input_file:\n",
    "                #data = input_file.read()   #works with non zip file\n",
    "                data = base64.b64encode(open(entry, \"rb\").read())\n",
    "                \n",
    "            if entry.endswith('.png'):\n",
    "                data = base64.b64encode(data) \n",
    "                \n",
    "\n",
    "            blob = repo.create_git_blob(data.decode(\"utf-8\"), \"base64\")\n",
    "            element = InputGitTreeElement(path=file_names[i], mode='100644', type='blob', sha=blob.sha)\n",
    "\n",
    "            #push to git as file_names[i]\n",
    "            print (\"push to git as:\", file_names[i])\n",
    "            \n",
    "            #element = InputGitTreeElement(file_names[i], '100644', 'blob', data)\n",
    "            \n",
    "            #element_list is a list of InputGitTreeElement. \n",
    "            #Each one corresponds to a file. \n",
    "            # the 'content' of InputGitTreeElement can only be of type 'str' or 'unicode'. \n",
    "            #When I load a file to memory I have type 'bytes'. \n",
    "            #What is the right way to encode those bytes to str or unicode to upload a .zip\n",
    "            element_list.append(element)   \n",
    "        \n",
    "        tree = repo.create_git_tree(element_list, base_tree)\n",
    "        parent = repo.get_git_commit(master_sha)\n",
    "        commit = repo.create_git_commit(commit_message, tree, [parent])\n",
    "        master_ref.edit(commit.sha)\n",
    "        return commit\n",
    "    except:\n",
    "        print(\"\")\n",
    "        print (\"GITHUB SUBMIT FAILED:\")\n",
    "        print (\"Are your github login credentials correct?\")\n",
    "        print (\"Are you a collaberator in the repo?\")\n",
    "        return \"error\"\n",
    "\n",
    "\n",
    "def save_to_github_not_zip(git_user, git_password, git_repo, my_file_list, push_to_git_as):\n",
    "    user = git_user\n",
    "    password = git_password\n",
    "    url = git_repo\n",
    "    file_list = []  #push these list of files to git\n",
    "    file_names = [] #push to this location in git\n",
    "    \n",
    "    try:\n",
    "        g = Github(user,password)\n",
    "        repo = g.get_user().get_repo(url)\n",
    "\n",
    "        file_list = my_file_list \n",
    "        file_names = push_to_git_as\n",
    "                 \n",
    "        commit_message = 'training data audited via the audit tool'\n",
    "    \n",
    "        master_ref = repo.get_git_ref('heads/master')\n",
    "        master_sha = master_ref.object.sha\n",
    "        base_tree = repo.get_git_tree(master_sha)\n",
    "        element_list = list()\n",
    "\n",
    "        for i, entry in enumerate(file_list):\n",
    "            with open(entry) as input_file:\n",
    "                data = input_file.read()\n",
    "            if entry.endswith('.png'):\n",
    "                data = base64.b64encode(data)\n",
    "                \n",
    "            print (\"file to commit:\", entry)\n",
    "            print (\"push to git as:\", file_names[i])\n",
    "            element = InputGitTreeElement(file_names[i], '100644', 'blob', data)\n",
    "            element_list.append(element)\n",
    "            \n",
    "        tree = repo.create_git_tree(element_list, base_tree)\n",
    "        parent = repo.get_git_commit(master_sha)\n",
    "        commit = repo.create_git_commit(commit_message, tree, [parent])\n",
    "        master_ref.edit(commit.sha)\n",
    "        return commit\n",
    "    except:\n",
    "        \n",
    "        print (\"GITHUB SUBMIT FAILED:\")\n",
    "        print (\"Are your github login credentials correct?\")\n",
    "        print (\"Are you a collaberator in the repo?\")\n",
    "    \n",
    "        return commit\n",
    "        \n"
   ]
  },
  {
   "cell_type": "code",
   "execution_count": 32,
   "metadata": {
    "ExecuteTime": {
     "end_time": "2019-10-05T11:08:21.950109Z",
     "start_time": "2019-10-05T11:08:21.618055Z"
    },
    "scrolled": true
   },
   "outputs": [],
   "source": [
    "\n",
    "\n",
    "selectHTML = widgets.HTML(\n",
    "            \"<h3><left>Apply Audit Filter</left></h3>\")\n",
    "\n",
    "\n",
    "saveHTML = widgets.HTML(\n",
    "            \"<h4><left>push changes to github</left></h4>\")\n",
    "\n",
    "space = widgets.Label('  ', layout=widgets.Layout(width='100%'))\n",
    "\n",
    "\n",
    "convention_drop_down = widgets.Dropdown(\n",
    "    options=['convention_civic', 'convention_domestic', 'convention_green', 'convention_industrial', 'convention_inspired', 'convention_market', 'convention_project', 'convention_renown'],\n",
    "    value='convention_civic',\n",
    "    description='Convention:',\n",
    "    disabled=False,\n",
    "    style = my_style,\n",
    "    layout = my_layout\n",
    ")\n",
    "\n",
    "source_drop_down = widgets.Dropdown(\n",
    "    options =  convention_sentences_df.data_provenance.unique(),\n",
    "    description='Data source:',\n",
    "     #value=None,\n",
    "    disabled=False,\n",
    "    style = my_style,\n",
    "    layout = my_layout\n",
    ")\n",
    "\n",
    "\n",
    "\n",
    "reclassify_drop_down = widgets.Dropdown(\n",
    "    options=['flip current', 'convention_civic', 'convention_domestic', 'convention_green', 'convention_industrial', 'convention_inspired', 'convention_market', 'convention_project', 'convention_renown'],\n",
    "    value='flip current',\n",
    "    description='Re-Classify:',\n",
    "    disabled=False,\n",
    "    style = my_style,\n",
    "    layout = my_layout\n",
    ")\n",
    "\n",
    "\n",
    "\n",
    "convention_true_false = widgets.Dropdown(\n",
    "    options=['True', 'False'],\n",
    "    value='True',\n",
    "    description='Logged as:',\n",
    "    disabled=False,\n",
    "    style = my_style,\n",
    "    layout = my_layout\n",
    ")\n",
    "\n",
    "confidence_score_slider_min = widgets.FloatSlider(\n",
    "    min=min_confidence, \n",
    "    max=max_confidence,\n",
    "    value = 0,\n",
    "    step = 0.1,\n",
    "    description='Min Confidence level:',\n",
    "    style = my_style,\n",
    "    layout = my_layout\n",
    "    )\n",
    "\n",
    "\n",
    "confidence_score_slider_max = widgets.FloatSlider(\n",
    "    min=min_confidence, \n",
    "    max=max_confidence, \n",
    "    value = max_confidence,\n",
    "    step = 0.1,\n",
    "    description='Max Confidence level:',\n",
    "    style = my_style,\n",
    "    layout = my_layout\n",
    "    )\n",
    "\n",
    "change_value_button = widgets.Button(\n",
    "            description='Re-Classify',\n",
    "            disabled=False,\n",
    "            button_style='',\n",
    "            tooltip='Click me',\n",
    "        )\n",
    "\n",
    "\n",
    "keep_value_button = widgets.Button(\n",
    "            description='Classified OK',\n",
    "            disabled=False,\n",
    "            button_style='',\n",
    "            tooltip='Click me',\n",
    "        )\n",
    "\n",
    "audit_next_button = widgets.Button(\n",
    "            description='Skip',\n",
    "            disabled=False,\n",
    "            button_style='',\n",
    "            tooltip='Click me',\n",
    "        )\n",
    "\n",
    "\n",
    "save_to_git_button = widgets.Button(\n",
    "            description='Save to GitHub',\n",
    "            disabled=False,\n",
    "            button_style='',\n",
    "            tooltip='Click me',\n",
    "        )\n",
    "\n",
    "\n",
    "\n",
    "\n",
    "user = widgets.Text(\n",
    "            description='GIT username',\n",
    "            disabled=False,\n",
    "            layout=my_layout_short,\n",
    "            tooltip='enter the new value name',\n",
    "            style = my_style\n",
    "        )\n",
    "\n",
    "\n",
    "pswd = widgets.Password(\n",
    "            description='GIT password',\n",
    "            disabled=False,\n",
    "            layout=my_layout_short,\n",
    "            tooltip='enter the new value name',\n",
    "            style = my_style\n",
    "        )\n",
    "\n",
    "\n",
    "\n",
    "def change_value_button_clicked(b):\n",
    "    global TOTAL_UNSAVED_AUDITS \n",
    "    global TOTAL_RECORDS_AUDITED \n",
    "    global index_number\n",
    "    global row_to_edit\n",
    "    global audited_df\n",
    "    global convention_sentences_df\n",
    "    \n",
    "    with output:\n",
    "        current_value = row_to_edit[convention_drop_down.value].values.astype(int)[0]\n",
    "        if (current_value == 1) :\n",
    "            new_value = 0\n",
    "            print (\"Changed from True to False(\", new_value,\")\")\n",
    "        elif (current_value == 0):\n",
    "            new_value = 1\n",
    "            print (\"Changed from False to(\", new_value,\")\")\n",
    "            \n",
    "        #convention_sentences_df[convention_drop_down.value][row_to_edit.index.values.astype(int)[0]] = new_value\n",
    "        #Add info to the dataframe of Audited\n",
    "        \n",
    "        #audited_df = pd.DataFrame(columns=['text', 'provenance', 'convention'])\n",
    "        text = row_to_edit.text.values.astype(str)[0]\n",
    "        prov = row_to_edit.data_provenance.values.astype(str)[0]\n",
    "        conv = convention_drop_down.value.replace('convention_', '')\n",
    "        \n",
    "        if (reclassify_drop_down.value != 'flip current'):\n",
    "            reclass = reclassify_drop_down.value.replace('convention_', '')\n",
    "            new_value = current_value\n",
    "            current_value = 0\n",
    "        else:\n",
    "            reclass = conv\n",
    "        \n",
    "        #audited_df = pd.DataFrame(columns=['text', 'provenance', 'convention', 'old', 'new'])\n",
    "        current = pd.DataFrame({'text': [text],\n",
    "                                'provenance': [prov],\n",
    "                                'convention': [reclass],\n",
    "                                'old': [current_value],\n",
    "                                'new': [new_value]\n",
    "                               })\n",
    "        audited_df = audited_df.append(current, sort=False, ignore_index=False)\n",
    "        \n",
    "        with output:\n",
    "\n",
    "            print (\"change saved locally in data frame\")\n",
    "            TOTAL_UNSAVED_AUDITS = TOTAL_UNSAVED_AUDITS + 1\n",
    "            TOTAL_RECORDS_AUDITED = TOTAL_RECORDS_AUDITED + 1\n",
    "            time.sleep(1) \n",
    "            clear_output(wait=True)\n",
    "            output_function(convention_drop_down.value, confidence_score_slider_min.value, confidence_score_slider_max.value, source_drop_down.value )\n",
    "\n",
    "\n",
    "def keep_value_button_clicked(b):\n",
    "    global row_to_edit\n",
    "    global audited_df\n",
    "    global TOTAL_UNSAVED_AUDITS \n",
    "    global TOTAL_RECORDS_AUDITED \n",
    "    with output:\n",
    "        clear_output(wait=True)\n",
    "        text = row_to_edit.text.values.astype(str)[0]\n",
    "        prov = row_to_edit.data_provenance.values.astype(str)[0]\n",
    "        conv = convention_drop_down.value.replace('convention_', '')\n",
    "        current = pd.DataFrame({'text': [text],\n",
    "                                'provenance': [prov],\n",
    "                                'convention': [conv],\n",
    "                                'old': [1],\n",
    "                                'new': [1]\n",
    "                               })\n",
    "        audited_df = audited_df.append(current,sort=False,ignore_index=False)\n",
    "        TOTAL_UNSAVED_AUDITS = TOTAL_UNSAVED_AUDITS + 1\n",
    "        TOTAL_RECORDS_AUDITED = TOTAL_RECORDS_AUDITED + 1\n",
    "        output_function(convention_drop_down.value, confidence_score_slider_min.value, confidence_score_slider_max.value, source_drop_down.value )\n",
    "\n",
    "\n",
    "def audit_next_button_clicked(b):\n",
    "    with output:\n",
    "        clear_output(wait=True)\n",
    "        output_function(convention_drop_down.value, confidence_score_slider_min.value, confidence_score_slider_max.value, source_drop_down.value )\n",
    "\n",
    "\n",
    "def save_changes_to_github_button_clicked(b):\n",
    "    global TOTAL_UNSAVED_AUDITS \n",
    "    global convention_sentences_df\n",
    "    global LAST_SAVED\n",
    "    global FILE_PATH\n",
    "    global GIT_PUSH_PATH\n",
    "    global audited_df\n",
    "    GIT_USER = user.value\n",
    "    GIT_PSWD = pswd.value\n",
    "    GIT_REPO = 'AIVC'\n",
    "    D, T = time_stamp()\n",
    "    file_name = 'audited_training_data_'+ GIT_USER   + '_' + D+T +  '.tsv'\n",
    "    file_name_zip = 'audit_training_data_'+ GIT_USER + '_' + D+T +   '.gz'\n",
    "    \n",
    "    try:\n",
    "        audited_df.to_csv(FILE_PATH + file_name, sep = '\\t', index = False)\n",
    "    except (IOError, OSError) as e:\n",
    "        print (\"Are your settings correct for local machine v's binder?\", e)\n",
    "        return \"error\"\n",
    "        \n",
    "    my_file_list = [FILE_PATH + file_name]\n",
    "    push_to_git_as = [GIT_PUSH_PATH + file_name]\n",
    "    commit = save_to_github_not_zip(GIT_USER, GIT_PSWD, GIT_REPO, my_file_list, push_to_git_as)\n",
    "    if (commit != \"error\"):\n",
    "        with outputGitHub:\n",
    "            clear_output(wait=True)\n",
    "            display (\"File commited to github :\", push_to_git_as[0])\n",
    "            display (\"commit:\", commit)\n",
    "            TOTAL_UNSAVED_AUDITS = 0\n",
    "            D, T = time_stamp()\n",
    "            LAST_SAVED = D+T\n",
    "            display(audited_df.head(10))\n",
    "            display(audited_df.head(10))\n",
    "            audited_df = pd.DataFrame(columns=['text', 'provenance', 'convention', 'old', 'new'])\n",
    "    \n",
    "\n",
    "def output_function(convention_drop_down_value, confidence_score_slider_min_value, confidence_score_slider_max_value, source_drop_down_value ):\n",
    "    global convention_sentences_df\n",
    "    global row_to_edit\n",
    "    global index_number\n",
    "    global LAST_SAVED\n",
    "    global TOTAL_RECORDS_AUDITED\n",
    "    global TOTAL_UNSAVED_AUDIT\n",
    "    \n",
    "    reclassify_drop_down.value='flip current'\n",
    "    convention = convention_drop_down_value.replace('convention_', '')\n",
    "     \n",
    "    # Add a filter by > confidence score, maybe this needs to be a slider between two ranges(or two sliders) or a \n",
    "    # slider with 3 text values. Low, Middle, High. with low = a to x, middle x to y and high y to z\n",
    "        \n",
    "    #df.loc[(df[\"B\"] > 50) & (df[\"C\"] == 900), \"A\"]\n",
    "    try:\n",
    "        row_to_edit = convention_sentences_df.loc[(convention_sentences_df[convention_drop_down_value] == 1) &\n",
    "                                            (convention_sentences_df['data_provenance'] == source_drop_down_value) &\n",
    "                                            (convention_sentences_df['confidence_value'] >= confidence_score_slider_min_value) &\n",
    "                                            (convention_sentences_df['confidence_value'] <= confidence_score_slider_max_value)].sample(n = 1)  \n",
    "  \n",
    "    except ValueError:\n",
    "        \n",
    "        display(HTML(\"<font color='red'><b>Warning</b> \" + \"No data, please adjust filter:</font>\"))\n",
    "\n",
    "\n",
    "    \n",
    "    if not row_to_edit.empty:\n",
    "        row_to_edit = row_to_edit[['text', convention_drop_down_value, 'confidence_value', 'data_provenance']]\n",
    "        display (row_to_edit)\n",
    "        print (\"\")\n",
    "        sentence = row_to_edit['text'].values.astype(str)[0]\n",
    "        display(HTML(\"<b>Sentence to review: </b><font color='green'>\" + sentence + \"</font>\" ))\n",
    "        display(HTML(\"<b>Classified as: </b><font color='green'> \" + \"true\" + \"</font> for <font color='green'>\" +  convention + \" </font>economy of conventions\" ))\n",
    "        index_number = row_to_edit.index.values.astype(int)[0]\n",
    "        print(\"Total audited:\", TOTAL_RECORDS_AUDITED, \" Total unsaved:\", TOTAL_UNSAVED_AUDITS,\" Last Saved:\", LAST_SAVED )\n",
    "        TOTAL_UNSAVED_AUDITS\n",
    "    else:\n",
    "        print (\"No results, change search setting\")\n",
    "    \n",
    "    \n",
    "  \n",
    "output = widgets.interactive_output(output_function, {\n",
    "            'convention_drop_down_value': convention_drop_down,\n",
    "            'confidence_score_slider_min_value': confidence_score_slider_min,\n",
    "            'confidence_score_slider_max_value': confidence_score_slider_max,\n",
    "            'source_drop_down_value': source_drop_down\n",
    "            })\n",
    "\n",
    "outputGitHub = widgets.Output(layout={'border': '1px solid black'})\n",
    "\n",
    "change_value_button.on_click(change_value_button_clicked)\n",
    "keep_value_button.on_click(keep_value_button_clicked)\n",
    "audit_next_button.on_click(audit_next_button_clicked)\n",
    "save_to_git_button.on_click(save_changes_to_github_button_clicked)\n"
   ]
  },
  {
   "cell_type": "code",
   "execution_count": 33,
   "metadata": {
    "ExecuteTime": {
     "end_time": "2019-10-05T11:08:28.297100Z",
     "start_time": "2019-10-05T11:08:28.211765Z"
    },
    "scrolled": true
   },
   "outputs": [
    {
     "data": {
      "application/vnd.jupyter.widget-view+json": {
       "model_id": "457abd0ec87541fb990f5e4ed6f802b9",
       "version_major": 2,
       "version_minor": 0
      },
      "text/plain": [
       "Label(value='  ', layout=Layout(width='100%'))"
      ]
     },
     "metadata": {},
     "output_type": "display_data"
    },
    {
     "data": {
      "application/vnd.jupyter.widget-view+json": {
       "model_id": "8efa1883611b43c7894d8ba49d2b6ef2",
       "version_major": 2,
       "version_minor": 0
      },
      "text/plain": [
       "HTML(value='<h3><left>Apply Audit Filter</left></h3>')"
      ]
     },
     "metadata": {},
     "output_type": "display_data"
    },
    {
     "data": {
      "application/vnd.jupyter.widget-view+json": {
       "model_id": "8077fd24ff154e6c80cce37185017245",
       "version_major": 2,
       "version_minor": 0
      },
      "text/plain": [
       "Dropdown(description='Convention:', layout=Layout(width='500px'), options=('convention_civic', 'convention_dom…"
      ]
     },
     "metadata": {},
     "output_type": "display_data"
    },
    {
     "data": {
      "application/vnd.jupyter.widget-view+json": {
       "model_id": "d83ccff0a4d64524bf34fe6d762befc4",
       "version_major": 2,
       "version_minor": 0
      },
      "text/plain": [
       "Dropdown(description='Data source:', layout=Layout(width='500px'), options=('efficiency', 'HuffPost_News', 'ot…"
      ]
     },
     "metadata": {},
     "output_type": "display_data"
    },
    {
     "data": {
      "application/vnd.jupyter.widget-view+json": {
       "model_id": "922a96e46d664a63900b7b79c675ff0b",
       "version_major": 2,
       "version_minor": 0
      },
      "text/plain": [
       "FloatSlider(value=0.0, description='Min Confidence level:', layout=Layout(width='500px'), max=1.0, style=Slide…"
      ]
     },
     "metadata": {},
     "output_type": "display_data"
    },
    {
     "data": {
      "application/vnd.jupyter.widget-view+json": {
       "model_id": "fb254dff04ca42a29c5de3d834413716",
       "version_major": 2,
       "version_minor": 0
      },
      "text/plain": [
       "FloatSlider(value=1.0, description='Max Confidence level:', layout=Layout(width='500px'), max=1.0, style=Slide…"
      ]
     },
     "metadata": {},
     "output_type": "display_data"
    },
    {
     "data": {
      "application/vnd.jupyter.widget-view+json": {
       "model_id": "5cee414b4abf4c5f960b13f71678e135",
       "version_major": 2,
       "version_minor": 0
      },
      "text/plain": [
       "Output(outputs=({'output_type': 'display_data', 'data': {'text/plain': '                                      …"
      ]
     },
     "metadata": {},
     "output_type": "display_data"
    },
    {
     "data": {
      "application/vnd.jupyter.widget-view+json": {
       "model_id": "457abd0ec87541fb990f5e4ed6f802b9",
       "version_major": 2,
       "version_minor": 0
      },
      "text/plain": [
       "Label(value='  ', layout=Layout(width='100%'))"
      ]
     },
     "metadata": {},
     "output_type": "display_data"
    },
    {
     "data": {
      "application/vnd.jupyter.widget-view+json": {
       "model_id": "3d2ccf7b868c40c3965b3ade3e249fff",
       "version_major": 2,
       "version_minor": 0
      },
      "text/plain": [
       "Dropdown(description='Re-Classify:', layout=Layout(width='500px'), options=('flip current', 'convention_civic'…"
      ]
     },
     "metadata": {},
     "output_type": "display_data"
    },
    {
     "data": {
      "application/vnd.jupyter.widget-view+json": {
       "model_id": "2ff49e34bab04a929288b0bf39bf1af1",
       "version_major": 2,
       "version_minor": 0
      },
      "text/plain": [
       "HBox(children=(Button(description='Re-Classify', style=ButtonStyle(), tooltip='Click me'), Button(description=…"
      ]
     },
     "metadata": {},
     "output_type": "display_data"
    },
    {
     "data": {
      "application/vnd.jupyter.widget-view+json": {
       "model_id": "457abd0ec87541fb990f5e4ed6f802b9",
       "version_major": 2,
       "version_minor": 0
      },
      "text/plain": [
       "Label(value='  ', layout=Layout(width='100%'))"
      ]
     },
     "metadata": {},
     "output_type": "display_data"
    },
    {
     "data": {
      "application/vnd.jupyter.widget-view+json": {
       "model_id": "30606161bed84eedb26d275697b81fdb",
       "version_major": 2,
       "version_minor": 0
      },
      "text/plain": [
       "HTML(value='<h4><left>push changes to github</left></h4>')"
      ]
     },
     "metadata": {},
     "output_type": "display_data"
    },
    {
     "data": {
      "application/vnd.jupyter.widget-view+json": {
       "model_id": "dddbf5fcf27a47df89a32c073f68b2e2",
       "version_major": 2,
       "version_minor": 0
      },
      "text/plain": [
       "HBox(children=(Text(value='', description='GIT username', layout=Layout(width='300px'), style=DescriptionStyle…"
      ]
     },
     "metadata": {},
     "output_type": "display_data"
    },
    {
     "data": {
      "application/vnd.jupyter.widget-view+json": {
       "model_id": "e0fadedab9c34589b39ec60f6f1867f2",
       "version_major": 2,
       "version_minor": 0
      },
      "text/plain": [
       "Button(description='Save to GitHub', style=ButtonStyle(), tooltip='Click me')"
      ]
     },
     "metadata": {},
     "output_type": "display_data"
    },
    {
     "data": {
      "application/vnd.jupyter.widget-view+json": {
       "model_id": "457abd0ec87541fb990f5e4ed6f802b9",
       "version_major": 2,
       "version_minor": 0
      },
      "text/plain": [
       "Label(value='  ', layout=Layout(width='100%'))"
      ]
     },
     "metadata": {},
     "output_type": "display_data"
    },
    {
     "data": {
      "application/vnd.jupyter.widget-view+json": {
       "model_id": "6f0c25931f6b4111bce7a5c4fc4f638e",
       "version_major": 2,
       "version_minor": 0
      },
      "text/plain": [
       "Output(layout=Layout(border='1px solid black'))"
      ]
     },
     "metadata": {},
     "output_type": "display_data"
    },
    {
     "data": {
      "application/vnd.jupyter.widget-view+json": {
       "model_id": "457abd0ec87541fb990f5e4ed6f802b9",
       "version_major": 2,
       "version_minor": 0
      },
      "text/plain": [
       "Label(value='  ', layout=Layout(width='100%'))"
      ]
     },
     "metadata": {},
     "output_type": "display_data"
    },
    {
     "name": "stdout",
     "output_type": "stream",
     "text": [
      "file to commit: ./Data/Iterative-models-building/Classification results/Conventions/Audited/audited_training_data_aideenf_2019-10-0513:08:47.225154.tsv\n",
      "push to git as: cp_wssc/Data/Iterative-models-building/Classification results/Conventions/Audited/audited_training_data_aideenf_2019-10-0513:08:47.225154.tsv\n"
     ]
    }
   ],
   "source": [
    "display (\n",
    "        space,\n",
    "        selectHTML,\n",
    "        convention_drop_down, \n",
    "        source_drop_down, \n",
    "        confidence_score_slider_min, \n",
    "          confidence_score_slider_max, \n",
    "        output, \n",
    "        space,\n",
    "        reclassify_drop_down,\n",
    "        widgets.HBox([change_value_button, keep_value_button, audit_next_button]),\n",
    "        space,\n",
    "        saveHTML,\n",
    "        widgets.HBox([user, pswd]),\n",
    "        save_to_git_button,\n",
    "        space,\n",
    "        outputGitHub,\n",
    "        space,\n",
    "    )"
   ]
  },
  {
   "cell_type": "code",
   "execution_count": null,
   "metadata": {},
   "outputs": [],
   "source": []
  },
  {
   "cell_type": "code",
   "execution_count": null,
   "metadata": {},
   "outputs": [],
   "source": []
  }
 ],
 "metadata": {
  "kernelspec": {
   "display_name": "Python 3",
   "language": "python",
   "name": "python3"
  },
  "language_info": {
   "codemirror_mode": {
    "name": "ipython",
    "version": 3
   },
   "file_extension": ".py",
   "mimetype": "text/x-python",
   "name": "python",
   "nbconvert_exporter": "python",
   "pygments_lexer": "ipython3",
   "version": "3.6.0"
  },
  "toc": {
   "base_numbering": 1,
   "nav_menu": {},
   "number_sections": true,
   "sideBar": true,
   "skip_h1_title": false,
   "title_cell": "Table of Contents",
   "title_sidebar": "Contents",
   "toc_cell": false,
   "toc_position": {},
   "toc_section_display": true,
   "toc_window_display": false
  },
  "varInspector": {
   "cols": {
    "lenName": 16,
    "lenType": 16,
    "lenVar": 40
   },
   "kernels_config": {
    "python": {
     "delete_cmd_postfix": "",
     "delete_cmd_prefix": "del ",
     "library": "var_list.py",
     "varRefreshCmd": "print(var_dic_list())"
    },
    "r": {
     "delete_cmd_postfix": ") ",
     "delete_cmd_prefix": "rm(",
     "library": "var_list.r",
     "varRefreshCmd": "cat(var_dic_list()) "
    }
   },
   "types_to_exclude": [
    "module",
    "function",
    "builtin_function_or_method",
    "instance",
    "_Feature"
   ],
   "window_display": true
  }
 },
 "nbformat": 4,
 "nbformat_minor": 2
}
