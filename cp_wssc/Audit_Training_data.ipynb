{
 "cells": [
  {
   "cell_type": "code",
   "execution_count": 51,
   "metadata": {
    "ExecuteTime": {
     "end_time": "2019-10-03T01:02:51.504166Z",
     "start_time": "2019-10-03T01:02:51.497462Z"
    }
   },
   "outputs": [],
   "source": [
    "import os\n",
    "import re\n",
    "import random\n",
    "import glob\n",
    "import pandas as pd\n",
    "import numpy as np\n",
    "from datetime import datetime\n",
    "from IPython.display import display, clear_output, HTML\n",
    "import base64\n",
    "import io\n",
    "import ipywidgets as widgets\n",
    "from ipywidgets import interact, interact_manual\n",
    "import base64\n",
    "from github import Github\n",
    "from github import InputGitTreeElement\n",
    "import requests"
   ]
  },
  {
   "cell_type": "code",
   "execution_count": 52,
   "metadata": {
    "ExecuteTime": {
     "end_time": "2019-10-03T01:02:52.468179Z",
     "start_time": "2019-10-03T01:02:52.457479Z"
    }
   },
   "outputs": [
    {
     "data": {
      "application/javascript": [
       "//To remove scroll from any output area and automatically extend the jupyter cell\n",
       "IPython.OutputArea.prototype._should_scroll = function(lines) {\n",
       "    return false;\n",
       "}\n"
      ],
      "text/plain": [
       "<IPython.core.display.Javascript object>"
      ]
     },
     "metadata": {},
     "output_type": "display_data"
    }
   ],
   "source": [
    "%%javascript\n",
    "//To remove scroll from any output area and automatically extend the jupyter cell\n",
    "IPython.OutputArea.prototype._should_scroll = function(lines) {\n",
    "    return false;\n",
    "}"
   ]
  },
  {
   "cell_type": "code",
   "execution_count": 44,
   "metadata": {
    "ExecuteTime": {
     "end_time": "2019-10-03T01:00:56.159975Z",
     "start_time": "2019-10-03T01:00:56.126692Z"
    },
    "scrolled": false
   },
   "outputs": [
    {
     "data": {
      "application/vnd.jupyter.widget-view+json": {
       "model_id": "cac001b3a5984ef08d82fc7f3e9b2ce9",
       "version_major": 2,
       "version_minor": 0
      },
      "text/plain": [
       "Checkbox(value=False, description='Running on binder')"
      ]
     },
     "metadata": {},
     "output_type": "display_data"
    }
   ],
   "source": [
    "FLAG__ON_BINDER = False\n",
    "box_binder = widgets.Checkbox(False, description='Running on binder')\n",
    "\n",
    "def update_box_binder(change):\n",
    "    global FLAG__ON_BINDER\n",
    "    FLAG__ON_BINDER = change['new']\n",
    "\n",
    "box_binder.observe(update_box_binder, 'value')\n",
    "\n",
    "display(box_binder)"
   ]
  },
  {
   "cell_type": "code",
   "execution_count": 45,
   "metadata": {
    "ExecuteTime": {
     "end_time": "2019-10-03T01:00:56.796697Z",
     "start_time": "2019-10-03T01:00:56.786090Z"
    }
   },
   "outputs": [
    {
     "name": "stdout",
     "output_type": "stream",
     "text": [
      ".\n"
     ]
    }
   ],
   "source": [
    "if FLAG__ON_BINDER == True:\n",
    "    ROOT_DIR = \"/home/jovyan/cp_wssc\"\n",
    "else:\n",
    "    ROOT_DIR = \".\"\n",
    "    \n",
    "print (ROOT_DIR)"
   ]
  },
  {
   "cell_type": "code",
   "execution_count": 46,
   "metadata": {
    "ExecuteTime": {
     "end_time": "2019-10-03T01:00:57.299621Z",
     "start_time": "2019-10-03T01:00:57.292576Z"
    }
   },
   "outputs": [],
   "source": [
    "TRAINING_DATA_DIR =  ROOT_DIR + \"/Data/VALIDATED_DATA/Conventions/training_data/\""
   ]
  },
  {
   "cell_type": "code",
   "execution_count": 47,
   "metadata": {
    "ExecuteTime": {
     "end_time": "2019-10-03T01:00:58.653527Z",
     "start_time": "2019-10-03T01:00:57.869628Z"
    }
   },
   "outputs": [
    {
     "data": {
      "text/html": [
       "<div>\n",
       "<style scoped>\n",
       "    .dataframe tbody tr th:only-of-type {\n",
       "        vertical-align: middle;\n",
       "    }\n",
       "\n",
       "    .dataframe tbody tr th {\n",
       "        vertical-align: top;\n",
       "    }\n",
       "\n",
       "    .dataframe thead th {\n",
       "        text-align: right;\n",
       "    }\n",
       "</style>\n",
       "<table border=\"1\" class=\"dataframe\">\n",
       "  <thead>\n",
       "    <tr style=\"text-align: right;\">\n",
       "      <th></th>\n",
       "      <th>sentence</th>\n",
       "      <th>provenance</th>\n",
       "      <th>convention_civic</th>\n",
       "      <th>convention_domestic</th>\n",
       "      <th>convention_green</th>\n",
       "      <th>convention_industrial</th>\n",
       "      <th>convention_inspired</th>\n",
       "      <th>convention_market</th>\n",
       "      <th>convention_project</th>\n",
       "      <th>convention_renown</th>\n",
       "    </tr>\n",
       "  </thead>\n",
       "  <tbody>\n",
       "    <tr>\n",
       "      <th>0</th>\n",
       "      <td>in view of the issues with the swagger codegen...</td>\n",
       "      <td>github</td>\n",
       "      <td>1</td>\n",
       "      <td>0</td>\n",
       "      <td>0</td>\n",
       "      <td>0</td>\n",
       "      <td>0</td>\n",
       "      <td>0</td>\n",
       "      <td>0</td>\n",
       "      <td>0</td>\n",
       "    </tr>\n",
       "    <tr>\n",
       "      <th>1</th>\n",
       "      <td>this is an easter egg concerned with the com...</td>\n",
       "      <td>github</td>\n",
       "      <td>1</td>\n",
       "      <td>0</td>\n",
       "      <td>0</td>\n",
       "      <td>0</td>\n",
       "      <td>0</td>\n",
       "      <td>0</td>\n",
       "      <td>0</td>\n",
       "      <td>0</td>\n",
       "    </tr>\n",
       "  </tbody>\n",
       "</table>\n",
       "</div>"
      ],
      "text/plain": [
       "                                            sentence provenance  \\\n",
       "0  in view of the issues with the swagger codegen...     github   \n",
       "1    this is an easter egg concerned with the com...     github   \n",
       "\n",
       "   convention_civic  convention_domestic  convention_green  \\\n",
       "0                 1                    0                 0   \n",
       "1                 1                    0                 0   \n",
       "\n",
       "   convention_industrial  convention_inspired  convention_market  \\\n",
       "0                      0                    0                  0   \n",
       "1                      0                    0                  0   \n",
       "\n",
       "   convention_project  convention_renown  \n",
       "0                   0                  0  \n",
       "1                   0                  0  "
      ]
     },
     "metadata": {},
     "output_type": "display_data"
    }
   ],
   "source": [
    "#Read training data file from github. \n",
    "url = 'https://raw.githubusercontent.com/aideenf/AIVC/master/cp_wssc/Data/VALIDATED_DATA/Conventions/training_data/training_data.csv'\n",
    "convention_sentences_df = pd.read_csv(url, error_bad_lines=False)\n",
    "#convention_sentences_df = pd.read_csv(TRAINING_DATA_DIR+'training_data.csv')\n",
    "convention_sentences_df = convention_sentences_df.drop(convention_sentences_df.columns[0], axis=1)\n",
    "row_to_edit = convention_sentences_df.sample(n = 1)\n",
    "index_number = 0\n",
    "display(convention_sentences_df.head(2))\n",
    "\n",
    "#Save a backup of the training-file in Github\n"
   ]
  },
  {
   "cell_type": "code",
   "execution_count": 48,
   "metadata": {
    "ExecuteTime": {
     "end_time": "2019-10-03T01:00:58.669555Z",
     "start_time": "2019-10-03T01:00:58.656042Z"
    }
   },
   "outputs": [],
   "source": [
    "def time_stamp():\n",
    "    now = datetime.now()\n",
    "    timestamp = datetime.timestamp(now)\n",
    "    dt_object = datetime.fromtimestamp(timestamp)\n",
    "    words = str(dt_object).split(' ');\n",
    "    return words[1]\n",
    "\n",
    "\n",
    "def save_to_github(my_user, my_password, repo_url, my_file_list, my_file_name_list):\n",
    "\n",
    "    user = my_user\n",
    "    password = my_password\n",
    "    url = repo_url\n",
    "    try:\n",
    "        g = Github(user,password)\n",
    "    \n",
    "        repo = g.get_user().get_repo(repo_url)\n",
    "\n",
    "        file_list = my_file_list \n",
    "        file_names = my_file_name_list\n",
    "                 \n",
    "        commit_message = 'training data updated via the audit tool'\n",
    "    \n",
    "        master_ref = repo.get_git_ref('heads/master')\n",
    "        master_sha = master_ref.object.sha\n",
    "        base_tree = repo.get_git_tree(master_sha)\n",
    "        element_list = list()\n",
    "\n",
    "        for i, entry in enumerate(file_list):\n",
    "            with open(entry) as input_file:\n",
    "                data = input_file.read()\n",
    "            if entry.endswith('.png'):\n",
    "                data = base64.b64encode(data)\n",
    "            element = InputGitTreeElement(file_names[i], '100644', 'blob', data)\n",
    "            element_list.append(element)\n",
    "        tree = repo.create_git_tree(element_list, base_tree)\n",
    "        parent = repo.get_git_commit(master_sha)\n",
    "        commit = repo.create_git_commit(commit_message, tree, [parent])\n",
    "        master_ref.edit(commit.sha)\n",
    "        print (commit)\n",
    "    except:\n",
    "        print(\"\")\n",
    "        print (\"GITHUB SUBMIT FAILED:\")\n",
    "        print (\"Are your github login credentials correct?\")\n",
    "        print (\"Are you a collaberator in the repo?\")\n",
    "\n"
   ]
  },
  {
   "cell_type": "code",
   "execution_count": 49,
   "metadata": {
    "ExecuteTime": {
     "end_time": "2019-10-03T01:00:58.838139Z",
     "start_time": "2019-10-03T01:00:58.673338Z"
    },
    "scrolled": true
   },
   "outputs": [],
   "source": [
    "my_style = {'description_width': 'initial'}\n",
    "my_layout = {'width': '500px'}\n",
    "my_layout_short = {'width': '300px'}\n",
    "\n",
    "selectHTML = widgets.HTML(\n",
    "            \"<h3><left>Apply Audit Filter</left></h3>\")\n",
    "\n",
    "space = widgets.Label('  ', layout=widgets.Layout(width='100%'))\n",
    "\n",
    "\n",
    "convention_drop_down = widgets.Dropdown(\n",
    "    options=['convention_civic', 'convention_domestic', 'convention_green', 'convention_industrial', 'convention_inspired', 'convention_market', 'convention_project', 'convention_renown'],\n",
    "    value='convention_civic',\n",
    "    description='Convention:',\n",
    "    disabled=False,\n",
    "    style = my_style,\n",
    "    layout = my_layout\n",
    ")\n",
    "\n",
    "reclassify_drop_down = widgets.Dropdown(\n",
    "    options=['flip current', 'convention_civic', 'convention_domestic', 'convention_green', 'convention_industrial', 'convention_inspired', 'convention_market', 'convention_project', 'convention_renown'],\n",
    "    value='flip current',\n",
    "    description='Re-Classify:',\n",
    "    disabled=False,\n",
    "    style = my_style,\n",
    "    layout = my_layout\n",
    ")\n",
    "\n",
    "convention_true_false = widgets.Dropdown(\n",
    "    options=['True', 'False'],\n",
    "    value='True',\n",
    "    description='Logged as:',\n",
    "    disabled=False,\n",
    "    style = my_style,\n",
    "    layout = my_layout\n",
    ")\n",
    "\n",
    "\n",
    "confidence_score_slider = widgets.FloatSlider(\n",
    "    min=0, \n",
    "    max=1, \n",
    "    step = 0.1,\n",
    "    description='Confidence level:',\n",
    "    style = my_style,\n",
    "    layout = my_layout\n",
    "    )\n",
    "\n",
    "\n",
    "change_value_button = widgets.Button(\n",
    "            description='Change Classification',\n",
    "            disabled=False,\n",
    "            button_style='',\n",
    "            tooltip='Click me',\n",
    "        )\n",
    "\n",
    "audit_next_button = widgets.Button(\n",
    "            description='Next',\n",
    "            disabled=False,\n",
    "            button_style='',\n",
    "            tooltip='Click me',\n",
    "        )\n",
    "\n",
    "\n",
    "save_to_git_button = widgets.Button(\n",
    "            description='Save to GitHub',\n",
    "            disabled=False,\n",
    "            button_style='',\n",
    "            tooltip='Click me',\n",
    "        )\n",
    "\n",
    "\n",
    "\n",
    "\n",
    "user = widgets.Text(\n",
    "            description='GIT username',\n",
    "            disabled=False,\n",
    "            layout=my_layout_short,\n",
    "            tooltip='enter the new value name',\n",
    "            style = my_style\n",
    "        )\n",
    "\n",
    "\n",
    "pswd = widgets.Password(\n",
    "            description='GIT password',\n",
    "            disabled=False,\n",
    "            layout=my_layout_short,\n",
    "            tooltip='enter the new value name',\n",
    "            style = my_style\n",
    "        )\n",
    "\n",
    "\n",
    "\n",
    "def change_value_button_clicked(b):\n",
    "    global index_number\n",
    "    global row_to_edit\n",
    "    global convention_sentences_df\n",
    "    with output:\n",
    "        current_value = row_to_edit[convention_drop_down.value].values.astype(int)\n",
    "        if (current_value == 1) :\n",
    "            new_value = 0\n",
    "            print (\"Changed from 1 to\", new_value)\n",
    "        elif (current_value == 0):\n",
    "            new_value = 1\n",
    "            print (\"Changed from 0 to\", new_value)\n",
    "        convention_sentences_df[convention_drop_down.value][row_to_edit.index.values.astype(int)[0]] = new_value\n",
    "        print (\"change saved locally in data frame\")\n",
    "        #display(convention_sentences_df.loc[index_number , : ])\n",
    "        \n",
    "\n",
    "def save_changes_to_github_button_clicked(b):\n",
    "    global convention_sentences_df\n",
    "    GIT_USER = user.value\n",
    "    GIT_PSWD = pswd.value\n",
    "    file = \"training_data.csv\"\n",
    "    save_file_as = 'cp_wssc/Data/VALIDATED_DATA/Conventions/training_data/' + file\n",
    "    path = TRAINING_DATA_DIR + file\n",
    "    git_repo = 'AIVC'\n",
    "    print (\"storing updated version to \", path)\n",
    "    convention_sentences_df.to_csv(path)\n",
    "    \n",
    "    print (\"pushing updated version to github \",git_repo, save_file_as)\n",
    "    \n",
    "    save_to_github(GIT_USER, \n",
    "                    GIT_PSWD,\n",
    "                    git_repo,\n",
    "                    [path],\n",
    "                    [save_file_as])\n",
    "  \n",
    "    \n",
    "\n",
    "def audit_next_button_clicked(b):\n",
    "        with output:\n",
    "            clear_output(wait=True)\n",
    "            output_function(convention_drop_down.value, confidence_score_slider.value, convention_true_false.value )\n",
    "\n",
    "\n",
    "\n",
    "def output_function(convention_drop_down_value, confidence_score_slider_value, convention_true_false_value ):\n",
    "    global convention_sentences_df\n",
    "    global row_to_edit\n",
    "    global index_number\n",
    "    convention = convention_drop_down_value.replace('convention_', '')\n",
    "    \n",
    "    if (convention_true_false_value == \"True\"):\n",
    "        \n",
    "        row_to_edit = convention_sentences_df.loc[convention_sentences_df[convention_drop_down_value] == 1].sample(n = 1)  \n",
    "    \n",
    "    elif (convention_true_false_value == \"False\"):\n",
    "        row_to_edit = convention_sentences_df.loc[convention_sentences_df[convention_drop_down_value] == 0].sample(n = 1)  \n",
    "    \n",
    "    row_to_edit = row_to_edit[['sentence', convention_drop_down_value]]\n",
    "    display (row_to_edit)\n",
    "    print (\"\")\n",
    "    sentence = row_to_edit['sentence'].values.astype(str)[0]\n",
    "    display(HTML(\"<b>Sentence to review: </b><font color='green'>\" + sentence + \"</font>\" ))\n",
    "    display(HTML(\"<b>Classified as: </b><font color='green'> \" + convention_true_false_value + \"</font> for <font color='green'>\" +  convention + \" </font>economy of conventions\" ))\n",
    "    index_number = row_to_edit.index.values.astype(int)[0]\n",
    "  \n",
    "output = widgets.interactive_output(output_function, {\n",
    "            'convention_drop_down_value': convention_drop_down,\n",
    "            'confidence_score_slider_value': confidence_score_slider,\n",
    "            'convention_true_false_value': convention_true_false\n",
    "            })\n",
    "\n",
    "change_value_button.on_click(change_value_button_clicked)\n",
    "audit_next_button.on_click(audit_next_button_clicked)\n",
    "save_to_git_button.on_click(save_changes_to_github_button_clicked)\n"
   ]
  },
  {
   "cell_type": "code",
   "execution_count": 50,
   "metadata": {
    "ExecuteTime": {
     "end_time": "2019-10-03T01:01:00.254666Z",
     "start_time": "2019-10-03T01:01:00.168195Z"
    },
    "scrolled": true
   },
   "outputs": [
    {
     "data": {
      "application/vnd.jupyter.widget-view+json": {
       "model_id": "f70d684e5b8e49f983175c02ad78b729",
       "version_major": 2,
       "version_minor": 0
      },
      "text/plain": [
       "Label(value='  ', layout=Layout(width='100%'))"
      ]
     },
     "metadata": {},
     "output_type": "display_data"
    },
    {
     "data": {
      "application/vnd.jupyter.widget-view+json": {
       "model_id": "ca4db3f1b1d14a71848bd4a5e5b1ea6d",
       "version_major": 2,
       "version_minor": 0
      },
      "text/plain": [
       "HTML(value='<h3><left>Apply Audit Filter</left></h3>')"
      ]
     },
     "metadata": {},
     "output_type": "display_data"
    },
    {
     "data": {
      "application/vnd.jupyter.widget-view+json": {
       "model_id": "ca760a0087e34e91aacfb91f78c223de",
       "version_major": 2,
       "version_minor": 0
      },
      "text/plain": [
       "Dropdown(description='Convention:', layout=Layout(width='500px'), options=('convention_civic', 'convention_dom…"
      ]
     },
     "metadata": {},
     "output_type": "display_data"
    },
    {
     "data": {
      "application/vnd.jupyter.widget-view+json": {
       "model_id": "cb993bcb96454abb87a61fa04f3f1876",
       "version_major": 2,
       "version_minor": 0
      },
      "text/plain": [
       "Dropdown(description='Logged as:', layout=Layout(width='500px'), options=('True', 'False'), style=DescriptionS…"
      ]
     },
     "metadata": {},
     "output_type": "display_data"
    },
    {
     "data": {
      "application/vnd.jupyter.widget-view+json": {
       "model_id": "a3ff0e86376d4d4887fc347c1952de23",
       "version_major": 2,
       "version_minor": 0
      },
      "text/plain": [
       "FloatSlider(value=0.0, description='Confidence level:', layout=Layout(width='500px'), max=1.0, style=SliderSty…"
      ]
     },
     "metadata": {},
     "output_type": "display_data"
    },
    {
     "data": {
      "application/vnd.jupyter.widget-view+json": {
       "model_id": "bb82a2dc69c440459ef3ba2fd74600ea",
       "version_major": 2,
       "version_minor": 0
      },
      "text/plain": [
       "Output()"
      ]
     },
     "metadata": {},
     "output_type": "display_data"
    },
    {
     "data": {
      "application/vnd.jupyter.widget-view+json": {
       "model_id": "f70d684e5b8e49f983175c02ad78b729",
       "version_major": 2,
       "version_minor": 0
      },
      "text/plain": [
       "Label(value='  ', layout=Layout(width='100%'))"
      ]
     },
     "metadata": {},
     "output_type": "display_data"
    },
    {
     "data": {
      "application/vnd.jupyter.widget-view+json": {
       "model_id": "44054b3f961b4255a3878109f35cffaf",
       "version_major": 2,
       "version_minor": 0
      },
      "text/plain": [
       "Dropdown(description='Re-Classify:', layout=Layout(width='500px'), options=('flip current', 'convention_civic'…"
      ]
     },
     "metadata": {},
     "output_type": "display_data"
    },
    {
     "data": {
      "application/vnd.jupyter.widget-view+json": {
       "model_id": "0d49335cd3e84851963ef62bcb8a9b7c",
       "version_major": 2,
       "version_minor": 0
      },
      "text/plain": [
       "HBox(children=(Button(description='Change Classification', style=ButtonStyle(), tooltip='Click me'), Button(de…"
      ]
     },
     "metadata": {},
     "output_type": "display_data"
    },
    {
     "data": {
      "application/vnd.jupyter.widget-view+json": {
       "model_id": "f70d684e5b8e49f983175c02ad78b729",
       "version_major": 2,
       "version_minor": 0
      },
      "text/plain": [
       "Label(value='  ', layout=Layout(width='100%'))"
      ]
     },
     "metadata": {},
     "output_type": "display_data"
    },
    {
     "data": {
      "application/vnd.jupyter.widget-view+json": {
       "model_id": "17212cef66654532bb2666197c971061",
       "version_major": 2,
       "version_minor": 0
      },
      "text/plain": [
       "HBox(children=(Button(description='Save to GitHub', style=ButtonStyle(), tooltip='Click me'), Text(value='', d…"
      ]
     },
     "metadata": {},
     "output_type": "display_data"
    },
    {
     "name": "stdout",
     "output_type": "stream",
     "text": [
      "storing updated version to  ./Data/VALIDATED_DATA/Conventions/training_data/training_data.csv\n",
      "pushing updated version to github  AIVC cp_wssc/Data/VALIDATED_DATA/Conventions/training_data/training_data.csv\n",
      "GitCommit(sha=\"7e6f21203c2699208105842ce6858fb101780a2e\")\n",
      "storing updated version to  ./Data/VALIDATED_DATA/Conventions/training_data/training_data.csv\n",
      "pushing updated version to github  AIVC cp_wssc/Data/VALIDATED_DATA/Conventions/training_data/training_data.csv\n",
      "GitCommit(sha=\"847d309cc48495216f174f089c5d421de70da1ba\")\n"
     ]
    }
   ],
   "source": [
    "display (\n",
    "        space,\n",
    "        selectHTML,\n",
    "        convention_drop_down, \n",
    "        convention_true_false, \n",
    "        confidence_score_slider, \n",
    "        output, \n",
    "        space,\n",
    "        reclassify_drop_down,\n",
    "        widgets.HBox([change_value_button, audit_next_button]),\n",
    "        space,\n",
    "        widgets.HBox([save_to_git_button, user, pswd]),\n",
    "    )"
   ]
  },
  {
   "cell_type": "code",
   "execution_count": null,
   "metadata": {},
   "outputs": [],
   "source": []
  }
 ],
 "metadata": {
  "kernelspec": {
   "display_name": "Python 3",
   "language": "python",
   "name": "python3"
  },
  "language_info": {
   "codemirror_mode": {
    "name": "ipython",
    "version": 3
   },
   "file_extension": ".py",
   "mimetype": "text/x-python",
   "name": "python",
   "nbconvert_exporter": "python",
   "pygments_lexer": "ipython3",
   "version": "3.6.0"
  },
  "toc": {
   "base_numbering": 1,
   "nav_menu": {},
   "number_sections": true,
   "sideBar": true,
   "skip_h1_title": false,
   "title_cell": "Table of Contents",
   "title_sidebar": "Contents",
   "toc_cell": false,
   "toc_position": {},
   "toc_section_display": true,
   "toc_window_display": false
  },
  "varInspector": {
   "cols": {
    "lenName": 16,
    "lenType": 16,
    "lenVar": 40
   },
   "kernels_config": {
    "python": {
     "delete_cmd_postfix": "",
     "delete_cmd_prefix": "del ",
     "library": "var_list.py",
     "varRefreshCmd": "print(var_dic_list())"
    },
    "r": {
     "delete_cmd_postfix": ") ",
     "delete_cmd_prefix": "rm(",
     "library": "var_list.r",
     "varRefreshCmd": "cat(var_dic_list()) "
    }
   },
   "types_to_exclude": [
    "module",
    "function",
    "builtin_function_or_method",
    "instance",
    "_Feature"
   ],
   "window_display": true
  }
 },
 "nbformat": 4,
 "nbformat_minor": 2
}
