{
 "cells": [
  {
   "cell_type": "markdown",
   "metadata": {},
   "source": [
    "# UI to conduct a manual audit of the labels from conventions classifiers. \n",
    "\n",
    "\n",
    "# ***IF NOT USING BINDER - UNCHECK THE BOX***\n",
    "\n",
    "\n",
    "The output of the classifiers are stored to\n",
    "\n",
    "    -file 'audit_training_data.gz (which is a zipped pandas database) \n",
    "    -location: cp_wssc/Data/Iterative-models-building/Classification results/Conventions/\n",
    "\n",
    "The UI randomly displays an already classified sentence for the purpose of audit and correction\n",
    "\n",
    "Completed audits will be stored locally until the \"Save to GIT\" button is selected, in which case the tsv of audit will be stored to \n",
    "\n",
    "    - file 'audit_training_data-{gituser}{date}.tsv \n",
    "    -location: cp_wssc/Data/Iterative-models-building/Classification results/Conventions/Audited/\n",
    "\n",
    "Content of the Audited files may be coccat and added to the Train_Validate data.\n"
   ]
  },
  {
   "cell_type": "code",
   "execution_count": 1,
   "metadata": {
    "ExecuteTime": {
     "end_time": "2019-10-08T12:12:14.046823Z",
     "start_time": "2019-10-08T12:12:12.700370Z"
    }
   },
   "outputs": [],
   "source": [
    "import os\n",
    "import re\n",
    "import random\n",
    "import glob\n",
    "import pandas as pd\n",
    "import numpy as np\n",
    "from datetime import datetime\n",
    "from IPython.display import display, clear_output, HTML, Image\n",
    "import base64\n",
    "import io\n",
    "import ipywidgets as widgets\n",
    "from ipywidgets import interact, interact_manual\n",
    "import base64\n",
    "from github import Github, GithubException\n",
    "from github import InputGitTreeElement\n",
    "import requests\n",
    "import time\n",
    "from io import BytesIO\n",
    "from PIL import Image\n",
    "import urllib.request"
   ]
  },
  {
   "cell_type": "code",
   "execution_count": 2,
   "metadata": {
    "ExecuteTime": {
     "end_time": "2019-10-08T12:12:14.066653Z",
     "start_time": "2019-10-08T12:12:14.050982Z"
    }
   },
   "outputs": [
    {
     "data": {
      "application/javascript": [
       "//To remove scroll from any output area and automatically extend the jupyter cell\n",
       "IPython.OutputArea.prototype._should_scroll = function(lines) {\n",
       "    return false;\n",
       "}\n"
      ],
      "text/plain": [
       "<IPython.core.display.Javascript object>"
      ]
     },
     "metadata": {},
     "output_type": "display_data"
    }
   ],
   "source": [
    "%%javascript\n",
    "//To remove scroll from any output area and automatically extend the jupyter cell\n",
    "IPython.OutputArea.prototype._should_scroll = function(lines) {\n",
    "    return false;\n",
    "}"
   ]
  },
  {
   "cell_type": "code",
   "execution_count": 3,
   "metadata": {
    "ExecuteTime": {
     "end_time": "2019-10-08T12:12:14.078224Z",
     "start_time": "2019-10-08T12:12:14.071260Z"
    }
   },
   "outputs": [],
   "source": [
    "FLAG__ON_BINDER = True\n",
    "FLAG__FROM_GIT = True\n",
    "\n",
    "my_style = {'description_width': 'initial'}\n",
    "my_layout = {'width': '600px'}\n",
    "my_layout_short = {'width': '300px'}\n",
    "my_layout_shortest = {'width': '250px'}"
   ]
  },
  {
   "cell_type": "code",
   "execution_count": 4,
   "metadata": {
    "ExecuteTime": {
     "end_time": "2019-10-08T12:12:14.113839Z",
     "start_time": "2019-10-08T12:12:14.081720Z"
    },
    "scrolled": true
   },
   "outputs": [
    {
     "data": {
      "application/vnd.jupyter.widget-view+json": {
       "model_id": "ebb3451d287e458b864afe73c1d90bff",
       "version_major": 2,
       "version_minor": 0
      },
      "text/plain": [
       "Checkbox(value=True, description='*MUST un-check thid box IF NOT running on binder', layout=Layout(width='600p…"
      ]
     },
     "metadata": {},
     "output_type": "display_data"
    },
    {
     "name": "stdout",
     "output_type": "stream",
     "text": [
      "....loading test tool\n"
     ]
    }
   ],
   "source": [
    "\n",
    "box_binder = widgets.Checkbox(True, description='*MUST un-check thid box IF NOT running on binder', style = my_style, layout = my_layout)\n",
    "\n",
    "def update_box_binder(change):\n",
    "    global FLAG__ON_BINDER\n",
    "    global FILE_PATH\n",
    "    global DOWNLOAD_PATH\n",
    "    FILE_NAME = 'audit_training_data.gz'\n",
    "    FLAG__ON_BINDER = change['new']\n",
    "    \n",
    "    if (FLAG__ON_BINDER == True):\n",
    "        DOWNLOAD_PATH = '/home/jovyan/cp_wssc/Data/Iterative-models-building/Classification results/Conventions/'\n",
    "        DOWNLOAD_PATH = DOWNLOAD_PATH + FILE_NAME\n",
    "        FILE_PATH = '/home/jovyan/cp_wssc/Data/Iterative-models-building/Classification results/Conventions/Audited/'\n",
    "\n",
    "    else:\n",
    "        DOWNLOAD_PATH = './Data/Iterative-models-building/Classification results/Conventions/'\n",
    "        DOWNLOAD_PATH = DOWNLOAD_PATH + FILE_NAME\n",
    "        FILE_PATH = './Data/Iterative-models-building/Classification results/Conventions/Audited/'\n",
    "        if not os.path.exists(DOWNLOAD_PATH):\n",
    "            os.makedirs(DOWNLOAD_PATH)\n",
    "\n",
    "        if not os.path.exists(FILE_PATH):\n",
    "            os.makedirs(FILE_PATH)\n",
    "    print (FILE_PATH)\n",
    "   \n",
    "    \n",
    "box_binder.observe(update_box_binder, 'value')\n",
    "\n",
    "display(box_binder)\n",
    "print(\"....loading test tool\")"
   ]
  },
  {
   "cell_type": "code",
   "execution_count": 5,
   "metadata": {
    "ExecuteTime": {
     "end_time": "2019-10-08T12:12:14.126006Z",
     "start_time": "2019-10-08T12:12:14.116662Z"
    }
   },
   "outputs": [],
   "source": [
    "FILE_NAME = 'audit_training_data.gz'\n",
    "\n",
    "TOTAL_RECORDS_AUDITED = 0\n",
    "TOTAL_UNSAVED_AUDITS = 0\n",
    "LAST_SAVED = \"\"\n",
    "\n",
    "if FLAG__ON_BINDER == True:\n",
    "    DOWNLOAD_PATH = '/home/jovyan/cp_wssc/Data/Iterative-models-building/Classification results/Conventions/'\n",
    "    DOWNLOAD_PATH = DOWNLOAD_PATH + FILE_NAME\n",
    "    FILE_PATH = '/home/jovyan/cp_wssc/Data/Iterative-models-building/Classification results/Conventions/Audited/'\n",
    "    \n",
    "else:\n",
    "    DOWNLOAD_PATH = './Data/Iterative-models-building/Classification results/Conventions/'\n",
    "    DOWNLOAD_PATH = DOWNLOAD_PATH + FILE_NAME\n",
    "    FILE_PATH = './Data/Iterative-models-building/Classification results/Conventions/Audited/'\n",
    "    \n",
    "if FLAG__FROM_GIT == True:\n",
    "    DOWNLOAD_PATH = 'https://github.com/aideenf/AIVC/blob/master/cp_wssc/Data/Iterative-models-building/Classification%20results/Conventions/audit_training_data.gz?raw=true'\n",
    "    GIT_PUSH_PATH = 'cp_wssc/Data/Iterative-models-building/Classification results/Conventions/Audited/' \n",
    "    IMAGE_PATH = 'https://raw.githubusercontent.com/aideenf/AIVC/master/cp_wssc/convention_training_data_proportions.png'\n",
    "    IMG =  'https://raw.githubusercontent.com/aideenf/AIVC/master/cp_wssc/Data/Iterative-models-building/Classification%20results/Conventions/histogram.png'"
   ]
  },
  {
   "cell_type": "code",
   "execution_count": 6,
   "metadata": {
    "ExecuteTime": {
     "end_time": "2019-10-08T12:12:14.143793Z",
     "start_time": "2019-10-08T12:12:14.129276Z"
    },
    "scrolled": true
   },
   "outputs": [],
   "source": [
    "def image_to_byte_array(image:Image):\n",
    "  imgByteArr = io.BytesIO()\n",
    "  image.save(imgByteArr, format=image.format)\n",
    "  imgByteArr = imgByteArr.getvalue()\n",
    "  return imgByteArr\n",
    "\n",
    "def retrieve_data_frame ():\n",
    "   \n",
    "    if FLAG__FROM_GIT == True:\n",
    "        # sep='\\t'  to specify tab seperated?\n",
    "        df = pd.read_csv(DOWNLOAD_PATH, error_bad_lines=False, compression='gzip', header=0, quotechar='\"')\n",
    "\n",
    "    if FLAG__FROM_GIT == False:\n",
    "        df = pd.read_csv(DOWNLOAD_PATH, sep='\\t')\n",
    "\n",
    "    df = df.drop(df.columns[0], axis=1)\n",
    "    \n",
    "    #print(\"num of records with NaN\", df.isna().sum() )\n",
    "    \n",
    "    #Drop any rows where there is 0 confidence value. \n",
    "    df = df.dropna(subset=['confidence_value'])\n",
    "    #if source is not specified, fill as other. \n",
    "    df['data_provenance'] = df.data_provenance.fillna('other')\n",
    "    row_to_edit = df.sample(n = 1)\n",
    "    index_number = 0     \n",
    "    #print(\"num of records with NaN\", df.isna().sum() )   \n",
    "    #remove rows where text = \"unknown\"\n",
    "    df = df[df['text']!=\"unknown\"]\n",
    "    \n",
    "    print(\"data file loaded:\", len(df.index), \" rows\")\n",
    "    return df\n"
   ]
  },
  {
   "cell_type": "code",
   "execution_count": 17,
   "metadata": {
    "ExecuteTime": {
     "end_time": "2019-10-08T12:34:18.317538Z",
     "start_time": "2019-10-08T12:34:18.307105Z"
    },
    "scrolled": true
   },
   "outputs": [],
   "source": [
    "# Set CSS properties for th elements in dataframe\n",
    "th_props = [\n",
    "  ('font-size', '15px'),\n",
    "  ('text-align', 'center'),\n",
    "  #('font-weight', 'bold'),\n",
    "  ('color', 'grey'),\n",
    "  ('background-color', 'lightgrey'),\n",
    "  ('border-color', 'black'),\n",
    "  ('border-style' ,'solid') ,\n",
    "  ('border-width', '1px'),\n",
    "  ('border-collapse','collapse'),\n",
    "  ('max-width', '700px'),\n",
    "  ('min-width', '700px')\n",
    "  ]\n",
    "  \n",
    "\n",
    "# Set CSS properties for td elements in dataframe\n",
    "td_props = [\n",
    "  ('font-size', '15px'),\n",
    "  ('text-align', 'left'),\n",
    "  #('font-weight', 'bold'),\n",
    "  ('color', 'lightgrey'),\n",
    "  ('background-color', 'grey'),\n",
    "  ('border-color', 'black'),\n",
    "  ('border-style' ,'solid') ,\n",
    "  ('border-width', '1px'),\n",
    "  ('border-collapse','collapse'),\n",
    "  ('height', '100px'),\n",
    "  ('max-width', '700px'),\n",
    "  ('min-width', '700px')\n",
    "  ]\n",
    "\n",
    "# Set table styles\n",
    "styles = [\n",
    "  dict(selector=\"th\", props=th_props),\n",
    "  dict(selector=\"td\", props=td_props)\n",
    "  ]\n"
   ]
  },
  {
   "cell_type": "code",
   "execution_count": 8,
   "metadata": {
    "ExecuteTime": {
     "end_time": "2019-10-08T12:12:20.822068Z",
     "start_time": "2019-10-08T12:12:14.163107Z"
    },
    "scrolled": false
   },
   "outputs": [
    {
     "name": "stdout",
     "output_type": "stream",
     "text": [
      "data file loaded: 206107  rows\n"
     ]
    }
   ],
   "source": [
    "convention_sentences_df = []\n",
    "\n",
    "audited_df = pd.DataFrame(columns=['text', 'provenance', 'convention', 'old', 'new'])\n",
    "convention_sentences_df = retrieve_data_frame ()\n",
    "\n",
    "urlBase  = 'https://raw.githubusercontent.com/aideenf/AIVC/master/cp_wssc/Data/VALIDATED_DATA/Conventions/keywords/keywords.csv'\n",
    "dfKeyWords = pd.read_csv(urlBase)\n",
    "list_conv = pd.unique(dfKeyWords['convention'])\n",
    "keyword_arr = {}\n",
    "\n",
    "for conv in list_conv:\n",
    "    keyword_arr[conv] = dfKeyWords.loc[dfKeyWords['convention'] == conv, 'keyword'].tolist()\n",
    "    \n"
   ]
  },
  {
   "cell_type": "code",
   "execution_count": 9,
   "metadata": {
    "ExecuteTime": {
     "end_time": "2019-10-08T12:12:20.850705Z",
     "start_time": "2019-10-08T12:12:20.833869Z"
    }
   },
   "outputs": [
    {
     "name": "stdout",
     "output_type": "stream",
     "text": [
      "Data to audit loaded from GitHub repo\n"
     ]
    }
   ],
   "source": [
    "min_confidence = convention_sentences_df.confidence_value.min()\n",
    "if min_confidence < .01:\n",
    "    min_confidence = 0\n",
    "\n",
    "max_confidence = convention_sentences_df.confidence_value.max()\n",
    "print (\"Data to audit loaded from GitHub repo\")"
   ]
  },
  {
   "cell_type": "code",
   "execution_count": 10,
   "metadata": {
    "ExecuteTime": {
     "end_time": "2019-10-08T12:12:20.909976Z",
     "start_time": "2019-10-08T12:12:20.854757Z"
    }
   },
   "outputs": [],
   "source": [
    "def time_stamp():\n",
    "    now = datetime.now()\n",
    "    timestamp = datetime.timestamp(now)\n",
    "    dt_object = datetime.fromtimestamp(timestamp)\n",
    "    words = str(dt_object).split(' ');\n",
    "    return words[0], words[1]\n",
    "\n",
    "def save_to_github(git_user, git_password, git_repo, my_file_list, push_to_git_as):\n",
    "    '''\n",
    "    in order to push a file to github it must first be stored locally, then pushed\n",
    "    this local location can also be local to a virtual machine. \n",
    "    takes: \n",
    "            git username, password, repo, \n",
    "            a list of files to push to git ie the full local location of file,\n",
    "            a matching list of paths to push each file to in Git hub \n",
    "    '''\n",
    "    user = git_user\n",
    "    password = git_password\n",
    "    url = git_repo\n",
    "    file_list = []  #push these list of files to git\n",
    "    file_names = [] #push to this location in git\n",
    "    message = 'ok'\n",
    "    \n",
    "    \n",
    "    try:\n",
    "        g = Github(user, password)\n",
    "        try:\n",
    "            repo = g.get_user().get_repo(url)\n",
    "        except (IOError, OSError, GithubException) as e:\n",
    "            \n",
    "            return \"error\", e.message\n",
    "\n",
    "        file_list = my_file_list \n",
    "        file_names = push_to_git_as\n",
    "                 \n",
    "        commit_message = 'training data updated via the audit tool'\n",
    "    \n",
    "        master_ref = repo.get_git_ref('heads/master')\n",
    "        master_sha = master_ref.object.sha\n",
    "        base_tree = repo.get_git_tree(master_sha)\n",
    "        element_list = list()\n",
    "\n",
    "        for i, entry in enumerate(file_list):   \n",
    "            with open(entry) as input_file:\n",
    "                #data = input_file.read()   #works with non zip file\n",
    "                data = base64.b64encode(open(entry, \"rb\").read())\n",
    "                \n",
    "            if entry.endswith('.png'):\n",
    "                data = base64.b64encode(data) \n",
    "                \n",
    "\n",
    "            blob = repo.create_git_blob(data.decode(\"utf-8\"), \"base64\")\n",
    "            element = InputGitTreeElement(path=file_names[i], mode='100644', type='blob', sha=blob.sha)\n",
    "\n",
    "            #push to git as file_names[i]\n",
    "            #print (\"push to git as:\", file_names[i])           \n",
    "            #element = InputGitTreeElement(file_names[i], '100644', 'blob', data)\n",
    "        \n",
    "        \n",
    "            #element_list is a list of InputGitTreeElement. \n",
    "            #Each one corresponds to a file. \n",
    "            # the 'content' of InputGitTreeElement can only be of type 'str' or 'unicode'. \n",
    "            #When I load a file to memory I have type 'bytes'. \n",
    "            #What is the right way to encode those bytes to str or unicode to upload a .zip\n",
    "            element_list.append(element)   \n",
    "        \n",
    "        tree = repo.create_git_tree(element_list, base_tree)\n",
    "        parent = repo.get_git_commit(master_sha)\n",
    "        commit = repo.create_git_commit(commit_message, tree, [parent])\n",
    "        master_ref.edit(commit.sha)\n",
    "        return commit, message \n",
    "    except e:\n",
    "        message = \"GitHub save FAILED:\" + '\\n' +\"Are your github login credentials correct?\" + '\\n' + \"Are you a collaberator in the repo?\"\n",
    "        return \"error\", message\n",
    "\n",
    "\n",
    "def save_to_github_not_zip(git_user, git_password, git_repo, my_file_list, push_to_git_as):\n",
    "    user = git_user\n",
    "    password = git_password\n",
    "    url = git_repo\n",
    "    file_list = []  #push these list of files to git\n",
    "    file_names = [] #push to this location in git\n",
    "    message = \"ok\"\n",
    "    \n",
    "    try:\n",
    "        g = Github(user,password)\n",
    "\n",
    "        try:\n",
    "            repo = g.get_user().get_repo(url)\n",
    "        except (IOError, OSError, GithubException) as e:\n",
    "            return \"error\", e.message\n",
    "\n",
    "        file_list = my_file_list \n",
    "        file_names = push_to_git_as\n",
    "                 \n",
    "        commit_message = 'training data audited via the audit tool'\n",
    "    \n",
    "        master_ref = repo.get_git_ref('heads/master')\n",
    "        master_sha = master_ref.object.sha\n",
    "        base_tree = repo.get_git_tree(master_sha)\n",
    "        element_list = list()\n",
    "\n",
    "        for i, entry in enumerate(file_list):\n",
    "            with open(entry) as input_file:\n",
    "                data = input_file.read()\n",
    "            if entry.endswith('.png'):\n",
    "                data = base64.b64encode(data)\n",
    "                \n",
    "            #print (\"file to commit:\", entry)\n",
    "            #print (\"push to git as:\", file_names[i])\n",
    "            element = InputGitTreeElement(file_names[i], '100644', 'blob', data)\n",
    "            element_list.append(element)\n",
    "            \n",
    "        tree = repo.create_git_tree(element_list, base_tree)\n",
    "        parent = repo.get_git_commit(master_sha)\n",
    "        commit = repo.create_git_commit(commit_message, tree, [parent])\n",
    "        master_ref.edit(commit.sha)\n",
    "        return commit, message\n",
    "    except:\n",
    "        \n",
    "        message = \"GitHub save FAILED:\" + '\\n' +\"Are your github login credentials correct?\" + '\\n' + \"Are you a collaberator in the repo?\"\n",
    "        return \"error\", message\n",
    "        \n"
   ]
  },
  {
   "cell_type": "code",
   "execution_count": 18,
   "metadata": {
    "ExecuteTime": {
     "end_time": "2019-10-08T13:10:50.120314Z",
     "start_time": "2019-10-08T13:10:49.540714Z"
    },
    "scrolled": true
   },
   "outputs": [],
   "source": [
    "selectHTMLHead = widgets.HTML(\n",
    "            \"<font color = '#8c8c8c'><h3><center>*** Model Classification, Audit Tool ***</center></h3></font>\")\n",
    "\n",
    "selectHTML = widgets.HTML(\n",
    "            \"<font color = '#8c8c8c'><h4><left>--- Filter ---</left></h4></font>\")\n",
    "\n",
    "saveHTML = widgets.HTML(\n",
    "            \"<h4><left><font color = '#8c8c8c'>--- Push unsaved audits to Github repo ---</font></left></h4>\")\n",
    "\n",
    "actionHTML = widgets.HTML(\n",
    "            \"<font color = '#8c8c8c'><h4><left>--- Action ---</h4></left></font>\")\n",
    "\n",
    "\n",
    "space = widgets.Label('  ', layout=widgets.Layout(width='100%'))\n",
    "\n",
    "\n",
    "\n",
    "convention_drop_down = widgets.Dropdown(\n",
    "    options={ \n",
    "             'Civic':'convention_civic', \n",
    "             'Domestic':'convention_domestic', \n",
    "             'Green':'convention_green', \n",
    "             'Industrial':'convention_industrial', \n",
    "             'Inspired':'convention_inspired',\n",
    "             'Market':'convention_market', \n",
    "             'Project':'convention_project',\n",
    "             'Renown':'convention_renown'},\n",
    "    value='convention_civic',\n",
    "    description='Convention  :',\n",
    "    disabled=False,\n",
    "    style = my_style,\n",
    "    layout = my_layout\n",
    ")\n",
    "\n",
    "source_drop_down = widgets.Dropdown(\n",
    "    options =  convention_sentences_df.data_provenance.unique(),\n",
    "    description=\"Data source :\",\n",
    "     #value=None,\n",
    "    disabled=False,\n",
    "    style = my_style,\n",
    "    layout = my_layout\n",
    ")\n",
    "\n",
    "\n",
    "\n",
    "reclassify_drop_down = widgets.Dropdown(\n",
    "    options={'Negative for selected convention':'False Pos', \n",
    "             'Negative for selected and Positive for CIVIC':'convention_civic', \n",
    "             'Negative for selected and Positive for DOMESTIC':'convention_domestic', \n",
    "             'Negative for selected and Positive for GREEN':'convention_green', \n",
    "             'Negative for selected and Positive for INDUSTRIAL':'convention_industrial', \n",
    "             'Negative for selected and Positive for INSPIRED':'convention_inspired',\n",
    "             'Negative for selected and Positive for MARKET':'convention_market', \n",
    "             'Negative for selected and Positive for PROJECT':'convention_project',\n",
    "             'Negative for selected and Positive for RENOWN':'convention_renown'},\n",
    "    value='False Pos',\n",
    "    description='Change to:',\n",
    "    disabled=False,\n",
    "    style = my_style,\n",
    "    layout = my_layout_short\n",
    ")\n",
    "\n",
    "\n",
    "\n",
    "convention_true_false = widgets.Dropdown(\n",
    "    options=['True', 'False'],\n",
    "    value='True',\n",
    "    description='Logged as:',\n",
    "    disabled=False,\n",
    "    style = my_style,\n",
    "    layout = my_layout\n",
    ")\n",
    "\n",
    "confidence_score_slider_min = widgets.FloatSlider(\n",
    "    min=min_confidence, \n",
    "    max=max_confidence,\n",
    "    value = 0,\n",
    "    step = 0.1,\n",
    "    description='Min Confidence level:',\n",
    "    style = my_style,\n",
    "    layout = my_layout\n",
    "    )\n",
    "confidence_score_slider_min.style.handle_color = '#5c85d6'\n",
    "\n",
    "\n",
    "confidence_score_slider_max = widgets.FloatSlider(\n",
    "    min=min_confidence, \n",
    "    max=max_confidence, \n",
    "    value = max_confidence,\n",
    "    step = 0.1,\n",
    "    description='Max Confidence level:',\n",
    "    style = my_style,\n",
    "    layout = my_layout\n",
    "    )\n",
    "confidence_score_slider_max.style.handle_color = '#5c85d6'\n",
    "\n",
    "change_value_button = widgets.Button(\n",
    "            description='Change(False Pos)',\n",
    "            disabled=False,\n",
    "            button_style='',\n",
    "            tooltip='Audit complete, change classification',\n",
    "        )\n",
    "change_value_button.style.button_color = '#e68a00'\n",
    "\n",
    "\n",
    "keep_value_button = widgets.Button(\n",
    "            description='OK(True Pos)',\n",
    "            disabled=False,\n",
    "            button_style='',\n",
    "            tooltip='Audit complete, already classified ok',\n",
    "\n",
    "        )\n",
    "keep_value_button.style.button_color = '#00b386'\n",
    "\n",
    "\n",
    "audit_next_button = widgets.Button(\n",
    "            description='Skip',\n",
    "            disabled=False,\n",
    "            button_style='',\n",
    "            tooltip='Move to next, without audit'\n",
    "        )\n",
    "audit_next_button.style.button_color = '#d9d9d9'\n",
    "\n",
    "save_to_git_button = widgets.Button(\n",
    "            description='Save to GitHub',\n",
    "            disabled=False,\n",
    "            button_style='',\n",
    "            tooltip='Click me',\n",
    "        )\n",
    "save_to_git_button.style.button_color = '#00b386'\n",
    "\n",
    "\n",
    "\n",
    "user = widgets.Text(\n",
    "            description='Username',\n",
    "            disabled=False,\n",
    "            layout=my_layout_shortest,\n",
    "            tooltip='Enter your GitHub username',\n",
    "            style = my_style\n",
    "        )\n",
    "\n",
    "\n",
    "pswd = widgets.Password(\n",
    "            description='Password',\n",
    "            disabled=False,\n",
    "            layout=my_layout_shortest,\n",
    "            tooltip='Enter your GitHub password',\n",
    "            style = my_style\n",
    "        )\n",
    "\n",
    "\n",
    "def change_value_button_clicked(b):\n",
    "    global TOTAL_UNSAVED_AUDITS \n",
    "    global TOTAL_RECORDS_AUDITED \n",
    "    global index_number\n",
    "    global row_to_edit\n",
    "    global audited_df\n",
    "    global convention_sentences_df\n",
    "    \n",
    "    current_value = row_to_edit[convention_drop_down.value].values.astype(int)[0]\n",
    "    if (current_value == 1) :\n",
    "        new_value = 0\n",
    "        \n",
    "    elif (current_value == 0):\n",
    "        new_value = 1\n",
    "            \n",
    "    text = row_to_edit.text.values.astype(str)[0]\n",
    "    prov = row_to_edit.data_provenance.values.astype(str)[0]\n",
    "    #current_conv is = to the convention being audited\n",
    "    current_conv = convention_drop_down.value.replace('convention_', '')\n",
    "    \n",
    "    #if the classification is to register a False positive and a new classification i.e 1 to 0 and 0 to 1\n",
    "    if (reclassify_drop_down.value != 'False Pos'):\n",
    "        new_conv = reclassify_drop_down.value.replace('convention_', '')\n",
    "        new_value = current_value\n",
    "        current_value = 0\n",
    "    \n",
    "        current = pd.DataFrame({\n",
    "                            'text': [text],\n",
    "                            'provenance': [prov],\n",
    "                            'convention': [new_conv],\n",
    "                            'old': [current_value],\n",
    "                            'new': [new_value]\n",
    "                            })\n",
    "        \n",
    "        audited_df = audited_df.append(current, ignore_index=True)\n",
    "    \n",
    "        current = pd.DataFrame({\n",
    "                            'text': [text],\n",
    "                            'provenance': [prov],\n",
    "                            'convention': [current_conv],\n",
    "                            'old': [new_value],\n",
    "                            'new': [current_value]\n",
    "                            })\n",
    "        \n",
    "        audited_df = audited_df.append(current,  ignore_index=True)\n",
    "    \n",
    "    else:#the classification is to register a False positive\n",
    "    \n",
    "        current = pd.DataFrame({\n",
    "                            'text': [text],\n",
    "                            'provenance': [prov],\n",
    "                            'convention': [current_conv],\n",
    "                            'old': [current_value],\n",
    "                            'new': [new_value]\n",
    "                            })\n",
    "        audited_df = audited_df.append(current,  ignore_index=True)\n",
    "    \n",
    "    \n",
    "    TOTAL_UNSAVED_AUDITS = TOTAL_UNSAVED_AUDITS + 1\n",
    "    TOTAL_RECORDS_AUDITED = TOTAL_RECORDS_AUDITED + 1\n",
    "    with output:\n",
    "        clear_output(wait=True)\n",
    "        output_function(convention_drop_down.value, confidence_score_slider_min.value, confidence_score_slider_max.value, source_drop_down.value )\n",
    "    \n",
    "    with outputToSave:\n",
    "        clear_output(wait=True)\n",
    "        display (audited_df)\n",
    "        \n",
    "    with outputGitHub:\n",
    "        clear_output(wait=True)\n",
    "        print (\"\")\n",
    "        \n",
    "            \n",
    "def keep_value_button_clicked(b):\n",
    "    global row_to_edit\n",
    "    global audited_df\n",
    "    global TOTAL_UNSAVED_AUDITS \n",
    "    global TOTAL_RECORDS_AUDITED \n",
    "    with output:\n",
    "        clear_output(wait=True)\n",
    "        text = row_to_edit.text.values.astype(str)[0]\n",
    "        prov = row_to_edit.data_provenance.values.astype(str)[0]\n",
    "        conv = convention_drop_down.value.replace('convention_', '')\n",
    "        current = pd.DataFrame({'text': [text],\n",
    "                                'provenance': [prov],\n",
    "                                'convention': [conv],\n",
    "                                'old': [1],\n",
    "                                'new': [1]\n",
    "                               })\n",
    "        audited_df = audited_df.append(current,ignore_index=True)\n",
    "        TOTAL_UNSAVED_AUDITS = TOTAL_UNSAVED_AUDITS + 1\n",
    "        TOTAL_RECORDS_AUDITED = TOTAL_RECORDS_AUDITED + 1\n",
    "        output_function(convention_drop_down.value, confidence_score_slider_min.value, confidence_score_slider_max.value, source_drop_down.value )\n",
    "    with outputToSave:\n",
    "        clear_output(wait=True)\n",
    "        display (audited_df)\n",
    "    with outputGitHub:\n",
    "        clear_output(wait=True)\n",
    "        print(\"\")\n",
    "        \n",
    "\n",
    "def audit_next_button_clicked(b):\n",
    "    with output:\n",
    "        clear_output(wait=True)\n",
    "        output_function(convention_drop_down.value, confidence_score_slider_min.value, confidence_score_slider_max.value, source_drop_down.value )\n",
    "    with outputToSave:\n",
    "        clear_output(wait=True)\n",
    "        display (audited_df)\n",
    "    with outputGitHub:\n",
    "        clear_output(wait=True)\n",
    "        print(\"\")\n",
    "\n",
    "def save_changes_to_github_button_clicked(b):\n",
    "    global TOTAL_UNSAVED_AUDITS \n",
    "    global convention_sentences_df\n",
    "    global LAST_SAVED\n",
    "    global FILE_PATH\n",
    "    global GIT_PUSH_PATH\n",
    "    global audited_df\n",
    "    GIT_USER = user.value\n",
    "    GIT_PSWD = pswd.value\n",
    "    GIT_REPO = 'AIVC'\n",
    "    D, T = time_stamp()\n",
    "    file_name = 'audited_training_data_'+ GIT_USER   + '_' + D+T +  '.tsv'\n",
    "    file_name_zip = 'audit_training_data_'+ GIT_USER + '_' + D+T +   '.gz'\n",
    "    \n",
    "    try:\n",
    "        audited_df.to_csv(FILE_PATH + file_name, sep = '\\t', index = False)\n",
    "    except (IOError, OSError) as e:\n",
    "        with outputGitHub:\n",
    "            clear_output(wait=True)\n",
    "            display(HTML(\"<font color='red'><b>Warning!!</b></font>\"))\n",
    "            print (\"Are your settings correct for local machine v's binder?\")\n",
    "            print (e)\n",
    "        return \"error\"\n",
    "        \n",
    "    my_file_list = [FILE_PATH + file_name]\n",
    "    push_to_git_as = [GIT_PUSH_PATH + file_name]\n",
    "    commit, message = save_to_github_not_zip(GIT_USER, GIT_PSWD, GIT_REPO, my_file_list, push_to_git_as)\n",
    "    if (commit != \"error\"):\n",
    "        with outputGitHub:\n",
    "            clear_output(wait=True)\n",
    "            print (\"File to commit:\", my_file_list[0])\n",
    "            print (\"Push to git as:\", push_to_git_as[0])\n",
    "            print (\"Commit: \", commit)\n",
    "            TOTAL_UNSAVED_AUDITS = 0\n",
    "            D, T = time_stamp()\n",
    "            LAST_SAVED = D+T\n",
    "            print (\"Number of audits saved: \", audited_df.shape[0] )\n",
    "            display(HTML(\"<font color='green'><b>Saved!!</b></font>\"))\n",
    "            audited_df = pd.DataFrame(columns=['text', 'provenance', 'convention', 'old', 'new'])\n",
    "    if (commit == \"error\"):\n",
    "        with outputGitHub:\n",
    "            clear_output(wait=True)\n",
    "            print (\"File to commit: \", my_file_list[0])\n",
    "            print (\"Push to git as: \", push_to_git_as[0])\n",
    "            display(HTML(\"<font color='red'><b>Warning!!</b></font>\"))\n",
    "            print(message)\n",
    "            \n",
    "\n",
    "def output_function(convention_drop_down_value, confidence_score_slider_min_value, confidence_score_slider_max_value, source_drop_down_value ):\n",
    "    global convention_sentences_df\n",
    "    global row_to_edit\n",
    "    global index_number\n",
    "    global LAST_SAVED\n",
    "    global TOTAL_RECORDS_AUDITED\n",
    "    global TOTAL_UNSAVED_AUDIT\n",
    "    \n",
    "    reclassify_drop_down.value='False Pos'\n",
    "    convention = convention_drop_down_value.replace('convention_', '')\n",
    "\n",
    "   \n",
    "    try:\n",
    "        row_to_edit = convention_sentences_df.loc[(convention_sentences_df[convention_drop_down_value] == 1) &\n",
    "                                            (convention_sentences_df['data_provenance'] == source_drop_down_value) &\n",
    "                                            (convention_sentences_df['confidence_value'] >= confidence_score_slider_min_value) &\n",
    "                                            (convention_sentences_df['confidence_value'] <= confidence_score_slider_max_value)].sample(n = 1)  \n",
    "\n",
    "    except ValueError:\n",
    "       \n",
    "        display(HTML(\"<font color='red'><b>Warning</b> \" + \"No data, please adjust filter:</font>\"))\n",
    "    \n",
    "    if not row_to_edit.empty:\n",
    "        row_to_edit = row_to_edit[['text', convention_drop_down_value, 'confidence_value', 'data_provenance']]\n",
    "        display (row_to_edit[['text']].style.background_gradient().set_caption('Row randomly selected based on filter').set_table_styles(styles).hide_index())\n",
    "        sentence = row_to_edit['text'].values.astype(str)[0]\n",
    "        conf = str(row_to_edit['confidence_value'].values.astype(float)[0])\n",
    "        #display(HTML(\"Sentence: <b><font color='green'>\" + sentence + \"</b></font>\" ))\n",
    "        display(HTML(\"Text field classified as: <b><font color='black'>\" + \"POSITIVE </b> \" + \"</font> for the <font color='black'><b>\" +  convention.upper() + \" </b></font>economy of conventions, with confidence </> \"+conf ))\n",
    "        index_number = row_to_edit.index.values.astype(int)[0]\n",
    "        try:\n",
    "            with outputCount:\n",
    "                clear_output(wait=True)\n",
    "                print(\"Total audited:\", TOTAL_RECORDS_AUDITED, \" Total unsaved:\", TOTAL_UNSAVED_AUDITS,\" Last Saved:\", LAST_SAVED )\n",
    "        except:\n",
    "            print (\"\")\n",
    "    else:\n",
    "        print (\"No results, change search setting\")\n",
    "    \n",
    "    \n",
    "  \n",
    "output = widgets.interactive_output(output_function, {\n",
    "            'convention_drop_down_value': convention_drop_down,\n",
    "            'confidence_score_slider_min_value': confidence_score_slider_min,\n",
    "            'confidence_score_slider_max_value': confidence_score_slider_max,\n",
    "            'source_drop_down_value': source_drop_down\n",
    "            })\n",
    "\n",
    "outputGitHub = widgets.Output()\n",
    "outputToSave = widgets.Output()\n",
    "outputCount = widgets.Output()\n",
    "change_value_button.on_click(change_value_button_clicked)\n",
    "keep_value_button.on_click(keep_value_button_clicked)\n",
    "audit_next_button.on_click(audit_next_button_clicked)\n",
    "save_to_git_button.on_click(save_changes_to_github_button_clicked)\n"
   ]
  },
  {
   "cell_type": "code",
   "execution_count": 12,
   "metadata": {
    "ExecuteTime": {
     "end_time": "2019-10-08T12:12:22.818902Z",
     "start_time": "2019-10-08T12:12:22.409036Z"
    }
   },
   "outputs": [],
   "source": [
    "#HTML Help Content   \n",
    "using = '<h4>Using the audit tool</h4><p>This tool will randomly select and display a sentence which has already been classified by the model thus facilitating human evaluation and correction of model predictions. These validated and corrected predictions will be fed back to the model as part of a re-training process, with the objective of increasing model accuracy. The tool will automatically select and display a random sentence from the pool each time an action is involked, either by modifying the filter or by one of the three action buttons [Change], [Ok] and [Skip]. Once the sentence is audited via either the [Ok] or [Change] button it will be used to train the model on the next training iteration.<br/>[Skip]: Use the Skip button if you are unable to confirm the classification (no action will be taken)</p><p>[Ok]: </span> Use the OK button to confirm that the sentence has been classified correctly as [Positive] for the convention in question i.e if the classification is a \"True Positive\" </p><p>[Chang]e]: Use the change button, if you believe the sentence has been classified incorrectly by the model  i.e if the classification is a \"False Positive\".<br/> If you can correctly classify the sentence as belonging to another convention, please select the appropriateconvention via the [Change to] dropdown.</p><p><em>Note: A&nbsp;<strong>GitHub</strong>&nbsp;username and password is required to save the results of the audits, it is important to remember to save the audit on a regular basis</em></p><hr/><p></p>'                              \n",
    "filtering = '<h4>Filtering</h4>To help obtain a more balanced training data set across all convention models, please review the histogram to determine focus of audit'\n",
    "\n",
    "#Histogram image\n",
    "image = Image.open(urllib.request.urlopen(IMAGE_PATH))\n",
    "image = image_to_byte_array(image)\n",
    "\n",
    "#keywords tab\n",
    "tab_contents = keyword_arr.values()\n",
    "tab_name = list(keyword_arr.keys())\n",
    "children = [widgets.HTML(value=str(name))for name in tab_contents]\n",
    "tab_keywords = widgets.Tab()\n",
    "tab_keywords.children = children\n",
    "for i in range(len(children)):\n",
    "    tab_keywords.set_title(i, str(tab_name[i]))\n",
    "\n",
    "#SET UP A HEADER ACCORDIAN TO SHOW HELP, HISTOGRAM and KEYWORDS\n",
    "accordion = widgets.Accordion(children=\n",
    "                              [widgets.HTML(filtering+using),\n",
    "                               widgets.Image(value=image,format='png',width=500,height=500),\n",
    "                               tab_keywords\n",
    "                              ]\n",
    "                         \n",
    "                             )\n",
    "\n",
    "\n",
    "accordion.set_title(0, 'About The Tool')\n",
    "accordion.set_title(1, 'Training Data Histogram')\n",
    "accordion.set_title(2, 'Convention Keyword hints')\n",
    "accordion.selected_index = None"
   ]
  },
  {
   "cell_type": "code",
   "execution_count": 13,
   "metadata": {
    "ExecuteTime": {
     "end_time": "2019-10-08T12:12:23.003853Z",
     "start_time": "2019-10-08T12:12:22.822917Z"
    },
    "scrolled": false
   },
   "outputs": [
    {
     "data": {
      "application/vnd.jupyter.widget-view+json": {
       "model_id": "87a2b0fa763c4a65881ec0f193d8ea17",
       "version_major": 2,
       "version_minor": 0
      },
      "text/plain": [
       "HTML(value=\"<font color = '#8c8c8c'><h3><center>*** Model Classification, Audit Tool ***</center></h3></font>\"…"
      ]
     },
     "metadata": {},
     "output_type": "display_data"
    },
    {
     "data": {
      "application/vnd.jupyter.widget-view+json": {
       "model_id": "294f8607531e433b87f362d1c8bfd2c4",
       "version_major": 2,
       "version_minor": 0
      },
      "text/plain": [
       "Accordion(children=(HTML(value='<h4>Filtering</h4>To help obtain a more balanced training data set across all …"
      ]
     },
     "metadata": {},
     "output_type": "display_data"
    },
    {
     "data": {
      "application/vnd.jupyter.widget-view+json": {
       "model_id": "49458cf5af5b4281af3a55d3d0532fd3",
       "version_major": 2,
       "version_minor": 0
      },
      "text/plain": [
       "Label(value='  ', layout=Layout(width='100%'))"
      ]
     },
     "metadata": {},
     "output_type": "display_data"
    },
    {
     "data": {
      "application/vnd.jupyter.widget-view+json": {
       "model_id": "1710c513338f4a3298674d1f937ec92e",
       "version_major": 2,
       "version_minor": 0
      },
      "text/plain": [
       "HTML(value=\"<font color = '#8c8c8c'><h4><left>--- Apply Filter ---</left></h4></font>\")"
      ]
     },
     "metadata": {},
     "output_type": "display_data"
    },
    {
     "data": {
      "application/vnd.jupyter.widget-view+json": {
       "model_id": "1410cbc9d8074c3cb26fc7e4c9d82fec",
       "version_major": 2,
       "version_minor": 0
      },
      "text/plain": [
       "VBox(children=(Dropdown(description='Convention  :', layout=Layout(width='600px'), options={'Civic': 'conventi…"
      ]
     },
     "metadata": {},
     "output_type": "display_data"
    },
    {
     "data": {
      "application/vnd.jupyter.widget-view+json": {
       "model_id": "d218e1617493457d9a7091344711f9dd",
       "version_major": 2,
       "version_minor": 0
      },
      "text/plain": [
       "Output()"
      ]
     },
     "metadata": {},
     "output_type": "display_data"
    },
    {
     "data": {
      "application/vnd.jupyter.widget-view+json": {
       "model_id": "49458cf5af5b4281af3a55d3d0532fd3",
       "version_major": 2,
       "version_minor": 0
      },
      "text/plain": [
       "Label(value='  ', layout=Layout(width='100%'))"
      ]
     },
     "metadata": {},
     "output_type": "display_data"
    },
    {
     "data": {
      "application/vnd.jupyter.widget-view+json": {
       "model_id": "e7137ba3319a424b93380f81c5ed1654",
       "version_major": 2,
       "version_minor": 0
      },
      "text/plain": [
       "HTML(value=\"<font color = '#8c8c8c'><h4><left>--- Action ---</h4></left></font>\")"
      ]
     },
     "metadata": {},
     "output_type": "display_data"
    },
    {
     "data": {
      "application/vnd.jupyter.widget-view+json": {
       "model_id": "b9672638efcc42279b9259517828169e",
       "version_major": 2,
       "version_minor": 0
      },
      "text/plain": [
       "Dropdown(description='Change to:', layout=Layout(width='300px'), options={'Negative for selected convention': …"
      ]
     },
     "metadata": {},
     "output_type": "display_data"
    },
    {
     "data": {
      "application/vnd.jupyter.widget-view+json": {
       "model_id": "4dd50ee5ffa844f9bc424ab2740fa4cb",
       "version_major": 2,
       "version_minor": 0
      },
      "text/plain": [
       "HBox(children=(Button(description='Change(False Pos)', style=ButtonStyle(button_color='#e68a00'), tooltip='Aud…"
      ]
     },
     "metadata": {},
     "output_type": "display_data"
    },
    {
     "data": {
      "application/vnd.jupyter.widget-view+json": {
       "model_id": "c21e8e3331334d2bbb674587223cec15",
       "version_major": 2,
       "version_minor": 0
      },
      "text/plain": [
       "Output()"
      ]
     },
     "metadata": {},
     "output_type": "display_data"
    },
    {
     "data": {
      "application/vnd.jupyter.widget-view+json": {
       "model_id": "49458cf5af5b4281af3a55d3d0532fd3",
       "version_major": 2,
       "version_minor": 0
      },
      "text/plain": [
       "Label(value='  ', layout=Layout(width='100%'))"
      ]
     },
     "metadata": {},
     "output_type": "display_data"
    },
    {
     "data": {
      "application/vnd.jupyter.widget-view+json": {
       "model_id": "6c60656f85ad4308ad60c48b574a54b1",
       "version_major": 2,
       "version_minor": 0
      },
      "text/plain": [
       "HTML(value=\"<h4><left><font color = '#8c8c8c'>--- Push unsaved audits to Github repo ---</font></left></h4>\")"
      ]
     },
     "metadata": {},
     "output_type": "display_data"
    },
    {
     "data": {
      "application/vnd.jupyter.widget-view+json": {
       "model_id": "49458cf5af5b4281af3a55d3d0532fd3",
       "version_major": 2,
       "version_minor": 0
      },
      "text/plain": [
       "Label(value='  ', layout=Layout(width='100%'))"
      ]
     },
     "metadata": {},
     "output_type": "display_data"
    },
    {
     "data": {
      "application/vnd.jupyter.widget-view+json": {
       "model_id": "39e2d02237dd4ab1be1101887a5ee044",
       "version_major": 2,
       "version_minor": 0
      },
      "text/plain": [
       "HBox(children=(Text(value='', description='Username', layout=Layout(width='250px'), style=DescriptionStyle(des…"
      ]
     },
     "metadata": {},
     "output_type": "display_data"
    },
    {
     "data": {
      "application/vnd.jupyter.widget-view+json": {
       "model_id": "d3da0225cd17425f9c6d1ad57615e545",
       "version_major": 2,
       "version_minor": 0
      },
      "text/plain": [
       "Button(description='Save to GitHub', style=ButtonStyle(button_color='#00b386'), tooltip='Click me')"
      ]
     },
     "metadata": {},
     "output_type": "display_data"
    },
    {
     "data": {
      "application/vnd.jupyter.widget-view+json": {
       "model_id": "49458cf5af5b4281af3a55d3d0532fd3",
       "version_major": 2,
       "version_minor": 0
      },
      "text/plain": [
       "Label(value='  ', layout=Layout(width='100%'))"
      ]
     },
     "metadata": {},
     "output_type": "display_data"
    },
    {
     "data": {
      "application/vnd.jupyter.widget-view+json": {
       "model_id": "88850596868c44a48fdc68183b9161b2",
       "version_major": 2,
       "version_minor": 0
      },
      "text/plain": [
       "Output()"
      ]
     },
     "metadata": {},
     "output_type": "display_data"
    },
    {
     "data": {
      "application/vnd.jupyter.widget-view+json": {
       "model_id": "1c62f688fe1647c0b9039d2f3687dcf0",
       "version_major": 2,
       "version_minor": 0
      },
      "text/plain": [
       "Output()"
      ]
     },
     "metadata": {},
     "output_type": "display_data"
    },
    {
     "data": {
      "application/vnd.jupyter.widget-view+json": {
       "model_id": "49458cf5af5b4281af3a55d3d0532fd3",
       "version_major": 2,
       "version_minor": 0
      },
      "text/plain": [
       "Label(value='  ', layout=Layout(width='100%'))"
      ]
     },
     "metadata": {},
     "output_type": "display_data"
    }
   ],
   "source": [
    "\n",
    "\n",
    "display (\n",
    "        selectHTMLHead,\n",
    "        accordion,\n",
    "        space,\n",
    "        selectHTML,\n",
    "        widgets.VBox([\n",
    "        convention_drop_down, \n",
    "        source_drop_down, \n",
    "        confidence_score_slider_min, \n",
    "        confidence_score_slider_max]),\n",
    "        output,\n",
    "        space,\n",
    "        actionHTML,\n",
    "        reclassify_drop_down,\n",
    "        widgets.HBox([change_value_button, keep_value_button, audit_next_button]),\n",
    "        outputCount,\n",
    "        space,\n",
    "        saveHTML,\n",
    "        space,\n",
    "        widgets.HBox([user, pswd]),\n",
    "        save_to_git_button,\n",
    "        space,\n",
    "        outputGitHub,\n",
    "        outputToSave,\n",
    "        space\n",
    "    )"
   ]
  },
  {
   "cell_type": "code",
   "execution_count": null,
   "metadata": {},
   "outputs": [],
   "source": []
  }
 ],
 "metadata": {
  "kernelspec": {
   "display_name": "Python 3",
   "language": "python",
   "name": "python3"
  },
  "language_info": {
   "codemirror_mode": {
    "name": "ipython",
    "version": 3
   },
   "file_extension": ".py",
   "mimetype": "text/x-python",
   "name": "python",
   "nbconvert_exporter": "python",
   "pygments_lexer": "ipython3",
   "version": "3.6.0"
  },
  "toc": {
   "base_numbering": 1,
   "nav_menu": {},
   "number_sections": true,
   "sideBar": true,
   "skip_h1_title": false,
   "title_cell": "Table of Contents",
   "title_sidebar": "Contents",
   "toc_cell": false,
   "toc_position": {},
   "toc_section_display": true,
   "toc_window_display": false
  },
  "varInspector": {
   "cols": {
    "lenName": 16,
    "lenType": 16,
    "lenVar": 40
   },
   "kernels_config": {
    "python": {
     "delete_cmd_postfix": "",
     "delete_cmd_prefix": "del ",
     "library": "var_list.py",
     "varRefreshCmd": "print(var_dic_list())"
    },
    "r": {
     "delete_cmd_postfix": ") ",
     "delete_cmd_prefix": "rm(",
     "library": "var_list.r",
     "varRefreshCmd": "cat(var_dic_list()) "
    }
   },
   "types_to_exclude": [
    "module",
    "function",
    "builtin_function_or_method",
    "instance",
    "_Feature"
   ],
   "window_display": true
  }
 },
 "nbformat": 4,
 "nbformat_minor": 2
}
