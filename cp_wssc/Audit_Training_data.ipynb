{
 "cells": [
  {
   "cell_type": "code",
   "execution_count": 1,
   "metadata": {
    "ExecuteTime": {
     "end_time": "2019-10-03T00:26:39.197311Z",
     "start_time": "2019-10-03T00:26:38.258683Z"
    }
   },
   "outputs": [],
   "source": [
    "import os\n",
    "import re\n",
    "import random\n",
    "import glob\n",
    "import pandas as pd\n",
    "import numpy as np\n",
    "from datetime import datetime\n",
    "from IPython.display import display, clear_output, HTML\n",
    "import base64\n",
    "import io\n",
    "import ipywidgets as widgets\n",
    "from ipywidgets import interact, interact_manual\n",
    "import base64\n",
    "from github import Github\n",
    "from github import InputGitTreeElement"
   ]
  },
  {
   "cell_type": "code",
   "execution_count": 2,
   "metadata": {
    "ExecuteTime": {
     "end_time": "2019-10-03T00:26:39.355863Z",
     "start_time": "2019-10-03T00:26:39.326537Z"
    }
   },
   "outputs": [
    {
     "data": {
      "application/javascript": [
       "//To remove scroll from any output area and automatically extend the jupyter cell\n",
       "IPython.OutputArea.prototype._should_scroll = function(lines) {\n",
       "    return false;\n",
       "}\n"
      ],
      "text/plain": [
       "<IPython.core.display.Javascript object>"
      ]
     },
     "metadata": {},
     "output_type": "display_data"
    }
   ],
   "source": [
    "%%javascript\n",
    "//To remove scroll from any output area and automatically extend the jupyter cell\n",
    "IPython.OutputArea.prototype._should_scroll = function(lines) {\n",
    "    return false;\n",
    "}"
   ]
  },
  {
   "cell_type": "code",
   "execution_count": 3,
   "metadata": {
    "ExecuteTime": {
     "end_time": "2019-10-03T00:26:39.822981Z",
     "start_time": "2019-10-03T00:26:39.800649Z"
    },
    "scrolled": false
   },
   "outputs": [
    {
     "data": {
      "application/vnd.jupyter.widget-view+json": {
       "model_id": "0fd2107f912d413c8846e2b17b7c44b0",
       "version_major": 2,
       "version_minor": 0
      },
      "text/plain": [
       "Checkbox(value=False, description='Running on binder')"
      ]
     },
     "metadata": {},
     "output_type": "display_data"
    }
   ],
   "source": [
    "FLAG__ON_BINDER = False\n",
    "box_binder = widgets.Checkbox(False, description='Running on binder')\n",
    "\n",
    "def update_box_binder(change):\n",
    "    global FLAG__ON_BINDER\n",
    "    FLAG__ON_BINDER = change['new']\n",
    "\n",
    "box_binder.observe(update_box_binder, 'value')\n",
    "\n",
    "#display(box_acsfg, box_gstd, filePath1, filePath2, filePath3)\n",
    "display(box_binder)"
   ]
  },
  {
   "cell_type": "code",
   "execution_count": 4,
   "metadata": {
    "ExecuteTime": {
     "end_time": "2019-10-03T00:26:40.695928Z",
     "start_time": "2019-10-03T00:26:40.688722Z"
    }
   },
   "outputs": [
    {
     "name": "stdout",
     "output_type": "stream",
     "text": [
      ".\n"
     ]
    }
   ],
   "source": [
    "if FLAG__ON_BINDER == True:\n",
    "    ROOT_DIR = \"/home/jovyan/cp_wssc\"\n",
    "else:\n",
    "    ROOT_DIR = \".\"\n",
    "    \n",
    "print (ROOT_DIR)"
   ]
  },
  {
   "cell_type": "code",
   "execution_count": 5,
   "metadata": {
    "ExecuteTime": {
     "end_time": "2019-10-03T00:26:42.119943Z",
     "start_time": "2019-10-03T00:26:42.115652Z"
    }
   },
   "outputs": [],
   "source": [
    "TRAINING_DATA_DIR =  ROOT_DIR + \"/Data/VALIDATED_DATA/Conventions/training_data/\""
   ]
  },
  {
   "cell_type": "code",
   "execution_count": 6,
   "metadata": {
    "ExecuteTime": {
     "end_time": "2019-10-03T00:26:43.180715Z",
     "start_time": "2019-10-03T00:26:43.140638Z"
    }
   },
   "outputs": [],
   "source": [
    "convention_sentences_df = pd.read_csv(TRAINING_DATA_DIR+'training_data.csv')\n",
    "convention_sentences_df = convention_sentences_df.drop(convention_sentences_df.columns[0], axis=1)\n",
    "row_to_edit = convention_sentences_df.sample(n = 1)\n",
    "index_number = 0\n",
    "    "
   ]
  },
  {
   "cell_type": "code",
   "execution_count": 7,
   "metadata": {
    "ExecuteTime": {
     "end_time": "2019-10-03T00:26:44.925816Z",
     "start_time": "2019-10-03T00:26:44.910564Z"
    }
   },
   "outputs": [],
   "source": [
    "def time_stamp():\n",
    "    now = datetime.now()\n",
    "    timestamp = datetime.timestamp(now)\n",
    "    dt_object = datetime.fromtimestamp(timestamp)\n",
    "    words = str(dt_object).split(' ');\n",
    "    return words[1]\n",
    "\n",
    "\n",
    "def save_to_github(my_user, my_password, repo_url, my_file_list, my_file_name_list):\n",
    "\n",
    "    user = my_user\n",
    "    password = my_password\n",
    "    url = repo_url\n",
    "    try:\n",
    "        g = Github(user,password)\n",
    "    \n",
    "        repo = g.get_user().get_repo(repo_url)\n",
    "\n",
    "        file_list = my_file_list \n",
    "        file_names = my_file_name_list\n",
    "                 \n",
    "        commit_message = 'training data updated via the audit tool'\n",
    "    \n",
    "        master_ref = repo.get_git_ref('heads/master')\n",
    "        master_sha = master_ref.object.sha\n",
    "        base_tree = repo.get_git_tree(master_sha)\n",
    "        element_list = list()\n",
    "\n",
    "        for i, entry in enumerate(file_list):\n",
    "            with open(entry) as input_file:\n",
    "                data = input_file.read()\n",
    "            if entry.endswith('.png'):\n",
    "                data = base64.b64encode(data)\n",
    "            element = InputGitTreeElement(file_names[i], '100644', 'blob', data)\n",
    "            element_list.append(element)\n",
    "        tree = repo.create_git_tree(element_list, base_tree)\n",
    "        parent = repo.get_git_commit(master_sha)\n",
    "        commit = repo.create_git_commit(commit_message, tree, [parent])\n",
    "        master_ref.edit(commit.sha)\n",
    "        print (commit)\n",
    "    except:\n",
    "        print(\"\")\n",
    "        print (\"GITHUB SUBMIT FAILED. Are your github login credentials correct?\")\n",
    "        print (\"Are your github login credentials correct?\")\n",
    "        print (\"Are you a collaberator in the repo?\")\n",
    "\n"
   ]
  },
  {
   "cell_type": "code",
   "execution_count": 10,
   "metadata": {
    "ExecuteTime": {
     "end_time": "2019-10-03T00:28:14.382527Z",
     "start_time": "2019-10-03T00:28:13.848360Z"
    },
    "scrolled": true
   },
   "outputs": [],
   "source": [
    "my_style = {'description_width': 'initial'}\n",
    "my_layout = {'width': '500px'}\n",
    "my_layout_short = {'width': '300px'}\n",
    "\n",
    "selectHTML = widgets.HTML(\n",
    "            \"<h3><left>Apply Audit Filter</left></h3>\")\n",
    "\n",
    "space = widgets.Label('  ', layout=widgets.Layout(width='100%'))\n",
    "\n",
    "\n",
    "convention_drop_down = widgets.Dropdown(\n",
    "    options=['convention_civic', 'convention_domestic', 'convention_green', 'convention_industrial', 'convention_inspired', 'convention_market', 'convention_project', 'convention_renown'],\n",
    "    value='convention_civic',\n",
    "    description='Convention:',\n",
    "    disabled=False,\n",
    "    style = my_style,\n",
    "    layout = my_layout\n",
    ")\n",
    "\n",
    "reclassify_drop_down = widgets.Dropdown(\n",
    "    options=['flip current', 'convention_civic', 'convention_domestic', 'convention_green', 'convention_industrial', 'convention_inspired', 'convention_market', 'convention_project', 'convention_renown'],\n",
    "    value='flip current',\n",
    "    description='Re-Classify:',\n",
    "    disabled=False,\n",
    "    style = my_style,\n",
    "    layout = my_layout\n",
    ")\n",
    "\n",
    "convention_true_false = widgets.Dropdown(\n",
    "    options=['True', 'False'],\n",
    "    value='True',\n",
    "    description='Logged as:',\n",
    "    disabled=False,\n",
    "    style = my_style,\n",
    "    layout = my_layout\n",
    ")\n",
    "\n",
    "\n",
    "confidence_score_slider = widgets.FloatSlider(\n",
    "    min=0, \n",
    "    max=1, \n",
    "    step = 0.1,\n",
    "    description='Confidence level:',\n",
    "    style = my_style,\n",
    "    layout = my_layout\n",
    "    )\n",
    "\n",
    "\n",
    "change_value_button = widgets.Button(\n",
    "            description='Change Classification',\n",
    "            disabled=False,\n",
    "            button_style='',\n",
    "            tooltip='Click me',\n",
    "        )\n",
    "\n",
    "audit_next_button = widgets.Button(\n",
    "            description='Next',\n",
    "            disabled=False,\n",
    "            button_style='',\n",
    "            tooltip='Click me',\n",
    "        )\n",
    "\n",
    "\n",
    "save_to_git_button = widgets.Button(\n",
    "            description='Save to GitHub',\n",
    "            disabled=False,\n",
    "            button_style='',\n",
    "            tooltip='Click me',\n",
    "        )\n",
    "\n",
    "\n",
    "\n",
    "\n",
    "user = widgets.Text(\n",
    "            description='GIT username',\n",
    "            disabled=False,\n",
    "            layout=my_layout_short,\n",
    "            tooltip='enter the new value name',\n",
    "            style = my_style\n",
    "        )\n",
    "\n",
    "\n",
    "pswd = widgets.Password(\n",
    "            description='GIT password',\n",
    "            disabled=False,\n",
    "            layout=my_layout_short,\n",
    "            tooltip='enter the new value name',\n",
    "            style = my_style\n",
    "        )\n",
    "\n",
    "\n",
    "\n",
    "def change_value_button_clicked(b):\n",
    "    global index_number\n",
    "    global row_to_edit\n",
    "    global convention_sentences_df\n",
    "    with output:\n",
    "        current_value = row_to_edit[convention_drop_down.value].values.astype(int)\n",
    "        if (current_value == 1) :\n",
    "            new_value = 0\n",
    "            print (\"Changed from 1 to\", new_value)\n",
    "        elif (current_value == 0):\n",
    "            new_value = 1\n",
    "            print (\"Changed from 0 to\", new_value)\n",
    "        convention_sentences_df[convention_drop_down.value][row_to_edit.index.values.astype(int)[0]] = new_value\n",
    "        print (\"change saved locally in data frame\")\n",
    "        #display(convention_sentences_df.loc[index_number , : ])\n",
    "        \n",
    "\n",
    "def save_changes_to_github_button_clicked(b):\n",
    "    global convention_sentences_df\n",
    "    GIT_USER = user.value\n",
    "    GIT_PSWD = pswd.value\n",
    "    file = \"training_dataB.csv\"\n",
    "    save_file_as = 'cp_wssc/Data/VALIDATED_DATA/Conventions/training_data/training_dataB.csv'\n",
    "    path = TRAINING_DATA_DIR + file\n",
    "    git_repo = 'AIVC'\n",
    "    print (\"storing updated version to \", path)\n",
    "    convention_sentences_df.to_csv(path)\n",
    "    \n",
    "    print (\"pushing updated version to github \",repo, save_file_as)\n",
    "    \n",
    "    save_to_github(GIT_USER, \n",
    "                    GIT_PSWD,\n",
    "                    git_repo,\n",
    "                    [path],\n",
    "                    [save_file_as])\n",
    "  \n",
    "    \n",
    "\n",
    "def audit_next_button_clicked(b):\n",
    "        with output:\n",
    "            clear_output(wait=True)\n",
    "            output_function(convention_drop_down.value, confidence_score_slider.value, convention_true_false.value )\n",
    "\n",
    "\n",
    "\n",
    "def output_function(convention_drop_down_value, confidence_score_slider_value, convention_true_false_value ):\n",
    "    global convention_sentences_df\n",
    "    global row_to_edit\n",
    "    global index_number\n",
    "    convention = convention_drop_down_value.replace('convention_', '')\n",
    "    \n",
    "    if (convention_true_false_value == \"True\"):\n",
    "        \n",
    "        row_to_edit = convention_sentences_df.loc[convention_sentences_df[convention_drop_down_value] == 1].sample(n = 1)  \n",
    "    \n",
    "    elif (convention_true_false_value == \"False\"):\n",
    "        row_to_edit = convention_sentences_df.loc[convention_sentences_df[convention_drop_down_value] == 0].sample(n = 1)  \n",
    "    \n",
    "    row_to_edit = row_to_edit[['sentence', convention_drop_down_value]]\n",
    "    display (row_to_edit)\n",
    "    print (\"\")\n",
    "    sentence = row_to_edit['sentence'].values.astype(str)[0]\n",
    "    display(HTML(\"<b>Sentence to review: </b><font color='green'>\" + sentence + \"</font>\" ))\n",
    "    display(HTML(\"<b>Classified as: </b><font color='green'> \" + convention_true_false_value + \"</font> for <font color='green'>\" +  convention + \" </font>economy of conventions\" ))\n",
    "    index_number = row_to_edit.index.values.astype(int)[0]\n",
    "  \n",
    "output = widgets.interactive_output(output_function, {\n",
    "            'convention_drop_down_value': convention_drop_down,\n",
    "            'confidence_score_slider_value': confidence_score_slider,\n",
    "            'convention_true_false_value': convention_true_false\n",
    "            })\n",
    "\n",
    "change_value_button.on_click(change_value_button_clicked)\n",
    "audit_next_button.on_click(audit_next_button_clicked)\n",
    "save_to_git_button.on_click(save_changes_to_github_button_clicked)\n"
   ]
  },
  {
   "cell_type": "code",
   "execution_count": 11,
   "metadata": {
    "ExecuteTime": {
     "end_time": "2019-10-03T00:28:15.034320Z",
     "start_time": "2019-10-03T00:28:14.959964Z"
    },
    "scrolled": true
   },
   "outputs": [
    {
     "data": {
      "application/vnd.jupyter.widget-view+json": {
       "model_id": "a17c4103202f43689c684e9c91b26332",
       "version_major": 2,
       "version_minor": 0
      },
      "text/plain": [
       "Label(value='  ', layout=Layout(width='100%'))"
      ]
     },
     "metadata": {},
     "output_type": "display_data"
    },
    {
     "data": {
      "application/vnd.jupyter.widget-view+json": {
       "model_id": "ad6ff5b3adb04beab52e6d03cbb49102",
       "version_major": 2,
       "version_minor": 0
      },
      "text/plain": [
       "HTML(value='<h3><left>Apply Audit Filter</left></h3>')"
      ]
     },
     "metadata": {},
     "output_type": "display_data"
    },
    {
     "data": {
      "application/vnd.jupyter.widget-view+json": {
       "model_id": "204f6034f21440c483955300407ba68e",
       "version_major": 2,
       "version_minor": 0
      },
      "text/plain": [
       "Dropdown(description='Convention:', layout=Layout(width='500px'), options=('convention_civic', 'convention_dom…"
      ]
     },
     "metadata": {},
     "output_type": "display_data"
    },
    {
     "data": {
      "application/vnd.jupyter.widget-view+json": {
       "model_id": "7e54128812964cdba53ded6b1fc1c2d0",
       "version_major": 2,
       "version_minor": 0
      },
      "text/plain": [
       "Dropdown(description='Logged as:', layout=Layout(width='500px'), options=('True', 'False'), style=DescriptionS…"
      ]
     },
     "metadata": {},
     "output_type": "display_data"
    },
    {
     "data": {
      "application/vnd.jupyter.widget-view+json": {
       "model_id": "afed23c3db824c92bd5937c31ced0ceb",
       "version_major": 2,
       "version_minor": 0
      },
      "text/plain": [
       "FloatSlider(value=0.0, description='Confidence level:', layout=Layout(width='500px'), max=1.0, style=SliderSty…"
      ]
     },
     "metadata": {},
     "output_type": "display_data"
    },
    {
     "data": {
      "application/vnd.jupyter.widget-view+json": {
       "model_id": "d6d95ed472784e4082220640f07a403f",
       "version_major": 2,
       "version_minor": 0
      },
      "text/plain": [
       "Output(outputs=({'output_type': 'display_data', 'data': {'text/plain': '                                      …"
      ]
     },
     "metadata": {},
     "output_type": "display_data"
    },
    {
     "data": {
      "application/vnd.jupyter.widget-view+json": {
       "model_id": "a17c4103202f43689c684e9c91b26332",
       "version_major": 2,
       "version_minor": 0
      },
      "text/plain": [
       "Label(value='  ', layout=Layout(width='100%'))"
      ]
     },
     "metadata": {},
     "output_type": "display_data"
    },
    {
     "data": {
      "application/vnd.jupyter.widget-view+json": {
       "model_id": "0b20dc5137d743c0bfe568432584dc7b",
       "version_major": 2,
       "version_minor": 0
      },
      "text/plain": [
       "Dropdown(description='Re-Classify:', layout=Layout(width='500px'), options=('flip current', 'convention_civic'…"
      ]
     },
     "metadata": {},
     "output_type": "display_data"
    },
    {
     "data": {
      "application/vnd.jupyter.widget-view+json": {
       "model_id": "c26d707471af44e184554561898586bb",
       "version_major": 2,
       "version_minor": 0
      },
      "text/plain": [
       "HBox(children=(Button(description='Change Classification', style=ButtonStyle(), tooltip='Click me'), Button(de…"
      ]
     },
     "metadata": {},
     "output_type": "display_data"
    },
    {
     "data": {
      "application/vnd.jupyter.widget-view+json": {
       "model_id": "a17c4103202f43689c684e9c91b26332",
       "version_major": 2,
       "version_minor": 0
      },
      "text/plain": [
       "Label(value='  ', layout=Layout(width='100%'))"
      ]
     },
     "metadata": {},
     "output_type": "display_data"
    },
    {
     "data": {
      "application/vnd.jupyter.widget-view+json": {
       "model_id": "35bd5f4f963044bfa98ad44f2ec87c7e",
       "version_major": 2,
       "version_minor": 0
      },
      "text/plain": [
       "HBox(children=(Button(description='Save to GitHub', style=ButtonStyle(), tooltip='Click me'), Text(value='', d…"
      ]
     },
     "metadata": {},
     "output_type": "display_data"
    }
   ],
   "source": [
    "display (\n",
    "        space,\n",
    "        selectHTML,\n",
    "        convention_drop_down, \n",
    "        convention_true_false, \n",
    "        confidence_score_slider, \n",
    "        output, \n",
    "        space,\n",
    "        reclassify_drop_down,\n",
    "        widgets.HBox([change_value_button, audit_next_button]),\n",
    "        space,\n",
    "        widgets.HBox([save_to_git_button, user, pswd]),\n",
    "    )"
   ]
  },
  {
   "cell_type": "code",
   "execution_count": null,
   "metadata": {},
   "outputs": [],
   "source": []
  }
 ],
 "metadata": {
  "kernelspec": {
   "display_name": "Python 3",
   "language": "python",
   "name": "python3"
  },
  "language_info": {
   "codemirror_mode": {
    "name": "ipython",
    "version": 3
   },
   "file_extension": ".py",
   "mimetype": "text/x-python",
   "name": "python",
   "nbconvert_exporter": "python",
   "pygments_lexer": "ipython3",
   "version": "3.6.0"
  },
  "toc": {
   "base_numbering": 1,
   "nav_menu": {},
   "number_sections": true,
   "sideBar": true,
   "skip_h1_title": false,
   "title_cell": "Table of Contents",
   "title_sidebar": "Contents",
   "toc_cell": false,
   "toc_position": {},
   "toc_section_display": true,
   "toc_window_display": false
  },
  "varInspector": {
   "cols": {
    "lenName": 16,
    "lenType": 16,
    "lenVar": 40
   },
   "kernels_config": {
    "python": {
     "delete_cmd_postfix": "",
     "delete_cmd_prefix": "del ",
     "library": "var_list.py",
     "varRefreshCmd": "print(var_dic_list())"
    },
    "r": {
     "delete_cmd_postfix": ") ",
     "delete_cmd_prefix": "rm(",
     "library": "var_list.r",
     "varRefreshCmd": "cat(var_dic_list()) "
    }
   },
   "types_to_exclude": [
    "module",
    "function",
    "builtin_function_or_method",
    "instance",
    "_Feature"
   ],
   "window_display": true
  }
 },
 "nbformat": 4,
 "nbformat_minor": 2
}
