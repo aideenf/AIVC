{
 "cells": [
  {
   "cell_type": "markdown",
   "metadata": {},
   "source": [
    "# UI to conduct a manual audit of the labels from conventions classifiers. \n",
    "\n",
    "\n",
    "# ***IF NOT USING BINDER - UNCHECK THE BOX***\n",
    "\n",
    "\n",
    "The output of the classifiers are stored to\n",
    "\n",
    "    -file 'audit_training_data.gz (which is a zipped pandas database) \n",
    "    -location: cp_wssc/Data/Iterative-models-building/Classification results/Conventions/\n",
    "\n",
    "The UI randomly displays an already classified sentence for the purpose of audit and correction\n",
    "\n",
    "Completed audits will be stored locally until the \"Save to GIT\" button is selected, in which case the tsv of audit will be stored to \n",
    "\n",
    "    - file 'audit_training_data-{gituser}{date}.tsv \n",
    "    -location: cp_wssc/Data/Iterative-models-building/Classification results/Conventions/Audited/\n",
    "\n",
    "Content of the Audited files may be coccat and added to the Train_Validate data.\n"
   ]
  },
  {
   "cell_type": "code",
   "execution_count": 1,
   "metadata": {
    "ExecuteTime": {
     "end_time": "2019-10-05T02:12:06.998218Z",
     "start_time": "2019-10-05T02:12:06.439445Z"
    }
   },
   "outputs": [],
   "source": [
    "import os\n",
    "import re\n",
    "import random\n",
    "import glob\n",
    "import pandas as pd\n",
    "import numpy as np\n",
    "from datetime import datetime\n",
    "from IPython.display import display, clear_output, HTML\n",
    "import base64\n",
    "import io\n",
    "import ipywidgets as widgets\n",
    "from ipywidgets import interact, interact_manual\n",
    "import base64\n",
    "from github import Github\n",
    "from github import InputGitTreeElement\n",
    "import requests\n",
    "import time"
   ]
  },
  {
   "cell_type": "code",
   "execution_count": 2,
   "metadata": {
    "ExecuteTime": {
     "end_time": "2019-10-05T02:12:08.761704Z",
     "start_time": "2019-10-05T02:12:08.744263Z"
    }
   },
   "outputs": [
    {
     "data": {
      "application/javascript": [
       "//To remove scroll from any output area and automatically extend the jupyter cell\n",
       "IPython.OutputArea.prototype._should_scroll = function(lines) {\n",
       "    return false;\n",
       "}\n"
      ],
      "text/plain": [
       "<IPython.core.display.Javascript object>"
      ]
     },
     "metadata": {},
     "output_type": "display_data"
    }
   ],
   "source": [
    "%%javascript\n",
    "//To remove scroll from any output area and automatically extend the jupyter cell\n",
    "IPython.OutputArea.prototype._should_scroll = function(lines) {\n",
    "    return false;\n",
    "}"
   ]
  },
  {
   "cell_type": "code",
   "execution_count": 3,
   "metadata": {
    "ExecuteTime": {
     "end_time": "2019-10-05T02:12:12.749207Z",
     "start_time": "2019-10-05T02:12:12.720144Z"
    },
    "scrolled": true
   },
   "outputs": [
    {
     "data": {
      "application/vnd.jupyter.widget-view+json": {
       "model_id": "059cc0e4112b4c4893a731091ed4cf01",
       "version_major": 2,
       "version_minor": 0
      },
      "text/plain": [
       "Checkbox(value=True, description='*ONLY* CLICK THIS BOX IF RUNNING ON BINDER', layout=Layout(width='500px'), s…"
      ]
     },
     "metadata": {},
     "output_type": "display_data"
    },
    {
     "name": "stdout",
     "output_type": "stream",
     "text": [
      "./Data/Iterative-models-building/Classification results/Conventions/Audited/\n"
     ]
    }
   ],
   "source": [
    "FLAG__ON_BINDER = True\n",
    "FLAG__FROM_GIT = True\n",
    "\n",
    "my_style = {'description_width': 'initial'}\n",
    "my_layout = {'width': '500px'}\n",
    "my_layout_short = {'width': '300px'}\n",
    "\n",
    "\n",
    "box_binder = widgets.Checkbox(True, description='*ONLY* CLICK THIS BOX IF RUNNING ON BINDER', style = my_style, layout = my_layout)\n",
    "\n",
    "def update_box_binder(change):\n",
    "    global FLAG__ON_BINDER\n",
    "    global FILE_PATH\n",
    "    global DOWNLOAD_PATH\n",
    "    FILE_NAME = 'audit_training_data.gz'\n",
    "    FLAG__ON_BINDER = change['new']\n",
    "    \n",
    "    if (FLAG__ON_BINDER == True):\n",
    "        DOWNLOAD_PATH = '/home/jovyan/cp_wssc/Data/Iterative-models-building/Classification results/Conventions/'\n",
    "        DOWNLOAD_PATH = DOWNLOAD_PATH + FILE_NAME\n",
    "        FILE_PATH = '/home/jovyan/cp_wssc/Data/Iterative-models-building/Classification results/Conventions/Audited/'\n",
    "\n",
    "    else:\n",
    "        DOWNLOAD_PATH = './Data/Iterative-models-building/Classification results/Conventions/'\n",
    "        DOWNLOAD_PATH = DOWNLOAD_PATH + FILE_NAME\n",
    "        FILE_PATH = './Data/Iterative-models-building/Classification results/Conventions/Audited/'\n",
    "        if not os.path.exists(DOWNLOAD_PATH):\n",
    "            os.makedirs(DOWNLOAD_PATH)\n",
    "\n",
    "        if not os.path.exists(FILE_PATH):\n",
    "            os.makedirs(FILE_PATH)\n",
    "    print (FILE_PATH)\n",
    "   \n",
    "    \n",
    "box_binder.observe(update_box_binder, 'value')\n",
    "\n",
    "display(box_binder)\n"
   ]
  },
  {
   "cell_type": "code",
   "execution_count": 4,
   "metadata": {
    "ExecuteTime": {
     "end_time": "2019-10-05T02:12:19.282005Z",
     "start_time": "2019-10-05T02:12:19.275086Z"
    }
   },
   "outputs": [],
   "source": [
    "FILE_NAME = 'audit_training_data.gz'\n",
    "\n",
    "TOTAL_RECORDS_AUDITED = 0\n",
    "TOTAL_UNSAVED_AUDITS = 0\n",
    "LAST_SAVED = \"\"\n",
    "\n",
    "if FLAG__ON_BINDER == True:\n",
    "    DOWNLOAD_PATH = '/home/jovyan/cp_wssc/Data/Iterative-models-building/Classification results/Conventions/'\n",
    "    DOWNLOAD_PATH = DOWNLOAD_PATH + FILE_NAME\n",
    "    FILE_PATH = '/home/jovyan/cp_wssc/Data/Iterative-models-building/Classification results/Conventions/Audited/'\n",
    "    \n",
    "else:\n",
    "    DOWNLOAD_PATH = './Data/Iterative-models-building/Classification results/Conventions/'\n",
    "    DOWNLOAD_PATH = DOWNLOAD_PATH + FILE_NAME\n",
    "    FILE_PATH = './Data/Iterative-models-building/Classification results/Conventions/Audited/'\n",
    "    \n",
    "if FLAG__FROM_GIT == True:\n",
    "    DOWNLOAD_PATH = 'https://github.com/aideenf/AIVC/blob/master/cp_wssc/Data/Iterative-models-building/Classification%20results/Conventions/audit_training_data.gz?raw=true'\n",
    "    GIT_PUSH_PATH = 'cp_wssc/Data/Iterative-models-building/Classification results/Conventions/Audited/'    "
   ]
  },
  {
   "cell_type": "code",
   "execution_count": 5,
   "metadata": {
    "ExecuteTime": {
     "end_time": "2019-10-05T02:12:21.250741Z",
     "start_time": "2019-10-05T02:12:21.239375Z"
    },
    "scrolled": true
   },
   "outputs": [],
   "source": [
    "def retrieve_data_frame ():\n",
    "   \n",
    "    if FLAG__FROM_GIT == True:\n",
    "        # sep='\\t'  to specify tab seperated?\n",
    "        df = pd.read_csv(DOWNLOAD_PATH, error_bad_lines=False, compression='gzip', header=0, quotechar='\"')\n",
    "\n",
    "    if FLAG__FROM_GIT == False:\n",
    "        df = pd.read_csv(DOWNLOAD_PATH, sep='\\t')\n",
    "\n",
    "    df = df.drop(df.columns[0], axis=1)\n",
    "    #print(\"num of records with NaN\", df.isna().sum() )\n",
    "    #Drop any rows where there is 0 confidence value. \n",
    "    df = df.dropna(subset=['confidence_value'])\n",
    "    #if source is not specified, fill as other. \n",
    "    df['data_provenance'] = df.data_provenance.fillna('other')\n",
    "     #print(\"num of records with NaN\", df.isna().sum() )\n",
    "    row_to_edit = df.sample(n = 1)\n",
    "    index_number = 0 \n",
    "    print(\"data file loaded (or re-loaded after save to git)\")\n",
    "    return df\n"
   ]
  },
  {
   "cell_type": "code",
   "execution_count": 6,
   "metadata": {
    "ExecuteTime": {
     "end_time": "2019-10-05T02:13:34.090167Z",
     "start_time": "2019-10-05T02:12:22.749021Z"
    },
    "scrolled": true
   },
   "outputs": [
    {
     "name": "stdout",
     "output_type": "stream",
     "text": [
      "data file loaded (or re-loaded after save to git)\n"
     ]
    }
   ],
   "source": [
    "convention_sentences_df = []\n",
    "\n",
    "audited_df = pd.DataFrame(columns=['text', 'provenance', 'convention', 'old', 'new'])\n",
    "convention_sentences_df = retrieve_data_frame ()"
   ]
  },
  {
   "cell_type": "code",
   "execution_count": 7,
   "metadata": {
    "ExecuteTime": {
     "end_time": "2019-10-05T02:13:36.089790Z",
     "start_time": "2019-10-05T02:13:36.060089Z"
    }
   },
   "outputs": [
    {
     "data": {
      "text/plain": [
       "'Data to audit loaded from GitHub'"
      ]
     },
     "metadata": {},
     "output_type": "display_data"
    },
    {
     "data": {
      "text/html": [
       "<div>\n",
       "<style scoped>\n",
       "    .dataframe tbody tr th:only-of-type {\n",
       "        vertical-align: middle;\n",
       "    }\n",
       "\n",
       "    .dataframe tbody tr th {\n",
       "        vertical-align: top;\n",
       "    }\n",
       "\n",
       "    .dataframe thead th {\n",
       "        text-align: right;\n",
       "    }\n",
       "</style>\n",
       "<table border=\"1\" class=\"dataframe\">\n",
       "  <thead>\n",
       "    <tr style=\"text-align: right;\">\n",
       "      <th></th>\n",
       "      <th>text</th>\n",
       "      <th>confidence_value</th>\n",
       "      <th>confidence_level</th>\n",
       "      <th>data_provenance</th>\n",
       "      <th>convention_civic</th>\n",
       "      <th>convention_domestic</th>\n",
       "      <th>convention_green</th>\n",
       "      <th>convention_industrial</th>\n",
       "      <th>convention_inspired</th>\n",
       "      <th>convention_market</th>\n",
       "      <th>convention_project</th>\n",
       "      <th>convention_renown</th>\n",
       "    </tr>\n",
       "  </thead>\n",
       "  <tbody>\n",
       "    <tr>\n",
       "      <th>0</th>\n",
       "      <td>Provides easily configurable data import progr...</td>\n",
       "      <td>0.00039</td>\n",
       "      <td>Low</td>\n",
       "      <td>efficiency</td>\n",
       "      <td>0</td>\n",
       "      <td>1</td>\n",
       "      <td>0</td>\n",
       "      <td>0</td>\n",
       "      <td>0</td>\n",
       "      <td>0</td>\n",
       "      <td>0</td>\n",
       "      <td>0</td>\n",
       "    </tr>\n",
       "  </tbody>\n",
       "</table>\n",
       "</div>"
      ],
      "text/plain": [
       "                                                text  confidence_value  \\\n",
       "0  Provides easily configurable data import progr...           0.00039   \n",
       "\n",
       "  confidence_level data_provenance  convention_civic  convention_domestic  \\\n",
       "0              Low      efficiency                 0                    1   \n",
       "\n",
       "   convention_green  convention_industrial  convention_inspired  \\\n",
       "0                 0                      0                    0   \n",
       "\n",
       "   convention_market  convention_project  convention_renown  \n",
       "0                  0                   0                  0  "
      ]
     },
     "metadata": {},
     "output_type": "display_data"
    }
   ],
   "source": [
    "min_confidence = convention_sentences_df.confidence_value.min()\n",
    "if min_confidence < .01:\n",
    "    min_confidence = 0\n",
    "\n",
    "max_confidence = convention_sentences_df.confidence_value.max()\n",
    "display (\"Data to audit loaded from GitHub\")\n",
    "display (convention_sentences_df.head(1))"
   ]
  },
  {
   "cell_type": "code",
   "execution_count": 24,
   "metadata": {
    "ExecuteTime": {
     "end_time": "2019-10-05T02:50:58.305713Z",
     "start_time": "2019-10-05T02:50:58.277143Z"
    }
   },
   "outputs": [],
   "source": [
    "def time_stamp():\n",
    "    now = datetime.now()\n",
    "    timestamp = datetime.timestamp(now)\n",
    "    dt_object = datetime.fromtimestamp(timestamp)\n",
    "    words = str(dt_object).split(' ');\n",
    "    return words[0], words[1]\n",
    "\n",
    "def save_to_github(git_user, git_password, git_repo, my_file_list, push_to_git_as):\n",
    "    '''\n",
    "    in order to push a file to github it must first be stored locally, then pushed\n",
    "    this local location can also be local to a virtual machine. \n",
    "    takes: \n",
    "            git username, password, repo, \n",
    "            a list of files to push to git ie the full local location of file,\n",
    "            a matching list of paths to push each file to in Git hub \n",
    "    '''\n",
    "    user = git_user\n",
    "    password = git_password\n",
    "    url = git_repo\n",
    "    file_list = []  #push these list of files to git\n",
    "    file_names = [] #push to this location in git\n",
    "    \n",
    "    \n",
    "    try:\n",
    "        g = Github(user, password)\n",
    "        repo = g.get_user().get_repo(url)\n",
    "\n",
    "        file_list = my_file_list \n",
    "        file_names = push_to_git_as\n",
    "                 \n",
    "        commit_message = 'training data updated via the audit tool'\n",
    "    \n",
    "        master_ref = repo.get_git_ref('heads/master')\n",
    "        master_sha = master_ref.object.sha\n",
    "        base_tree = repo.get_git_tree(master_sha)\n",
    "        element_list = list()\n",
    "\n",
    "        for i, entry in enumerate(file_list):\n",
    "            print (\"file to commit:\", entry)\n",
    "            \n",
    "            with open(entry) as input_file:\n",
    "                #data = input_file.read()   #works with non zip file\n",
    "                data = base64.b64encode(open(entry, \"rb\").read())\n",
    "                \n",
    "            if entry.endswith('.png'):\n",
    "                data = base64.b64encode(data) \n",
    "                \n",
    "\n",
    "            blob = repo.create_git_blob(data.decode(\"utf-8\"), \"base64\")\n",
    "            element = InputGitTreeElement(path=file_names[i], mode='100644', type='blob', sha=blob.sha)\n",
    "\n",
    "            #push to git as file_names[i]\n",
    "            print (\"push to git as:\", file_names[i])\n",
    "            \n",
    "            #element = InputGitTreeElement(file_names[i], '100644', 'blob', data)\n",
    "            \n",
    "            #element_list is a list of InputGitTreeElement. \n",
    "            #Each one corresponds to a file. \n",
    "            # the 'content' of InputGitTreeElement can only be of type 'str' or 'unicode'. \n",
    "            #When I load a file to memory I have type 'bytes'. \n",
    "            #What is the right way to encode those bytes to str or unicode to upload a .zip\n",
    "            element_list.append(element)   \n",
    "        \n",
    "        tree = repo.create_git_tree(element_list, base_tree)\n",
    "        parent = repo.get_git_commit(master_sha)\n",
    "        commit = repo.create_git_commit(commit_message, tree, [parent])\n",
    "        master_ref.edit(commit.sha)\n",
    "        return commit\n",
    "    except:\n",
    "        print(\"\")\n",
    "        print (\"GITHUB SUBMIT FAILED:\")\n",
    "        print (\"Are your github login credentials correct?\")\n",
    "        print (\"Are you a collaberator in the repo?\")\n",
    "        return \"error\"\n",
    "\n",
    "\n",
    "def save_to_github_not_zip(git_user, git_password, git_repo, my_file_list, push_to_git_as):\n",
    "    print(git_user, git_password, git_repo, my_file_list, push_to_git_as)\n",
    "    user = git_user\n",
    "    password = git_password\n",
    "    url = git_repo\n",
    "    file_list = []  #push these list of files to git\n",
    "    file_names = [] #push to this location in git\n",
    "    \n",
    "    try:\n",
    "        g = Github(user,password)\n",
    "        repo = g.get_user().get_repo(url)\n",
    "\n",
    "        file_list = my_file_list \n",
    "        file_names = push_to_git_as\n",
    "                 \n",
    "        commit_message = 'training data audited via the audit tool'\n",
    "    \n",
    "        master_ref = repo.get_git_ref('heads/master')\n",
    "        master_sha = master_ref.object.sha\n",
    "        base_tree = repo.get_git_tree(master_sha)\n",
    "        element_list = list()\n",
    "\n",
    "        for i, entry in enumerate(file_list):\n",
    "            with open(entry) as input_file:\n",
    "                data = input_file.read()\n",
    "            if entry.endswith('.png'):\n",
    "                data = base64.b64encode(data)\n",
    "                \n",
    "            print (\"file to commit:\", entry)\n",
    "            print (\"push to git as:\", file_names[i])\n",
    "            element = InputGitTreeElement(file_names[i], '100644', 'blob', data)\n",
    "            element_list.append(element)\n",
    "            \n",
    "        tree = repo.create_git_tree(element_list, base_tree)\n",
    "        parent = repo.get_git_commit(master_sha)\n",
    "        commit = repo.create_git_commit(commit_message, tree, [parent])\n",
    "        master_ref.edit(commit.sha)\n",
    "        return commit\n",
    "    except:\n",
    "        \n",
    "        print (\"GITHUB SUBMIT FAILED:\")\n",
    "        print (\"Are your github login credentials correct?\")\n",
    "        print (\"Are you a collaberator in the repo?\")\n",
    "    \n",
    "        return commit\n",
    "        \n"
   ]
  },
  {
   "cell_type": "code",
   "execution_count": 25,
   "metadata": {
    "ExecuteTime": {
     "end_time": "2019-10-05T02:51:03.300420Z",
     "start_time": "2019-10-05T02:51:02.932913Z"
    },
    "scrolled": true
   },
   "outputs": [],
   "source": [
    "\n",
    "\n",
    "selectHTML = widgets.HTML(\n",
    "            \"<h3><left>Apply Audit Filter</left></h3>\")\n",
    "\n",
    "\n",
    "saveHTML = widgets.HTML(\n",
    "            \"<h4><left>push changes to github</left></h4>\")\n",
    "\n",
    "space = widgets.Label('  ', layout=widgets.Layout(width='100%'))\n",
    "\n",
    "\n",
    "convention_drop_down = widgets.Dropdown(\n",
    "    options=['convention_civic', 'convention_domestic', 'convention_green', 'convention_industrial', 'convention_inspired', 'convention_market', 'convention_project', 'convention_renown'],\n",
    "    value='convention_civic',\n",
    "    description='Convention:',\n",
    "    disabled=False,\n",
    "    style = my_style,\n",
    "    layout = my_layout\n",
    ")\n",
    "\n",
    "source_drop_down = widgets.Dropdown(\n",
    "    options =  convention_sentences_df.data_provenance.unique(),\n",
    "    description='Data source:',\n",
    "     #value=None,\n",
    "    disabled=False,\n",
    "    style = my_style,\n",
    "    layout = my_layout\n",
    ")\n",
    "\n",
    "\n",
    "\n",
    "reclassify_drop_down = widgets.Dropdown(\n",
    "    options=['flip current', 'convention_civic', 'convention_domestic', 'convention_green', 'convention_industrial', 'convention_inspired', 'convention_market', 'convention_project', 'convention_renown'],\n",
    "    value='flip current',\n",
    "    description='Re-Classify:',\n",
    "    disabled=False,\n",
    "    style = my_style,\n",
    "    layout = my_layout\n",
    ")\n",
    "\n",
    "\n",
    "\n",
    "convention_true_false = widgets.Dropdown(\n",
    "    options=['True', 'False'],\n",
    "    value='True',\n",
    "    description='Logged as:',\n",
    "    disabled=False,\n",
    "    style = my_style,\n",
    "    layout = my_layout\n",
    ")\n",
    "\n",
    "confidence_score_slider_min = widgets.FloatSlider(\n",
    "    min=min_confidence, \n",
    "    max=max_confidence,\n",
    "    value = 0,\n",
    "    step = 0.1,\n",
    "    description='Min Confidence level:',\n",
    "    style = my_style,\n",
    "    layout = my_layout\n",
    "    )\n",
    "\n",
    "\n",
    "confidence_score_slider_max = widgets.FloatSlider(\n",
    "    min=min_confidence, \n",
    "    max=max_confidence, \n",
    "    value = max_confidence,\n",
    "    step = 0.1,\n",
    "    description='Max Confidence level:',\n",
    "    style = my_style,\n",
    "    layout = my_layout\n",
    "    )\n",
    "\n",
    "change_value_button = widgets.Button(\n",
    "            description='Re-Classify',\n",
    "            disabled=False,\n",
    "            button_style='',\n",
    "            tooltip='Click me',\n",
    "        )\n",
    "\n",
    "\n",
    "keep_value_button = widgets.Button(\n",
    "            description='Classified OK',\n",
    "            disabled=False,\n",
    "            button_style='',\n",
    "            tooltip='Click me',\n",
    "        )\n",
    "\n",
    "audit_next_button = widgets.Button(\n",
    "            description='Skip',\n",
    "            disabled=False,\n",
    "            button_style='',\n",
    "            tooltip='Click me',\n",
    "        )\n",
    "\n",
    "\n",
    "save_to_git_button = widgets.Button(\n",
    "            description='Save to GitHub',\n",
    "            disabled=False,\n",
    "            button_style='',\n",
    "            tooltip='Click me',\n",
    "        )\n",
    "\n",
    "\n",
    "\n",
    "\n",
    "user = widgets.Text(\n",
    "            description='GIT username',\n",
    "            disabled=False,\n",
    "            layout=my_layout_short,\n",
    "            tooltip='enter the new value name',\n",
    "            style = my_style\n",
    "        )\n",
    "\n",
    "\n",
    "pswd = widgets.Password(\n",
    "            description='GIT password',\n",
    "            disabled=False,\n",
    "            layout=my_layout_short,\n",
    "            tooltip='enter the new value name',\n",
    "            style = my_style\n",
    "        )\n",
    "\n",
    "\n",
    "\n",
    "def change_value_button_clicked(b):\n",
    "    global TOTAL_UNSAVED_AUDITS \n",
    "    global TOTAL_RECORDS_AUDITED \n",
    "    global index_number\n",
    "    global row_to_edit\n",
    "    global audited_df\n",
    "    global convention_sentences_df\n",
    "    \n",
    "    with output:\n",
    "        current_value = row_to_edit[convention_drop_down.value].values.astype(int)[0]\n",
    "        if (current_value == 1) :\n",
    "            new_value = 0\n",
    "            print (\"Changed from True to False(\", new_value,\")\")\n",
    "        elif (current_value == 0):\n",
    "            new_value = 1\n",
    "            print (\"Changed from False to(\", new_value,\")\")\n",
    "            \n",
    "        #convention_sentences_df[convention_drop_down.value][row_to_edit.index.values.astype(int)[0]] = new_value\n",
    "        #Add info to the dataframe of Audited\n",
    "        \n",
    "        #audited_df = pd.DataFrame(columns=['text', 'provenance', 'convention'])\n",
    "        text = row_to_edit.text.values.astype(str)[0]\n",
    "        prov = row_to_edit.data_provenance.values.astype(str)[0]\n",
    "        conv = convention_drop_down.value.replace('convention_', '')\n",
    "        \n",
    "        if (reclassify_drop_down.value != 'flip current'):\n",
    "            reclass = reclassify_drop_down.value.replace('convention_', '')\n",
    "            new_value = current_value\n",
    "            current_value = 0\n",
    "        else:\n",
    "            reclass = conv\n",
    "        \n",
    "        #audited_df = pd.DataFrame(columns=['text', 'provenance', 'convention', 'old', 'new'])\n",
    "        current = pd.DataFrame({'text': [text],\n",
    "                                'provenance': [prov],\n",
    "                                'convention': [reclass],\n",
    "                                'old': [current_value],\n",
    "                                'new': [new_value]\n",
    "                               })\n",
    "        audited_df = audited_df.append(current, sort=False, ignore_index=False)\n",
    "        \n",
    "        with output:\n",
    "\n",
    "            print (\"change saved locally in data frame\")\n",
    "            TOTAL_UNSAVED_AUDITS = TOTAL_UNSAVED_AUDITS + 1\n",
    "            TOTAL_RECORDS_AUDITED = TOTAL_RECORDS_AUDITED + 1\n",
    "            time.sleep(1) \n",
    "            clear_output(wait=True)\n",
    "            output_function(convention_drop_down.value, confidence_score_slider_min.value, confidence_score_slider_max.value, source_drop_down.value )\n",
    "\n",
    "\n",
    "def keep_value_button_clicked(b):\n",
    "    global row_to_edit\n",
    "    global audited_df\n",
    "    global TOTAL_UNSAVED_AUDITS \n",
    "    global TOTAL_RECORDS_AUDITED \n",
    "    with output:\n",
    "        clear_output(wait=True)\n",
    "        text = row_to_edit.text.values.astype(str)[0]\n",
    "        prov = row_to_edit.data_provenance.values.astype(str)[0]\n",
    "        conv = convention_drop_down.value.replace('convention_', '')\n",
    "        current = pd.DataFrame({'text': [text],\n",
    "                                'provenance': [prov],\n",
    "                                'convention': [conv],\n",
    "                                'old': [1],\n",
    "                                'new': [1]\n",
    "                               })\n",
    "        audited_df = audited_df.append(current,sort=False,ignore_index=False)\n",
    "        TOTAL_UNSAVED_AUDITS = TOTAL_UNSAVED_AUDITS + 1\n",
    "        TOTAL_RECORDS_AUDITED = TOTAL_RECORDS_AUDITED + 1\n",
    "        output_function(convention_drop_down.value, confidence_score_slider_min.value, confidence_score_slider_max.value, source_drop_down.value )\n",
    "\n",
    "\n",
    "def audit_next_button_clicked(b):\n",
    "    with output:\n",
    "        clear_output(wait=True)\n",
    "        output_function(convention_drop_down.value, confidence_score_slider_min.value, confidence_score_slider_max.value, source_drop_down.value )\n",
    "\n",
    "\n",
    "def save_changes_to_github_button_clicked(b):\n",
    "    global TOTAL_UNSAVED_AUDITS \n",
    "    global convention_sentences_df\n",
    "    global LAST_SAVED\n",
    "    global FILE_PATH\n",
    "    global GIT_PUSH_PATH\n",
    "    global audited_df\n",
    "    GIT_USER = user.value\n",
    "    GIT_PSWD = pswd.value\n",
    "    GIT_REPO = 'AIVC'\n",
    "    D, T = time_stamp()\n",
    "    file_name = 'audited_training_data_'+ GIT_USER   + '_' + D+T +  '.tsv'\n",
    "    file_name_zip = 'audit_training_data_'+ GIT_USER + '_' + D+T +   '.gz'\n",
    "    audited_df.to_csv(FILE_PATH + file_name)\n",
    "    my_file_list = [FILE_PATH + file_name]\n",
    "    push_to_git_as = [GIT_PUSH_PATH + file_name]\n",
    "    commit = save_to_github_not_zip(GIT_USER, GIT_PSWD, GIT_REPO, my_file_list, push_to_git_as)\n",
    "    if (commit != \"error\"):\n",
    "        with outputGitHub:\n",
    "            clear_output(wait=True)\n",
    "            print (\"File commited to github :\", push_to_git_as[0], \"commit:\", commit)\n",
    "            TOTAL_UNSAVED_AUDITS = 0\n",
    "            D, T = time_stamp()\n",
    "            LAST_SAVED = D+T\n",
    "            display(audited_df.head(10))\n",
    "            display(audited_df.head(10))\n",
    "            audited_df = pd.DataFrame(columns=['text', 'provenance', 'convention', 'old', 'new'])\n",
    "    \n",
    "\n",
    "def output_function(convention_drop_down_value, confidence_score_slider_min_value, confidence_score_slider_max_value, source_drop_down_value ):\n",
    "    global convention_sentences_df\n",
    "    global row_to_edit\n",
    "    global index_number\n",
    "    global LAST_SAVED\n",
    "    global TOTAL_RECORDS_AUDITED\n",
    "    global TOTAL_UNSAVED_AUDIT\n",
    "    \n",
    "    reclassify_drop_down.value='flip current'\n",
    "    convention = convention_drop_down_value.replace('convention_', '')\n",
    "     \n",
    "    # Add a filter by > confidence score, maybe this needs to be a slider between two ranges(or two sliders) or a \n",
    "    # slider with 3 text values. Low, Middle, High. with low = a to x, middle x to y and high y to z\n",
    "        \n",
    "    #df.loc[(df[\"B\"] > 50) & (df[\"C\"] == 900), \"A\"]\n",
    "    row_to_edit = convention_sentences_df.loc[(convention_sentences_df[convention_drop_down_value] == 1) &\n",
    "                                            (convention_sentences_df['data_provenance'] == source_drop_down_value) &\n",
    "                                            (convention_sentences_df['confidence_value'] >= confidence_score_slider_min_value) &\n",
    "                                            (convention_sentences_df['confidence_value'] <= confidence_score_slider_max_value)].sample(n = 1)  \n",
    "    \n",
    "\n",
    "    \n",
    "    if not row_to_edit.empty:\n",
    "        row_to_edit = row_to_edit[['text', convention_drop_down_value, 'confidence_value', 'data_provenance']]\n",
    "        display (row_to_edit)\n",
    "        print (\"\")\n",
    "        sentence = row_to_edit['text'].values.astype(str)[0]\n",
    "        display(HTML(\"<b>Sentence to review: </b><font color='green'>\" + sentence + \"</font>\" ))\n",
    "        display(HTML(\"<b>Classified as: </b><font color='green'> \" + \"true\" + \"</font> for <font color='green'>\" +  convention + \" </font>economy of conventions\" ))\n",
    "        index_number = row_to_edit.index.values.astype(int)[0]\n",
    "        print(\"Total audited:\", TOTAL_RECORDS_AUDITED, \" Total unsaved:\", TOTAL_UNSAVED_AUDITS,\" Last Saved:\", LAST_SAVED )\n",
    "        TOTAL_UNSAVED_AUDITS\n",
    "    else:\n",
    "        print (\"No results, change search setting\")\n",
    "    \n",
    "    \n",
    "  \n",
    "output = widgets.interactive_output(output_function, {\n",
    "            'convention_drop_down_value': convention_drop_down,\n",
    "            'confidence_score_slider_min_value': confidence_score_slider_min,\n",
    "            'confidence_score_slider_max_value': confidence_score_slider_max,\n",
    "            'source_drop_down_value': source_drop_down\n",
    "            })\n",
    "\n",
    "outputGitHub = widgets.Output(layout={'border': '1px solid black'})\n",
    "\n",
    "change_value_button.on_click(change_value_button_clicked)\n",
    "keep_value_button.on_click(keep_value_button_clicked)\n",
    "audit_next_button.on_click(audit_next_button_clicked)\n",
    "save_to_git_button.on_click(save_changes_to_github_button_clicked)\n"
   ]
  },
  {
   "cell_type": "code",
   "execution_count": 26,
   "metadata": {
    "ExecuteTime": {
     "end_time": "2019-10-05T02:51:07.250329Z",
     "start_time": "2019-10-05T02:51:07.145095Z"
    },
    "scrolled": true
   },
   "outputs": [
    {
     "data": {
      "application/vnd.jupyter.widget-view+json": {
       "model_id": "1c90c9a3c383405b8cd09cea941d4689",
       "version_major": 2,
       "version_minor": 0
      },
      "text/plain": [
       "Label(value='  ', layout=Layout(width='100%'))"
      ]
     },
     "metadata": {},
     "output_type": "display_data"
    },
    {
     "data": {
      "application/vnd.jupyter.widget-view+json": {
       "model_id": "78e180b63ef244c894ffc428cbe23185",
       "version_major": 2,
       "version_minor": 0
      },
      "text/plain": [
       "HTML(value='<h3><left>Apply Audit Filter</left></h3>')"
      ]
     },
     "metadata": {},
     "output_type": "display_data"
    },
    {
     "data": {
      "application/vnd.jupyter.widget-view+json": {
       "model_id": "5dd66f925f1d4f4aabd923b53c7492bd",
       "version_major": 2,
       "version_minor": 0
      },
      "text/plain": [
       "Dropdown(description='Convention:', layout=Layout(width='500px'), options=('convention_civic', 'convention_dom…"
      ]
     },
     "metadata": {},
     "output_type": "display_data"
    },
    {
     "data": {
      "application/vnd.jupyter.widget-view+json": {
       "model_id": "a7e913ece3cf40ac910120604842afb5",
       "version_major": 2,
       "version_minor": 0
      },
      "text/plain": [
       "Dropdown(description='Data source:', layout=Layout(width='500px'), options=('efficiency', 'HuffPost_News', 'ot…"
      ]
     },
     "metadata": {},
     "output_type": "display_data"
    },
    {
     "data": {
      "application/vnd.jupyter.widget-view+json": {
       "model_id": "593d66dc7741452495bf62ee96949d4e",
       "version_major": 2,
       "version_minor": 0
      },
      "text/plain": [
       "FloatSlider(value=0.0, description='Min Confidence level:', layout=Layout(width='500px'), max=1.0, style=Slide…"
      ]
     },
     "metadata": {},
     "output_type": "display_data"
    },
    {
     "data": {
      "application/vnd.jupyter.widget-view+json": {
       "model_id": "5d1fd30c1cd64124933111e98fb31496",
       "version_major": 2,
       "version_minor": 0
      },
      "text/plain": [
       "FloatSlider(value=1.0, description='Max Confidence level:', layout=Layout(width='500px'), max=1.0, style=Slide…"
      ]
     },
     "metadata": {},
     "output_type": "display_data"
    },
    {
     "data": {
      "application/vnd.jupyter.widget-view+json": {
       "model_id": "01536e222d1d4ec3a2b735e32d6bd202",
       "version_major": 2,
       "version_minor": 0
      },
      "text/plain": [
       "Output()"
      ]
     },
     "metadata": {},
     "output_type": "display_data"
    },
    {
     "data": {
      "application/vnd.jupyter.widget-view+json": {
       "model_id": "1c90c9a3c383405b8cd09cea941d4689",
       "version_major": 2,
       "version_minor": 0
      },
      "text/plain": [
       "Label(value='  ', layout=Layout(width='100%'))"
      ]
     },
     "metadata": {},
     "output_type": "display_data"
    },
    {
     "data": {
      "application/vnd.jupyter.widget-view+json": {
       "model_id": "c34dd5b724614e66a4c3688c1ce47f9f",
       "version_major": 2,
       "version_minor": 0
      },
      "text/plain": [
       "Dropdown(description='Re-Classify:', layout=Layout(width='500px'), options=('flip current', 'convention_civic'…"
      ]
     },
     "metadata": {},
     "output_type": "display_data"
    },
    {
     "data": {
      "application/vnd.jupyter.widget-view+json": {
       "model_id": "5f4f88846c9d4e0999046dead82510ad",
       "version_major": 2,
       "version_minor": 0
      },
      "text/plain": [
       "HBox(children=(Button(description='Re-Classify', style=ButtonStyle(), tooltip='Click me'), Button(description=…"
      ]
     },
     "metadata": {},
     "output_type": "display_data"
    },
    {
     "data": {
      "application/vnd.jupyter.widget-view+json": {
       "model_id": "1c90c9a3c383405b8cd09cea941d4689",
       "version_major": 2,
       "version_minor": 0
      },
      "text/plain": [
       "Label(value='  ', layout=Layout(width='100%'))"
      ]
     },
     "metadata": {},
     "output_type": "display_data"
    },
    {
     "data": {
      "application/vnd.jupyter.widget-view+json": {
       "model_id": "12cfcf3801a0463b9efa9f6d73266001",
       "version_major": 2,
       "version_minor": 0
      },
      "text/plain": [
       "HTML(value='<h4><left>push changes to github</left></h4>')"
      ]
     },
     "metadata": {},
     "output_type": "display_data"
    },
    {
     "data": {
      "application/vnd.jupyter.widget-view+json": {
       "model_id": "366ec4442705494687a7d7c29ca2408c",
       "version_major": 2,
       "version_minor": 0
      },
      "text/plain": [
       "HBox(children=(Text(value='', description='GIT username', layout=Layout(width='300px'), style=DescriptionStyle…"
      ]
     },
     "metadata": {},
     "output_type": "display_data"
    },
    {
     "data": {
      "application/vnd.jupyter.widget-view+json": {
       "model_id": "1c90c9a3c383405b8cd09cea941d4689",
       "version_major": 2,
       "version_minor": 0
      },
      "text/plain": [
       "Label(value='  ', layout=Layout(width='100%'))"
      ]
     },
     "metadata": {},
     "output_type": "display_data"
    },
    {
     "data": {
      "application/vnd.jupyter.widget-view+json": {
       "model_id": "5e436975e1be49e0b236d865fbf428b8",
       "version_major": 2,
       "version_minor": 0
      },
      "text/plain": [
       "Output(layout=Layout(border='1px solid black'))"
      ]
     },
     "metadata": {},
     "output_type": "display_data"
    },
    {
     "data": {
      "application/vnd.jupyter.widget-view+json": {
       "model_id": "1c90c9a3c383405b8cd09cea941d4689",
       "version_major": 2,
       "version_minor": 0
      },
      "text/plain": [
       "Label(value='  ', layout=Layout(width='100%'))"
      ]
     },
     "metadata": {},
     "output_type": "display_data"
    },
    {
     "name": "stdout",
     "output_type": "stream",
     "text": [
      "aideenf aid99rk4 AIVC ['./Data/Iterative-models-building/Classification results/Conventions/Audited/audited_training_data_aideenf_2019-10-0504:51:31.182373.tsv'] ['cp_wssc/Data/Iterative-models-building/Classification results/Conventions/Audited/audited_training_data_aideenf_2019-10-0504:51:31.182373.tsv']\n",
      "file to commit: ./Data/Iterative-models-building/Classification results/Conventions/Audited/audited_training_data_aideenf_2019-10-0504:51:31.182373.tsv\n",
      "push to git as: cp_wssc/Data/Iterative-models-building/Classification results/Conventions/Audited/audited_training_data_aideenf_2019-10-0504:51:31.182373.tsv\n"
     ]
    }
   ],
   "source": [
    "display (\n",
    "        space,\n",
    "        selectHTML,\n",
    "        convention_drop_down, \n",
    "        source_drop_down, \n",
    "        confidence_score_slider_min, \n",
    "          confidence_score_slider_max, \n",
    "        output, \n",
    "        space,\n",
    "        reclassify_drop_down,\n",
    "        widgets.HBox([change_value_button, keep_value_button, audit_next_button]),\n",
    "        space,\n",
    "        saveHTML,\n",
    "        widgets.HBox([user, pswd, save_to_git_button]),\n",
    "        space,\n",
    "        outputGitHub,\n",
    "        space,\n",
    "    )"
   ]
  },
  {
   "cell_type": "code",
   "execution_count": null,
   "metadata": {},
   "outputs": [],
   "source": []
  }
 ],
 "metadata": {
  "kernelspec": {
   "display_name": "Python 3",
   "language": "python",
   "name": "python3"
  },
  "language_info": {
   "codemirror_mode": {
    "name": "ipython",
    "version": 3
   },
   "file_extension": ".py",
   "mimetype": "text/x-python",
   "name": "python",
   "nbconvert_exporter": "python",
   "pygments_lexer": "ipython3",
   "version": "3.6.0"
  },
  "toc": {
   "base_numbering": 1,
   "nav_menu": {},
   "number_sections": true,
   "sideBar": true,
   "skip_h1_title": false,
   "title_cell": "Table of Contents",
   "title_sidebar": "Contents",
   "toc_cell": false,
   "toc_position": {},
   "toc_section_display": true,
   "toc_window_display": false
  },
  "varInspector": {
   "cols": {
    "lenName": 16,
    "lenType": 16,
    "lenVar": 40
   },
   "kernels_config": {
    "python": {
     "delete_cmd_postfix": "",
     "delete_cmd_prefix": "del ",
     "library": "var_list.py",
     "varRefreshCmd": "print(var_dic_list())"
    },
    "r": {
     "delete_cmd_postfix": ") ",
     "delete_cmd_prefix": "rm(",
     "library": "var_list.r",
     "varRefreshCmd": "cat(var_dic_list()) "
    }
   },
   "types_to_exclude": [
    "module",
    "function",
    "builtin_function_or_method",
    "instance",
    "_Feature"
   ],
   "window_display": true
  }
 },
 "nbformat": 4,
 "nbformat_minor": 2
}
