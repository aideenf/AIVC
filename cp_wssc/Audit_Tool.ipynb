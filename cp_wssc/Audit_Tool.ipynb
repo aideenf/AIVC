{
 "cells": [
  {
   "cell_type": "markdown",
   "metadata": {},
   "source": [
    "# UI to conduct a manual audit of the labels from conventions classifiers. \n",
    "\n",
    "\n",
    "# ***IF NOT USING BINDER - UNCHECK THE BOX***\n",
    "\n",
    "\n",
    "The output of the classifier via Iterative_Models_building.ipyng are stored to\n",
    "\n",
    "    -file 'audit_training_data.gz (which is a zipped pandas database) \n",
    "    -location: cp_wssc/Data/Iterative-models-building/Classification results/Conventions/\n",
    "\n",
    "The UI randomly displays an already classified sentence for the purpose of audit and correction\n",
    "\n",
    "Completed audits will be stored locally until the \"Save to GIT\" button is selected, in which case the tsv of audit will be stored to \n",
    "\n",
    "    - file 'audit_training_data-{gituser}{date}.tsv \n",
    "    -location: cp_wssc/Data/Iterative-models-building/Classification results/Conventions/Audited/\n",
    "\n",
    "Content of the Audited files may be coccat and added to the Train_Validate data.\n"
   ]
  },
  {
   "cell_type": "code",
   "execution_count": 1,
   "metadata": {
    "ExecuteTime": {
     "end_time": "2019-12-15T02:01:45.385814Z",
     "start_time": "2019-12-15T02:01:44.412325Z"
    }
   },
   "outputs": [],
   "source": [
    "import os\n",
    "import re\n",
    "import random\n",
    "import glob\n",
    "import pandas as pd\n",
    "import numpy as np\n",
    "from datetime import datetime\n",
    "from IPython.display import display, clear_output, HTML, Image, IFrame\n",
    "import base64\n",
    "import io\n",
    "import ipywidgets as widgets\n",
    "from ipywidgets import interact, interact_manual\n",
    "import base64\n",
    "from github import Github, GithubException\n",
    "from github import InputGitTreeElement\n",
    "import requests\n",
    "import time\n",
    "from io import BytesIO\n",
    "from PIL import Image\n",
    "import urllib.request\n"
   ]
  },
  {
   "cell_type": "code",
   "execution_count": 2,
   "metadata": {
    "ExecuteTime": {
     "end_time": "2019-12-15T02:01:45.685405Z",
     "start_time": "2019-12-15T02:01:45.658569Z"
    }
   },
   "outputs": [
    {
     "data": {
      "application/javascript": [
       "//To remove scroll from any output area and automatically extend the jupyter cell\n",
       "IPython.OutputArea.prototype._should_scroll = function(lines) {\n",
       "    return false;\n",
       "}\n"
      ],
      "text/plain": [
       "<IPython.core.display.Javascript object>"
      ]
     },
     "metadata": {},
     "output_type": "display_data"
    }
   ],
   "source": [
    "%%javascript\n",
    "//To remove scroll from any output area and automatically extend the jupyter cell\n",
    "IPython.OutputArea.prototype._should_scroll = function(lines) {\n",
    "    return false;\n",
    "}"
   ]
  },
  {
   "cell_type": "code",
   "execution_count": 3,
   "metadata": {
    "ExecuteTime": {
     "end_time": "2019-12-15T02:01:46.031198Z",
     "start_time": "2019-12-15T02:01:46.021900Z"
    }
   },
   "outputs": [],
   "source": [
    "FLAG__ON_BINDER = True\n",
    "FLAG__FROM_GIT = True\n",
    "DOWNLOAD_TSV_PATH = './Data/Iterative-models-building/Classification results/Conventions/Audited/'\n",
    "\n",
    "\n",
    "########These are all defined in the shared helper files should modify to point there####\n",
    "RESOURCES_DIR_LOCAL = 'Data/Iterative-models-building/Resources/'\n",
    "RESOURCES_DIR_GIT = 'cp_wssc/Data/Iterative-models-building/Resources/'\n",
    "RESOURCES_URL_GIT = 'https://github.com/aideenf/AIVC/blob/master/cp_wssc/Data/Iterative-models-building/Resources/'\n",
    "CLASSIFIED_DATA_DIR_LOCAL  = './Data/Iterative-models-building/Classification results/Conventions/'\n",
    "CLASSIFIED_DATA_DIR_GIT =  'cp_wssc/Data/Iterative-models-building/Classification results/Conventions/'\n",
    "AUDITED_DATA_DIR_LOCAL  = './Data/Iterative-models-building/Classification results/Conventions/Audited'\n",
    "AUDITED_DATA_DIR_GIT =  'cp_wssc/Data/Iterative-models-building/Classification results/Conventions/Audited'\n",
    "###########                 \n",
    "\n",
    "my_style = {'description_width': 'initial'}\n",
    "my_layout = {'width': '600px'}\n",
    "my_layout_short = {'width': '300px'}\n",
    "my_layout_shortest = {'width': '200px'}"
   ]
  },
  {
   "cell_type": "code",
   "execution_count": 5,
   "metadata": {
    "ExecuteTime": {
     "end_time": "2019-12-15T02:01:51.467344Z",
     "start_time": "2019-12-15T02:01:51.438513Z"
    },
    "scrolled": true
   },
   "outputs": [
    {
     "data": {
      "application/vnd.jupyter.widget-view+json": {
       "model_id": "e2b2ab5e5314444bbf74a13bb3c47d79",
       "version_major": 2,
       "version_minor": 0
      },
      "text/plain": [
       "Checkbox(value=True, description='*MUST un-check thid box IF NOT running on binder', layout=Layout(width='600p…"
      ]
     },
     "metadata": {},
     "output_type": "display_data"
    },
    {
     "name": "stdout",
     "output_type": "stream",
     "text": [
      "....loading test tool\n",
      "./Data/Iterative-models-building/Classification results/Conventions/Audited/\n"
     ]
    }
   ],
   "source": [
    "\n",
    "box_binder = widgets.Checkbox(True, description='*MUST un-check thid box IF NOT running on binder', style = my_style, layout = my_layout)\n",
    "\n",
    "def update_box_binder(change):\n",
    "    global FLAG__ON_BINDER\n",
    "    global FILE_PATH\n",
    "    global DOWNLOAD_PATH\n",
    "    FILE_NAME = 'audit_training_data.gz'\n",
    "    FLAG__ON_BINDER = change['new']\n",
    "    if (FLAG__ON_BINDER == True):\n",
    "        DOWNLOAD_PATH = '/home/jovyan/cp_wssc/Data/Iterative-models-building/Classification results/Conventions/'\n",
    "        DOWNLOAD_PATH = DOWNLOAD_PATH + FILE_NAME\n",
    "        FILE_PATH = '/home/jovyan/cp_wssc/Data/Iterative-models-building/Classification results/Conventions/Audited/'\n",
    "\n",
    "    else:\n",
    "        DOWNLOAD_PATH = './Data/Iterative-models-building/Classification results/Conventions/'\n",
    "        DOWNLOAD_PATH = DOWNLOAD_PATH + FILE_NAME\n",
    "        FILE_PATH = './Data/Iterative-models-building/Classification results/Conventions/Audited/'\n",
    "        if not os.path.exists(DOWNLOAD_PATH):\n",
    "            os.makedirs(DOWNLOAD_PATH)\n",
    "\n",
    "        if not os.path.exists(FILE_PATH):\n",
    "            os.makedirs(FILE_PATH)\n",
    "    print (FILE_PATH)\n",
    "   \n",
    "    \n",
    "box_binder.observe(update_box_binder, 'value')\n",
    "\n",
    "display(box_binder)\n",
    "print(\"....loading test tool\")"
   ]
  },
  {
   "cell_type": "code",
   "execution_count": 6,
   "metadata": {
    "ExecuteTime": {
     "end_time": "2019-12-15T02:01:52.569841Z",
     "start_time": "2019-12-15T02:01:52.563012Z"
    }
   },
   "outputs": [],
   "source": [
    "FILE_NAME = 'audit_training_data.gz'\n",
    "TOTAL_RECORDS_AUDITED = 0\n",
    "TOTAL_UNSAVED_AUDITS = 0\n",
    "LAST_SAVED = \"\"\n",
    "LAST_FILE_SAVED = \"\"\n",
    "\n",
    "if FLAG__ON_BINDER == True:\n",
    "    DOWNLOAD_PATH = '/home/jovyan/cp_wssc/Data/Iterative-models-building/Classification results/Conventions/'\n",
    "    DOWNLOAD_PATH = DOWNLOAD_PATH + FILE_NAME\n",
    "    FILE_PATH = '/home/jovyan/cp_wssc/Data/Iterative-models-building/Classification results/Conventions/Audited/'\n",
    "    \n",
    "else:\n",
    "    DOWNLOAD_PATH = './Data/Iterative-models-building/Classification results/Conventions/'\n",
    "    DOWNLOAD_PATH = DOWNLOAD_PATH + FILE_NAME\n",
    "    FILE_PATH = './Data/Iterative-models-building/Classification results/Conventions/Audited/'\n",
    "    \n",
    "if FLAG__FROM_GIT == True:\n",
    "    DOWNLOAD_PATH = 'https://github.com/aideenf/AIVC/blob/master/cp_wssc/Data/Iterative-models-building/Classification%20results/Conventions/audit_training_data.gz?raw=true'\n",
    "    GIT_PUSH_PATH = 'cp_wssc/Data/Iterative-models-building/Classification results/Conventions/Audited/' \n",
    "    IMAGE_PATH = 'https://github.com/aideenf/AIVC/raw/master/cp_wssc/Data/Iterative-models-building/Resources/labelled_data_proportions.png'\n",
    "    "
   ]
  },
  {
   "cell_type": "code",
   "execution_count": 7,
   "metadata": {
    "ExecuteTime": {
     "end_time": "2019-12-15T02:02:03.853467Z",
     "start_time": "2019-12-15T02:02:03.844414Z"
    },
    "scrolled": true
   },
   "outputs": [],
   "source": [
    "# Set CSS properties for th elements in dataframe\n",
    "th_props = [\n",
    "  ('font-size', '15px'),\n",
    "  ('text-align', 'center'),\n",
    "  #('font-weight', 'bold'),\n",
    "  ('color', 'grey'),\n",
    "  ('background-color', 'lightgrey'),\n",
    "  ('border-color', 'black'),\n",
    "  ('border-style' ,'solid') ,\n",
    "  ('border-width', '1px'),\n",
    "  ('border-collapse','collapse'),\n",
    "  ('max-width', '700px'),\n",
    "  ('min-width', '700px')\n",
    "  ]\n",
    "  \n",
    "\n",
    "# Set CSS properties for td elements in dataframe\n",
    "td_props = [\n",
    "  ('font-size', '15px'),\n",
    "  ('text-align', 'left'),\n",
    "  #('font-weight', 'bold'),\n",
    "  ('color', 'lightgrey'),\n",
    "  ('background-color', 'grey'),\n",
    "  ('border-color', 'black'),\n",
    "  ('border-style' ,'solid') ,\n",
    "  ('border-width', '1px'),\n",
    "  ('border-collapse','collapse'),\n",
    "  ('height', '100px'),\n",
    "  ('max-width', '700px'),\n",
    "  ('min-width', '700px')\n",
    "  ]\n",
    "\n",
    "# Set table styles\n",
    "styles = [\n",
    "  dict(selector=\"th\", props=th_props),\n",
    "  dict(selector=\"td\", props=td_props)\n",
    "  ]\n"
   ]
  },
  {
   "cell_type": "code",
   "execution_count": 8,
   "metadata": {
    "ExecuteTime": {
     "end_time": "2019-12-15T02:02:04.806262Z",
     "start_time": "2019-12-15T02:02:04.781032Z"
    },
    "scrolled": true
   },
   "outputs": [],
   "source": [
    "def image_to_byte_array(image:Image):\n",
    "  imgByteArr = io.BytesIO()\n",
    "  image.save(imgByteArr, format=image.format)\n",
    "  imgByteArr = imgByteArr.getvalue()\n",
    "  return imgByteArr\n",
    "\n",
    "\n",
    "def retrieve_classified_data (path):\n",
    "   \n",
    "    if FLAG__FROM_GIT == True:\n",
    "        # sep='\\t'  to specify tab seperated?\n",
    "        df = pd.read_csv(path, error_bad_lines=False, compression='gzip', header=0, quotechar='\"')\n",
    "\n",
    "    if FLAG__FROM_GIT == False:\n",
    "        df = pd.read_csv(path, sep='\\t')\n",
    "\n",
    "    df = df.drop(df.columns[0], axis=1)\n",
    "    \n",
    "    #print(\"num of records with NaN\", df.isna().sum() )\n",
    "    \n",
    "    #Drop any rows where there is 0 confidence value. \n",
    "    df = df.dropna(subset=['confidence_value'])\n",
    "    #if source is not specified, fill as other. \n",
    "    df['data_provenance'] = df.data_provenance.fillna('other')\n",
    "    row_to_edit = df.sample(n = 1)\n",
    "    index_number = 0     \n",
    "    #print(\"num of records with NaN\", df.isna().sum() )   \n",
    "    #remove rows where text = \"unknown\"\n",
    "    df = df[df['text']!=\"unknown\"]\n",
    "    \n",
    "    print(\"data file loaded:\", len(df.index), \" rows\")\n",
    "    return df\n",
    "\n",
    "\n",
    "\n",
    "    # Method to get the latest aggregate audited data and to return a pandas DB containing the aggregated content.\n",
    "\n",
    "def get_aggregated_classified_data(self, use_git,\n",
    "                                    data_dir_git,\n",
    "                                    data_dir_local,\n",
    "                                    github__url,\n",
    "                                    git_owner,\n",
    "                                    git_repo):\n",
    "    use_git = use_git\n",
    "    data_dir_git = data_dir_git\n",
    "    data_dir_local = data_dir_local\n",
    "    github_url_path = github_url\n",
    "    git_owner = git_owner\n",
    "    git_repo = git_repo\n",
    "\n",
    "    aivm_helper = AIVM_helper()\n",
    "\n",
    "    files = []\n",
    "    data = {}\n",
    "    all_df = pd.DataFrame(columns=['text', 'provenance'])\n",
    "\n",
    "    if (use_git == True):\n",
    "        files = aivm_helper.list_files_from_github_dir(git_owner, git_repo, data_dir_git)\n",
    "        files = aivm_helper.remove_excluded_files(files)\n",
    "        for f in files:\n",
    "            data[aivm_helper.clean_file_name(f)] = pd.read_csv(github_url_path+f, sep='\\t', error_bad_lines=False)\n",
    "            # NOTE: \"truncated\": false  we should check for truncated = true to do follow on call to get all files\n",
    "            tmp_df = data[aivm_helper.clean_file_name(f)]\n",
    "            tmp_df = tmp_df.rename(columns={\"sentence\": \"text\"})\n",
    "            all_df = all_df.append(tmp_df)\n",
    "\n",
    "    elif (use_git == False):\n",
    "        # For each file() in gathered conventions folder\n",
    "        files = [f for f in os.listdir(data_dir_local)]\n",
    "        files = aivm_helper.remove_excluded_files(files)\n",
    "        for f in files:\n",
    "            data[aivm_helper.clean_file_name(f)] = pd.read_csv(os.path.join(data_dir_local, f), sep='\\t')\n",
    "            tmp_df = data[aivm_helper.clean_file_name(f)]\n",
    "            tmp_df = tmp_df.rename(columns={\"sentence\": \"text\"})\n",
    "            all_df = all_df.append(tmp_df)\n",
    "\n",
    "    gc.collect()\n",
    "    return files, all_df\n"
   ]
  },
  {
   "cell_type": "markdown",
   "metadata": {},
   "source": [
    "# Read the key words from GIT"
   ]
  },
  {
   "cell_type": "code",
   "execution_count": 30,
   "metadata": {
    "ExecuteTime": {
     "end_time": "2019-12-15T02:18:27.436507Z",
     "start_time": "2019-12-15T02:18:27.121846Z"
    },
    "scrolled": true
   },
   "outputs": [],
   "source": [
    "urlBase  = 'https://raw.githubusercontent.com/aideenf/AIVC/master/cp_wssc/Data/Iterative-models-building/Resources/keywords_df.csv'\n",
    "dfKeyWords = pd.read_csv(urlBase, index_col = False)\n",
    "list_conv = list (pd.unique(dfKeyWords['convention']))\n",
    "conventions = list (pd.unique(dfKeyWords['convention']))\n",
    "list_conv.sort()\n",
    "conventions.sort()\n",
    "keyword_de_dict = {}\n",
    "keyword_td_dict = {}\n",
    "for conv in list_conv:\n",
    "    keyword_de_dict[conv] = dfKeyWords.loc[(dfKeyWords['convention'] == conv) & (dfKeyWords['source'] == \"domain_expert\"), 'word'].tolist()\n",
    "    keyword_td_dict[conv] = dfKeyWords.loc[ (dfKeyWords['convention'] == conv) & (dfKeyWords['source'] != \"domain_expert\"), 'word'].tolist()"
   ]
  },
  {
   "cell_type": "code",
   "execution_count": 31,
   "metadata": {
    "ExecuteTime": {
     "end_time": "2019-12-15T02:19:10.858073Z",
     "start_time": "2019-12-15T02:18:38.157387Z"
    },
    "scrolled": false
   },
   "outputs": [
    {
     "data": {
      "text/plain": [
       "'Total number of sentences'"
      ]
     },
     "metadata": {},
     "output_type": "display_data"
    },
    {
     "data": {
      "text/plain": [
       "170099"
      ]
     },
     "metadata": {},
     "output_type": "display_data"
    },
    {
     "data": {
      "text/html": [
       "<div>\n",
       "<style scoped>\n",
       "    .dataframe tbody tr th:only-of-type {\n",
       "        vertical-align: middle;\n",
       "    }\n",
       "\n",
       "    .dataframe tbody tr th {\n",
       "        vertical-align: top;\n",
       "    }\n",
       "\n",
       "    .dataframe thead th {\n",
       "        text-align: right;\n",
       "    }\n",
       "</style>\n",
       "<table border=\"1\" class=\"dataframe\">\n",
       "  <thead>\n",
       "    <tr style=\"text-align: right;\">\n",
       "      <th></th>\n",
       "      <th>Unnamed: 0</th>\n",
       "      <th>text</th>\n",
       "      <th>ref</th>\n",
       "      <th>repo</th>\n",
       "      <th>data_provenance</th>\n",
       "      <th>convention_civic</th>\n",
       "      <th>convention_domestic</th>\n",
       "      <th>convention_green</th>\n",
       "      <th>convention_industrial</th>\n",
       "      <th>convention_inspired</th>\n",
       "      <th>convention_market</th>\n",
       "      <th>convention_project</th>\n",
       "      <th>convention_renown</th>\n",
       "    </tr>\n",
       "  </thead>\n",
       "  <tbody>\n",
       "    <tr>\n",
       "      <th>0</th>\n",
       "      <td>0</td>\n",
       "      <td>Tensorflow is an end-to-end open source platfo...</td>\n",
       "      <td>45717250</td>\n",
       "      <td>tensorflow/tensorflow</td>\n",
       "      <td>github_ai</td>\n",
       "      <td>0.000000</td>\n",
       "      <td>0.121212</td>\n",
       "      <td>0.000000</td>\n",
       "      <td>0.400000</td>\n",
       "      <td>0.000</td>\n",
       "      <td>0.127273</td>\n",
       "      <td>0.0</td>\n",
       "      <td>0.019608</td>\n",
       "    </tr>\n",
       "    <tr>\n",
       "      <th>1</th>\n",
       "      <td>1</td>\n",
       "      <td>It has a comprehensive, flexible ecosystem of ...</td>\n",
       "      <td>45717250</td>\n",
       "      <td>tensorflow/tensorflow</td>\n",
       "      <td>github_ai</td>\n",
       "      <td>0.000000</td>\n",
       "      <td>0.000000</td>\n",
       "      <td>0.259259</td>\n",
       "      <td>0.113402</td>\n",
       "      <td>0.000</td>\n",
       "      <td>0.035714</td>\n",
       "      <td>0.0</td>\n",
       "      <td>0.019608</td>\n",
       "    </tr>\n",
       "    <tr>\n",
       "      <th>2</th>\n",
       "      <td>2</td>\n",
       "      <td>Tensorflow was originally developed by researc...</td>\n",
       "      <td>45717250</td>\n",
       "      <td>tensorflow/tensorflow</td>\n",
       "      <td>github_ai</td>\n",
       "      <td>0.000000</td>\n",
       "      <td>0.000000</td>\n",
       "      <td>0.092593</td>\n",
       "      <td>0.146064</td>\n",
       "      <td>0.000</td>\n",
       "      <td>0.035714</td>\n",
       "      <td>0.0</td>\n",
       "      <td>0.000000</td>\n",
       "    </tr>\n",
       "    <tr>\n",
       "      <th>3</th>\n",
       "      <td>3</td>\n",
       "      <td>The system is general enough to be applicable ...</td>\n",
       "      <td>45717250</td>\n",
       "      <td>tensorflow/tensorflow</td>\n",
       "      <td>github_ai</td>\n",
       "      <td>0.046512</td>\n",
       "      <td>0.121212</td>\n",
       "      <td>0.259259</td>\n",
       "      <td>0.312500</td>\n",
       "      <td>0.025</td>\n",
       "      <td>0.035714</td>\n",
       "      <td>0.0</td>\n",
       "      <td>0.019608</td>\n",
       "    </tr>\n",
       "    <tr>\n",
       "      <th>4</th>\n",
       "      <td>4</td>\n",
       "      <td>Tensorflow provides stable python c++ apis, as...</td>\n",
       "      <td>45717250</td>\n",
       "      <td>tensorflow/tensorflow</td>\n",
       "      <td>github_ai</td>\n",
       "      <td>0.000000</td>\n",
       "      <td>0.000000</td>\n",
       "      <td>0.259259</td>\n",
       "      <td>0.113402</td>\n",
       "      <td>0.000</td>\n",
       "      <td>0.062500</td>\n",
       "      <td>0.0</td>\n",
       "      <td>0.042553</td>\n",
       "    </tr>\n",
       "  </tbody>\n",
       "</table>\n",
       "</div>"
      ],
      "text/plain": [
       "   Unnamed: 0                                               text       ref  \\\n",
       "0           0  Tensorflow is an end-to-end open source platfo...  45717250   \n",
       "1           1  It has a comprehensive, flexible ecosystem of ...  45717250   \n",
       "2           2  Tensorflow was originally developed by researc...  45717250   \n",
       "3           3  The system is general enough to be applicable ...  45717250   \n",
       "4           4  Tensorflow provides stable python c++ apis, as...  45717250   \n",
       "\n",
       "                    repo data_provenance  convention_civic  \\\n",
       "0  tensorflow/tensorflow       github_ai          0.000000   \n",
       "1  tensorflow/tensorflow       github_ai          0.000000   \n",
       "2  tensorflow/tensorflow       github_ai          0.000000   \n",
       "3  tensorflow/tensorflow       github_ai          0.046512   \n",
       "4  tensorflow/tensorflow       github_ai          0.000000   \n",
       "\n",
       "   convention_domestic  convention_green  convention_industrial  \\\n",
       "0             0.121212          0.000000               0.400000   \n",
       "1             0.000000          0.259259               0.113402   \n",
       "2             0.000000          0.092593               0.146064   \n",
       "3             0.121212          0.259259               0.312500   \n",
       "4             0.000000          0.259259               0.113402   \n",
       "\n",
       "   convention_inspired  convention_market  convention_project  \\\n",
       "0                0.000           0.127273                 0.0   \n",
       "1                0.000           0.035714                 0.0   \n",
       "2                0.000           0.035714                 0.0   \n",
       "3                0.025           0.035714                 0.0   \n",
       "4                0.000           0.062500                 0.0   \n",
       "\n",
       "   convention_renown  \n",
       "0           0.019608  \n",
       "1           0.019608  \n",
       "2           0.000000  \n",
       "3           0.019608  \n",
       "4           0.042553  "
      ]
     },
     "metadata": {},
     "output_type": "display_data"
    },
    {
     "data": {
      "text/html": [
       "<div>\n",
       "<style scoped>\n",
       "    .dataframe tbody tr th:only-of-type {\n",
       "        vertical-align: middle;\n",
       "    }\n",
       "\n",
       "    .dataframe tbody tr th {\n",
       "        vertical-align: top;\n",
       "    }\n",
       "\n",
       "    .dataframe thead th {\n",
       "        text-align: right;\n",
       "    }\n",
       "</style>\n",
       "<table border=\"1\" class=\"dataframe\">\n",
       "  <thead>\n",
       "    <tr style=\"text-align: right;\">\n",
       "      <th></th>\n",
       "      <th>text</th>\n",
       "      <th>provenance</th>\n",
       "      <th>civic</th>\n",
       "      <th>domestic</th>\n",
       "      <th>green</th>\n",
       "      <th>industrial</th>\n",
       "      <th>inspired</th>\n",
       "      <th>market</th>\n",
       "      <th>project</th>\n",
       "      <th>renown</th>\n",
       "    </tr>\n",
       "  </thead>\n",
       "  <tbody>\n",
       "  </tbody>\n",
       "</table>\n",
       "</div>"
      ],
      "text/plain": [
       "Empty DataFrame\n",
       "Columns: [text, provenance, civic, domestic, green, industrial, inspired, market, project, renown]\n",
       "Index: []"
      ]
     },
     "metadata": {},
     "output_type": "display_data"
    }
   ],
   "source": [
    "list_conv = np.insert(list_conv, 0, \"text\")\n",
    "list_conv = np.insert(list_conv, 1, \"provenance\")\n",
    "\n",
    "audited_df = pd.DataFrame(columns=list_conv)\n",
    "\n",
    "url_gitHub = 'https://github.com/aideenf/AIVC/blob/master/cp_wssc/Data/Iterative-models-building/Classification%20results/Conventions/git_ai_repo_for_audit_tool.tsv?raw=true'\n",
    "url_reddit = 'https://github.com/aideenf/AIVC/blob/master/cp_wssc/Data/Iterative-models-building/Classification%20results/Conventions/reddit_ai_for_audit_tool.tsv?raw=true'\n",
    "\n",
    "convention_sentences_df = pd.read_csv(url_gitHub, sep = '\\t', index_col = False)\n",
    "convention_sentences_reddit_df = pd.read_csv(url_reddit, sep = '\\t', index_col = False)\n",
    "\n",
    "# classified_data_files, classified_data_df = model_helpers.get_aggregated_gathered_data (\n",
    "#                             USE_GIT_HUB,\n",
    "#                             paths.GATHERED_DATA_CONV_DIR_GIT,\n",
    "#                             paths.GATHERED_DATA_CONV_DIR_LOCAL,\n",
    "#                             paths.GITHUB_GATHERED_URL_PATH, \n",
    "#                             paths.GIT_OWNER,\n",
    "#                             paths.GIT_REPO)\n",
    "\n",
    "\n",
    "# display (convention_sentences_df.head(1)) \n",
    "# display (convention_sentences_reddit_df.head(1)) \n",
    "# display (convention_sentences_df.shape[0]) \n",
    "# display (convention_sentences_reddit_df.shape[0]) \n",
    "\n",
    "convention_sentences_df = pd.concat([convention_sentences_df,convention_sentences_reddit_df], ignore_index=True)\n",
    "# display (convention_sentences_df.head(1)) \n",
    "display (\"Total number of sentences\", convention_sentences_df.shape[0])\n",
    "del convention_sentences_reddit_df"
   ]
  },
  {
   "cell_type": "code",
   "execution_count": 32,
   "metadata": {
    "ExecuteTime": {
     "end_time": "2019-12-15T02:20:30.292621Z",
     "start_time": "2019-12-15T02:20:30.226949Z"
    }
   },
   "outputs": [],
   "source": [
    "def time_stamp():\n",
    "    now = datetime.now()\n",
    "    timestamp = datetime.timestamp(now)\n",
    "    dt_object = datetime.fromtimestamp(timestamp)\n",
    "    words = str(dt_object).split(' ');\n",
    "    return words[0], words[1]\n",
    "\n",
    "def save_to_github(git_user, git_password, git_owner_repo, my_file_list, push_to_git_as):\n",
    "    '''\n",
    "    in order to push a file to github it must first be stored locally, then pushed\n",
    "    this local location can also be local to a virtual machine. \n",
    "    takes: \n",
    "            git username, password, repo, \n",
    "            a list of files to push to git ie the full local location of file,\n",
    "            a matching list of paths to push each file to in Git hub \n",
    "    '''\n",
    "    user = git_user\n",
    "    password = git_password\n",
    "    url = git_owner_repo #owner/repo eg aideenf/AIVC\n",
    "    file_list = []  #push these list of files to git\n",
    "    file_names = [] #push to this location in git\n",
    "    message = 'ok'\n",
    "    \n",
    "    \n",
    "    try:\n",
    "        g = Github(user, password)\n",
    "        try:\n",
    "            repo = g.get_repo(url)\n",
    "        except (IOError, OSError, GithubException) as e: \n",
    "            return \"error\", e.message\n",
    "\n",
    "        file_list = my_file_list \n",
    "        file_names = push_to_git_as\n",
    "                 \n",
    "        commit_message = 'training data updated via the audit tool'\n",
    "    \n",
    "        master_ref = repo.get_git_ref('heads/master')\n",
    "        master_sha = master_ref.object.sha\n",
    "        base_tree = repo.get_git_tree(master_sha)\n",
    "        element_list = list()\n",
    "\n",
    "        for i, entry in enumerate(file_list):   \n",
    "            with open(entry) as input_file:\n",
    "                #data = input_file.read()   #works with non zip file\n",
    "                data = base64.b64encode(open(entry, \"rb\").read())\n",
    "                \n",
    "            if entry.endswith('.png'):\n",
    "                data = base64.b64encode(data) \n",
    "                \n",
    "\n",
    "            blob = repo.create_git_blob(data.decode(\"utf-8\"), \"base64\")\n",
    "            element = InputGitTreeElement(path=file_names[i], mode='100644', type='blob', sha=blob.sha)\n",
    "\n",
    "            #push to git as file_names[i]\n",
    "            #print (\"push to git as:\", file_names[i])           \n",
    "            #element = InputGitTreeElement(file_names[i], '100644', 'blob', data)\n",
    "        \n",
    "        \n",
    "            #element_list is a list of InputGitTreeElement. \n",
    "            #Each one corresponds to a file. \n",
    "            # the 'content' of InputGitTreeElement can only be of type 'str' or 'unicode'. \n",
    "            #When I load a file to memory I have type 'bytes'. \n",
    "            #What is the right way to encode those bytes to str or unicode to upload a .zip\n",
    "            element_list.append(element)   \n",
    "        \n",
    "        tree = repo.create_git_tree(element_list, base_tree)\n",
    "        parent = repo.get_git_commit(master_sha)\n",
    "        commit = repo.create_git_commit(commit_message, tree, [parent])\n",
    "        master_ref.edit(commit.sha)\n",
    "        return commit, message \n",
    "    except:\n",
    "        message = \"GitHub save FAILED:\" + '\\n' +\"Are your github login credentials correct?\" + '\\n' + \"Are you a collaberator in the repo?\"\n",
    "        return \"error\", message\n"
   ]
  },
  {
   "cell_type": "code",
   "execution_count": 36,
   "metadata": {
    "ExecuteTime": {
     "end_time": "2019-12-15T02:23:37.941214Z",
     "start_time": "2019-12-15T02:23:36.708078Z"
    },
    "scrolled": true
   },
   "outputs": [],
   "source": [
    "\n",
    "checkbox_dict = {}\n",
    "cb_list = []\n",
    "for conv in conventions:\n",
    "    checkbox_dict[conv] = widgets.Checkbox(value=False,description=conv,disabled=False, style = my_style,\n",
    "    layout = my_layout_shortest)\n",
    "    cb_list.append(checkbox_dict[conv])\n",
    "    \n",
    "check_boxes  = widgets.HBox(cb_list)\n",
    "\n",
    "\n",
    "###### Confidence values\n",
    "min_confidence = .5 #below this threshold the classification will be negative, above it will be pos\n",
    "max_confidence = 1\n",
    "\n",
    "\n",
    "selectHTMLHead = widgets.HTML(\n",
    "            \"<font color = '#8c8c8c'><h3><center>*** Model Classification, Audit Tool ***</center></h3></font>\")\n",
    "\n",
    "selectHTML = widgets.HTML(\n",
    "            \"<font color = '#8c8c8c'><h4><left>--- Filter ---</left></h4></font>\")\n",
    "\n",
    "saveHTML = widgets.HTML(\n",
    "            \"<h4><left><font color = '#8c8c8c'>--- Push unsaved audits to Github repo ---</font></left></h4>\")\n",
    "\n",
    "actionHTML = widgets.HTML(\n",
    "            \"<font color = '#8c8c8c'><h4><left>--- Action ---</h4></left></font>\")\n",
    "\n",
    "\n",
    "space = widgets.Label('  ', layout=widgets.Layout(width='100%'))\n",
    "small_space = widgets.Label(' ', layout=widgets.Layout(width='5%'))\n",
    "\n",
    "\n",
    "\n",
    "convention_drop_down = widgets.Dropdown(\n",
    "    options={ \n",
    "             'Civic':'convention_civic', \n",
    "             'Domestic':'convention_domestic', \n",
    "             'Green':'convention_green', \n",
    "             'Industrial':'convention_industrial', \n",
    "             'Inspired':'convention_inspired',\n",
    "             'Market':'convention_market', \n",
    "             'Project':'convention_project',\n",
    "             'Renown':'convention_renown',\n",
    "             'None':'None'},\n",
    "    value='convention_civic',\n",
    "    description='Convention  :',\n",
    "    disabled=False,\n",
    "    style = my_style,\n",
    "    layout = my_layout\n",
    ")\n",
    "\n",
    "source_drop_down = widgets.Dropdown(\n",
    "    options =  convention_sentences_df.data_provenance.unique(),\n",
    "    description=\"Data source :\",\n",
    "     #value=None,\n",
    "    disabled=False,\n",
    "    style = my_style,\n",
    "    layout = my_layout\n",
    ")\n",
    "\n",
    "\n",
    "\n",
    "convention_pos_neg = widgets.Dropdown(\n",
    "    options=['Positive', 'Negative'],\n",
    "    value='Positive',\n",
    "    description='Classified as:',\n",
    "    disabled=False,\n",
    "    style = my_style,\n",
    "    layout = my_layout\n",
    ")\n",
    "\n",
    "confidence_score_slider_min = widgets.FloatSlider(\n",
    "    min=min_confidence, \n",
    "    max=max_confidence,\n",
    "    value = min_confidence,\n",
    "    step = 0.1,\n",
    "    description='Min Confidence level:',\n",
    "    style = my_style,\n",
    "    layout = my_layout\n",
    "    )\n",
    "confidence_score_slider_min.style.handle_color = '#5c85d6'\n",
    "\n",
    "\n",
    "confidence_score_slider_max = widgets.FloatSlider(\n",
    "    min=min_confidence, \n",
    "    max=max_confidence, \n",
    "    value = max_confidence,\n",
    "    step = 0.1,\n",
    "    description='Max Confidence level:',\n",
    "    style = my_style,\n",
    "    layout = my_layout\n",
    "    )\n",
    "confidence_score_slider_max.style.handle_color = '#5c85d6'\n",
    "\n",
    "\n",
    "\n",
    "change_value_button = widgets.Button(\n",
    "            description= \"Save\",\n",
    "            disabled=False,\n",
    "            button_style='',\n",
    "            tooltip='Audit complete, change classification',\n",
    "        )\n",
    "change_value_button.style.button_color = '#e68a00'\n",
    "\n",
    "\n",
    "\n",
    "# keep_value_button = widgets.Button(\n",
    "#             description=\"Save\" ,\n",
    "#             disabled=False,\n",
    "#             button_style='',\n",
    "#             tooltip='Audit complete, already classified ok',\n",
    "\n",
    "#         )\n",
    "# keep_value_button.style.button_color = '#00b386'\n",
    "\n",
    "\n",
    "audit_next_button = widgets.Button(\n",
    "            description='Skip',\n",
    "            disabled=False,\n",
    "            button_style='',\n",
    "            tooltip='Move to next, without audit'\n",
    "        )\n",
    "audit_next_button.style.button_color = '#d9d9d9'\n",
    "\n",
    "\n",
    "undo_last_audit = widgets.Button(\n",
    "            description='Undo last',\n",
    "            disabled=False,\n",
    "            button_style='',\n",
    "            tooltip='undoes the last line added to audit'\n",
    "        )\n",
    "audit_next_button.style.button_color = '#d9d9d9'\n",
    "\n",
    "\n",
    "save_to_git_button = widgets.Button(\n",
    "            description='Save to GitHub',\n",
    "            disabled=False,\n",
    "            button_style='',\n",
    "            tooltip='Click me',\n",
    "        )\n",
    "save_to_git_button.style.button_color = '#00b386'\n",
    "\n",
    "\n",
    "\n",
    "download_button = widgets.Button(\n",
    "            description='Download',\n",
    "            disabled=False,\n",
    "            button_style='',\n",
    "            tooltip='Click me',\n",
    "        )\n",
    "download_button.style.button_color = '#d9d9d9'\n",
    "\n",
    "\n",
    "\n",
    "user = widgets.Text(\n",
    "            description='Username',\n",
    "            disabled=False,\n",
    "            layout=my_layout_shortest,\n",
    "            tooltip='Enter your GitHub username',\n",
    "            style = my_style\n",
    "        )\n",
    "\n",
    "\n",
    "pswd = widgets.Password(\n",
    "            description='Password',\n",
    "            disabled=False,\n",
    "            layout=my_layout_shortest,\n",
    "            tooltip='Enter your GitHub password',\n",
    "            style = my_style\n",
    "        )\n",
    "\n",
    "\n",
    "def change_value_button_clicked(b):\n",
    "    \n",
    "    global TOTAL_UNSAVED_AUDITS \n",
    "    global TOTAL_RECORDS_AUDITED \n",
    "    global index_number\n",
    "    global row_to_edit\n",
    "    global audited_df\n",
    "    global convention_sentences_df\n",
    "    \n",
    "        \n",
    "    text = row_to_edit.text.values.astype(str)[0]\n",
    "    prov = row_to_edit.data_provenance.values.astype(str)[0]\n",
    "    current_conv = convention_drop_down.value.replace('convention_', '')\n",
    "    \n",
    "    \n",
    "    current = pd.DataFrame({\n",
    "                            'text': [text],\n",
    "                            'provenance': [prov],\n",
    "                            'civic': [ checkbox_dict['civic'].value ],\n",
    "                            'domestic': [checkbox_dict['domestic'].value],\n",
    "                            'green': [checkbox_dict['green'].value],\n",
    "                            'industrial': [checkbox_dict['industrial'].value],\n",
    "                            'inspired': [checkbox_dict['inspired'].value],\n",
    "                            'market': [checkbox_dict['market'].value],\n",
    "                            'project': [checkbox_dict['project'].value],\n",
    "                            'renown': [checkbox_dict['renown'].value]\n",
    "                            })\n",
    "   \n",
    "    for con in conventions:\n",
    "        current[con] = current[con].astype(int)\n",
    "    \n",
    "    audited_df = audited_df.append(current, ignore_index=True)\n",
    "\n",
    "\n",
    "\n",
    "    \n",
    "    TOTAL_UNSAVED_AUDITS = TOTAL_UNSAVED_AUDITS + 1\n",
    "    TOTAL_RECORDS_AUDITED = TOTAL_RECORDS_AUDITED + 1\n",
    "    with output:\n",
    "        clear_output(wait=True)\n",
    "        output_function(convention_drop_down.value, confidence_score_slider_min.value, confidence_score_slider_max.value, source_drop_down.value, convention_pos_neg.value )\n",
    "    \n",
    "    with outputToSave:\n",
    "        clear_output(wait=True)\n",
    "        display (audited_df)\n",
    "        \n",
    "    with outputGitHub:\n",
    "        clear_output(wait=True)\n",
    "        print (\"\")\n",
    "        \n",
    "\n",
    "def audit_next_button_clicked(b):\n",
    "    with output:\n",
    "        clear_output(wait=True)\n",
    "        output_function(convention_drop_down.value, confidence_score_slider_min.value, confidence_score_slider_max.value, source_drop_down.value, convention_pos_neg.value )\n",
    "    with outputToSave:\n",
    "        clear_output(wait=True)\n",
    "        display (audited_df)\n",
    "    with outputGitHub:\n",
    "        clear_output(wait=True)\n",
    "        print(\"\")\n",
    "        \n",
    "def undo_last_audit_button_clicked(b):\n",
    "    global audited_df\n",
    "    global TOTAL_UNSAVED_AUDITS \n",
    "    global TOTAL_RECORDS_AUDITED\n",
    "\n",
    "    if (audited_df.shape[0] > 0):\n",
    "        audited_df.drop(audited_df.tail(1).index,inplace=True) \n",
    "        with outputToSave:\n",
    "            clear_output(wait=True)\n",
    "            display (audited_df)   \n",
    "        TOTAL_UNSAVED_AUDITS = TOTAL_UNSAVED_AUDITS - 1\n",
    "        with outputCount:\n",
    "            clear_output(wait=True)\n",
    "            print(\"Total audited:\", TOTAL_RECORDS_AUDITED, \" Total unsaved:\", TOTAL_UNSAVED_AUDITS,\" Last Saved:\", LAST_SAVED )\n",
    "       \n",
    "    else:\n",
    "        with outputToSave:\n",
    "            clear_output(wait=True)\n",
    "            print (\"No more rows to delete\")\n",
    "            \n",
    "            \n",
    "def download_button_clicked(b):\n",
    "    global FILE_PATH\n",
    "    global LAST_FILE_SAVED\n",
    "    file_name = DOWNLOAD_TSV_PATH + LAST_FILE_SAVED\n",
    "    display(IFrame(file_name, width=700, height=400))\n",
    "\n",
    "def save_changes_to_github_button_clicked(b):\n",
    "    global TOTAL_UNSAVED_AUDITS \n",
    "    global convention_sentences_df\n",
    "    global LAST_SAVED\n",
    "    global LAST_FILE_SAVED\n",
    "    global FILE_PATH\n",
    "    global GIT_PUSH_PATH\n",
    "    global audited_df\n",
    "    GIT_USER = user.value\n",
    "    GIT_PSWD = pswd.value\n",
    "    GIT_REPO = 'aideenf/AIVC'\n",
    "    D, T = time_stamp()\n",
    "    file_name = 'audited_training_data_'+ GIT_USER   + '_' + D + '-' + T +  '.tsv'\n",
    "    file_name_zip = 'audit_training_data_'+ GIT_USER + '_' + D + '-' + T +   '.gz'\n",
    "    LAST_FILE_SAVED = file_name\n",
    "    with outputGitHub:\n",
    "            clear_output(wait=True)\n",
    "            display(\"saving, please wait....\")\n",
    "    try:\n",
    "        audited_df.to_csv(FILE_PATH + file_name, sep = '\\t', index = False)\n",
    "    except (IOError, OSError) as e:\n",
    "        with outputGitHub:\n",
    "            clear_output(wait=True)\n",
    "            display(HTML(\"<font color='red'><b>Warning!!</b></font>\"))\n",
    "            print (\"Are your settings correct for local machine v's binder?\")\n",
    "            print (e)\n",
    "        return \"error\"\n",
    "        \n",
    "    my_file_list = [FILE_PATH + file_name]\n",
    "    push_to_git_as = [GIT_PUSH_PATH + file_name]\n",
    "    commit, message = save_to_github(GIT_USER, GIT_PSWD, GIT_REPO, my_file_list, push_to_git_as)\n",
    "    if (commit != \"error\"):\n",
    "        with outputGitHub:\n",
    "            clear_output(wait=True)\n",
    "            print (\"File to commit:\", my_file_list[0])\n",
    "            print (\"Push to git as:\", push_to_git_as[0])\n",
    "            print (\"Commit: \", commit)\n",
    "            TOTAL_UNSAVED_AUDITS = 0\n",
    "            D, T = time_stamp()\n",
    "            LAST_SAVED = D+T\n",
    "            print (\"Number of audits saved: \", audited_df.shape[0] )\n",
    "            display(HTML(\"<font color='green'><b>Saved!!</b></font>\"))\n",
    "            audited_df = pd.DataFrame(columns=['text', 'provenance', 'convention', 'old', 'new'])\n",
    "    if (commit == \"error\"):\n",
    "        with outputGitHub:\n",
    "            clear_output(wait=True)\n",
    "            print (\"File to commit: \", my_file_list[0])\n",
    "            print (\"Push to git as: \", push_to_git_as[0])\n",
    "            display(HTML(\"<font color='red'><b>Warning!!</b></font>\"))\n",
    "            print(message)\n",
    "            print (\"\")\n",
    "            print(\"If you continue to have a problem download here and save locally\")\n",
    "            display(download_button)\n",
    "            \n",
    "            \n",
    "\n",
    "def output_function(convention_drop_down_value, confidence_score_slider_min_value, confidence_score_slider_max_value, source_drop_down_value, convention_pos_neg_value ):\n",
    "    global convention_sentences_df\n",
    "    global row_to_edit\n",
    "    global index_number\n",
    "    global LAST_SAVED\n",
    "    global TOTAL_RECORDS_AUDITED\n",
    "    global TOTAL_UNSAVED_AUDIT\n",
    "    \n",
    "    \n",
    "    #Confidence values in the case that .05 is the threshold between Negative and Positive\n",
    "    confidenceOfPosMin = confidence_score_slider_min.value #0.5\n",
    "    confidenceOfPosMax = confidence_score_slider_max.value  #somewhere around 1\n",
    "    confidenceOfNegMin = 0\n",
    "    confidenceOfNegMax = .5\n",
    "    \n",
    "    filter_lower = 0\n",
    "    filter_upper = 1\n",
    "    \n",
    "    if (convention_pos_neg.value ==  'Positive'):\n",
    "\n",
    "        filter_lower = confidenceOfPosMin\n",
    "        filter_upper = confidenceOfPosMax\n",
    "\n",
    "    if (convention_pos_neg.value ==  'Negative'):\n",
    "\n",
    "        filter_lower = confidenceOfNegMin\n",
    "        filter_upper = confidenceOfNegMax\n",
    "    \n",
    "   \n",
    "    convention = convention_drop_down_value.replace('convention_', '')\n",
    "\n",
    "\n",
    "\n",
    "    \n",
    "    try:\n",
    "        \n",
    "        if convention_drop_down_value == \"None\":\n",
    "            row_to_edit = convention_sentences_df.loc[\n",
    "                                            (convention_sentences_df['data_provenance'] == source_drop_down_value) &\n",
    "                                            (convention_sentences_df['convention_civic'] < 0.5) &\n",
    "                                            (convention_sentences_df['convention_domestic'] < 0.5) &\n",
    "                                            (convention_sentences_df['convention_green'] < 0.5) &\n",
    "                                            (convention_sentences_df['convention_industrial'] < 0.5)&\n",
    "                                            (convention_sentences_df['convention_inspired'] < 0.5) &\n",
    "                                            (convention_sentences_df['convention_market'] < 0.5) &\n",
    "                                            (convention_sentences_df['convention_project'] < 0.5) &\n",
    "                                            (convention_sentences_df['convention_renown'] < 0.5)].sample(n = 1)\n",
    "            num_of_examples = convention_sentences_df.loc[\n",
    "                                            (convention_sentences_df['data_provenance'] == source_drop_down_value) &\n",
    "                                            (convention_sentences_df['convention_civic'] < 0.5) &\n",
    "                                            (convention_sentences_df['convention_domestic'] < 0.5) &\n",
    "                                            (convention_sentences_df['convention_green'] < 0.5) &\n",
    "                                            (convention_sentences_df['convention_industrial'] < 0.5) &\n",
    "                                            (convention_sentences_df['convention_inspired'] < 0.5) &\n",
    "                                            (convention_sentences_df['convention_market'] < 0.5) &\n",
    "                                            (convention_sentences_df['convention_project'] < 0.5) &\n",
    "                                            (convention_sentences_df['convention_renown'] < 0.5)].shape[0]\n",
    "            \n",
    "            \n",
    "        else:    \n",
    "            row_to_edit = convention_sentences_df.loc[\n",
    "                                                (convention_sentences_df['data_provenance'] == source_drop_down_value) &\n",
    "                                                (convention_sentences_df[convention_drop_down_value] >= filter_lower) &\n",
    "                                                (convention_sentences_df[convention_drop_down_value] <= filter_upper)].sample(n = 1)\n",
    "        \n",
    "            num_of_examples = convention_sentences_df.loc[\n",
    "                                                (convention_sentences_df['data_provenance'] == source_drop_down_value) &\n",
    "                                                (convention_sentences_df[convention_drop_down_value] >= filter_lower) &\n",
    "                                                (convention_sentences_df[convention_drop_down_value] <= filter_upper)].shape[0]\n",
    "\n",
    "        txt = \"The number of filtered samples is \" + str(num_of_examples)\n",
    "        display(HTML(\"<font color='green'>\" + txt + \"</font>\"))\n",
    "        if (num_of_examples < 20):\n",
    "            display(HTML(\"<font color='green'><b>Warning!</b> \" + \"The sample number is low and you may see repeats\" + \"</font>\"))\n",
    "    except ValueError:\n",
    "        print (ValueError)\n",
    "        display(HTML(\"<font color='red'><b>Warning</b> \" + \"No data, please adjust filter:</font>\"))\n",
    "    \n",
    "    if not row_to_edit.empty:\n",
    "        display (row_to_edit[['text']].style.background_gradient().set_caption('Row randomly selected based on filter').set_table_styles(styles).hide_index())\n",
    "        sentence = row_to_edit['text'].values.astype(str)[0]\n",
    "        try:\n",
    "            conf = row_to_edit[convention_drop_down_value].values.astype(float)[0]\n",
    "        except:\n",
    "            conf = 0\n",
    "        res = \"\"\n",
    "        ref = row_to_edit['ref'].values.astype(str)[0]\n",
    "        repo = row_to_edit['repo'].values.astype(str)[0]\n",
    "        source = row_to_edit['data_provenance'].values.astype(str)[0]\n",
    "        confScore = 0\n",
    "        if (conf > .5):\n",
    "            res = 'POSITIVE'\n",
    "            confScore = conf\n",
    "\n",
    "        if (conf < .5):\n",
    "            res = 'NEGATIVE'\n",
    "            confScore = 1 - conf\n",
    "        \n",
    "        \n",
    "        if source == \"github_ai\":\n",
    "                repo1 = 'https://github.com/' + repo + '/blob/master/README.md'\n",
    "                repo2 = 'https://github.com/' + repo + '/blob/master/README.rst'\n",
    "        else:\n",
    "                repo1 = repo\n",
    "        true_for = \"\"\n",
    "        for conv in conventions:\n",
    "            to_dis = str(round(row_to_edit['convention_'+conv].values[0].item(),2))\n",
    "            checkbox_dict[conv].description = conv + \" (\" + to_dis + \" )\"\n",
    "            val = round ( row_to_edit['convention_'+conv].values[0]).item()\n",
    "            checkbox_dict[conv].value = bool(val)\n",
    "            if bool(val) == True:\n",
    "                true_for = true_for + conv + \", \"\n",
    "        #display(HTML(\"Sentence: <b><font color='green'>\" + sentence + \"</b></font>\" ))\n",
    "        display(HTML(\"Text field classified as: <b><font color='black'>\" + res + \"</b> \" + \"</font> for the <font color='black'><b>\" +  true_for.upper() + \" </b></font>economy of conventions </> \"))\n",
    "        display(HTML(\"Reference :\" + ref))\n",
    "        \n",
    "        display(HTML(\"Link: \" + repo1))\n",
    "        if source == \"github_ai\":\n",
    "            display(HTML(\"Link :\" + repo2))\n",
    "            \n",
    "        \n",
    "        index_number = row_to_edit.index.values.astype(int)[0]\n",
    "        try:\n",
    "            with outputCount:\n",
    "                clear_output(wait=True)\n",
    "                print(\"Total audited:\", TOTAL_RECORDS_AUDITED, \" Total unsaved:\", TOTAL_UNSAVED_AUDITS,\" Last Saved:\", LAST_SAVED )\n",
    "        except:\n",
    "            print (\"\")\n",
    "    else:\n",
    "        print (\"No results, change search setting\")\n",
    "    \n",
    "    \n",
    "  \n",
    "output = widgets.interactive_output(output_function, {\n",
    "            'convention_drop_down_value': convention_drop_down,\n",
    "            'confidence_score_slider_min_value': confidence_score_slider_min,\n",
    "            'confidence_score_slider_max_value': confidence_score_slider_max,\n",
    "            'source_drop_down_value': source_drop_down,\n",
    "            'convention_pos_neg_value' : convention_pos_neg\n",
    "            })\n",
    "\n",
    "outputGitHub = widgets.Output()\n",
    "outputToSave = widgets.Output()\n",
    "outputCount = widgets.Output()\n",
    "change_value_button.on_click(change_value_button_clicked)\n",
    "# keep_value_button.on_click(change_value_button_clicked)\n",
    "audit_next_button.on_click(audit_next_button_clicked)\n",
    "save_to_git_button.on_click(save_changes_to_github_button_clicked)\n",
    "undo_last_audit.on_click(undo_last_audit_button_clicked)\n",
    "download_button.on_click(download_button_clicked)\n"
   ]
  },
  {
   "cell_type": "code",
   "execution_count": 37,
   "metadata": {
    "ExecuteTime": {
     "end_time": "2019-12-15T02:23:46.289305Z",
     "start_time": "2019-12-15T02:23:45.021856Z"
    }
   },
   "outputs": [],
   "source": [
    "#HTML Help Content   \n",
    "using = '<h4>Using the audit tool</h4><p>This tool will randomly select and display a sentence which has already been classified by the model thus facilitating human evaluation and correction of model predictions. These validated and corrected predictions will be fed back to the model as part of a re-training process, with the objective of increasing model accuracy. The tool will automatically select and display a random sentence from the pool each time an action is involked, either by modifying the filter or by one of the three action buttons [Change], [Ok] and [Skip]. Once the sentence is audited via either the [Ok] or [Change] button it will be used to train the model on the next training iteration.<br/>[Skip]: Use the Skip button if you are unable to confirm the classification (no action will be taken)</p><p>[Ok]: </span> Use the OK button to confirm that the sentence has been classified correctly as [Positive] or [Negative] for the convention in question i.e if the classification is True </p><p>[Chang]e]: Use the change button, if you believe the sentence has been classified incorrectly by the model  i.e if the classification is a \"False Positive\" or \"False Negative\".<br/> If the original classification has been \"False Positive\" and you can correctly classify the sentence as belonging to another convention, please select the appropriate convention via the [Change to] dropdown.</p><p><em>Note: A&nbsp;<strong>GitHub</strong>&nbsp;username and password is required to save the results of the audits, it is important to remember to save the audit on a regular basis</em></p><hr/><p></p>'                              \n",
    "filtering = '<h4>Filtering</h4>To help obtain a more balanced training data set across all convention models, please review the histogram to determine focus of audit'\n",
    "\n",
    "#Histogram image\n",
    "image = Image.open(urllib.request.urlopen(IMAGE_PATH))\n",
    "image = image_to_byte_array(image)\n",
    "\n",
    "\n",
    "#keywords tab, populate using keyword_de_dict and keyword_td_dict\n",
    "td_tab_contents = keyword_td_dict.values() \n",
    "de_tab_contents = keyword_de_dict.values() \n",
    "tab_name = list(keyword_td_dict.keys())\n",
    "\n",
    "children = [widgets.HTML(  value=\"TRAINING DATA: \" + str(td_content) + \" DOMAIN EXPERT: \" +str(de_content)   ) for td_content, de_content in zip (td_tab_contents, de_tab_contents)]\n",
    "\n",
    "tab_keywords = widgets.Tab()\n",
    "tab_keywords.children = children\n",
    "for i in range(len(children)):\n",
    "    tab_keywords.set_title(i, str(tab_name[i]))\n",
    "\n",
    "#SET UP A HEADER ACCORDIAN TO SHOW HELP, HISTOGRAM and KEYWORDS\n",
    "accordion = widgets.Accordion(children=\n",
    "                              [widgets.HTML(filtering+using),\n",
    "                               widgets.Image(value=image,format='png',width=1200,height=1200),\n",
    "                               tab_keywords\n",
    "                              ]\n",
    "                         \n",
    "                             )\n",
    "\n",
    "\n",
    "accordion.set_title(0, 'About The Tool')\n",
    "accordion.set_title(1, 'Training Data Histogram')\n",
    "accordion.set_title(2, 'Convention Keyword hints')\n",
    "accordion.selected_index = None"
   ]
  },
  {
   "cell_type": "code",
   "execution_count": 38,
   "metadata": {
    "ExecuteTime": {
     "end_time": "2019-12-15T02:23:54.676149Z",
     "start_time": "2019-12-15T02:23:54.348285Z"
    },
    "scrolled": false
   },
   "outputs": [
    {
     "data": {
      "application/vnd.jupyter.widget-view+json": {
       "model_id": "4391c9d272c641258a8dd3fe49a7bd37",
       "version_major": 2,
       "version_minor": 0
      },
      "text/plain": [
       "HTML(value=\"<font color = '#8c8c8c'><h3><center>*** Model Classification, Audit Tool ***</center></h3></font>\"…"
      ]
     },
     "metadata": {},
     "output_type": "display_data"
    },
    {
     "data": {
      "application/vnd.jupyter.widget-view+json": {
       "model_id": "938aaf33aad1446b8b3526dc2888ffc6",
       "version_major": 2,
       "version_minor": 0
      },
      "text/plain": [
       "Accordion(children=(HTML(value='<h4>Filtering</h4>To help obtain a more balanced training data set across all …"
      ]
     },
     "metadata": {},
     "output_type": "display_data"
    },
    {
     "data": {
      "application/vnd.jupyter.widget-view+json": {
       "model_id": "83ca7077aa77480e88797fc52c10f327",
       "version_major": 2,
       "version_minor": 0
      },
      "text/plain": [
       "Label(value='  ', layout=Layout(width='100%'))"
      ]
     },
     "metadata": {},
     "output_type": "display_data"
    },
    {
     "data": {
      "application/vnd.jupyter.widget-view+json": {
       "model_id": "b4261f4ba9cf408ca7bd0931da3ebb6f",
       "version_major": 2,
       "version_minor": 0
      },
      "text/plain": [
       "HTML(value=\"<font color = '#8c8c8c'><h4><left>--- Filter ---</left></h4></font>\")"
      ]
     },
     "metadata": {},
     "output_type": "display_data"
    },
    {
     "data": {
      "application/vnd.jupyter.widget-view+json": {
       "model_id": "393802ec611e486ea8ef61b3b212158c",
       "version_major": 2,
       "version_minor": 0
      },
      "text/plain": [
       "VBox(children=(Dropdown(description='Convention  :', layout=Layout(width='600px'), options={'Civic': 'conventi…"
      ]
     },
     "metadata": {},
     "output_type": "display_data"
    },
    {
     "data": {
      "application/vnd.jupyter.widget-view+json": {
       "model_id": "b009eab16a984f7f882339478e8b1103",
       "version_major": 2,
       "version_minor": 0
      },
      "text/plain": [
       "Output(outputs=({'output_type': 'display_data', 'data': {'text/plain': '<IPython.core.display.HTML object>', '…"
      ]
     },
     "metadata": {},
     "output_type": "display_data"
    },
    {
     "data": {
      "application/vnd.jupyter.widget-view+json": {
       "model_id": "8af492906c534c8eb4b98be54469858e",
       "version_major": 2,
       "version_minor": 0
      },
      "text/plain": [
       "HBox(children=(Checkbox(value=True, description='civic (0.61 )', layout=Layout(width='200px'), style=Descripti…"
      ]
     },
     "metadata": {},
     "output_type": "display_data"
    },
    {
     "data": {
      "application/vnd.jupyter.widget-view+json": {
       "model_id": "83ca7077aa77480e88797fc52c10f327",
       "version_major": 2,
       "version_minor": 0
      },
      "text/plain": [
       "Label(value='  ', layout=Layout(width='100%'))"
      ]
     },
     "metadata": {},
     "output_type": "display_data"
    },
    {
     "data": {
      "application/vnd.jupyter.widget-view+json": {
       "model_id": "860244eb97db45c0abf1d68d27c24f3a",
       "version_major": 2,
       "version_minor": 0
      },
      "text/plain": [
       "HTML(value=\"<font color = '#8c8c8c'><h4><left>--- Action ---</h4></left></font>\")"
      ]
     },
     "metadata": {},
     "output_type": "display_data"
    },
    {
     "data": {
      "application/vnd.jupyter.widget-view+json": {
       "model_id": "dd1423e0adc149f09ff8cda246f2f6bc",
       "version_major": 2,
       "version_minor": 0
      },
      "text/plain": [
       "HBox(children=(Button(description='Save', style=ButtonStyle(button_color='#e68a00'), tooltip='Audit complete, …"
      ]
     },
     "metadata": {},
     "output_type": "display_data"
    },
    {
     "data": {
      "application/vnd.jupyter.widget-view+json": {
       "model_id": "973c564956984a2fa1f7db92e2d21ed4",
       "version_major": 2,
       "version_minor": 0
      },
      "text/plain": [
       "Output()"
      ]
     },
     "metadata": {},
     "output_type": "display_data"
    },
    {
     "data": {
      "application/vnd.jupyter.widget-view+json": {
       "model_id": "83ca7077aa77480e88797fc52c10f327",
       "version_major": 2,
       "version_minor": 0
      },
      "text/plain": [
       "Label(value='  ', layout=Layout(width='100%'))"
      ]
     },
     "metadata": {},
     "output_type": "display_data"
    },
    {
     "data": {
      "application/vnd.jupyter.widget-view+json": {
       "model_id": "8ca53813689b4b4192e3e752aa2f988d",
       "version_major": 2,
       "version_minor": 0
      },
      "text/plain": [
       "HTML(value=\"<h4><left><font color = '#8c8c8c'>--- Push unsaved audits to Github repo ---</font></left></h4>\")"
      ]
     },
     "metadata": {},
     "output_type": "display_data"
    },
    {
     "data": {
      "application/vnd.jupyter.widget-view+json": {
       "model_id": "83ca7077aa77480e88797fc52c10f327",
       "version_major": 2,
       "version_minor": 0
      },
      "text/plain": [
       "Label(value='  ', layout=Layout(width='100%'))"
      ]
     },
     "metadata": {},
     "output_type": "display_data"
    },
    {
     "data": {
      "application/vnd.jupyter.widget-view+json": {
       "model_id": "2acbf757c72440fc8ee7c99c0460b312",
       "version_major": 2,
       "version_minor": 0
      },
      "text/plain": [
       "HBox(children=(Text(value='', description='Username', layout=Layout(width='200px'), style=DescriptionStyle(des…"
      ]
     },
     "metadata": {},
     "output_type": "display_data"
    },
    {
     "data": {
      "application/vnd.jupyter.widget-view+json": {
       "model_id": "b37fc04959c04b4b8af5cf34343da4ff",
       "version_major": 2,
       "version_minor": 0
      },
      "text/plain": [
       "Button(description='Save to GitHub', style=ButtonStyle(button_color='#00b386'), tooltip='Click me')"
      ]
     },
     "metadata": {},
     "output_type": "display_data"
    },
    {
     "data": {
      "application/vnd.jupyter.widget-view+json": {
       "model_id": "83ca7077aa77480e88797fc52c10f327",
       "version_major": 2,
       "version_minor": 0
      },
      "text/plain": [
       "Label(value='  ', layout=Layout(width='100%'))"
      ]
     },
     "metadata": {},
     "output_type": "display_data"
    },
    {
     "data": {
      "application/vnd.jupyter.widget-view+json": {
       "model_id": "648c3cf219ce4b27acc0d513b007690a",
       "version_major": 2,
       "version_minor": 0
      },
      "text/plain": [
       "Output()"
      ]
     },
     "metadata": {},
     "output_type": "display_data"
    },
    {
     "data": {
      "application/vnd.jupyter.widget-view+json": {
       "model_id": "f69c0f934dfa4136b0584803ab1039a4",
       "version_major": 2,
       "version_minor": 0
      },
      "text/plain": [
       "Output()"
      ]
     },
     "metadata": {},
     "output_type": "display_data"
    },
    {
     "data": {
      "application/vnd.jupyter.widget-view+json": {
       "model_id": "83ca7077aa77480e88797fc52c10f327",
       "version_major": 2,
       "version_minor": 0
      },
      "text/plain": [
       "Label(value='  ', layout=Layout(width='100%'))"
      ]
     },
     "metadata": {},
     "output_type": "display_data"
    }
   ],
   "source": [
    "\n",
    "\n",
    "display (\n",
    "        selectHTMLHead,\n",
    "        accordion,\n",
    "        space,\n",
    "        selectHTML,\n",
    "        widgets.VBox([\n",
    "        convention_drop_down, \n",
    "        source_drop_down, \n",
    "        convention_pos_neg,\n",
    "        confidence_score_slider_min, \n",
    "        confidence_score_slider_max]),\n",
    "        output,\n",
    "        check_boxes,\n",
    "        space,\n",
    "        actionHTML,\n",
    "        widgets.HBox([change_value_button, audit_next_button, small_space, undo_last_audit]),\n",
    "        outputCount,\n",
    "        space,\n",
    "        saveHTML,\n",
    "        space,\n",
    "        widgets.HBox([user, pswd]),\n",
    "        save_to_git_button,\n",
    "        space,\n",
    "        outputGitHub,\n",
    "        outputToSave,\n",
    "        space\n",
    "    )"
   ]
  },
  {
   "cell_type": "code",
   "execution_count": null,
   "metadata": {},
   "outputs": [],
   "source": []
  }
 ],
 "metadata": {
  "hide_input": false,
  "kernelspec": {
   "display_name": "Python 3",
   "language": "python",
   "name": "python3"
  },
  "language_info": {
   "codemirror_mode": {
    "name": "ipython",
    "version": 3
   },
   "file_extension": ".py",
   "mimetype": "text/x-python",
   "name": "python",
   "nbconvert_exporter": "python",
   "pygments_lexer": "ipython3",
   "version": "3.6.0"
  },
  "toc": {
   "base_numbering": 1,
   "nav_menu": {},
   "number_sections": true,
   "sideBar": true,
   "skip_h1_title": false,
   "title_cell": "Table of Contents",
   "title_sidebar": "Contents",
   "toc_cell": false,
   "toc_position": {},
   "toc_section_display": true,
   "toc_window_display": false
  },
  "varInspector": {
   "cols": {
    "lenName": 16,
    "lenType": 16,
    "lenVar": 40
   },
   "kernels_config": {
    "python": {
     "delete_cmd_postfix": "",
     "delete_cmd_prefix": "del ",
     "library": "var_list.py",
     "varRefreshCmd": "print(var_dic_list())"
    },
    "r": {
     "delete_cmd_postfix": ") ",
     "delete_cmd_prefix": "rm(",
     "library": "var_list.r",
     "varRefreshCmd": "cat(var_dic_list()) "
    }
   },
   "types_to_exclude": [
    "module",
    "function",
    "builtin_function_or_method",
    "instance",
    "_Feature"
   ],
   "window_display": true
  }
 },
 "nbformat": 4,
 "nbformat_minor": 2
}
