{
 "cells": [
  {
   "cell_type": "code",
   "execution_count": 1,
   "metadata": {},
   "outputs": [],
   "source": [
    "import pandas as pd\n",
    "import numpy as np"
   ]
  },
  {
   "cell_type": "code",
   "execution_count": 1,
   "metadata": {},
   "outputs": [
    {
     "name": "stderr",
     "output_type": "stream",
     "text": [
      "Using TensorFlow backend.\n",
      "/usr/local/lib/python3.7/site-packages/tensorflow/python/framework/dtypes.py:516: FutureWarning: Passing (type, 1) or '1type' as a synonym of type is deprecated; in a future version of numpy, it will be understood as (type, (1,)) / '(1,)type'.\n",
      "  _np_qint8 = np.dtype([(\"qint8\", np.int8, 1)])\n",
      "/usr/local/lib/python3.7/site-packages/tensorflow/python/framework/dtypes.py:517: FutureWarning: Passing (type, 1) or '1type' as a synonym of type is deprecated; in a future version of numpy, it will be understood as (type, (1,)) / '(1,)type'.\n",
      "  _np_quint8 = np.dtype([(\"quint8\", np.uint8, 1)])\n",
      "/usr/local/lib/python3.7/site-packages/tensorflow/python/framework/dtypes.py:518: FutureWarning: Passing (type, 1) or '1type' as a synonym of type is deprecated; in a future version of numpy, it will be understood as (type, (1,)) / '(1,)type'.\n",
      "  _np_qint16 = np.dtype([(\"qint16\", np.int16, 1)])\n",
      "/usr/local/lib/python3.7/site-packages/tensorflow/python/framework/dtypes.py:519: FutureWarning: Passing (type, 1) or '1type' as a synonym of type is deprecated; in a future version of numpy, it will be understood as (type, (1,)) / '(1,)type'.\n",
      "  _np_quint16 = np.dtype([(\"quint16\", np.uint16, 1)])\n",
      "/usr/local/lib/python3.7/site-packages/tensorflow/python/framework/dtypes.py:520: FutureWarning: Passing (type, 1) or '1type' as a synonym of type is deprecated; in a future version of numpy, it will be understood as (type, (1,)) / '(1,)type'.\n",
      "  _np_qint32 = np.dtype([(\"qint32\", np.int32, 1)])\n",
      "/usr/local/lib/python3.7/site-packages/tensorflow/python/framework/dtypes.py:525: FutureWarning: Passing (type, 1) or '1type' as a synonym of type is deprecated; in a future version of numpy, it will be understood as (type, (1,)) / '(1,)type'.\n",
      "  np_resource = np.dtype([(\"resource\", np.ubyte, 1)])\n",
      "/usr/local/lib/python3.7/site-packages/tensorboard/compat/tensorflow_stub/dtypes.py:541: FutureWarning: Passing (type, 1) or '1type' as a synonym of type is deprecated; in a future version of numpy, it will be understood as (type, (1,)) / '(1,)type'.\n",
      "  _np_qint8 = np.dtype([(\"qint8\", np.int8, 1)])\n",
      "/usr/local/lib/python3.7/site-packages/tensorboard/compat/tensorflow_stub/dtypes.py:542: FutureWarning: Passing (type, 1) or '1type' as a synonym of type is deprecated; in a future version of numpy, it will be understood as (type, (1,)) / '(1,)type'.\n",
      "  _np_quint8 = np.dtype([(\"quint8\", np.uint8, 1)])\n",
      "/usr/local/lib/python3.7/site-packages/tensorboard/compat/tensorflow_stub/dtypes.py:543: FutureWarning: Passing (type, 1) or '1type' as a synonym of type is deprecated; in a future version of numpy, it will be understood as (type, (1,)) / '(1,)type'.\n",
      "  _np_qint16 = np.dtype([(\"qint16\", np.int16, 1)])\n",
      "/usr/local/lib/python3.7/site-packages/tensorboard/compat/tensorflow_stub/dtypes.py:544: FutureWarning: Passing (type, 1) or '1type' as a synonym of type is deprecated; in a future version of numpy, it will be understood as (type, (1,)) / '(1,)type'.\n",
      "  _np_quint16 = np.dtype([(\"quint16\", np.uint16, 1)])\n",
      "/usr/local/lib/python3.7/site-packages/tensorboard/compat/tensorflow_stub/dtypes.py:545: FutureWarning: Passing (type, 1) or '1type' as a synonym of type is deprecated; in a future version of numpy, it will be understood as (type, (1,)) / '(1,)type'.\n",
      "  _np_qint32 = np.dtype([(\"qint32\", np.int32, 1)])\n",
      "/usr/local/lib/python3.7/site-packages/tensorboard/compat/tensorflow_stub/dtypes.py:550: FutureWarning: Passing (type, 1) or '1type' as a synonym of type is deprecated; in a future version of numpy, it will be understood as (type, (1,)) / '(1,)type'.\n",
      "  np_resource = np.dtype([(\"resource\", np.ubyte, 1)])\n"
     ]
    },
    {
     "name": "stdout",
     "output_type": "stream",
     "text": [
      "Necessary libraries imported.\n",
      "Initialised generic_parsing_helpers class and methods\n",
      "Initialised AIVM_helper class and methods\n",
      "Initialised model_helpers class and methods\n"
     ]
    },
    {
     "data": {
      "text/html": [
       "You will find instantiate_model_helpers_for_project at the very TOP of All_helper_classes.ipynb, If you do not want to change the default config, used across all files you can instantiate your own model_helpers() instead."
      ],
      "text/plain": [
       "<IPython.core.display.HTML object>"
      ]
     },
     "metadata": {},
     "output_type": "display_data"
    },
    {
     "data": {
      "text/html": [
       "SEQUENCE_LENGTH 32"
      ],
      "text/plain": [
       "<IPython.core.display.HTML object>"
      ]
     },
     "metadata": {},
     "output_type": "display_data"
    },
    {
     "data": {
      "text/html": [
       "MAX_NB_WORDS 10000"
      ],
      "text/plain": [
       "<IPython.core.display.HTML object>"
      ]
     },
     "metadata": {},
     "output_type": "display_data"
    },
    {
     "data": {
      "text/html": [
       "EMBEDDING_DIM 100"
      ],
      "text/plain": [
       "<IPython.core.display.HTML object>"
      ]
     },
     "metadata": {},
     "output_type": "display_data"
    },
    {
     "data": {
      "text/html": [
       "VALIDATION_SPLIT 0.2"
      ],
      "text/plain": [
       "<IPython.core.display.HTML object>"
      ]
     },
     "metadata": {},
     "output_type": "display_data"
    },
    {
     "data": {
      "text/html": [
       "TFIDF_MAX_FEATURES 10000"
      ],
      "text/plain": [
       "<IPython.core.display.HTML object>"
      ]
     },
     "metadata": {},
     "output_type": "display_data"
    },
    {
     "data": {
      "text/html": [
       "NUM_EPOCHS 20"
      ],
      "text/plain": [
       "<IPython.core.display.HTML object>"
      ]
     },
     "metadata": {},
     "output_type": "display_data"
    },
    {
     "name": "stdout",
     "output_type": "stream",
     "text": [
      "\n"
     ]
    },
    {
     "data": {
      "text/html": [
       "*****GIT PROJECT*******"
      ],
      "text/plain": [
       "<IPython.core.display.HTML object>"
      ]
     },
     "metadata": {},
     "output_type": "display_data"
    },
    {
     "data": {
      "text/html": [
       "paths.GIT_OWNER: aideenf"
      ],
      "text/plain": [
       "<IPython.core.display.HTML object>"
      ]
     },
     "metadata": {},
     "output_type": "display_data"
    },
    {
     "data": {
      "text/html": [
       "paths.GIT_REPO: AIVC"
      ],
      "text/plain": [
       "<IPython.core.display.HTML object>"
      ]
     },
     "metadata": {},
     "output_type": "display_data"
    },
    {
     "data": {
      "text/html": [
       "paths.GIT_OWNER_REPO: aideenf/AIVC"
      ],
      "text/plain": [
       "<IPython.core.display.HTML object>"
      ]
     },
     "metadata": {},
     "output_type": "display_data"
    },
    {
     "name": "stdout",
     "output_type": "stream",
     "text": [
      "\n"
     ]
    },
    {
     "data": {
      "text/html": [
       "*****PROJECT PATHS*******"
      ],
      "text/plain": [
       "<IPython.core.display.HTML object>"
      ]
     },
     "metadata": {},
     "output_type": "display_data"
    },
    {
     "data": {
      "text/html": [
       "paths.BASE_DIR_LOCAL: ./Data/Iterative-models-building"
      ],
      "text/plain": [
       "<IPython.core.display.HTML object>"
      ]
     },
     "metadata": {},
     "output_type": "display_data"
    },
    {
     "data": {
      "text/html": [
       "paths.GLOVE_DIR_LOCAL : Data/Iterative-models-building/Training data/"
      ],
      "text/plain": [
       "<IPython.core.display.HTML object>"
      ]
     },
     "metadata": {},
     "output_type": "display_data"
    },
    {
     "data": {
      "text/html": [
       "paths.GATHERED_DATA_CONV_DIR_LOCAL : Data/Iterative-models-building/Gathered_data/Conventions/"
      ],
      "text/plain": [
       "<IPython.core.display.HTML object>"
      ]
     },
     "metadata": {},
     "output_type": "display_data"
    },
    {
     "data": {
      "text/html": [
       "paths.GATHERED_DATA_CONV_DIR_GIT : cp_wssc/Data/Iterative-models-building/Gathered_data/Conventions/"
      ],
      "text/plain": [
       "<IPython.core.display.HTML object>"
      ]
     },
     "metadata": {},
     "output_type": "display_data"
    },
    {
     "data": {
      "text/html": [
       "paths.GITHUB_GATHERED_URL_PATH : https://raw.githubusercontent.com/aideenf/AIVC/master/cp_wssc/Data/Iterative-models-building/Gathered_data/Conventions/"
      ],
      "text/plain": [
       "<IPython.core.display.HTML object>"
      ]
     },
     "metadata": {},
     "output_type": "display_data"
    },
    {
     "data": {
      "text/html": [
       "paths.MODELS_DIR_LOCAL : ./Data/Iterative-models-building/Models/"
      ],
      "text/plain": [
       "<IPython.core.display.HTML object>"
      ]
     },
     "metadata": {},
     "output_type": "display_data"
    },
    {
     "data": {
      "text/html": [
       "paths.STOP_WORDS_DIR_FILE_LOCAL : Data/Iterative-models-building/Training data/resources/stopwords.txt"
      ],
      "text/plain": [
       "<IPython.core.display.HTML object>"
      ]
     },
     "metadata": {},
     "output_type": "display_data"
    },
    {
     "data": {
      "text/html": [
       "paths.STOP_WORDS_URL_GIT : https://raw.githubusercontent.com/aideenf/AIVC/master/cp_wssc/Data/Iterative-models-building/Training data/resources/stopwords.txt"
      ],
      "text/plain": [
       "<IPython.core.display.HTML object>"
      ]
     },
     "metadata": {},
     "output_type": "display_data"
    },
    {
     "data": {
      "text/html": [
       "paths.TRAINING_DATA_DIR_FILE_LOCAL : Data/Iterative-models-building/Training data/Conventions/training_aggregated_conventions.tsv"
      ],
      "text/plain": [
       "<IPython.core.display.HTML object>"
      ]
     },
     "metadata": {},
     "output_type": "display_data"
    },
    {
     "data": {
      "text/html": [
       "paths.TRAINING_DATA_DIR_FILE_GIT : https://raw.githubusercontent.com/aideenf/AIVC/master/cp_wssc/Data/Iterative-models-building/Training%20data/Conventions/training_aggregated_conventions.tsv"
      ],
      "text/plain": [
       "<IPython.core.display.HTML object>"
      ]
     },
     "metadata": {},
     "output_type": "display_data"
    },
    {
     "data": {
      "text/html": [
       "paths.TRAINING_DATA_DIR_LOCAL : Data/Iterative-models-building/Training data/Conventions/"
      ],
      "text/plain": [
       "<IPython.core.display.HTML object>"
      ]
     },
     "metadata": {},
     "output_type": "display_data"
    },
    {
     "data": {
      "text/html": [
       "paths.TRAINING_DATA_DIR_GIT : cp_wssc/Data/Iterative-models-building/Training data/Conventions/"
      ],
      "text/plain": [
       "<IPython.core.display.HTML object>"
      ]
     },
     "metadata": {},
     "output_type": "display_data"
    },
    {
     "data": {
      "text/html": [
       "paths.AUDITED_DATA_DIR_LOCAL : ./Data/Iterative-models-building/Classification results/Conventions/Audited/"
      ],
      "text/plain": [
       "<IPython.core.display.HTML object>"
      ]
     },
     "metadata": {},
     "output_type": "display_data"
    },
    {
     "data": {
      "text/html": [
       "paths.AUDITED_DATA_DIR_GIT : cp_wssc/Data/Iterative-models-building/Classification results/Conventions/Audited/"
      ],
      "text/plain": [
       "<IPython.core.display.HTML object>"
      ]
     },
     "metadata": {},
     "output_type": "display_data"
    },
    {
     "data": {
      "text/html": [
       "paths.GITHUB_AUDIT_URL_PATH : https://raw.githubusercontent.com/aideenf/AIVC/master/cp_wssc/Data/Iterative-models-building/Classification%20results/Conventions/Audited/"
      ],
      "text/plain": [
       "<IPython.core.display.HTML object>"
      ]
     },
     "metadata": {},
     "output_type": "display_data"
    },
    {
     "data": {
      "text/html": [
       "paths.GITHUB_AGGREGATED_AUDIT_URL_FILE : https://raw.githubusercontent.com/aideenf/AIVC/master/cp_wssc/Data/Iterative-models-building/Classification%20results/Conventions/Audited/audited_ALL.tsv"
      ],
      "text/plain": [
       "<IPython.core.display.HTML object>"
      ]
     },
     "metadata": {},
     "output_type": "display_data"
    },
    {
     "data": {
      "text/html": [
       "paths.CONV_MODEL_PCKL_URL : https://github.com/aideenf/AIVC/blob/master/cp_wssc/Data/Iterative-models-building/Models/conv_models_items.pickle?raw=true"
      ],
      "text/plain": [
       "<IPython.core.display.HTML object>"
      ]
     },
     "metadata": {},
     "output_type": "display_data"
    },
    {
     "data": {
      "text/html": [
       "paths.SIMPLER_MODEL_PCKL_URL : https://github.com/aideenf/AIVC/blob/master/cp_wssc/Data/Iterative-models-building/Models/Simpler_ML_models.pickle?raw=true"
      ],
      "text/plain": [
       "<IPython.core.display.HTML object>"
      ]
     },
     "metadata": {},
     "output_type": "display_data"
    },
    {
     "data": {
      "text/html": [
       "paths.CLASSIFIED_DATA_DIR_LOCAL : ./Data/Iterative-models-building/Classification results/Conventions/"
      ],
      "text/plain": [
       "<IPython.core.display.HTML object>"
      ]
     },
     "metadata": {},
     "output_type": "display_data"
    },
    {
     "data": {
      "text/html": [
       "paths.CLASSIFIED_DATA_DIR_GIT : cp_wssc/Data/Iterative-models-building/Classification results/Conventions/"
      ],
      "text/plain": [
       "<IPython.core.display.HTML object>"
      ]
     },
     "metadata": {},
     "output_type": "display_data"
    }
   ],
   "source": [
    "%run \"All_helper_classes.ipynb\" sort=False\n",
    "\n",
    "#from \"Models training helpers.ipynb\" we will import 3 helper classes and the associated helper methods.\n",
    "parsing_helpers = generic_parsing_helpers()\n",
    "aivm_helper = AIVM_helper()\n",
    "model_helpers = default_model_helpers_for_project()\n",
    "paths = project_paths()"
   ]
  },
  {
   "cell_type": "code",
   "execution_count": 2,
   "metadata": {},
   "outputs": [],
   "source": [
    "# visualization imports\n",
    "from IPython.display import display\n",
    "import seaborn as sns\n",
    "import matplotlib.pyplot as plt\n",
    "import matplotlib.image as mpimg\n",
    "import base64\n",
    "import io\n",
    "%matplotlib inline\n",
    "sns.set() \n",
    "sns.set_style(\"whitegrid\")"
   ]
  },
  {
   "cell_type": "code",
   "execution_count": 3,
   "metadata": {},
   "outputs": [
    {
     "name": "stdout",
     "output_type": "stream",
     "text": [
      "Data/Iterative-models-building/Training data/Conventions/training_ALL.tsv\n"
     ]
    }
   ],
   "source": [
    "training_data_file = os.path.join(paths.TRAINING_DATA_DIR_LOCAL, \"training_ALL.tsv\")\n",
    "print(training_data_file)\n",
    "training_df = pd.read_csv(training_data_file, sep=\"\\t\")\n",
    "training_df['text'] = training_df['text'].apply(parsing_helpers.remove_line_breaks) #parsing_helpers.get_clean_df_text_column(training_data_file, \"text\")"
   ]
  },
  {
   "cell_type": "code",
   "execution_count": 4,
   "metadata": {},
   "outputs": [
    {
     "data": {
      "text/html": [
       "<div>\n",
       "<style scoped>\n",
       "    .dataframe tbody tr th:only-of-type {\n",
       "        vertical-align: middle;\n",
       "    }\n",
       "\n",
       "    .dataframe tbody tr th {\n",
       "        vertical-align: top;\n",
       "    }\n",
       "\n",
       "    .dataframe thead th {\n",
       "        text-align: right;\n",
       "    }\n",
       "</style>\n",
       "<table border=\"1\" class=\"dataframe\">\n",
       "  <thead>\n",
       "    <tr style=\"text-align: right;\">\n",
       "      <th></th>\n",
       "      <th>Unnamed: 0</th>\n",
       "      <th>convention</th>\n",
       "      <th>index</th>\n",
       "      <th>label</th>\n",
       "      <th>provenance</th>\n",
       "      <th>text</th>\n",
       "    </tr>\n",
       "  </thead>\n",
       "  <tbody>\n",
       "    <tr>\n",
       "      <td>0</td>\n",
       "      <td>0</td>\n",
       "      <td>domestic</td>\n",
       "      <td>0</td>\n",
       "      <td>1</td>\n",
       "      <td>Manually_gathered</td>\n",
       "      <td>an exotic payload crafted:</td>\n",
       "    </tr>\n",
       "    <tr>\n",
       "      <td>1</td>\n",
       "      <td>1</td>\n",
       "      <td>domestic</td>\n",
       "      <td>1</td>\n",
       "      <td>1</td>\n",
       "      <td>Manually_gathered</td>\n",
       "      <td>this package provides routines to construct gr...</td>\n",
       "    </tr>\n",
       "    <tr>\n",
       "      <td>2</td>\n",
       "      <td>2</td>\n",
       "      <td>domestic</td>\n",
       "      <td>2</td>\n",
       "      <td>1</td>\n",
       "      <td>Manually_gathered</td>\n",
       "      <td>** clearly see how your habits improved over</td>\n",
       "    </tr>\n",
       "    <tr>\n",
       "      <td>3</td>\n",
       "      <td>3</td>\n",
       "      <td>domestic</td>\n",
       "      <td>3</td>\n",
       "      <td>1</td>\n",
       "      <td>Manually_gathered</td>\n",
       "      <td>** create an individual reminder for each habi...</td>\n",
       "    </tr>\n",
       "    <tr>\n",
       "      <td>4</td>\n",
       "      <td>4</td>\n",
       "      <td>domestic</td>\n",
       "      <td>4</td>\n",
       "      <td>1</td>\n",
       "      <td>Manually_gathered</td>\n",
       "      <td>unit of work and continuity.</td>\n",
       "    </tr>\n",
       "  </tbody>\n",
       "</table>\n",
       "</div>"
      ],
      "text/plain": [
       "   Unnamed: 0 convention  index  label         provenance  \\\n",
       "0           0   domestic      0      1  Manually_gathered   \n",
       "1           1   domestic      1      1  Manually_gathered   \n",
       "2           2   domestic      2      1  Manually_gathered   \n",
       "3           3   domestic      3      1  Manually_gathered   \n",
       "4           4   domestic      4      1  Manually_gathered   \n",
       "\n",
       "                                                text  \n",
       "0                        an exotic payload crafted:   \n",
       "1  this package provides routines to construct gr...  \n",
       "2      ** clearly see how your habits improved over   \n",
       "3  ** create an individual reminder for each habi...  \n",
       "4                      unit of work and continuity.   "
      ]
     },
     "execution_count": 4,
     "metadata": {},
     "output_type": "execute_result"
    }
   ],
   "source": [
    "training_df.head()"
   ]
  },
  {
   "cell_type": "code",
   "execution_count": 5,
   "metadata": {},
   "outputs": [
    {
     "name": "stderr",
     "output_type": "stream",
     "text": [
      "/usr/local/lib/python3.7/site-packages/ipykernel_launcher.py:16: FutureWarning: Sorting because non-concatenation axis is not aligned. A future version\n",
      "of pandas will change to not sort by default.\n",
      "\n",
      "To accept the future behavior, pass 'sort=False'.\n",
      "\n",
      "To retain the current behavior and silence the warning, pass 'sort=True'.\n",
      "\n",
      "  app.launch_new_instance()\n"
     ]
    }
   ],
   "source": [
    "gathered_data_files = [f for f in os.listdir(paths.GATHERED_DATA_CONV_DIR_LOCAL) \n",
    "                              if (os.path.isfile(os.path.join(paths.GATHERED_DATA_CONV_DIR_LOCAL, f)) \n",
    "                                  and not f.startswith( '.' ) \n",
    "                                  and \"gathered_\" in f)]\n",
    "gathered_dfs = []\n",
    "\n",
    "for f_name in gathered_data_files:\n",
    "    tmp_df = pd.read_csv(os.path.join(paths.GATHERED_DATA_CONV_DIR_LOCAL, f_name), sep=\"\\t\")\n",
    "    tmp_df = tmp_df.rename(columns={\"sentence\": \"text\"})\n",
    "    \n",
    "    gathered_dfs.append(tmp_df)\n",
    "\n",
    "\n",
    "gathered_dfs.append(training_df)##Adding training data sentences\n",
    "\n",
    "extended_tokenizer = parsing_helpers.create_tokenizer(pd.concat(gathered_dfs), \"text\", 10000)"
   ]
  },
  {
   "cell_type": "code",
   "execution_count": 6,
   "metadata": {},
   "outputs": [],
   "source": [
    "## Vocabulary loading\n",
    "def _read_glove_embeddings(glove_dir, embedding_dim):\n",
    "    ## Reading GLOVE (precalculated word embeddings)\n",
    "    embeddings_index = {}\n",
    "    f = open(os.path.join(glove_dir, 'glove.6B.{}d.txt'.format(embedding_dim)))\n",
    "    for line in f:\n",
    "        values = line.split()\n",
    "        word = values[0]\n",
    "        coefs = np.asarray(values[1:], dtype='float32')\n",
    "        embeddings_index[word] = coefs\n",
    "    f.close()\n",
    "\n",
    "    return embeddings_index"
   ]
  },
  {
   "cell_type": "code",
   "execution_count": 7,
   "metadata": {},
   "outputs": [],
   "source": [
    "embeddings_index =_read_glove_embeddings(glove_dir=paths.GLOVE_DIR_LOCAL, embedding_dim=100)"
   ]
  },
  {
   "cell_type": "code",
   "execution_count": 8,
   "metadata": {},
   "outputs": [
    {
     "name": "stdout",
     "output_type": "stream",
     "text": [
      "Found 83025 unique tokens.\n",
      "----------------------------------------------------------------\n",
      "            domestic                  \n",
      "----------------------------------------------------------------\n",
      "Shape of data tensor: (364, 32)\n",
      "Shape of label tensor: (364, 2)\n",
      "\n",
      "Number of elements from each class in traing and validation set \n",
      "[144. 148.]\n",
      "[38. 34.]\n",
      "WARNING:tensorflow:From /usr/local/lib/python3.7/site-packages/keras/backend/tensorflow_backend.py:66: The name tf.get_default_graph is deprecated. Please use tf.compat.v1.get_default_graph instead.\n",
      "\n",
      "WARNING:tensorflow:From /usr/local/lib/python3.7/site-packages/keras/backend/tensorflow_backend.py:541: The name tf.placeholder is deprecated. Please use tf.compat.v1.placeholder instead.\n",
      "\n",
      "WARNING:tensorflow:From /usr/local/lib/python3.7/site-packages/keras/backend/tensorflow_backend.py:4432: The name tf.random_uniform is deprecated. Please use tf.random.uniform instead.\n",
      "\n",
      "WARNING:tensorflow:From /usr/local/lib/python3.7/site-packages/keras/backend/tensorflow_backend.py:190: The name tf.get_default_session is deprecated. Please use tf.compat.v1.get_default_session instead.\n",
      "\n",
      "WARNING:tensorflow:From /usr/local/lib/python3.7/site-packages/keras/backend/tensorflow_backend.py:197: The name tf.ConfigProto is deprecated. Please use tf.compat.v1.ConfigProto instead.\n",
      "\n",
      "WARNING:tensorflow:From /usr/local/lib/python3.7/site-packages/keras/backend/tensorflow_backend.py:4267: The name tf.nn.max_pool is deprecated. Please use tf.nn.max_pool2d instead.\n",
      "\n",
      "WARNING:tensorflow:From /usr/local/lib/python3.7/site-packages/keras/optimizers.py:793: The name tf.train.Optimizer is deprecated. Please use tf.compat.v1.train.Optimizer instead.\n",
      "\n",
      "model fitting - more complex convolutional neural network\n",
      "Model: \"model_1\"\n",
      "__________________________________________________________________________________________________\n",
      "Layer (type)                    Output Shape         Param #     Connected to                     \n",
      "==================================================================================================\n",
      "input_1 (InputLayer)            (None, 32)           0                                            \n",
      "__________________________________________________________________________________________________\n",
      "embedding_1 (Embedding)         (None, 32, 100)      8302600     input_1[0][0]                    \n",
      "__________________________________________________________________________________________________\n",
      "conv1d_1 (Conv1D)               (None, 30, 128)      38528       embedding_1[0][0]                \n",
      "__________________________________________________________________________________________________\n",
      "conv1d_2 (Conv1D)               (None, 29, 128)      51328       embedding_1[0][0]                \n",
      "__________________________________________________________________________________________________\n",
      "conv1d_3 (Conv1D)               (None, 28, 128)      64128       embedding_1[0][0]                \n",
      "__________________________________________________________________________________________________\n",
      "max_pooling1d_1 (MaxPooling1D)  (None, 6, 128)       0           conv1d_1[0][0]                   \n",
      "__________________________________________________________________________________________________\n",
      "max_pooling1d_2 (MaxPooling1D)  (None, 5, 128)       0           conv1d_2[0][0]                   \n",
      "__________________________________________________________________________________________________\n",
      "max_pooling1d_3 (MaxPooling1D)  (None, 5, 128)       0           conv1d_3[0][0]                   \n",
      "__________________________________________________________________________________________________\n",
      "concatenate_1 (Concatenate)     (None, 16, 128)      0           max_pooling1d_1[0][0]            \n",
      "                                                                 max_pooling1d_2[0][0]            \n",
      "                                                                 max_pooling1d_3[0][0]            \n",
      "__________________________________________________________________________________________________\n",
      "conv1d_4 (Conv1D)               (None, 12, 128)      82048       concatenate_1[0][0]              \n",
      "__________________________________________________________________________________________________\n",
      "max_pooling1d_4 (MaxPooling1D)  (None, 2, 128)       0           conv1d_4[0][0]                   \n",
      "__________________________________________________________________________________________________\n",
      "flatten_1 (Flatten)             (None, 256)          0           max_pooling1d_4[0][0]            \n",
      "__________________________________________________________________________________________________\n",
      "dense_1 (Dense)                 (None, 128)          32896       flatten_1[0][0]                  \n",
      "__________________________________________________________________________________________________\n",
      "dense_2 (Dense)                 (None, 2)            258         dense_1[0][0]                    \n",
      "==================================================================================================\n",
      "Total params: 8,571,786\n",
      "Trainable params: 269,186\n",
      "Non-trainable params: 8,302,600\n",
      "__________________________________________________________________________________________________\n",
      "WARNING:tensorflow:From /usr/local/lib/python3.7/site-packages/tensorflow/python/ops/math_grad.py:1250: add_dispatch_support.<locals>.wrapper (from tensorflow.python.ops.array_ops) is deprecated and will be removed in a future version.\n",
      "Instructions for updating:\n",
      "Use tf.where in 2.0, which has the same broadcast rule as np.where\n"
     ]
    },
    {
     "name": "stderr",
     "output_type": "stream",
     "text": [
      "/usr/local/lib/python3.7/site-packages/ipykernel_launcher.py:51: UserWarning: Update your `Conv1D` call to the Keras 2 API: `Conv1D(activation=\"relu\", filters=128, kernel_size=3)`\n",
      "/usr/local/lib/python3.7/site-packages/ipykernel_launcher.py:51: UserWarning: Update your `Conv1D` call to the Keras 2 API: `Conv1D(activation=\"relu\", filters=128, kernel_size=4)`\n",
      "/usr/local/lib/python3.7/site-packages/ipykernel_launcher.py:51: UserWarning: Update your `Conv1D` call to the Keras 2 API: `Conv1D(activation=\"relu\", filters=128, kernel_size=5)`\n"
     ]
    },
    {
     "name": "stdout",
     "output_type": "stream",
     "text": [
      "Train on 292 samples, validate on 72 samples\n",
      "Epoch 1/20\n",
      "292/292 [==============================] - 1s 2ms/step - loss: 1.3649 - acc: 0.4623 - val_loss: 0.6769 - val_acc: 0.5556\n",
      "Roc-AUC on validation: 0.6447\n",
      "Epoch 2/20\n",
      "292/292 [==============================] - 0s 259us/step - loss: 0.6442 - acc: 0.6199 - val_loss: 0.6880 - val_acc: 0.5417\n",
      "Roc-AUC on validation: 0.6788\n",
      "Epoch 3/20\n",
      "292/292 [==============================] - 0s 260us/step - loss: 0.6442 - acc: 0.5822 - val_loss: 0.8414 - val_acc: 0.5278\n",
      "Roc-AUC on validation: 0.5898\n",
      "Epoch 4/20\n",
      "292/292 [==============================] - 0s 263us/step - loss: 0.5850 - acc: 0.6815 - val_loss: 0.7158 - val_acc: 0.5556\n",
      "Roc-AUC on validation: 0.6486\n",
      "Epoch 5/20\n",
      "292/292 [==============================] - 0s 251us/step - loss: 0.4857 - acc: 0.7363 - val_loss: 0.7480 - val_acc: 0.5278\n",
      "Roc-AUC on validation: 0.767\n",
      "Epoch 6/20\n",
      "292/292 [==============================] - 0s 286us/step - loss: 0.5365 - acc: 0.6952 - val_loss: 0.6753 - val_acc: 0.5556\n",
      "Roc-AUC on validation: 0.7616\n",
      "Epoch 7/20\n",
      "292/292 [==============================] - 0s 331us/step - loss: 0.4612 - acc: 0.7705 - val_loss: 0.6335 - val_acc: 0.6250\n",
      "Roc-AUC on validation: 0.7539\n",
      "Epoch 8/20\n",
      "292/292 [==============================] - 0s 337us/step - loss: 0.2723 - acc: 0.9623 - val_loss: 1.0732 - val_acc: 0.5139\n",
      "Roc-AUC on validation: 0.7895\n",
      "Epoch 9/20\n",
      "292/292 [==============================] - 0s 322us/step - loss: 0.3385 - acc: 0.8253 - val_loss: 0.6795 - val_acc: 0.6111\n",
      "Roc-AUC on validation: 0.8266\n",
      "Epoch 10/20\n",
      "292/292 [==============================] - 0s 314us/step - loss: 0.1398 - acc: 0.9829 - val_loss: 0.7570 - val_acc: 0.6250\n",
      "Roc-AUC on validation: 0.8073\n",
      "Epoch 11/20\n",
      "292/292 [==============================] - 0s 293us/step - loss: 0.3755 - acc: 0.8048 - val_loss: 0.5192 - val_acc: 0.6944\n",
      "Roc-AUC on validation: 0.8359\n",
      "Epoch 12/20\n",
      "292/292 [==============================] - 0s 300us/step - loss: 0.0724 - acc: 0.9966 - val_loss: 0.5479 - val_acc: 0.7083\n",
      "Roc-AUC on validation: 0.8367\n",
      "Epoch 13/20\n",
      "292/292 [==============================] - 0s 310us/step - loss: 0.0453 - acc: 0.9966 - val_loss: 0.6091 - val_acc: 0.7500\n",
      "Roc-AUC on validation: 0.808\n",
      "Epoch 14/20\n",
      "292/292 [==============================] - 0s 335us/step - loss: 0.1459 - acc: 0.9418 - val_loss: 0.5587 - val_acc: 0.6944\n",
      "Roc-AUC on validation: 0.8119\n",
      "Epoch 15/20\n",
      "292/292 [==============================] - 0s 424us/step - loss: 0.0225 - acc: 1.0000 - val_loss: 0.5385 - val_acc: 0.6944\n",
      "Roc-AUC on validation: 0.8173\n",
      "Epoch 16/20\n",
      "292/292 [==============================] - 0s 413us/step - loss: 0.0119 - acc: 1.0000 - val_loss: 0.5662 - val_acc: 0.6806\n",
      "Roc-AUC on validation: 0.8104\n",
      "Epoch 17/20\n",
      "292/292 [==============================] - 0s 392us/step - loss: 0.0075 - acc: 1.0000 - val_loss: 0.6156 - val_acc: 0.6667\n",
      "Roc-AUC on validation: 0.8166\n",
      "Epoch 18/20\n",
      "292/292 [==============================] - 0s 400us/step - loss: 0.0048 - acc: 1.0000 - val_loss: 0.7298 - val_acc: 0.6389\n",
      "Roc-AUC on validation: 0.8235\n",
      "Epoch 19/20\n",
      "292/292 [==============================] - 0s 423us/step - loss: 0.0034 - acc: 1.0000 - val_loss: 0.6566 - val_acc: 0.6806\n",
      "Roc-AUC on validation: 0.8282\n",
      "Epoch 20/20\n",
      "292/292 [==============================] - 0s 342us/step - loss: 0.0017 - acc: 1.0000 - val_loss: 0.5784 - val_acc: 0.6944\n",
      "Roc-AUC on validation: 0.8336\n",
      "\n",
      "\n",
      "\n",
      "\n",
      "----------------------------------------------------------------\n",
      "            civic                  \n",
      "----------------------------------------------------------------\n",
      "Shape of data tensor: (466, 32)\n",
      "Shape of label tensor: (466, 2)\n",
      "\n",
      "Number of elements from each class in traing and validation set \n",
      "[186. 187.]\n",
      "[47. 46.]\n"
     ]
    },
    {
     "name": "stderr",
     "output_type": "stream",
     "text": [
      "/usr/local/lib/python3.7/site-packages/ipykernel_launcher.py:51: UserWarning: Update your `Conv1D` call to the Keras 2 API: `Conv1D(activation=\"relu\", filters=128, kernel_size=3)`\n",
      "/usr/local/lib/python3.7/site-packages/ipykernel_launcher.py:51: UserWarning: Update your `Conv1D` call to the Keras 2 API: `Conv1D(activation=\"relu\", filters=128, kernel_size=4)`\n",
      "/usr/local/lib/python3.7/site-packages/ipykernel_launcher.py:51: UserWarning: Update your `Conv1D` call to the Keras 2 API: `Conv1D(activation=\"relu\", filters=128, kernel_size=5)`\n"
     ]
    },
    {
     "name": "stdout",
     "output_type": "stream",
     "text": [
      "model fitting - more complex convolutional neural network\n",
      "Model: \"model_2\"\n",
      "__________________________________________________________________________________________________\n",
      "Layer (type)                    Output Shape         Param #     Connected to                     \n",
      "==================================================================================================\n",
      "input_2 (InputLayer)            (None, 32)           0                                            \n",
      "__________________________________________________________________________________________________\n",
      "embedding_2 (Embedding)         (None, 32, 100)      8302600     input_2[0][0]                    \n",
      "__________________________________________________________________________________________________\n",
      "conv1d_5 (Conv1D)               (None, 30, 128)      38528       embedding_2[0][0]                \n",
      "__________________________________________________________________________________________________\n",
      "conv1d_6 (Conv1D)               (None, 29, 128)      51328       embedding_2[0][0]                \n",
      "__________________________________________________________________________________________________\n",
      "conv1d_7 (Conv1D)               (None, 28, 128)      64128       embedding_2[0][0]                \n",
      "__________________________________________________________________________________________________\n",
      "max_pooling1d_5 (MaxPooling1D)  (None, 6, 128)       0           conv1d_5[0][0]                   \n",
      "__________________________________________________________________________________________________\n",
      "max_pooling1d_6 (MaxPooling1D)  (None, 5, 128)       0           conv1d_6[0][0]                   \n",
      "__________________________________________________________________________________________________\n",
      "max_pooling1d_7 (MaxPooling1D)  (None, 5, 128)       0           conv1d_7[0][0]                   \n",
      "__________________________________________________________________________________________________\n",
      "concatenate_2 (Concatenate)     (None, 16, 128)      0           max_pooling1d_5[0][0]            \n",
      "                                                                 max_pooling1d_6[0][0]            \n",
      "                                                                 max_pooling1d_7[0][0]            \n",
      "__________________________________________________________________________________________________\n",
      "conv1d_8 (Conv1D)               (None, 12, 128)      82048       concatenate_2[0][0]              \n",
      "__________________________________________________________________________________________________\n",
      "max_pooling1d_8 (MaxPooling1D)  (None, 2, 128)       0           conv1d_8[0][0]                   \n",
      "__________________________________________________________________________________________________\n",
      "flatten_2 (Flatten)             (None, 256)          0           max_pooling1d_8[0][0]            \n",
      "__________________________________________________________________________________________________\n",
      "dense_3 (Dense)                 (None, 128)          32896       flatten_2[0][0]                  \n",
      "__________________________________________________________________________________________________\n",
      "dense_4 (Dense)                 (None, 2)            258         dense_3[0][0]                    \n",
      "==================================================================================================\n",
      "Total params: 8,571,786\n",
      "Trainable params: 269,186\n",
      "Non-trainable params: 8,302,600\n",
      "__________________________________________________________________________________________________\n",
      "Train on 373 samples, validate on 93 samples\n",
      "Epoch 1/20\n",
      "373/373 [==============================] - 1s 1ms/step - loss: 1.1886 - acc: 0.5603 - val_loss: 0.8012 - val_acc: 0.4946\n",
      "Roc-AUC on validation: 0.6059\n",
      "Epoch 2/20\n",
      "373/373 [==============================] - 0s 294us/step - loss: 0.6736 - acc: 0.5737 - val_loss: 0.7688 - val_acc: 0.5054\n",
      "Roc-AUC on validation: 0.673\n",
      "Epoch 3/20\n",
      "373/373 [==============================] - 0s 322us/step - loss: 0.6507 - acc: 0.6059 - val_loss: 0.7658 - val_acc: 0.5484\n",
      "Roc-AUC on validation: 0.7095\n",
      "Epoch 4/20\n",
      "373/373 [==============================] - 0s 391us/step - loss: 0.6075 - acc: 0.6434 - val_loss: 0.6044 - val_acc: 0.6022\n",
      "Roc-AUC on validation: 0.8774\n",
      "Epoch 5/20\n",
      "373/373 [==============================] - 0s 423us/step - loss: 0.5724 - acc: 0.7480 - val_loss: 0.5670 - val_acc: 0.7097\n",
      "Roc-AUC on validation: 0.8367\n",
      "Epoch 6/20\n",
      "373/373 [==============================] - 0s 411us/step - loss: 0.4776 - acc: 0.7158 - val_loss: 0.6114 - val_acc: 0.6129\n",
      "Roc-AUC on validation: 0.8779\n",
      "Epoch 7/20\n",
      "373/373 [==============================] - 0s 367us/step - loss: 0.3159 - acc: 0.9088 - val_loss: 0.7197 - val_acc: 0.5806\n",
      "Roc-AUC on validation: 0.8511\n",
      "Epoch 8/20\n",
      "373/373 [==============================] - 0s 390us/step - loss: 0.2334 - acc: 0.9464 - val_loss: 0.4780 - val_acc: 0.7527\n",
      "Roc-AUC on validation: 0.8751\n",
      "Epoch 9/20\n",
      "373/373 [==============================] - 0s 361us/step - loss: 0.3406 - acc: 0.8713 - val_loss: 0.4012 - val_acc: 0.8065\n",
      "Roc-AUC on validation: 0.9112\n",
      "Epoch 10/20\n",
      "373/373 [==============================] - 0s 316us/step - loss: 0.0786 - acc: 0.9946 - val_loss: 0.4430 - val_acc: 0.8172\n",
      "Roc-AUC on validation: 0.913\n",
      "Epoch 11/20\n",
      "373/373 [==============================] - 0s 315us/step - loss: 0.1664 - acc: 0.9383 - val_loss: 0.3970 - val_acc: 0.7849\n",
      "Roc-AUC on validation: 0.9015\n",
      "Epoch 12/20\n",
      "373/373 [==============================] - 0s 304us/step - loss: 0.0342 - acc: 1.0000 - val_loss: 0.4009 - val_acc: 0.8280\n",
      "Roc-AUC on validation: 0.9107\n",
      "Epoch 13/20\n",
      "373/373 [==============================] - 0s 301us/step - loss: 0.0144 - acc: 1.0000 - val_loss: 0.4167 - val_acc: 0.8280\n",
      "Roc-AUC on validation: 0.9066\n",
      "Epoch 14/20\n",
      "373/373 [==============================] - 0s 315us/step - loss: 0.0070 - acc: 1.0000 - val_loss: 0.4304 - val_acc: 0.8280\n",
      "Roc-AUC on validation: 0.9019\n",
      "Epoch 15/20\n",
      "373/373 [==============================] - 0s 360us/step - loss: 0.0034 - acc: 1.0000 - val_loss: 0.4536 - val_acc: 0.8280\n",
      "Roc-AUC on validation: 0.9001\n",
      "Epoch 16/20\n",
      "373/373 [==============================] - 0s 331us/step - loss: 0.0018 - acc: 1.0000 - val_loss: 0.4922 - val_acc: 0.8280\n",
      "Roc-AUC on validation: 0.8982\n",
      "Epoch 17/20\n",
      "373/373 [==============================] - 0s 374us/step - loss: 0.0010 - acc: 1.0000 - val_loss: 0.5240 - val_acc: 0.8172\n",
      "Roc-AUC on validation: 0.9075\n",
      "Epoch 18/20\n",
      "373/373 [==============================] - 0s 319us/step - loss: 5.6308e-04 - acc: 1.0000 - val_loss: 0.4901 - val_acc: 0.8065\n",
      "Roc-AUC on validation: 0.9047\n",
      "Epoch 19/20\n",
      "373/373 [==============================] - 0s 307us/step - loss: 2.7635e-04 - acc: 1.0000 - val_loss: 0.5405 - val_acc: 0.8172\n",
      "Roc-AUC on validation: 0.9149\n",
      "Epoch 20/20\n",
      "373/373 [==============================] - 0s 329us/step - loss: 1.6465e-04 - acc: 1.0000 - val_loss: 0.5864 - val_acc: 0.8172\n",
      "Roc-AUC on validation: 0.9061\n",
      "\n",
      "\n",
      "\n",
      "\n",
      "----------------------------------------------------------------\n",
      "            project                  \n",
      "----------------------------------------------------------------\n",
      "Shape of data tensor: (630, 32)\n",
      "Shape of label tensor: (630, 2)\n",
      "\n",
      "Number of elements from each class in traing and validation set \n",
      "[258. 246.]\n",
      "[57. 69.]\n"
     ]
    },
    {
     "name": "stderr",
     "output_type": "stream",
     "text": [
      "/usr/local/lib/python3.7/site-packages/ipykernel_launcher.py:51: UserWarning: Update your `Conv1D` call to the Keras 2 API: `Conv1D(activation=\"relu\", filters=128, kernel_size=3)`\n",
      "/usr/local/lib/python3.7/site-packages/ipykernel_launcher.py:51: UserWarning: Update your `Conv1D` call to the Keras 2 API: `Conv1D(activation=\"relu\", filters=128, kernel_size=4)`\n",
      "/usr/local/lib/python3.7/site-packages/ipykernel_launcher.py:51: UserWarning: Update your `Conv1D` call to the Keras 2 API: `Conv1D(activation=\"relu\", filters=128, kernel_size=5)`\n"
     ]
    },
    {
     "name": "stdout",
     "output_type": "stream",
     "text": [
      "model fitting - more complex convolutional neural network\n",
      "Model: \"model_3\"\n",
      "__________________________________________________________________________________________________\n",
      "Layer (type)                    Output Shape         Param #     Connected to                     \n",
      "==================================================================================================\n",
      "input_3 (InputLayer)            (None, 32)           0                                            \n",
      "__________________________________________________________________________________________________\n",
      "embedding_3 (Embedding)         (None, 32, 100)      8302600     input_3[0][0]                    \n",
      "__________________________________________________________________________________________________\n",
      "conv1d_9 (Conv1D)               (None, 30, 128)      38528       embedding_3[0][0]                \n",
      "__________________________________________________________________________________________________\n",
      "conv1d_10 (Conv1D)              (None, 29, 128)      51328       embedding_3[0][0]                \n",
      "__________________________________________________________________________________________________\n",
      "conv1d_11 (Conv1D)              (None, 28, 128)      64128       embedding_3[0][0]                \n",
      "__________________________________________________________________________________________________\n",
      "max_pooling1d_9 (MaxPooling1D)  (None, 6, 128)       0           conv1d_9[0][0]                   \n",
      "__________________________________________________________________________________________________\n",
      "max_pooling1d_10 (MaxPooling1D) (None, 5, 128)       0           conv1d_10[0][0]                  \n",
      "__________________________________________________________________________________________________\n",
      "max_pooling1d_11 (MaxPooling1D) (None, 5, 128)       0           conv1d_11[0][0]                  \n",
      "__________________________________________________________________________________________________\n",
      "concatenate_3 (Concatenate)     (None, 16, 128)      0           max_pooling1d_9[0][0]            \n",
      "                                                                 max_pooling1d_10[0][0]           \n",
      "                                                                 max_pooling1d_11[0][0]           \n",
      "__________________________________________________________________________________________________\n",
      "conv1d_12 (Conv1D)              (None, 12, 128)      82048       concatenate_3[0][0]              \n",
      "__________________________________________________________________________________________________\n",
      "max_pooling1d_12 (MaxPooling1D) (None, 2, 128)       0           conv1d_12[0][0]                  \n",
      "__________________________________________________________________________________________________\n",
      "flatten_3 (Flatten)             (None, 256)          0           max_pooling1d_12[0][0]           \n",
      "__________________________________________________________________________________________________\n",
      "dense_5 (Dense)                 (None, 128)          32896       flatten_3[0][0]                  \n",
      "__________________________________________________________________________________________________\n",
      "dense_6 (Dense)                 (None, 2)            258         dense_5[0][0]                    \n",
      "==================================================================================================\n",
      "Total params: 8,571,786\n",
      "Trainable params: 269,186\n",
      "Non-trainable params: 8,302,600\n",
      "__________________________________________________________________________________________________\n",
      "Train on 504 samples, validate on 126 samples\n",
      "Epoch 1/20\n",
      "504/504 [==============================] - 1s 1ms/step - loss: 1.0146 - acc: 0.4980 - val_loss: 0.7592 - val_acc: 0.4524\n",
      "Roc-AUC on validation: 0.5589\n",
      "Epoch 2/20\n",
      "504/504 [==============================] - 0s 303us/step - loss: 0.6394 - acc: 0.5933 - val_loss: 0.6967 - val_acc: 0.5317\n",
      "Roc-AUC on validation: 0.5876\n",
      "Epoch 3/20\n",
      "504/504 [==============================] - 0s 306us/step - loss: 0.6444 - acc: 0.5972 - val_loss: 0.7533 - val_acc: 0.5556\n",
      "Roc-AUC on validation: 0.5792\n",
      "Epoch 4/20\n",
      "504/504 [==============================] - 0s 301us/step - loss: 0.5357 - acc: 0.7540 - val_loss: 0.7904 - val_acc: 0.5476\n",
      "Roc-AUC on validation: 0.8881\n",
      "Epoch 5/20\n",
      "504/504 [==============================] - 0s 346us/step - loss: 0.4913 - acc: 0.7817 - val_loss: 0.6177 - val_acc: 0.6111\n",
      "Roc-AUC on validation: 0.8902\n",
      "Epoch 6/20\n",
      "504/504 [==============================] - 0s 338us/step - loss: 0.4456 - acc: 0.8036 - val_loss: 0.4863 - val_acc: 0.7460\n",
      "Roc-AUC on validation: 0.9082\n",
      "Epoch 7/20\n",
      "504/504 [==============================] - 0s 305us/step - loss: 0.2650 - acc: 0.9306 - val_loss: 0.9437 - val_acc: 0.5238\n",
      "Roc-AUC on validation: 0.7867\n",
      "Epoch 8/20\n",
      "504/504 [==============================] - 0s 296us/step - loss: 0.1832 - acc: 0.9464 - val_loss: 1.2821 - val_acc: 0.5873\n",
      "Roc-AUC on validation: 0.8617\n",
      "Epoch 9/20\n",
      "504/504 [==============================] - 0s 285us/step - loss: 0.2100 - acc: 0.9167 - val_loss: 0.6290 - val_acc: 0.7540\n",
      "Roc-AUC on validation: 0.9247\n",
      "Epoch 10/20\n",
      "504/504 [==============================] - 0s 314us/step - loss: 0.1323 - acc: 0.9563 - val_loss: 0.3627 - val_acc: 0.8254\n",
      "Roc-AUC on validation: 0.9163\n",
      "Epoch 11/20\n",
      "504/504 [==============================] - 0s 336us/step - loss: 0.1540 - acc: 0.9246 - val_loss: 0.4526 - val_acc: 0.7778\n",
      "Roc-AUC on validation: 0.9064\n",
      "Epoch 12/20\n",
      "504/504 [==============================] - 0s 331us/step - loss: 0.0416 - acc: 0.9940 - val_loss: 0.4401 - val_acc: 0.8095\n",
      "Roc-AUC on validation: 0.9059\n",
      "Epoch 13/20\n",
      "504/504 [==============================] - 0s 330us/step - loss: 0.0357 - acc: 0.9960 - val_loss: 0.3355 - val_acc: 0.8571\n",
      "Roc-AUC on validation: 0.9464\n",
      "Epoch 14/20\n",
      "504/504 [==============================] - 0s 347us/step - loss: 0.0194 - acc: 0.9980 - val_loss: 0.3023 - val_acc: 0.8492\n",
      "Roc-AUC on validation: 0.9504\n",
      "Epoch 15/20\n",
      "504/504 [==============================] - 0s 323us/step - loss: 0.2622 - acc: 0.9167 - val_loss: 0.3074 - val_acc: 0.8730\n",
      "Roc-AUC on validation: 0.942\n",
      "Epoch 16/20\n",
      "504/504 [==============================] - 0s 373us/step - loss: 0.0192 - acc: 0.9980 - val_loss: 0.3137 - val_acc: 0.8730\n",
      "Roc-AUC on validation: 0.941\n",
      "Epoch 17/20\n",
      "504/504 [==============================] - 0s 344us/step - loss: 0.0192 - acc: 0.9960 - val_loss: 0.3110 - val_acc: 0.8651\n",
      "Roc-AUC on validation: 0.94\n",
      "Epoch 18/20\n",
      "504/504 [==============================] - 0s 324us/step - loss: 0.0207 - acc: 0.9960 - val_loss: 1.0103 - val_acc: 0.6587\n",
      "Roc-AUC on validation: 0.8871\n",
      "Epoch 19/20\n",
      "504/504 [==============================] - 0s 348us/step - loss: 0.0211 - acc: 0.9980 - val_loss: 0.3099 - val_acc: 0.8730\n",
      "Roc-AUC on validation: 0.9474\n",
      "Epoch 20/20\n",
      "504/504 [==============================] - 0s 352us/step - loss: 0.0147 - acc: 0.9960 - val_loss: 0.3603 - val_acc: 0.8651\n",
      "Roc-AUC on validation: 0.9514\n",
      "\n",
      "\n",
      "\n",
      "\n",
      "----------------------------------------------------------------\n",
      "            inspired                  \n",
      "----------------------------------------------------------------\n",
      "Shape of data tensor: (346, 32)\n",
      "Shape of label tensor: (346, 2)\n",
      "\n",
      "Number of elements from each class in traing and validation set \n",
      "[138. 139.]\n",
      "[35. 34.]\n"
     ]
    },
    {
     "name": "stderr",
     "output_type": "stream",
     "text": [
      "/usr/local/lib/python3.7/site-packages/ipykernel_launcher.py:51: UserWarning: Update your `Conv1D` call to the Keras 2 API: `Conv1D(activation=\"relu\", filters=128, kernel_size=3)`\n",
      "/usr/local/lib/python3.7/site-packages/ipykernel_launcher.py:51: UserWarning: Update your `Conv1D` call to the Keras 2 API: `Conv1D(activation=\"relu\", filters=128, kernel_size=4)`\n",
      "/usr/local/lib/python3.7/site-packages/ipykernel_launcher.py:51: UserWarning: Update your `Conv1D` call to the Keras 2 API: `Conv1D(activation=\"relu\", filters=128, kernel_size=5)`\n"
     ]
    },
    {
     "name": "stdout",
     "output_type": "stream",
     "text": [
      "model fitting - more complex convolutional neural network\n",
      "Model: \"model_4\"\n",
      "__________________________________________________________________________________________________\n",
      "Layer (type)                    Output Shape         Param #     Connected to                     \n",
      "==================================================================================================\n",
      "input_4 (InputLayer)            (None, 32)           0                                            \n",
      "__________________________________________________________________________________________________\n",
      "embedding_4 (Embedding)         (None, 32, 100)      8302600     input_4[0][0]                    \n",
      "__________________________________________________________________________________________________\n",
      "conv1d_13 (Conv1D)              (None, 30, 128)      38528       embedding_4[0][0]                \n",
      "__________________________________________________________________________________________________\n",
      "conv1d_14 (Conv1D)              (None, 29, 128)      51328       embedding_4[0][0]                \n",
      "__________________________________________________________________________________________________\n",
      "conv1d_15 (Conv1D)              (None, 28, 128)      64128       embedding_4[0][0]                \n",
      "__________________________________________________________________________________________________\n",
      "max_pooling1d_13 (MaxPooling1D) (None, 6, 128)       0           conv1d_13[0][0]                  \n",
      "__________________________________________________________________________________________________\n",
      "max_pooling1d_14 (MaxPooling1D) (None, 5, 128)       0           conv1d_14[0][0]                  \n",
      "__________________________________________________________________________________________________\n",
      "max_pooling1d_15 (MaxPooling1D) (None, 5, 128)       0           conv1d_15[0][0]                  \n",
      "__________________________________________________________________________________________________\n",
      "concatenate_4 (Concatenate)     (None, 16, 128)      0           max_pooling1d_13[0][0]           \n",
      "                                                                 max_pooling1d_14[0][0]           \n",
      "                                                                 max_pooling1d_15[0][0]           \n",
      "__________________________________________________________________________________________________\n",
      "conv1d_16 (Conv1D)              (None, 12, 128)      82048       concatenate_4[0][0]              \n",
      "__________________________________________________________________________________________________\n",
      "max_pooling1d_16 (MaxPooling1D) (None, 2, 128)       0           conv1d_16[0][0]                  \n",
      "__________________________________________________________________________________________________\n",
      "flatten_4 (Flatten)             (None, 256)          0           max_pooling1d_16[0][0]           \n",
      "__________________________________________________________________________________________________\n",
      "dense_7 (Dense)                 (None, 128)          32896       flatten_4[0][0]                  \n",
      "__________________________________________________________________________________________________\n",
      "dense_8 (Dense)                 (None, 2)            258         dense_7[0][0]                    \n",
      "==================================================================================================\n",
      "Total params: 8,571,786\n",
      "Trainable params: 269,186\n",
      "Non-trainable params: 8,302,600\n",
      "__________________________________________________________________________________________________\n",
      "Train on 277 samples, validate on 69 samples\n",
      "Epoch 1/20\n",
      "277/277 [==============================] - 1s 3ms/step - loss: 1.2304 - acc: 0.5090 - val_loss: 0.7013 - val_acc: 0.5072\n",
      "Roc-AUC on validation: 0.5849\n",
      "Epoch 2/20\n",
      "277/277 [==============================] - 0s 244us/step - loss: 0.7108 - acc: 0.4910 - val_loss: 0.6736 - val_acc: 0.6087\n",
      "Roc-AUC on validation: 0.6521\n",
      "Epoch 3/20\n",
      "277/277 [==============================] - 0s 266us/step - loss: 0.6462 - acc: 0.6245 - val_loss: 0.7035 - val_acc: 0.5507\n",
      "Roc-AUC on validation: 0.5176\n",
      "Epoch 4/20\n",
      "277/277 [==============================] - 0s 269us/step - loss: 0.6220 - acc: 0.6787 - val_loss: 0.7058 - val_acc: 0.5362\n",
      "Roc-AUC on validation: 0.5412\n",
      "Epoch 5/20\n",
      "277/277 [==============================] - 0s 309us/step - loss: 0.5373 - acc: 0.7112 - val_loss: 0.7982 - val_acc: 0.5217\n",
      "Roc-AUC on validation: 0.505\n",
      "Epoch 6/20\n",
      "277/277 [==============================] - 0s 324us/step - loss: 0.4999 - acc: 0.7437 - val_loss: 0.8303 - val_acc: 0.5072\n",
      "Roc-AUC on validation: 0.6244\n",
      "Epoch 7/20\n",
      "277/277 [==============================] - 0s 292us/step - loss: 0.5244 - acc: 0.6787 - val_loss: 0.6899 - val_acc: 0.5362\n",
      "Roc-AUC on validation: 0.6067\n",
      "Epoch 8/20\n",
      "277/277 [==============================] - 0s 321us/step - loss: 0.3705 - acc: 0.9242 - val_loss: 0.9584 - val_acc: 0.5072\n",
      "Roc-AUC on validation: 0.6471\n",
      "Epoch 9/20\n",
      "277/277 [==============================] - 0s 334us/step - loss: 0.3081 - acc: 0.8845 - val_loss: 0.6598 - val_acc: 0.6087\n",
      "Roc-AUC on validation: 0.6597\n",
      "Epoch 10/20\n",
      "277/277 [==============================] - 0s 352us/step - loss: 0.3886 - acc: 0.8195 - val_loss: 0.7122 - val_acc: 0.5217\n",
      "Roc-AUC on validation: 0.6059\n",
      "Epoch 11/20\n",
      "277/277 [==============================] - 0s 349us/step - loss: 0.1686 - acc: 0.9783 - val_loss: 0.6858 - val_acc: 0.6087\n",
      "Roc-AUC on validation: 0.6496\n",
      "Epoch 12/20\n",
      "277/277 [==============================] - 0s 345us/step - loss: 0.1122 - acc: 0.9856 - val_loss: 0.7101 - val_acc: 0.5942\n",
      "Roc-AUC on validation: 0.6731\n",
      "Epoch 13/20\n",
      "277/277 [==============================] - 0s 365us/step - loss: 0.0797 - acc: 0.9892 - val_loss: 1.4456 - val_acc: 0.4928\n",
      "Roc-AUC on validation: 0.6916\n",
      "Epoch 14/20\n",
      "277/277 [==============================] - 0s 366us/step - loss: 0.2727 - acc: 0.8628 - val_loss: 0.6862 - val_acc: 0.6087\n",
      "Roc-AUC on validation: 0.6605\n",
      "Epoch 15/20\n",
      "277/277 [==============================] - 0s 321us/step - loss: 0.0529 - acc: 0.9928 - val_loss: 0.7103 - val_acc: 0.6232\n",
      "Roc-AUC on validation: 0.6815\n",
      "Epoch 16/20\n",
      "277/277 [==============================] - 0s 349us/step - loss: 0.0306 - acc: 0.9928 - val_loss: 0.8740 - val_acc: 0.6522\n",
      "Roc-AUC on validation: 0.6756\n",
      "Epoch 17/20\n",
      "277/277 [==============================] - 0s 381us/step - loss: 0.0569 - acc: 0.9892 - val_loss: 0.7283 - val_acc: 0.5942\n",
      "Roc-AUC on validation: 0.6908\n",
      "Epoch 18/20\n",
      "277/277 [==============================] - 0s 341us/step - loss: 0.3089 - acc: 0.8700 - val_loss: 0.7347 - val_acc: 0.5362\n",
      "Roc-AUC on validation: 0.6429\n",
      "Epoch 19/20\n",
      "277/277 [==============================] - 0s 366us/step - loss: 0.0480 - acc: 0.9928 - val_loss: 0.7518 - val_acc: 0.5507\n",
      "Roc-AUC on validation: 0.6496\n",
      "Epoch 20/20\n",
      "277/277 [==============================] - 0s 370us/step - loss: 0.0356 - acc: 0.9892 - val_loss: 0.7723 - val_acc: 0.5507\n",
      "Roc-AUC on validation: 0.6445\n",
      "\n",
      "\n",
      "\n",
      "\n",
      "----------------------------------------------------------------\n",
      "            green                  \n",
      "----------------------------------------------------------------\n",
      "Shape of data tensor: (1574, 32)\n",
      "Shape of label tensor: (1574, 2)\n",
      "\n",
      "Number of elements from each class in traing and validation set \n",
      "[631. 629.]\n",
      "[156. 158.]\n"
     ]
    },
    {
     "name": "stderr",
     "output_type": "stream",
     "text": [
      "/usr/local/lib/python3.7/site-packages/ipykernel_launcher.py:51: UserWarning: Update your `Conv1D` call to the Keras 2 API: `Conv1D(activation=\"relu\", filters=128, kernel_size=3)`\n",
      "/usr/local/lib/python3.7/site-packages/ipykernel_launcher.py:51: UserWarning: Update your `Conv1D` call to the Keras 2 API: `Conv1D(activation=\"relu\", filters=128, kernel_size=4)`\n",
      "/usr/local/lib/python3.7/site-packages/ipykernel_launcher.py:51: UserWarning: Update your `Conv1D` call to the Keras 2 API: `Conv1D(activation=\"relu\", filters=128, kernel_size=5)`\n"
     ]
    },
    {
     "name": "stdout",
     "output_type": "stream",
     "text": [
      "model fitting - more complex convolutional neural network\n",
      "Model: \"model_5\"\n",
      "__________________________________________________________________________________________________\n",
      "Layer (type)                    Output Shape         Param #     Connected to                     \n",
      "==================================================================================================\n",
      "input_5 (InputLayer)            (None, 32)           0                                            \n",
      "__________________________________________________________________________________________________\n",
      "embedding_5 (Embedding)         (None, 32, 100)      8302600     input_5[0][0]                    \n",
      "__________________________________________________________________________________________________\n",
      "conv1d_17 (Conv1D)              (None, 30, 128)      38528       embedding_5[0][0]                \n",
      "__________________________________________________________________________________________________\n",
      "conv1d_18 (Conv1D)              (None, 29, 128)      51328       embedding_5[0][0]                \n",
      "__________________________________________________________________________________________________\n",
      "conv1d_19 (Conv1D)              (None, 28, 128)      64128       embedding_5[0][0]                \n",
      "__________________________________________________________________________________________________\n",
      "max_pooling1d_17 (MaxPooling1D) (None, 6, 128)       0           conv1d_17[0][0]                  \n",
      "__________________________________________________________________________________________________\n",
      "max_pooling1d_18 (MaxPooling1D) (None, 5, 128)       0           conv1d_18[0][0]                  \n",
      "__________________________________________________________________________________________________\n",
      "max_pooling1d_19 (MaxPooling1D) (None, 5, 128)       0           conv1d_19[0][0]                  \n",
      "__________________________________________________________________________________________________\n",
      "concatenate_5 (Concatenate)     (None, 16, 128)      0           max_pooling1d_17[0][0]           \n",
      "                                                                 max_pooling1d_18[0][0]           \n",
      "                                                                 max_pooling1d_19[0][0]           \n",
      "__________________________________________________________________________________________________\n",
      "conv1d_20 (Conv1D)              (None, 12, 128)      82048       concatenate_5[0][0]              \n",
      "__________________________________________________________________________________________________\n",
      "max_pooling1d_20 (MaxPooling1D) (None, 2, 128)       0           conv1d_20[0][0]                  \n",
      "__________________________________________________________________________________________________\n",
      "flatten_5 (Flatten)             (None, 256)          0           max_pooling1d_20[0][0]           \n",
      "__________________________________________________________________________________________________\n",
      "dense_9 (Dense)                 (None, 128)          32896       flatten_5[0][0]                  \n",
      "__________________________________________________________________________________________________\n",
      "dense_10 (Dense)                (None, 2)            258         dense_9[0][0]                    \n",
      "==================================================================================================\n",
      "Total params: 8,571,786\n",
      "Trainable params: 269,186\n",
      "Non-trainable params: 8,302,600\n",
      "__________________________________________________________________________________________________\n",
      "Train on 1260 samples, validate on 314 samples\n",
      "Epoch 1/20\n",
      "1260/1260 [==============================] - 1s 803us/step - loss: 0.8042 - acc: 0.6214 - val_loss: 0.3857 - val_acc: 0.8408\n",
      "Roc-AUC on validation: 0.9388\n",
      "Epoch 2/20\n",
      "1260/1260 [==============================] - 0s 301us/step - loss: 0.3715 - acc: 0.8333 - val_loss: 0.2558 - val_acc: 0.8917\n",
      "Roc-AUC on validation: 0.9624\n",
      "Epoch 3/20\n",
      "1260/1260 [==============================] - 0s 286us/step - loss: 0.2824 - acc: 0.8754 - val_loss: 0.2254 - val_acc: 0.9236\n",
      "Roc-AUC on validation: 0.9733\n",
      "Epoch 4/20\n",
      "1260/1260 [==============================] - 0s 324us/step - loss: 0.1845 - acc: 0.9238 - val_loss: 0.2642 - val_acc: 0.8949\n",
      "Roc-AUC on validation: 0.9742\n",
      "Epoch 5/20\n",
      "1260/1260 [==============================] - 0s 321us/step - loss: 0.1366 - acc: 0.9460 - val_loss: 0.3399 - val_acc: 0.8885\n",
      "Roc-AUC on validation: 0.9797\n",
      "Epoch 6/20\n",
      "1260/1260 [==============================] - 0s 338us/step - loss: 0.0984 - acc: 0.9675 - val_loss: 0.3438 - val_acc: 0.8854\n",
      "Roc-AUC on validation: 0.9786\n",
      "Epoch 7/20\n",
      "1260/1260 [==============================] - 0s 316us/step - loss: 0.0658 - acc: 0.9754 - val_loss: 0.1999 - val_acc: 0.9172\n",
      "Roc-AUC on validation: 0.9781\n",
      "Epoch 8/20\n",
      "1260/1260 [==============================] - 0s 321us/step - loss: 0.0282 - acc: 0.9913 - val_loss: 0.1960 - val_acc: 0.9236\n",
      "Roc-AUC on validation: 0.9817\n",
      "Epoch 9/20\n",
      "1260/1260 [==============================] - 0s 336us/step - loss: 0.0540 - acc: 0.9817 - val_loss: 0.1923 - val_acc: 0.9204\n",
      "Roc-AUC on validation: 0.9824\n",
      "Epoch 10/20\n",
      "1260/1260 [==============================] - 0s 360us/step - loss: 0.0077 - acc: 0.9992 - val_loss: 0.2408 - val_acc: 0.9236\n",
      "Roc-AUC on validation: 0.984\n",
      "Epoch 11/20\n",
      "1260/1260 [==============================] - 0s 353us/step - loss: 0.0075 - acc: 0.9984 - val_loss: 0.2487 - val_acc: 0.9236\n",
      "Roc-AUC on validation: 0.9844\n",
      "Epoch 12/20\n",
      "1260/1260 [==============================] - 0s 352us/step - loss: 0.0489 - acc: 0.9825 - val_loss: 0.1993 - val_acc: 0.9204\n",
      "Roc-AUC on validation: 0.9849\n",
      "Epoch 13/20\n",
      "1260/1260 [==============================] - 0s 324us/step - loss: 0.0294 - acc: 0.9881 - val_loss: 0.2313 - val_acc: 0.9172\n",
      "Roc-AUC on validation: 0.9825\n",
      "Epoch 14/20\n",
      "1260/1260 [==============================] - 0s 333us/step - loss: 0.0058 - acc: 0.9984 - val_loss: 0.2360 - val_acc: 0.9236\n",
      "Roc-AUC on validation: 0.9847\n",
      "Epoch 15/20\n",
      "1260/1260 [==============================] - 1s 402us/step - loss: 0.0102 - acc: 0.9976 - val_loss: 0.2497 - val_acc: 0.9204\n",
      "Roc-AUC on validation: 0.9836\n",
      "Epoch 16/20\n",
      "1260/1260 [==============================] - 0s 354us/step - loss: 0.1047 - acc: 0.9825 - val_loss: 0.1968 - val_acc: 0.9299\n",
      "Roc-AUC on validation: 0.9831\n",
      "Epoch 17/20\n",
      "1260/1260 [==============================] - 0s 310us/step - loss: 0.0049 - acc: 0.9992 - val_loss: 0.2123 - val_acc: 0.9331\n",
      "Roc-AUC on validation: 0.9859\n",
      "Epoch 18/20\n",
      "1260/1260 [==============================] - 0s 329us/step - loss: 0.0054 - acc: 0.9992 - val_loss: 0.2162 - val_acc: 0.9299\n",
      "Roc-AUC on validation: 0.9864\n",
      "Epoch 19/20\n",
      "1260/1260 [==============================] - 0s 320us/step - loss: 0.0042 - acc: 0.9984 - val_loss: 0.2575 - val_acc: 0.9236\n",
      "Roc-AUC on validation: 0.9863\n",
      "Epoch 20/20\n",
      "1260/1260 [==============================] - 0s 333us/step - loss: 0.0416 - acc: 0.9873 - val_loss: 0.2399 - val_acc: 0.9299\n",
      "Roc-AUC on validation: 0.9835\n",
      "\n",
      "\n",
      "\n",
      "\n",
      "----------------------------------------------------------------\n",
      "            market                  \n",
      "----------------------------------------------------------------\n",
      "Shape of data tensor: (578, 32)\n",
      "Shape of label tensor: (578, 2)\n",
      "\n",
      "Number of elements from each class in traing and validation set \n",
      "[234. 229.]\n",
      "[55. 60.]\n"
     ]
    },
    {
     "name": "stderr",
     "output_type": "stream",
     "text": [
      "/usr/local/lib/python3.7/site-packages/ipykernel_launcher.py:51: UserWarning: Update your `Conv1D` call to the Keras 2 API: `Conv1D(activation=\"relu\", filters=128, kernel_size=3)`\n",
      "/usr/local/lib/python3.7/site-packages/ipykernel_launcher.py:51: UserWarning: Update your `Conv1D` call to the Keras 2 API: `Conv1D(activation=\"relu\", filters=128, kernel_size=4)`\n",
      "/usr/local/lib/python3.7/site-packages/ipykernel_launcher.py:51: UserWarning: Update your `Conv1D` call to the Keras 2 API: `Conv1D(activation=\"relu\", filters=128, kernel_size=5)`\n"
     ]
    },
    {
     "name": "stdout",
     "output_type": "stream",
     "text": [
      "model fitting - more complex convolutional neural network\n",
      "Model: \"model_6\"\n",
      "__________________________________________________________________________________________________\n",
      "Layer (type)                    Output Shape         Param #     Connected to                     \n",
      "==================================================================================================\n",
      "input_6 (InputLayer)            (None, 32)           0                                            \n",
      "__________________________________________________________________________________________________\n",
      "embedding_6 (Embedding)         (None, 32, 100)      8302600     input_6[0][0]                    \n",
      "__________________________________________________________________________________________________\n",
      "conv1d_21 (Conv1D)              (None, 30, 128)      38528       embedding_6[0][0]                \n",
      "__________________________________________________________________________________________________\n",
      "conv1d_22 (Conv1D)              (None, 29, 128)      51328       embedding_6[0][0]                \n",
      "__________________________________________________________________________________________________\n",
      "conv1d_23 (Conv1D)              (None, 28, 128)      64128       embedding_6[0][0]                \n",
      "__________________________________________________________________________________________________\n",
      "max_pooling1d_21 (MaxPooling1D) (None, 6, 128)       0           conv1d_21[0][0]                  \n",
      "__________________________________________________________________________________________________\n",
      "max_pooling1d_22 (MaxPooling1D) (None, 5, 128)       0           conv1d_22[0][0]                  \n",
      "__________________________________________________________________________________________________\n",
      "max_pooling1d_23 (MaxPooling1D) (None, 5, 128)       0           conv1d_23[0][0]                  \n",
      "__________________________________________________________________________________________________\n",
      "concatenate_6 (Concatenate)     (None, 16, 128)      0           max_pooling1d_21[0][0]           \n",
      "                                                                 max_pooling1d_22[0][0]           \n",
      "                                                                 max_pooling1d_23[0][0]           \n",
      "__________________________________________________________________________________________________\n",
      "conv1d_24 (Conv1D)              (None, 12, 128)      82048       concatenate_6[0][0]              \n",
      "__________________________________________________________________________________________________\n",
      "max_pooling1d_24 (MaxPooling1D) (None, 2, 128)       0           conv1d_24[0][0]                  \n",
      "__________________________________________________________________________________________________\n",
      "flatten_6 (Flatten)             (None, 256)          0           max_pooling1d_24[0][0]           \n",
      "__________________________________________________________________________________________________\n",
      "dense_11 (Dense)                (None, 128)          32896       flatten_6[0][0]                  \n",
      "__________________________________________________________________________________________________\n",
      "dense_12 (Dense)                (None, 2)            258         dense_11[0][0]                   \n",
      "==================================================================================================\n",
      "Total params: 8,571,786\n",
      "Trainable params: 269,186\n",
      "Non-trainable params: 8,302,600\n",
      "__________________________________________________________________________________________________\n",
      "Train on 463 samples, validate on 115 samples\n",
      "Epoch 1/20\n",
      "463/463 [==============================] - 1s 2ms/step - loss: 1.1941 - acc: 0.5313 - val_loss: 0.9550 - val_acc: 0.5217\n",
      "Roc-AUC on validation: 0.5621\n",
      "Epoch 2/20\n",
      "463/463 [==============================] - 0s 278us/step - loss: 0.7054 - acc: 0.5961 - val_loss: 0.6913 - val_acc: 0.5217\n",
      "Roc-AUC on validation: 0.6406\n",
      "Epoch 3/20\n",
      "463/463 [==============================] - 0s 277us/step - loss: 0.6286 - acc: 0.6566 - val_loss: 0.6799 - val_acc: 0.6348\n",
      "Roc-AUC on validation: 0.6633\n",
      "Epoch 4/20\n",
      "463/463 [==============================] - 0s 284us/step - loss: 0.6663 - acc: 0.6242 - val_loss: 0.6792 - val_acc: 0.5217\n",
      "Roc-AUC on validation: 0.6518\n",
      "Epoch 5/20\n",
      "463/463 [==============================] - 0s 292us/step - loss: 0.5502 - acc: 0.7711 - val_loss: 0.5908 - val_acc: 0.7043\n",
      "Roc-AUC on validation: 0.787\n",
      "Epoch 6/20\n",
      "463/463 [==============================] - 0s 286us/step - loss: 0.4286 - acc: 0.8229 - val_loss: 0.6141 - val_acc: 0.6957\n",
      "Roc-AUC on validation: 0.8006\n",
      "Epoch 7/20\n",
      "463/463 [==============================] - 0s 278us/step - loss: 0.4230 - acc: 0.8467 - val_loss: 0.5611 - val_acc: 0.7217\n",
      "Roc-AUC on validation: 0.7976\n",
      "Epoch 8/20\n",
      "463/463 [==============================] - 0s 322us/step - loss: 0.2861 - acc: 0.8963 - val_loss: 0.7683 - val_acc: 0.6000\n",
      "Roc-AUC on validation: 0.8424\n",
      "Epoch 9/20\n",
      "463/463 [==============================] - 0s 288us/step - loss: 0.1854 - acc: 0.9352 - val_loss: 1.2684 - val_acc: 0.5478\n",
      "Roc-AUC on validation: 0.8458\n",
      "Epoch 10/20\n",
      "463/463 [==============================] - 0s 292us/step - loss: 0.1813 - acc: 0.9309 - val_loss: 0.5330 - val_acc: 0.7565\n",
      "Roc-AUC on validation: 0.8536\n",
      "Epoch 11/20\n",
      "463/463 [==============================] - 0s 311us/step - loss: 0.1245 - acc: 0.9611 - val_loss: 0.4365 - val_acc: 0.8087\n",
      "Roc-AUC on validation: 0.8861\n",
      "Epoch 12/20\n",
      "463/463 [==============================] - 0s 316us/step - loss: 0.0279 - acc: 0.9978 - val_loss: 0.4381 - val_acc: 0.8348\n",
      "Roc-AUC on validation: 0.89\n",
      "Epoch 13/20\n",
      "463/463 [==============================] - 0s 323us/step - loss: 0.0130 - acc: 0.9978 - val_loss: 0.6236 - val_acc: 0.7652\n",
      "Roc-AUC on validation: 0.8967\n",
      "Epoch 14/20\n",
      "463/463 [==============================] - 0s 318us/step - loss: 0.2878 - acc: 0.8985 - val_loss: 0.4197 - val_acc: 0.8348\n",
      "Roc-AUC on validation: 0.9015\n",
      "Epoch 15/20\n",
      "463/463 [==============================] - 0s 314us/step - loss: 0.0120 - acc: 0.9978 - val_loss: 0.4487 - val_acc: 0.8348\n",
      "Roc-AUC on validation: 0.9039\n",
      "Epoch 16/20\n",
      "463/463 [==============================] - 0s 315us/step - loss: 0.0055 - acc: 0.9978 - val_loss: 0.4718 - val_acc: 0.8261\n",
      "Roc-AUC on validation: 0.9033\n",
      "Epoch 17/20\n",
      "463/463 [==============================] - 0s 330us/step - loss: 0.0030 - acc: 1.0000 - val_loss: 0.4982 - val_acc: 0.8435\n",
      "Roc-AUC on validation: 0.9012\n",
      "Epoch 18/20\n",
      "463/463 [==============================] - 0s 392us/step - loss: 0.0019 - acc: 1.0000 - val_loss: 0.5082 - val_acc: 0.8522\n",
      "Roc-AUC on validation: 0.9058\n",
      "Epoch 19/20\n",
      "463/463 [==============================] - 0s 365us/step - loss: 0.0011 - acc: 1.0000 - val_loss: 0.5542 - val_acc: 0.8087\n",
      "Roc-AUC on validation: 0.9085\n",
      "Epoch 20/20\n",
      "463/463 [==============================] - 0s 373us/step - loss: 5.3261e-04 - acc: 1.0000 - val_loss: 0.5860 - val_acc: 0.8348\n",
      "Roc-AUC on validation: 0.8997\n",
      "\n",
      "\n",
      "\n",
      "\n",
      "----------------------------------------------------------------\n",
      "            industrial                  \n",
      "----------------------------------------------------------------\n",
      "Shape of data tensor: (1342, 32)\n",
      "Shape of label tensor: (1342, 2)\n",
      "\n",
      "Number of elements from each class in traing and validation set \n",
      "[530. 544.]\n",
      "[141. 127.]\n"
     ]
    },
    {
     "name": "stderr",
     "output_type": "stream",
     "text": [
      "/usr/local/lib/python3.7/site-packages/ipykernel_launcher.py:51: UserWarning: Update your `Conv1D` call to the Keras 2 API: `Conv1D(activation=\"relu\", filters=128, kernel_size=3)`\n",
      "/usr/local/lib/python3.7/site-packages/ipykernel_launcher.py:51: UserWarning: Update your `Conv1D` call to the Keras 2 API: `Conv1D(activation=\"relu\", filters=128, kernel_size=4)`\n",
      "/usr/local/lib/python3.7/site-packages/ipykernel_launcher.py:51: UserWarning: Update your `Conv1D` call to the Keras 2 API: `Conv1D(activation=\"relu\", filters=128, kernel_size=5)`\n"
     ]
    },
    {
     "name": "stdout",
     "output_type": "stream",
     "text": [
      "model fitting - more complex convolutional neural network\n",
      "Model: \"model_7\"\n",
      "__________________________________________________________________________________________________\n",
      "Layer (type)                    Output Shape         Param #     Connected to                     \n",
      "==================================================================================================\n",
      "input_7 (InputLayer)            (None, 32)           0                                            \n",
      "__________________________________________________________________________________________________\n",
      "embedding_7 (Embedding)         (None, 32, 100)      8302600     input_7[0][0]                    \n",
      "__________________________________________________________________________________________________\n",
      "conv1d_25 (Conv1D)              (None, 30, 128)      38528       embedding_7[0][0]                \n",
      "__________________________________________________________________________________________________\n",
      "conv1d_26 (Conv1D)              (None, 29, 128)      51328       embedding_7[0][0]                \n",
      "__________________________________________________________________________________________________\n",
      "conv1d_27 (Conv1D)              (None, 28, 128)      64128       embedding_7[0][0]                \n",
      "__________________________________________________________________________________________________\n",
      "max_pooling1d_25 (MaxPooling1D) (None, 6, 128)       0           conv1d_25[0][0]                  \n",
      "__________________________________________________________________________________________________\n",
      "max_pooling1d_26 (MaxPooling1D) (None, 5, 128)       0           conv1d_26[0][0]                  \n",
      "__________________________________________________________________________________________________\n",
      "max_pooling1d_27 (MaxPooling1D) (None, 5, 128)       0           conv1d_27[0][0]                  \n",
      "__________________________________________________________________________________________________\n",
      "concatenate_7 (Concatenate)     (None, 16, 128)      0           max_pooling1d_25[0][0]           \n",
      "                                                                 max_pooling1d_26[0][0]           \n",
      "                                                                 max_pooling1d_27[0][0]           \n",
      "__________________________________________________________________________________________________\n",
      "conv1d_28 (Conv1D)              (None, 12, 128)      82048       concatenate_7[0][0]              \n",
      "__________________________________________________________________________________________________\n",
      "max_pooling1d_28 (MaxPooling1D) (None, 2, 128)       0           conv1d_28[0][0]                  \n",
      "__________________________________________________________________________________________________\n",
      "flatten_7 (Flatten)             (None, 256)          0           max_pooling1d_28[0][0]           \n",
      "__________________________________________________________________________________________________\n",
      "dense_13 (Dense)                (None, 128)          32896       flatten_7[0][0]                  \n",
      "__________________________________________________________________________________________________\n",
      "dense_14 (Dense)                (None, 2)            258         dense_13[0][0]                   \n",
      "==================================================================================================\n",
      "Total params: 8,571,786\n",
      "Trainable params: 269,186\n",
      "Non-trainable params: 8,302,600\n",
      "__________________________________________________________________________________________________\n",
      "Train on 1074 samples, validate on 268 samples\n",
      "Epoch 1/20\n",
      "1074/1074 [==============================] - 1s 888us/step - loss: 0.9147 - acc: 0.5708 - val_loss: 0.7871 - val_acc: 0.4739\n",
      "Roc-AUC on validation: 0.8091\n",
      "Epoch 2/20\n",
      "1074/1074 [==============================] - 0s 292us/step - loss: 0.5755 - acc: 0.7188 - val_loss: 0.6152 - val_acc: 0.6306\n",
      "Roc-AUC on validation: 0.9277\n",
      "Epoch 3/20\n",
      "1074/1074 [==============================] - 0s 284us/step - loss: 0.4394 - acc: 0.7980 - val_loss: 0.6365 - val_acc: 0.6455\n",
      "Roc-AUC on validation: 0.9434\n",
      "Epoch 4/20\n",
      "1074/1074 [==============================] - 0s 285us/step - loss: 0.3297 - acc: 0.8631 - val_loss: 0.2853 - val_acc: 0.9030\n",
      "Roc-AUC on validation: 0.9516\n",
      "Epoch 5/20\n",
      "1074/1074 [==============================] - 0s 435us/step - loss: 0.2153 - acc: 0.9236 - val_loss: 0.5473 - val_acc: 0.7836\n",
      "Roc-AUC on validation: 0.9277\n",
      "Epoch 6/20\n",
      "1074/1074 [==============================] - 0s 329us/step - loss: 0.1703 - acc: 0.9404 - val_loss: 0.3470 - val_acc: 0.8545\n",
      "Roc-AUC on validation: 0.9578\n",
      "Epoch 7/20\n",
      "1074/1074 [==============================] - 0s 352us/step - loss: 0.1120 - acc: 0.9665 - val_loss: 0.3670 - val_acc: 0.8769\n",
      "Roc-AUC on validation: 0.945\n",
      "Epoch 8/20\n",
      "1074/1074 [==============================] - 1s 596us/step - loss: 0.0628 - acc: 0.9814 - val_loss: 0.7210 - val_acc: 0.7351\n",
      "Roc-AUC on validation: 0.9557\n",
      "Epoch 9/20\n",
      "1074/1074 [==============================] - 0s 286us/step - loss: 0.0337 - acc: 0.9879 - val_loss: 0.6477 - val_acc: 0.7948\n",
      "Roc-AUC on validation: 0.955\n",
      "Epoch 10/20\n",
      "1074/1074 [==============================] - 0s 417us/step - loss: 0.0603 - acc: 0.9777 - val_loss: 0.3272 - val_acc: 0.9030\n",
      "Roc-AUC on validation: 0.9564\n",
      "Epoch 11/20\n",
      "1074/1074 [==============================] - 0s 377us/step - loss: 0.0617 - acc: 0.9786 - val_loss: 0.3269 - val_acc: 0.9179\n",
      "Roc-AUC on validation: 0.9577\n",
      "Epoch 12/20\n",
      "1074/1074 [==============================] - 0s 323us/step - loss: 0.0153 - acc: 0.9963 - val_loss: 0.3910 - val_acc: 0.9216\n",
      "Roc-AUC on validation: 0.9577\n",
      "Epoch 13/20\n",
      "1074/1074 [==============================] - 0s 463us/step - loss: 0.1082 - acc: 0.9665 - val_loss: 0.4470 - val_acc: 0.9179\n",
      "Roc-AUC on validation: 0.9462\n",
      "Epoch 14/20\n",
      "1074/1074 [==============================] - 0s 369us/step - loss: 0.0226 - acc: 0.9963 - val_loss: 0.3378 - val_acc: 0.9216\n",
      "Roc-AUC on validation: 0.9548\n",
      "Epoch 15/20\n",
      "1074/1074 [==============================] - 0s 315us/step - loss: 0.0122 - acc: 0.9972 - val_loss: 0.3910 - val_acc: 0.8993\n",
      "Roc-AUC on validation: 0.9574\n",
      "Epoch 16/20\n",
      "1074/1074 [==============================] - 0s 341us/step - loss: 0.0448 - acc: 0.9804 - val_loss: 0.3862 - val_acc: 0.8993\n",
      "Roc-AUC on validation: 0.953\n",
      "Epoch 17/20\n",
      "1074/1074 [==============================] - 0s 377us/step - loss: 0.0154 - acc: 0.9963 - val_loss: 0.3776 - val_acc: 0.9291\n",
      "Roc-AUC on validation: 0.9584\n",
      "Epoch 18/20\n",
      "1074/1074 [==============================] - 0s 334us/step - loss: 0.0458 - acc: 0.9851 - val_loss: 0.3922 - val_acc: 0.9254\n",
      "Roc-AUC on validation: 0.9545\n",
      "Epoch 19/20\n",
      "1074/1074 [==============================] - 1s 528us/step - loss: 0.0085 - acc: 0.9953 - val_loss: 0.4190 - val_acc: 0.9179\n",
      "Roc-AUC on validation: 0.9563\n",
      "Epoch 20/20\n",
      "1074/1074 [==============================] - 0s 403us/step - loss: 0.0174 - acc: 0.9963 - val_loss: 0.4810 - val_acc: 0.9216\n",
      "Roc-AUC on validation: 0.9565\n",
      "\n",
      "\n",
      "\n",
      "\n",
      "----------------------------------------------------------------\n",
      "            renown                  \n",
      "----------------------------------------------------------------\n",
      "Shape of data tensor: (308, 32)\n",
      "Shape of label tensor: (308, 2)\n",
      "\n",
      "Number of elements from each class in traing and validation set \n",
      "[121. 126.]\n",
      "[33. 28.]\n"
     ]
    },
    {
     "name": "stderr",
     "output_type": "stream",
     "text": [
      "/usr/local/lib/python3.7/site-packages/ipykernel_launcher.py:51: UserWarning: Update your `Conv1D` call to the Keras 2 API: `Conv1D(activation=\"relu\", filters=128, kernel_size=3)`\n",
      "/usr/local/lib/python3.7/site-packages/ipykernel_launcher.py:51: UserWarning: Update your `Conv1D` call to the Keras 2 API: `Conv1D(activation=\"relu\", filters=128, kernel_size=4)`\n",
      "/usr/local/lib/python3.7/site-packages/ipykernel_launcher.py:51: UserWarning: Update your `Conv1D` call to the Keras 2 API: `Conv1D(activation=\"relu\", filters=128, kernel_size=5)`\n"
     ]
    },
    {
     "name": "stdout",
     "output_type": "stream",
     "text": [
      "model fitting - more complex convolutional neural network\n",
      "Model: \"model_8\"\n",
      "__________________________________________________________________________________________________\n",
      "Layer (type)                    Output Shape         Param #     Connected to                     \n",
      "==================================================================================================\n",
      "input_8 (InputLayer)            (None, 32)           0                                            \n",
      "__________________________________________________________________________________________________\n",
      "embedding_8 (Embedding)         (None, 32, 100)      8302600     input_8[0][0]                    \n",
      "__________________________________________________________________________________________________\n",
      "conv1d_29 (Conv1D)              (None, 30, 128)      38528       embedding_8[0][0]                \n",
      "__________________________________________________________________________________________________\n",
      "conv1d_30 (Conv1D)              (None, 29, 128)      51328       embedding_8[0][0]                \n",
      "__________________________________________________________________________________________________\n",
      "conv1d_31 (Conv1D)              (None, 28, 128)      64128       embedding_8[0][0]                \n",
      "__________________________________________________________________________________________________\n",
      "max_pooling1d_29 (MaxPooling1D) (None, 6, 128)       0           conv1d_29[0][0]                  \n",
      "__________________________________________________________________________________________________\n",
      "max_pooling1d_30 (MaxPooling1D) (None, 5, 128)       0           conv1d_30[0][0]                  \n",
      "__________________________________________________________________________________________________\n",
      "max_pooling1d_31 (MaxPooling1D) (None, 5, 128)       0           conv1d_31[0][0]                  \n",
      "__________________________________________________________________________________________________\n",
      "concatenate_8 (Concatenate)     (None, 16, 128)      0           max_pooling1d_29[0][0]           \n",
      "                                                                 max_pooling1d_30[0][0]           \n",
      "                                                                 max_pooling1d_31[0][0]           \n",
      "__________________________________________________________________________________________________\n",
      "conv1d_32 (Conv1D)              (None, 12, 128)      82048       concatenate_8[0][0]              \n",
      "__________________________________________________________________________________________________\n",
      "max_pooling1d_32 (MaxPooling1D) (None, 2, 128)       0           conv1d_32[0][0]                  \n",
      "__________________________________________________________________________________________________\n",
      "flatten_8 (Flatten)             (None, 256)          0           max_pooling1d_32[0][0]           \n",
      "__________________________________________________________________________________________________\n",
      "dense_15 (Dense)                (None, 128)          32896       flatten_8[0][0]                  \n",
      "__________________________________________________________________________________________________\n",
      "dense_16 (Dense)                (None, 2)            258         dense_15[0][0]                   \n",
      "==================================================================================================\n",
      "Total params: 8,571,786\n",
      "Trainable params: 269,186\n",
      "Non-trainable params: 8,302,600\n",
      "__________________________________________________________________________________________________\n",
      "Train on 247 samples, validate on 61 samples\n",
      "Epoch 1/20\n",
      "247/247 [==============================] - 1s 4ms/step - loss: 1.2548 - acc: 0.5466 - val_loss: 0.6829 - val_acc: 0.5738\n",
      "Roc-AUC on validation: 0.631\n",
      "Epoch 2/20\n",
      "247/247 [==============================] - 0s 277us/step - loss: 0.7335 - acc: 0.5304 - val_loss: 0.6666 - val_acc: 0.6393\n",
      "Roc-AUC on validation: 0.671\n",
      "Epoch 3/20\n",
      "247/247 [==============================] - 0s 277us/step - loss: 0.5979 - acc: 0.7126 - val_loss: 0.6458 - val_acc: 0.6557\n",
      "Roc-AUC on validation: 0.7067\n",
      "Epoch 4/20\n",
      "247/247 [==============================] - 0s 287us/step - loss: 0.5715 - acc: 0.7004 - val_loss: 0.7013 - val_acc: 0.4918\n",
      "Roc-AUC on validation: 0.6905\n",
      "Epoch 5/20\n",
      "247/247 [==============================] - 0s 289us/step - loss: 0.4601 - acc: 0.8421 - val_loss: 0.6115 - val_acc: 0.6721\n",
      "Roc-AUC on validation: 0.7868\n",
      "Epoch 6/20\n",
      "247/247 [==============================] - 0s 284us/step - loss: 0.5262 - acc: 0.7773 - val_loss: 0.6858 - val_acc: 0.5574\n",
      "Roc-AUC on validation: 0.7695\n",
      "Epoch 7/20\n",
      "247/247 [==============================] - 0s 297us/step - loss: 0.3589 - acc: 0.8462 - val_loss: 0.5772 - val_acc: 0.7377\n",
      "Roc-AUC on validation: 0.7944\n",
      "Epoch 8/20\n",
      "247/247 [==============================] - 0s 287us/step - loss: 0.2218 - acc: 0.9757 - val_loss: 0.8853 - val_acc: 0.5410\n",
      "Roc-AUC on validation: 0.8593\n",
      "Epoch 9/20\n",
      "247/247 [==============================] - 0s 299us/step - loss: 0.5211 - acc: 0.7692 - val_loss: 0.5409 - val_acc: 0.7377\n",
      "Roc-AUC on validation: 0.8225\n",
      "Epoch 10/20\n",
      "247/247 [==============================] - 0s 305us/step - loss: 0.1551 - acc: 0.9919 - val_loss: 0.5076 - val_acc: 0.7869\n",
      "Roc-AUC on validation: 0.8431\n",
      "Epoch 11/20\n",
      "247/247 [==============================] - 0s 307us/step - loss: 0.1084 - acc: 0.9960 - val_loss: 0.5834 - val_acc: 0.6885\n",
      "Roc-AUC on validation: 0.7835\n",
      "Epoch 12/20\n",
      "247/247 [==============================] - 0s 297us/step - loss: 0.1146 - acc: 0.9798 - val_loss: 2.3388 - val_acc: 0.4590\n",
      "Roc-AUC on validation: 0.6742\n",
      "Epoch 13/20\n",
      "247/247 [==============================] - 0s 297us/step - loss: 0.3343 - acc: 0.8421 - val_loss: 0.5350 - val_acc: 0.6557\n",
      "Roc-AUC on validation: 0.8301\n",
      "Epoch 14/20\n",
      "247/247 [==============================] - 0s 284us/step - loss: 0.0523 - acc: 0.9960 - val_loss: 0.4630 - val_acc: 0.7869\n",
      "Roc-AUC on validation: 0.8658\n",
      "Epoch 15/20\n",
      "247/247 [==============================] - 0s 281us/step - loss: 0.0378 - acc: 0.9960 - val_loss: 0.5214 - val_acc: 0.7377\n",
      "Roc-AUC on validation: 0.8323\n",
      "Epoch 16/20\n",
      "247/247 [==============================] - 0s 305us/step - loss: 0.0595 - acc: 0.9919 - val_loss: 0.8621 - val_acc: 0.6721\n",
      "Roc-AUC on validation: 0.75\n",
      "Epoch 17/20\n",
      "247/247 [==============================] - 0s 287us/step - loss: 0.0391 - acc: 0.9960 - val_loss: 0.5629 - val_acc: 0.6721\n",
      "Roc-AUC on validation: 0.8236\n",
      "Epoch 18/20\n",
      "247/247 [==============================] - 0s 294us/step - loss: 0.0388 - acc: 0.9919 - val_loss: 0.5710 - val_acc: 0.6885\n",
      "Roc-AUC on validation: 0.8258\n",
      "Epoch 19/20\n",
      "247/247 [==============================] - 0s 261us/step - loss: 0.0190 - acc: 0.9960 - val_loss: 0.6556 - val_acc: 0.6885\n",
      "Roc-AUC on validation: 0.8636\n",
      "Epoch 20/20\n",
      "247/247 [==============================] - 0s 281us/step - loss: 0.0464 - acc: 0.9919 - val_loss: 1.3321 - val_acc: 0.5738\n",
      "Roc-AUC on validation: 0.8182\n",
      "\n",
      "\n",
      "\n",
      "\n"
     ]
    }
   ],
   "source": [
    "## Train DL models\n",
    "\"\"\"\n",
    "N=1\n",
    "models = []\n",
    "for i in range(N):\n",
    "    result = model_helpers.train_DL_models(training_df,\n",
    "                data_class_column=\"convention\", \n",
    "                data_label_column=\"label\",\n",
    "                tokenizer=extended_tokenizer,\n",
    "                random_seed=0,\n",
    "                use_validation=True) \n",
    "    models.append(result)\n",
    "    \n",
    "\"\"\"\n",
    "\n",
    "_DLModels, _DLTokenizers, _DLData_val_x, _DLData_val_y, _DLTrain_histories = model_helpers.train_DL_models(training_df,\n",
    "                data_class_column=\"convention\", \n",
    "                data_label_column=\"label\",\n",
    "                tokenizer=extended_tokenizer,\n",
    "                random_seed=0,\n",
    "                use_validation=True) \n",
    "                \n"
   ]
  },
  {
   "cell_type": "code",
   "execution_count": 9,
   "metadata": {},
   "outputs": [],
   "source": [
    "def get_positive_preds_with_threshold(preds, threshold=0.5):\n",
    "\n",
    "    preds_results = []\n",
    "    for j in range(len(preds)):\n",
    "        int_pred = int(preds[j][1]>=threshold)\n",
    "        \n",
    "        preds_results.append(int_pred)\n",
    "    return preds_results"
   ]
  },
  {
   "cell_type": "code",
   "execution_count": 10,
   "metadata": {},
   "outputs": [],
   "source": [
    "thresholds = np.linspace(0,0.96,100)\n",
    "\n",
    "_conventions_matches_precissions = {}\n",
    "\n",
    "\n",
    "for k in _DLModels.keys():\n",
    "    \"\"\"\n",
    "    model_precisions = []\n",
    "    \n",
    "    for i in range(N):\n",
    "        \n",
    "        tmp_precisions = []\n",
    "        \n",
    "        #_DLModels, _DLTokenizers, _DLData_val_x, _DLData_val_y, _DLTrain_histories\n",
    "        \n",
    "        my_model = models[i][0][k]\n",
    "        my_data_x = models[i][2][k]\n",
    "        my_data_y = [int(x[0]<x[3]) for x in models[i][2][k]]\n",
    "        preds = my_model.predict(my_data_x)\n",
    "\n",
    "    \n",
    "        for t in thresholds:\n",
    "            y_pred = get_positive_preds_with_threshold(preds,t)\n",
    "\n",
    "            tmp_precisions.append(metrics.precision_score(my_data_y, y_pred))\n",
    "        \n",
    "        model_precisions.append(np.array(tmp_precisions))\n",
    "\n",
    "    #print(tmp_precissions)\n",
    "    #break\n",
    "    _conventions_matches_precissions[k] = np.array(model_precisions).sum(axis=0) /N\n",
    "    \"\"\"\n",
    "    \n",
    "    \n",
    "    tmp_precissions = []\n",
    "    \n",
    "    my_model = _DLModels[k]\n",
    "    my_data_x = _DLData_val_x[k]\n",
    "    my_data_y = [int(x[0]<x[1]) for x in _DLData_val_y[k]]\n",
    "\n",
    "    preds = my_model.predict(my_data_x)\n",
    "    \n",
    "    for t in thresholds:\n",
    "        y_pred = get_positive_preds_with_threshold(preds,t)\n",
    "        \n",
    "        tmp_precissions.append(metrics.precision_score(my_data_y, y_pred))\n",
    "        \n",
    "\n",
    "    _conventions_matches_precissions[k] = tmp_precissions"
   ]
  },
  {
   "cell_type": "code",
   "execution_count": 11,
   "metadata": {},
   "outputs": [
    {
     "data": {
      "image/png": "[encoded data removed]",
      "text/plain": [
       "<Figure size 720x504 with 1 Axes>"
      ]
     },
     "metadata": {},
     "output_type": "display_data"
    }
   ],
   "source": [
    "plt.figure(figsize=(10,7))\n",
    "\n",
    "precissions_threshold = 0.9\n",
    "classifier_thresholds = {}\n",
    "\n",
    "for k in _conventions_matches_precissions:\n",
    "    x = thresholds\n",
    "    y = np.array(_conventions_matches_precissions[k])\n",
    "    \n",
    "    \n",
    "\n",
    "for k in _conventions_matches_precissions:\n",
    "    x = thresholds\n",
    "    y = np.array(_conventions_matches_precissions[k])\n",
    "\n",
    "    \n",
    "    plt.plot(x,y, marker='', linewidth=2, linestyle='dashed', label=k.replace(\"training_\", \"\").replace(\".txt\", \"\").capitalize()+\" model\")\n",
    "    \n",
    "    t_index=None\n",
    "    try:\n",
    "        t_index = np.argwhere(y > precissions_threshold)[0]\n",
    "    except:\n",
    "        pass\n",
    "    \n",
    "    if t_index is not None:\n",
    "        classifier_thresholds[k] = x[t_index]\n",
    "        #plt.plot(x[t_index], y[t_index], 'bo')\n",
    "\n",
    "#plt.title(\"Comparing precission scores for all classifiers\", fontdict={'fontsize':20}, pad=25)\n",
    "plt.xlabel(\"Confidence threshold ($T_{calibration}$)\", fontsize=14)\n",
    "plt.ylabel(\"Precision score\", fontsize=14)\n",
    "plt.hlines(y=precissions_threshold, xmin=0, xmax=1.00001, color='black', linestyle=\":\", lw=4, label=\"$T_{precision}$\")\n",
    "\n",
    "\"\"\"plt.legend([x.replace(\"training_\", \"\").replace(\".txt\", \"\")+\" model\"\n",
    "            for x in list(_conventions_matches_precissions.keys())], fontsize=15)\n",
    "\"\"\"\n",
    "\n",
    "plt.legend(fontsize=15, bbox_to_anchor=(1.01, 1.01))\n",
    "\n",
    "plt.show()"
   ]
  },
  {
   "cell_type": "code",
   "execution_count": 28,
   "metadata": {},
   "outputs": [],
   "source": [
    "from sklearn.metrics import accuracy_score, auc, precision_score, roc_curve\n",
    "import tqdm"
   ]
  },
  {
   "cell_type": "code",
   "execution_count": null,
   "metadata": {},
   "outputs": [],
   "source": [
    "def apply_pred_threshold(preds, t):\n",
    "    res = np.zeros(len(preds))\n",
    "    \n",
    "    res[preds>=t] = 1\n",
    "    return res\n",
    "    "
   ]
  },
  {
   "cell_type": "code",
   "execution_count": null,
   "metadata": {},
   "outputs": [],
   "source": [
    "k = \"green\"\n",
    "model = _DLModels[k]\n",
    "x_val = _DLData_val_x[k]\n",
    "y_val = _DLData_val_y[k][:,1]\n",
    "\n",
    "pred = model.predict(x_val)[:,1]\n",
    "y_pred = apply_pred_threshold(pred, equalized_precisions_threshold)\n",
    "\n",
    "roc_auc_score(y_val, y_pred)\n"
   ]
  },
  {
   "cell_type": "code",
   "execution_count": 71,
   "metadata": {},
   "outputs": [],
   "source": [
    "def train_models_and_get_scores(df, t_calibration, N_executions=1):\n",
    "    accs = {}\n",
    "    precs = {}\n",
    "    AUCs = {}\n",
    "    for i in tqdm.tqdm(range(N_executions)):\n",
    "    \n",
    "        _DLModels, _DLTokenizers, _DLData_val_x, _DLData_val_y, _DLTrain_histories = model_helpers.train_DL_models(df,\n",
    "                    data_class_column=\"convention\", \n",
    "                    data_label_column=\"label\",\n",
    "                    tokenizer=extended_tokenizer,\n",
    "                    random_seed=0,\n",
    "                    use_validation=True) \n",
    "\n",
    "        for k in _DLModels.keys():\n",
    "            model = _DLModels[k]\n",
    "            x_val = _DLData_val_x[k]\n",
    "            y_val = _DLData_val_y[k][:,1]\n",
    "\n",
    "            pred = model.predict(x_val)[:,1]\n",
    "            y_pred = apply_pred_threshold(pred, t_calibration)\n",
    "\n",
    "\n",
    "\n",
    "            if k in accs:\n",
    "                accs[k].append(accuracy_score(y_val, y_pred))\n",
    "                precs[k].append(precision_score(y_val, y_pred))\n",
    "                AUCs[k].append(roc_auc_score(y_val, y_pred))\n",
    "            else:\n",
    "                accs[k] = [accuracy_score(y_val, y_pred)]\n",
    "                precs[k] = [precision_score(y_val, y_pred)]\n",
    "                AUCs[k] = [roc_auc_score(y_val, y_pred)]\n",
    "        \n",
    "    return accs, precs, AUCs\n",
    "    "
   ]
  },
  {
   "cell_type": "code",
   "execution_count": 72,
   "metadata": {},
   "outputs": [
    {
     "name": "stderr",
     "output_type": "stream",
     "text": [
      "\r",
      "  0%|          | 0/1 [00:00<?, ?it/s]"
     ]
    },
    {
     "name": "stdout",
     "output_type": "stream",
     "text": [
      "Found 83025 unique tokens.\n",
      "----------------------------------------------------------------\n",
      "            domestic                  \n",
      "----------------------------------------------------------------\n",
      "Shape of data tensor: (364, 32)\n",
      "Shape of label tensor: (364, 2)\n",
      "\n",
      "Number of elements from each class in traing and validation set \n",
      "[144. 148.]\n",
      "[38. 34.]\n"
     ]
    },
    {
     "name": "stderr",
     "output_type": "stream",
     "text": [
      "/usr/local/lib/python3.7/site-packages/ipykernel_launcher.py:51: UserWarning: Update your `Conv1D` call to the Keras 2 API: `Conv1D(activation=\"relu\", filters=128, kernel_size=3)`\n",
      "/usr/local/lib/python3.7/site-packages/ipykernel_launcher.py:51: UserWarning: Update your `Conv1D` call to the Keras 2 API: `Conv1D(activation=\"relu\", filters=128, kernel_size=4)`\n",
      "/usr/local/lib/python3.7/site-packages/ipykernel_launcher.py:51: UserWarning: Update your `Conv1D` call to the Keras 2 API: `Conv1D(activation=\"relu\", filters=128, kernel_size=5)`\n"
     ]
    },
    {
     "name": "stdout",
     "output_type": "stream",
     "text": [
      "model fitting - more complex convolutional neural network\n",
      "Model: \"model_69\"\n",
      "__________________________________________________________________________________________________\n",
      "Layer (type)                    Output Shape         Param #     Connected to                     \n",
      "==================================================================================================\n",
      "input_69 (InputLayer)           (None, 32)           0                                            \n",
      "__________________________________________________________________________________________________\n",
      "embedding_69 (Embedding)        (None, 32, 100)      8302600     input_69[0][0]                   \n",
      "__________________________________________________________________________________________________\n",
      "conv1d_273 (Conv1D)             (None, 30, 128)      38528       embedding_69[0][0]               \n",
      "__________________________________________________________________________________________________\n",
      "conv1d_274 (Conv1D)             (None, 29, 128)      51328       embedding_69[0][0]               \n",
      "__________________________________________________________________________________________________\n",
      "conv1d_275 (Conv1D)             (None, 28, 128)      64128       embedding_69[0][0]               \n",
      "__________________________________________________________________________________________________\n",
      "max_pooling1d_273 (MaxPooling1D (None, 6, 128)       0           conv1d_273[0][0]                 \n",
      "__________________________________________________________________________________________________\n",
      "max_pooling1d_274 (MaxPooling1D (None, 5, 128)       0           conv1d_274[0][0]                 \n",
      "__________________________________________________________________________________________________\n",
      "max_pooling1d_275 (MaxPooling1D (None, 5, 128)       0           conv1d_275[0][0]                 \n",
      "__________________________________________________________________________________________________\n",
      "concatenate_69 (Concatenate)    (None, 16, 128)      0           max_pooling1d_273[0][0]          \n",
      "                                                                 max_pooling1d_274[0][0]          \n",
      "                                                                 max_pooling1d_275[0][0]          \n",
      "__________________________________________________________________________________________________\n",
      "conv1d_276 (Conv1D)             (None, 12, 128)      82048       concatenate_69[0][0]             \n",
      "__________________________________________________________________________________________________\n",
      "max_pooling1d_276 (MaxPooling1D (None, 2, 128)       0           conv1d_276[0][0]                 \n",
      "__________________________________________________________________________________________________\n",
      "flatten_69 (Flatten)            (None, 256)          0           max_pooling1d_276[0][0]          \n",
      "__________________________________________________________________________________________________\n",
      "dense_137 (Dense)               (None, 128)          32896       flatten_69[0][0]                 \n",
      "__________________________________________________________________________________________________\n",
      "dense_138 (Dense)               (None, 2)            258         dense_137[0][0]                  \n",
      "==================================================================================================\n",
      "Total params: 8,571,786\n",
      "Trainable params: 269,186\n",
      "Non-trainable params: 8,302,600\n",
      "__________________________________________________________________________________________________\n",
      "Train on 292 samples, validate on 72 samples\n",
      "Epoch 1/20\n",
      "292/292 [==============================] - 4s 15ms/step - loss: 1.3649 - acc: 0.4623 - val_loss: 0.6769 - val_acc: 0.5556\n",
      "Roc-AUC on validation: 0.6447\n",
      "Epoch 2/20\n",
      "292/292 [==============================] - 0s 342us/step - loss: 0.6442 - acc: 0.6199 - val_loss: 0.6880 - val_acc: 0.5417\n",
      "Roc-AUC on validation: 0.6788\n",
      "Epoch 3/20\n",
      "292/292 [==============================] - 0s 360us/step - loss: 0.6442 - acc: 0.5822 - val_loss: 0.8411 - val_acc: 0.5278\n",
      "Roc-AUC on validation: 0.5898\n",
      "Epoch 4/20\n",
      "292/292 [==============================] - 0s 376us/step - loss: 0.5823 - acc: 0.6884 - val_loss: 0.7295 - val_acc: 0.5556\n",
      "Roc-AUC on validation: 0.6494\n",
      "Epoch 5/20\n",
      "292/292 [==============================] - 0s 311us/step - loss: 0.4925 - acc: 0.7397 - val_loss: 0.6776 - val_acc: 0.5556\n",
      "Roc-AUC on validation: 0.7686\n",
      "Epoch 6/20\n",
      "292/292 [==============================] - 0s 330us/step - loss: 0.5410 - acc: 0.6986 - val_loss: 0.6571 - val_acc: 0.5556\n",
      "Roc-AUC on validation: 0.7817\n",
      "Epoch 7/20\n",
      "292/292 [==============================] - 0s 360us/step - loss: 0.4299 - acc: 0.7705 - val_loss: 0.6413 - val_acc: 0.5694\n",
      "Roc-AUC on validation: 0.7717\n",
      "Epoch 8/20\n",
      "292/292 [==============================] - 0s 354us/step - loss: 0.2682 - acc: 0.9555 - val_loss: 1.0873 - val_acc: 0.5139\n",
      "Roc-AUC on validation: 0.7895\n",
      "Epoch 9/20\n",
      "292/292 [==============================] - 0s 364us/step - loss: 0.3727 - acc: 0.8082 - val_loss: 0.6418 - val_acc: 0.6250\n",
      "Roc-AUC on validation: 0.8228\n",
      "Epoch 10/20\n",
      "292/292 [==============================] - 0s 340us/step - loss: 0.1381 - acc: 0.9829 - val_loss: 0.8210 - val_acc: 0.5556\n",
      "Roc-AUC on validation: 0.8088\n",
      "Epoch 11/20\n",
      "292/292 [==============================] - 0s 337us/step - loss: 0.3404 - acc: 0.8219 - val_loss: 0.5156 - val_acc: 0.6944\n",
      "Roc-AUC on validation: 0.8351\n",
      "Epoch 12/20\n",
      "292/292 [==============================] - 0s 338us/step - loss: 0.0686 - acc: 1.0000 - val_loss: 0.5480 - val_acc: 0.6806\n",
      "Roc-AUC on validation: 0.8375\n",
      "Epoch 13/20\n",
      "292/292 [==============================] - 0s 312us/step - loss: 0.0452 - acc: 0.9966 - val_loss: 0.6202 - val_acc: 0.7361\n",
      "Roc-AUC on validation: 0.8158\n",
      "Epoch 14/20\n",
      "292/292 [==============================] - 0s 321us/step - loss: 0.1773 - acc: 0.9178 - val_loss: 0.5435 - val_acc: 0.6806\n",
      "Roc-AUC on validation: 0.8235\n",
      "Epoch 15/20\n",
      "292/292 [==============================] - 0s 320us/step - loss: 0.0253 - acc: 1.0000 - val_loss: 0.5153 - val_acc: 0.6944\n",
      "Roc-AUC on validation: 0.8259\n",
      "Epoch 16/20\n",
      "292/292 [==============================] - 0s 318us/step - loss: 0.0129 - acc: 1.0000 - val_loss: 0.5473 - val_acc: 0.6806\n",
      "Roc-AUC on validation: 0.8173\n",
      "Epoch 17/20\n",
      "292/292 [==============================] - 0s 313us/step - loss: 0.0078 - acc: 1.0000 - val_loss: 0.5871 - val_acc: 0.6528\n",
      "Roc-AUC on validation: 0.8197\n",
      "Epoch 18/20\n",
      "292/292 [==============================] - 0s 351us/step - loss: 0.0047 - acc: 1.0000 - val_loss: 0.6664 - val_acc: 0.6389\n",
      "Roc-AUC on validation: 0.8259\n",
      "Epoch 19/20\n",
      "292/292 [==============================] - 0s 346us/step - loss: 0.0032 - acc: 1.0000 - val_loss: 0.6205 - val_acc: 0.6389\n",
      "Roc-AUC on validation: 0.8328\n",
      "Epoch 20/20\n",
      "292/292 [==============================] - 0s 346us/step - loss: 0.0017 - acc: 1.0000 - val_loss: 0.5653 - val_acc: 0.6806\n",
      "Roc-AUC on validation: 0.8367\n",
      "\n",
      "\n",
      "\n",
      "\n",
      "----------------------------------------------------------------\n",
      "            civic                  \n",
      "----------------------------------------------------------------\n",
      "Shape of data tensor: (466, 32)\n",
      "Shape of label tensor: (466, 2)\n",
      "\n",
      "Number of elements from each class in traing and validation set \n",
      "[186. 187.]\n",
      "[47. 46.]\n"
     ]
    },
    {
     "name": "stderr",
     "output_type": "stream",
     "text": [
      "/usr/local/lib/python3.7/site-packages/ipykernel_launcher.py:51: UserWarning: Update your `Conv1D` call to the Keras 2 API: `Conv1D(activation=\"relu\", filters=128, kernel_size=3)`\n",
      "/usr/local/lib/python3.7/site-packages/ipykernel_launcher.py:51: UserWarning: Update your `Conv1D` call to the Keras 2 API: `Conv1D(activation=\"relu\", filters=128, kernel_size=4)`\n",
      "/usr/local/lib/python3.7/site-packages/ipykernel_launcher.py:51: UserWarning: Update your `Conv1D` call to the Keras 2 API: `Conv1D(activation=\"relu\", filters=128, kernel_size=5)`\n"
     ]
    },
    {
     "name": "stdout",
     "output_type": "stream",
     "text": [
      "model fitting - more complex convolutional neural network\n",
      "Model: \"model_70\"\n",
      "__________________________________________________________________________________________________\n",
      "Layer (type)                    Output Shape         Param #     Connected to                     \n",
      "==================================================================================================\n",
      "input_70 (InputLayer)           (None, 32)           0                                            \n",
      "__________________________________________________________________________________________________\n",
      "embedding_70 (Embedding)        (None, 32, 100)      8302600     input_70[0][0]                   \n",
      "__________________________________________________________________________________________________\n",
      "conv1d_277 (Conv1D)             (None, 30, 128)      38528       embedding_70[0][0]               \n",
      "__________________________________________________________________________________________________\n",
      "conv1d_278 (Conv1D)             (None, 29, 128)      51328       embedding_70[0][0]               \n",
      "__________________________________________________________________________________________________\n",
      "conv1d_279 (Conv1D)             (None, 28, 128)      64128       embedding_70[0][0]               \n",
      "__________________________________________________________________________________________________\n",
      "max_pooling1d_277 (MaxPooling1D (None, 6, 128)       0           conv1d_277[0][0]                 \n",
      "__________________________________________________________________________________________________\n",
      "max_pooling1d_278 (MaxPooling1D (None, 5, 128)       0           conv1d_278[0][0]                 \n",
      "__________________________________________________________________________________________________\n",
      "max_pooling1d_279 (MaxPooling1D (None, 5, 128)       0           conv1d_279[0][0]                 \n",
      "__________________________________________________________________________________________________\n",
      "concatenate_70 (Concatenate)    (None, 16, 128)      0           max_pooling1d_277[0][0]          \n",
      "                                                                 max_pooling1d_278[0][0]          \n",
      "                                                                 max_pooling1d_279[0][0]          \n",
      "__________________________________________________________________________________________________\n",
      "conv1d_280 (Conv1D)             (None, 12, 128)      82048       concatenate_70[0][0]             \n",
      "__________________________________________________________________________________________________\n",
      "max_pooling1d_280 (MaxPooling1D (None, 2, 128)       0           conv1d_280[0][0]                 \n",
      "__________________________________________________________________________________________________\n",
      "flatten_70 (Flatten)            (None, 256)          0           max_pooling1d_280[0][0]          \n",
      "__________________________________________________________________________________________________\n",
      "dense_139 (Dense)               (None, 128)          32896       flatten_70[0][0]                 \n",
      "__________________________________________________________________________________________________\n",
      "dense_140 (Dense)               (None, 2)            258         dense_139[0][0]                  \n",
      "==================================================================================================\n",
      "Total params: 8,571,786\n",
      "Trainable params: 269,186\n",
      "Non-trainable params: 8,302,600\n",
      "__________________________________________________________________________________________________\n",
      "Train on 373 samples, validate on 93 samples\n",
      "Epoch 1/20\n",
      "373/373 [==============================] - 4s 12ms/step - loss: 1.1886 - acc: 0.5603 - val_loss: 0.8012 - val_acc: 0.4946\n",
      "Roc-AUC on validation: 0.6059\n",
      "Epoch 2/20\n",
      "373/373 [==============================] - 0s 339us/step - loss: 0.6736 - acc: 0.5737 - val_loss: 0.7688 - val_acc: 0.5054\n",
      "Roc-AUC on validation: 0.673\n",
      "Epoch 3/20\n",
      "373/373 [==============================] - 0s 332us/step - loss: 0.6507 - acc: 0.6059 - val_loss: 0.7658 - val_acc: 0.5484\n",
      "Roc-AUC on validation: 0.7095\n",
      "Epoch 4/20\n",
      "373/373 [==============================] - 0s 328us/step - loss: 0.6078 - acc: 0.6542 - val_loss: 0.6078 - val_acc: 0.5914\n",
      "Roc-AUC on validation: 0.8737\n",
      "Epoch 5/20\n",
      "373/373 [==============================] - 0s 337us/step - loss: 0.5703 - acc: 0.7373 - val_loss: 0.5626 - val_acc: 0.7419\n",
      "Roc-AUC on validation: 0.8566\n",
      "Epoch 6/20\n",
      "373/373 [==============================] - 0s 337us/step - loss: 0.4978 - acc: 0.7453 - val_loss: 0.5889 - val_acc: 0.6344\n",
      "Roc-AUC on validation: 0.8737\n",
      "Epoch 7/20\n",
      "373/373 [==============================] - 0s 325us/step - loss: 0.3179 - acc: 0.9035 - val_loss: 0.6221 - val_acc: 0.6237\n",
      "Roc-AUC on validation: 0.8265\n",
      "Epoch 8/20\n",
      "373/373 [==============================] - 0s 337us/step - loss: 0.2103 - acc: 0.9625 - val_loss: 0.4389 - val_acc: 0.7957\n",
      "Roc-AUC on validation: 0.883\n",
      "Epoch 9/20\n",
      "373/373 [==============================] - 0s 332us/step - loss: 0.3488 - acc: 0.8928 - val_loss: 0.4059 - val_acc: 0.8065\n",
      "Roc-AUC on validation: 0.9112\n",
      "Epoch 10/20\n",
      "373/373 [==============================] - 0s 330us/step - loss: 0.0818 - acc: 0.9946 - val_loss: 0.4335 - val_acc: 0.8172\n",
      "Roc-AUC on validation: 0.9056\n",
      "Epoch 11/20\n",
      "373/373 [==============================] - 0s 326us/step - loss: 0.2079 - acc: 0.9088 - val_loss: 0.4049 - val_acc: 0.8172\n",
      "Roc-AUC on validation: 0.9006\n",
      "Epoch 12/20\n",
      "373/373 [==============================] - 0s 334us/step - loss: 0.0403 - acc: 1.0000 - val_loss: 0.4112 - val_acc: 0.8065\n",
      "Roc-AUC on validation: 0.9075\n",
      "Epoch 13/20\n",
      "373/373 [==============================] - 0s 313us/step - loss: 0.0155 - acc: 1.0000 - val_loss: 0.4303 - val_acc: 0.8387\n",
      "Roc-AUC on validation: 0.9029\n",
      "Epoch 14/20\n",
      "373/373 [==============================] - 0s 335us/step - loss: 0.0069 - acc: 1.0000 - val_loss: 0.4273 - val_acc: 0.8172\n",
      "Roc-AUC on validation: 0.901\n",
      "Epoch 15/20\n",
      "373/373 [==============================] - 0s 331us/step - loss: 0.0033 - acc: 1.0000 - val_loss: 0.4513 - val_acc: 0.8172\n",
      "Roc-AUC on validation: 0.8982\n",
      "Epoch 16/20\n",
      "373/373 [==============================] - 0s 344us/step - loss: 0.0018 - acc: 1.0000 - val_loss: 0.4953 - val_acc: 0.8280\n",
      "Roc-AUC on validation: 0.8987\n",
      "Epoch 17/20\n",
      "373/373 [==============================] - 0s 333us/step - loss: 9.9992e-04 - acc: 1.0000 - val_loss: 0.5258 - val_acc: 0.8172\n",
      "Roc-AUC on validation: 0.907\n",
      "Epoch 18/20\n",
      "373/373 [==============================] - 0s 326us/step - loss: 5.3468e-04 - acc: 1.0000 - val_loss: 0.4799 - val_acc: 0.8172\n",
      "Roc-AUC on validation: 0.9084\n",
      "Epoch 19/20\n",
      "373/373 [==============================] - 0s 335us/step - loss: 2.6697e-04 - acc: 1.0000 - val_loss: 0.5628 - val_acc: 0.8280\n",
      "Roc-AUC on validation: 0.9121\n",
      "Epoch 20/20\n",
      "373/373 [==============================] - 0s 337us/step - loss: 1.6413e-04 - acc: 1.0000 - val_loss: 0.5679 - val_acc: 0.8280\n",
      "Roc-AUC on validation: 0.9089\n",
      "\n",
      "\n",
      "\n",
      "\n",
      "----------------------------------------------------------------\n",
      "            project                  \n",
      "----------------------------------------------------------------\n",
      "Shape of data tensor: (630, 32)\n",
      "Shape of label tensor: (630, 2)\n",
      "\n",
      "Number of elements from each class in traing and validation set \n",
      "[258. 246.]\n",
      "[57. 69.]\n"
     ]
    },
    {
     "name": "stderr",
     "output_type": "stream",
     "text": [
      "/usr/local/lib/python3.7/site-packages/ipykernel_launcher.py:51: UserWarning: Update your `Conv1D` call to the Keras 2 API: `Conv1D(activation=\"relu\", filters=128, kernel_size=3)`\n",
      "/usr/local/lib/python3.7/site-packages/ipykernel_launcher.py:51: UserWarning: Update your `Conv1D` call to the Keras 2 API: `Conv1D(activation=\"relu\", filters=128, kernel_size=4)`\n",
      "/usr/local/lib/python3.7/site-packages/ipykernel_launcher.py:51: UserWarning: Update your `Conv1D` call to the Keras 2 API: `Conv1D(activation=\"relu\", filters=128, kernel_size=5)`\n"
     ]
    },
    {
     "name": "stdout",
     "output_type": "stream",
     "text": [
      "model fitting - more complex convolutional neural network\n",
      "Model: \"model_71\"\n",
      "__________________________________________________________________________________________________\n",
      "Layer (type)                    Output Shape         Param #     Connected to                     \n",
      "==================================================================================================\n",
      "input_71 (InputLayer)           (None, 32)           0                                            \n",
      "__________________________________________________________________________________________________\n",
      "embedding_71 (Embedding)        (None, 32, 100)      8302600     input_71[0][0]                   \n",
      "__________________________________________________________________________________________________\n",
      "conv1d_281 (Conv1D)             (None, 30, 128)      38528       embedding_71[0][0]               \n",
      "__________________________________________________________________________________________________\n",
      "conv1d_282 (Conv1D)             (None, 29, 128)      51328       embedding_71[0][0]               \n",
      "__________________________________________________________________________________________________\n",
      "conv1d_283 (Conv1D)             (None, 28, 128)      64128       embedding_71[0][0]               \n",
      "__________________________________________________________________________________________________\n",
      "max_pooling1d_281 (MaxPooling1D (None, 6, 128)       0           conv1d_281[0][0]                 \n",
      "__________________________________________________________________________________________________\n",
      "max_pooling1d_282 (MaxPooling1D (None, 5, 128)       0           conv1d_282[0][0]                 \n",
      "__________________________________________________________________________________________________\n",
      "max_pooling1d_283 (MaxPooling1D (None, 5, 128)       0           conv1d_283[0][0]                 \n",
      "__________________________________________________________________________________________________\n",
      "concatenate_71 (Concatenate)    (None, 16, 128)      0           max_pooling1d_281[0][0]          \n",
      "                                                                 max_pooling1d_282[0][0]          \n",
      "                                                                 max_pooling1d_283[0][0]          \n",
      "__________________________________________________________________________________________________\n",
      "conv1d_284 (Conv1D)             (None, 12, 128)      82048       concatenate_71[0][0]             \n",
      "__________________________________________________________________________________________________\n",
      "max_pooling1d_284 (MaxPooling1D (None, 2, 128)       0           conv1d_284[0][0]                 \n",
      "__________________________________________________________________________________________________\n",
      "flatten_71 (Flatten)            (None, 256)          0           max_pooling1d_284[0][0]          \n",
      "__________________________________________________________________________________________________\n",
      "dense_141 (Dense)               (None, 128)          32896       flatten_71[0][0]                 \n",
      "__________________________________________________________________________________________________\n",
      "dense_142 (Dense)               (None, 2)            258         dense_141[0][0]                  \n",
      "==================================================================================================\n",
      "Total params: 8,571,786\n",
      "Trainable params: 269,186\n",
      "Non-trainable params: 8,302,600\n",
      "__________________________________________________________________________________________________\n",
      "Train on 504 samples, validate on 126 samples\n",
      "Epoch 1/20\n",
      "504/504 [==============================] - 4s 9ms/step - loss: 1.0146 - acc: 0.4980 - val_loss: 0.7592 - val_acc: 0.4524\n",
      "Roc-AUC on validation: 0.5589\n",
      "Epoch 2/20\n",
      "504/504 [==============================] - 0s 342us/step - loss: 0.6394 - acc: 0.5933 - val_loss: 0.6967 - val_acc: 0.5317\n",
      "Roc-AUC on validation: 0.5876\n",
      "Epoch 3/20\n",
      "504/504 [==============================] - 0s 354us/step - loss: 0.6444 - acc: 0.5972 - val_loss: 0.7533 - val_acc: 0.5556\n",
      "Roc-AUC on validation: 0.5792\n",
      "Epoch 4/20\n",
      "504/504 [==============================] - 0s 345us/step - loss: 0.5386 - acc: 0.7540 - val_loss: 0.7313 - val_acc: 0.5556\n",
      "Roc-AUC on validation: 0.8922\n",
      "Epoch 5/20\n",
      "504/504 [==============================] - 0s 355us/step - loss: 0.4995 - acc: 0.7738 - val_loss: 0.6161 - val_acc: 0.6190\n",
      "Roc-AUC on validation: 0.8927\n",
      "Epoch 6/20\n",
      "504/504 [==============================] - 0s 369us/step - loss: 0.4569 - acc: 0.8313 - val_loss: 0.4927 - val_acc: 0.8016\n",
      "Roc-AUC on validation: 0.9077\n",
      "Epoch 7/20\n",
      "504/504 [==============================] - 0s 359us/step - loss: 0.2631 - acc: 0.9345 - val_loss: 0.8145 - val_acc: 0.5476\n",
      "Roc-AUC on validation: 0.8129\n",
      "Epoch 8/20\n",
      "504/504 [==============================] - 0s 383us/step - loss: 0.1868 - acc: 0.9405 - val_loss: 0.7469 - val_acc: 0.6825\n",
      "Roc-AUC on validation: 0.8462\n",
      "Epoch 9/20\n",
      "504/504 [==============================] - 0s 343us/step - loss: 0.2000 - acc: 0.9226 - val_loss: 0.6083 - val_acc: 0.7619\n",
      "Roc-AUC on validation: 0.9237\n",
      "Epoch 10/20\n",
      "504/504 [==============================] - 0s 340us/step - loss: 0.1154 - acc: 0.9583 - val_loss: 0.3541 - val_acc: 0.8254\n",
      "Roc-AUC on validation: 0.9242\n",
      "Epoch 11/20\n",
      "504/504 [==============================] - 0s 332us/step - loss: 0.1774 - acc: 0.9206 - val_loss: 0.4499 - val_acc: 0.7937\n",
      "Roc-AUC on validation: 0.9123\n",
      "Epoch 12/20\n",
      "504/504 [==============================] - 0s 386us/step - loss: 0.0406 - acc: 0.9960 - val_loss: 0.4188 - val_acc: 0.8175\n",
      "Roc-AUC on validation: 0.9069\n",
      "Epoch 13/20\n",
      "504/504 [==============================] - 0s 356us/step - loss: 0.0312 - acc: 0.9960 - val_loss: 0.3274 - val_acc: 0.8730\n",
      "Roc-AUC on validation: 0.9456\n",
      "Epoch 14/20\n",
      "504/504 [==============================] - 0s 349us/step - loss: 0.0191 - acc: 0.9980 - val_loss: 0.3074 - val_acc: 0.8651\n",
      "Roc-AUC on validation: 0.9448\n",
      "Epoch 15/20\n",
      "504/504 [==============================] - 0s 346us/step - loss: 0.2431 - acc: 0.9226 - val_loss: 0.3097 - val_acc: 0.8651\n",
      "Roc-AUC on validation: 0.941\n",
      "Epoch 16/20\n",
      "504/504 [==============================] - 0s 377us/step - loss: 0.0202 - acc: 0.9980 - val_loss: 0.3122 - val_acc: 0.8492\n",
      "Roc-AUC on validation: 0.9408\n",
      "Epoch 17/20\n",
      "504/504 [==============================] - 0s 374us/step - loss: 0.0190 - acc: 0.9960 - val_loss: 0.3106 - val_acc: 0.8492\n",
      "Roc-AUC on validation: 0.9369\n",
      "Epoch 18/20\n",
      "504/504 [==============================] - 0s 360us/step - loss: 0.0124 - acc: 0.9980 - val_loss: 0.6483 - val_acc: 0.7302\n",
      "Roc-AUC on validation: 0.8927\n",
      "Epoch 19/20\n",
      "504/504 [==============================] - 0s 359us/step - loss: 0.0941 - acc: 0.9623 - val_loss: 0.7163 - val_acc: 0.6746\n",
      "Roc-AUC on validation: 0.8368\n",
      "Epoch 20/20\n",
      "504/504 [==============================] - 0s 364us/step - loss: 0.0240 - acc: 0.9980 - val_loss: 0.3355 - val_acc: 0.8413\n",
      "Roc-AUC on validation: 0.9326\n",
      "\n",
      "\n",
      "\n",
      "\n",
      "----------------------------------------------------------------\n",
      "            inspired                  \n",
      "----------------------------------------------------------------\n",
      "Shape of data tensor: (346, 32)\n",
      "Shape of label tensor: (346, 2)\n",
      "\n",
      "Number of elements from each class in traing and validation set \n",
      "[138. 139.]\n",
      "[35. 34.]\n"
     ]
    },
    {
     "ename": "KeyboardInterrupt",
     "evalue": "",
     "output_type": "error",
     "traceback": [
      "\u001b[0;31m-------------------------------------------------------------\u001b[0m",
      "\u001b[0;31mKeyboardInterrupt\u001b[0m           Traceback (most recent call last)",
      "\u001b[0;32m<ipython-input-72-4e2bf036e999>\u001b[0m in \u001b[0;36m<module>\u001b[0;34m\u001b[0m\n\u001b[0;32m----> 1\u001b[0;31m \u001b[0maccs\u001b[0m\u001b[0;34m,\u001b[0m \u001b[0mprecs\u001b[0m\u001b[0;34m,\u001b[0m \u001b[0mAUCs\u001b[0m \u001b[0;34m=\u001b[0m \u001b[0mtrain_models_and_get_scores\u001b[0m\u001b[0;34m(\u001b[0m\u001b[0mtraining_df\u001b[0m\u001b[0;34m,\u001b[0m \u001b[0mequalized_precisions_threshold\u001b[0m\u001b[0;34m)\u001b[0m\u001b[0;34m\u001b[0m\u001b[0;34m\u001b[0m\u001b[0m\n\u001b[0m",
      "\u001b[0;32m<ipython-input-71-1a05e8b105d9>\u001b[0m in \u001b[0;36mtrain_models_and_get_scores\u001b[0;34m(df, t_calibration, N_executions)\u001b[0m\n\u001b[1;32m     10\u001b[0m                     \u001b[0mtokenizer\u001b[0m\u001b[0;34m=\u001b[0m\u001b[0mextended_tokenizer\u001b[0m\u001b[0;34m,\u001b[0m\u001b[0;34m\u001b[0m\u001b[0;34m\u001b[0m\u001b[0m\n\u001b[1;32m     11\u001b[0m                     \u001b[0mrandom_seed\u001b[0m\u001b[0;34m=\u001b[0m\u001b[0;36m0\u001b[0m\u001b[0;34m,\u001b[0m\u001b[0;34m\u001b[0m\u001b[0;34m\u001b[0m\u001b[0m\n\u001b[0;32m---> 12\u001b[0;31m                     use_validation=True) \n\u001b[0m\u001b[1;32m     13\u001b[0m \u001b[0;34m\u001b[0m\u001b[0m\n\u001b[1;32m     14\u001b[0m         \u001b[0;32mfor\u001b[0m \u001b[0mk\u001b[0m \u001b[0;32min\u001b[0m \u001b[0m_DLModels\u001b[0m\u001b[0;34m.\u001b[0m\u001b[0mkeys\u001b[0m\u001b[0;34m(\u001b[0m\u001b[0;34m)\u001b[0m\u001b[0;34m:\u001b[0m\u001b[0;34m\u001b[0m\u001b[0;34m\u001b[0m\u001b[0m\n",
      "\u001b[0;32m<ipython-input-2-5c3002afb3af>\u001b[0m in \u001b[0;36mtrain_DL_models\u001b[0;34m(self, df_train, data_class_column, data_label_column, df_val, tokenizer, random_seed, use_validation)\u001b[0m\n\u001b[1;32m    193\u001b[0m \u001b[0;34m\u001b[0m\u001b[0m\n\u001b[1;32m    194\u001b[0m \u001b[0;34m\u001b[0m\u001b[0m\n\u001b[0;32m--> 195\u001b[0;31m                     \u001b[0m_model\u001b[0m\u001b[0;34m,\u001b[0m \u001b[0m_tokenizer\u001b[0m\u001b[0;34m,\u001b[0m \u001b[0m_x_val\u001b[0m\u001b[0;34m,\u001b[0m \u001b[0m_y_val\u001b[0m\u001b[0;34m,\u001b[0m \u001b[0m_train_h\u001b[0m \u001b[0;34m=\u001b[0m \u001b[0mself\u001b[0m\u001b[0;34m.\u001b[0m\u001b[0mtrain_DL_model\u001b[0m\u001b[0;34m(\u001b[0m\u001b[0mx_train\u001b[0m\u001b[0;34m,\u001b[0m \u001b[0my_train\u001b[0m\u001b[0;34m,\u001b[0m \u001b[0mx_val\u001b[0m\u001b[0;34m,\u001b[0m \u001b[0my_val\u001b[0m\u001b[0;34m,\u001b[0m \u001b[0mtokenizer\u001b[0m\u001b[0;34m)\u001b[0m\u001b[0;34m\u001b[0m\u001b[0;34m\u001b[0m\u001b[0m\n\u001b[0m\u001b[1;32m    196\u001b[0m                 \u001b[0;32melse\u001b[0m\u001b[0;34m:\u001b[0m\u001b[0;34m\u001b[0m\u001b[0;34m\u001b[0m\u001b[0m\n\u001b[1;32m    197\u001b[0m \u001b[0;34m\u001b[0m\u001b[0m\n",
      "\u001b[0;32m<ipython-input-2-5c3002afb3af>\u001b[0m in \u001b[0;36mtrain_DL_model\u001b[0;34m(self, x_train, y_train, x_val, y_val, tokenizer)\u001b[0m\n\u001b[1;32m     46\u001b[0m \u001b[0;34m\u001b[0m\u001b[0m\n\u001b[1;32m     47\u001b[0m         \u001b[0msequence_input\u001b[0m \u001b[0;34m=\u001b[0m \u001b[0mInput\u001b[0m\u001b[0;34m(\u001b[0m\u001b[0mshape\u001b[0m\u001b[0;34m=\u001b[0m\u001b[0;34m(\u001b[0m\u001b[0mself\u001b[0m\u001b[0;34m.\u001b[0m\u001b[0mMAX_SEQUENCE_LENGTH\u001b[0m\u001b[0;34m,\u001b[0m\u001b[0;34m)\u001b[0m\u001b[0;34m,\u001b[0m \u001b[0mdtype\u001b[0m\u001b[0;34m=\u001b[0m\u001b[0;34m'int32'\u001b[0m\u001b[0;34m)\u001b[0m\u001b[0;34m\u001b[0m\u001b[0;34m\u001b[0m\u001b[0m\n\u001b[0;32m---> 48\u001b[0;31m         \u001b[0membedded_sequences\u001b[0m \u001b[0;34m=\u001b[0m \u001b[0membedding_layer\u001b[0m\u001b[0;34m(\u001b[0m\u001b[0msequence_input\u001b[0m\u001b[0;34m)\u001b[0m\u001b[0;34m\u001b[0m\u001b[0;34m\u001b[0m\u001b[0m\n\u001b[0m\u001b[1;32m     49\u001b[0m \u001b[0;34m\u001b[0m\u001b[0m\n\u001b[1;32m     50\u001b[0m         \u001b[0;32mfor\u001b[0m \u001b[0mfsz\u001b[0m \u001b[0;32min\u001b[0m \u001b[0mfilter_sizes\u001b[0m\u001b[0;34m:\u001b[0m\u001b[0;34m\u001b[0m\u001b[0;34m\u001b[0m\u001b[0m\n",
      "\u001b[0;32m/usr/local/lib/python3.7/site-packages/keras/engine/base_layer.py\u001b[0m in \u001b[0;36m__call__\u001b[0;34m(self, inputs, **kwargs)\u001b[0m\n\u001b[1;32m    428\u001b[0m                 \u001b[0;31m# Load weights that were specified at layer instantiation.\u001b[0m\u001b[0;34m\u001b[0m\u001b[0;34m\u001b[0m\u001b[0;34m\u001b[0m\u001b[0m\n\u001b[1;32m    429\u001b[0m                 \u001b[0;32mif\u001b[0m \u001b[0mself\u001b[0m\u001b[0;34m.\u001b[0m\u001b[0m_initial_weights\u001b[0m \u001b[0;32mis\u001b[0m \u001b[0;32mnot\u001b[0m \u001b[0;32mNone\u001b[0m\u001b[0;34m:\u001b[0m\u001b[0;34m\u001b[0m\u001b[0;34m\u001b[0m\u001b[0m\n\u001b[0;32m--> 430\u001b[0;31m                     \u001b[0mself\u001b[0m\u001b[0;34m.\u001b[0m\u001b[0mset_weights\u001b[0m\u001b[0;34m(\u001b[0m\u001b[0mself\u001b[0m\u001b[0;34m.\u001b[0m\u001b[0m_initial_weights\u001b[0m\u001b[0;34m)\u001b[0m\u001b[0;34m\u001b[0m\u001b[0;34m\u001b[0m\u001b[0m\n\u001b[0m\u001b[1;32m    431\u001b[0m \u001b[0;34m\u001b[0m\u001b[0m\n\u001b[1;32m    432\u001b[0m             \u001b[0;31m# Raise exceptions in case the input is not compatible\u001b[0m\u001b[0;34m\u001b[0m\u001b[0;34m\u001b[0m\u001b[0;34m\u001b[0m\u001b[0m\n",
      "\u001b[0;32m/usr/local/lib/python3.7/site-packages/keras/engine/base_layer.py\u001b[0m in \u001b[0;36mset_weights\u001b[0;34m(self, weights)\u001b[0m\n\u001b[1;32m   1051\u001b[0m                                  'provided weight shape ' + str(w.shape))\n\u001b[1;32m   1052\u001b[0m             \u001b[0mweight_value_tuples\u001b[0m\u001b[0;34m.\u001b[0m\u001b[0mappend\u001b[0m\u001b[0;34m(\u001b[0m\u001b[0;34m(\u001b[0m\u001b[0mp\u001b[0m\u001b[0;34m,\u001b[0m \u001b[0mw\u001b[0m\u001b[0;34m)\u001b[0m\u001b[0;34m)\u001b[0m\u001b[0;34m\u001b[0m\u001b[0;34m\u001b[0m\u001b[0m\n\u001b[0;32m-> 1053\u001b[0;31m         \u001b[0mK\u001b[0m\u001b[0;34m.\u001b[0m\u001b[0mbatch_set_value\u001b[0m\u001b[0;34m(\u001b[0m\u001b[0mweight_value_tuples\u001b[0m\u001b[0;34m)\u001b[0m\u001b[0;34m\u001b[0m\u001b[0;34m\u001b[0m\u001b[0m\n\u001b[0m\u001b[1;32m   1054\u001b[0m \u001b[0;34m\u001b[0m\u001b[0m\n\u001b[1;32m   1055\u001b[0m     \u001b[0;32mdef\u001b[0m \u001b[0mget_weights\u001b[0m\u001b[0;34m(\u001b[0m\u001b[0mself\u001b[0m\u001b[0;34m)\u001b[0m\u001b[0;34m:\u001b[0m\u001b[0;34m\u001b[0m\u001b[0;34m\u001b[0m\u001b[0m\n",
      "\u001b[0;32m/usr/local/lib/python3.7/site-packages/keras/backend/tensorflow_backend.py\u001b[0m in \u001b[0;36mbatch_set_value\u001b[0;34m(tuples)\u001b[0m\n\u001b[1;32m   2730\u001b[0m             \u001b[0massign_ops\u001b[0m\u001b[0;34m.\u001b[0m\u001b[0mappend\u001b[0m\u001b[0;34m(\u001b[0m\u001b[0massign_op\u001b[0m\u001b[0;34m)\u001b[0m\u001b[0;34m\u001b[0m\u001b[0;34m\u001b[0m\u001b[0m\n\u001b[1;32m   2731\u001b[0m             \u001b[0mfeed_dict\u001b[0m\u001b[0;34m[\u001b[0m\u001b[0massign_placeholder\u001b[0m\u001b[0;34m]\u001b[0m \u001b[0;34m=\u001b[0m \u001b[0mvalue\u001b[0m\u001b[0;34m\u001b[0m\u001b[0;34m\u001b[0m\u001b[0m\n\u001b[0;32m-> 2732\u001b[0;31m         \u001b[0mget_session\u001b[0m\u001b[0;34m(\u001b[0m\u001b[0;34m)\u001b[0m\u001b[0;34m.\u001b[0m\u001b[0mrun\u001b[0m\u001b[0;34m(\u001b[0m\u001b[0massign_ops\u001b[0m\u001b[0;34m,\u001b[0m \u001b[0mfeed_dict\u001b[0m\u001b[0;34m=\u001b[0m\u001b[0mfeed_dict\u001b[0m\u001b[0;34m)\u001b[0m\u001b[0;34m\u001b[0m\u001b[0;34m\u001b[0m\u001b[0m\n\u001b[0m\u001b[1;32m   2733\u001b[0m \u001b[0;34m\u001b[0m\u001b[0m\n\u001b[1;32m   2734\u001b[0m \u001b[0;34m\u001b[0m\u001b[0m\n",
      "\u001b[0;32m/usr/local/lib/python3.7/site-packages/tensorflow/python/client/session.py\u001b[0m in \u001b[0;36mrun\u001b[0;34m(self, fetches, feed_dict, options, run_metadata)\u001b[0m\n\u001b[1;32m    948\u001b[0m     \u001b[0;32mtry\u001b[0m\u001b[0;34m:\u001b[0m\u001b[0;34m\u001b[0m\u001b[0;34m\u001b[0m\u001b[0m\n\u001b[1;32m    949\u001b[0m       result = self._run(None, fetches, feed_dict, options_ptr,\n\u001b[0;32m--> 950\u001b[0;31m                          run_metadata_ptr)\n\u001b[0m\u001b[1;32m    951\u001b[0m       \u001b[0;32mif\u001b[0m \u001b[0mrun_metadata\u001b[0m\u001b[0;34m:\u001b[0m\u001b[0;34m\u001b[0m\u001b[0;34m\u001b[0m\u001b[0m\n\u001b[1;32m    952\u001b[0m         \u001b[0mproto_data\u001b[0m \u001b[0;34m=\u001b[0m \u001b[0mtf_session\u001b[0m\u001b[0;34m.\u001b[0m\u001b[0mTF_GetBuffer\u001b[0m\u001b[0;34m(\u001b[0m\u001b[0mrun_metadata_ptr\u001b[0m\u001b[0;34m)\u001b[0m\u001b[0;34m\u001b[0m\u001b[0;34m\u001b[0m\u001b[0m\n",
      "\u001b[0;32m/usr/local/lib/python3.7/site-packages/tensorflow/python/client/session.py\u001b[0m in \u001b[0;36m_run\u001b[0;34m(self, handle, fetches, feed_dict, options, run_metadata)\u001b[0m\n\u001b[1;32m   1171\u001b[0m     \u001b[0;32mif\u001b[0m \u001b[0mfinal_fetches\u001b[0m \u001b[0;32mor\u001b[0m \u001b[0mfinal_targets\u001b[0m \u001b[0;32mor\u001b[0m \u001b[0;34m(\u001b[0m\u001b[0mhandle\u001b[0m \u001b[0;32mand\u001b[0m \u001b[0mfeed_dict_tensor\u001b[0m\u001b[0;34m)\u001b[0m\u001b[0;34m:\u001b[0m\u001b[0;34m\u001b[0m\u001b[0;34m\u001b[0m\u001b[0m\n\u001b[1;32m   1172\u001b[0m       results = self._do_run(handle, final_targets, final_fetches,\n\u001b[0;32m-> 1173\u001b[0;31m                              feed_dict_tensor, options, run_metadata)\n\u001b[0m\u001b[1;32m   1174\u001b[0m     \u001b[0;32melse\u001b[0m\u001b[0;34m:\u001b[0m\u001b[0;34m\u001b[0m\u001b[0;34m\u001b[0m\u001b[0m\n\u001b[1;32m   1175\u001b[0m       \u001b[0mresults\u001b[0m \u001b[0;34m=\u001b[0m \u001b[0;34m[\u001b[0m\u001b[0;34m]\u001b[0m\u001b[0;34m\u001b[0m\u001b[0;34m\u001b[0m\u001b[0m\n",
      "\u001b[0;32m/usr/local/lib/python3.7/site-packages/tensorflow/python/client/session.py\u001b[0m in \u001b[0;36m_do_run\u001b[0;34m(self, handle, target_list, fetch_list, feed_dict, options, run_metadata)\u001b[0m\n\u001b[1;32m   1348\u001b[0m     \u001b[0;32mif\u001b[0m \u001b[0mhandle\u001b[0m \u001b[0;32mis\u001b[0m \u001b[0;32mNone\u001b[0m\u001b[0;34m:\u001b[0m\u001b[0;34m\u001b[0m\u001b[0;34m\u001b[0m\u001b[0m\n\u001b[1;32m   1349\u001b[0m       return self._do_call(_run_fn, feeds, fetches, targets, options,\n\u001b[0;32m-> 1350\u001b[0;31m                            run_metadata)\n\u001b[0m\u001b[1;32m   1351\u001b[0m     \u001b[0;32melse\u001b[0m\u001b[0;34m:\u001b[0m\u001b[0;34m\u001b[0m\u001b[0;34m\u001b[0m\u001b[0m\n\u001b[1;32m   1352\u001b[0m       \u001b[0;32mreturn\u001b[0m \u001b[0mself\u001b[0m\u001b[0;34m.\u001b[0m\u001b[0m_do_call\u001b[0m\u001b[0;34m(\u001b[0m\u001b[0m_prun_fn\u001b[0m\u001b[0;34m,\u001b[0m \u001b[0mhandle\u001b[0m\u001b[0;34m,\u001b[0m \u001b[0mfeeds\u001b[0m\u001b[0;34m,\u001b[0m \u001b[0mfetches\u001b[0m\u001b[0;34m)\u001b[0m\u001b[0;34m\u001b[0m\u001b[0;34m\u001b[0m\u001b[0m\n",
      "\u001b[0;32m/usr/local/lib/python3.7/site-packages/tensorflow/python/client/session.py\u001b[0m in \u001b[0;36m_do_call\u001b[0;34m(self, fn, *args)\u001b[0m\n\u001b[1;32m   1354\u001b[0m   \u001b[0;32mdef\u001b[0m \u001b[0m_do_call\u001b[0m\u001b[0;34m(\u001b[0m\u001b[0mself\u001b[0m\u001b[0;34m,\u001b[0m \u001b[0mfn\u001b[0m\u001b[0;34m,\u001b[0m \u001b[0;34m*\u001b[0m\u001b[0margs\u001b[0m\u001b[0;34m)\u001b[0m\u001b[0;34m:\u001b[0m\u001b[0;34m\u001b[0m\u001b[0;34m\u001b[0m\u001b[0m\n\u001b[1;32m   1355\u001b[0m     \u001b[0;32mtry\u001b[0m\u001b[0;34m:\u001b[0m\u001b[0;34m\u001b[0m\u001b[0;34m\u001b[0m\u001b[0m\n\u001b[0;32m-> 1356\u001b[0;31m       \u001b[0;32mreturn\u001b[0m \u001b[0mfn\u001b[0m\u001b[0;34m(\u001b[0m\u001b[0;34m*\u001b[0m\u001b[0margs\u001b[0m\u001b[0;34m)\u001b[0m\u001b[0;34m\u001b[0m\u001b[0;34m\u001b[0m\u001b[0m\n\u001b[0m\u001b[1;32m   1357\u001b[0m     \u001b[0;32mexcept\u001b[0m \u001b[0merrors\u001b[0m\u001b[0;34m.\u001b[0m\u001b[0mOpError\u001b[0m \u001b[0;32mas\u001b[0m \u001b[0me\u001b[0m\u001b[0;34m:\u001b[0m\u001b[0;34m\u001b[0m\u001b[0;34m\u001b[0m\u001b[0m\n\u001b[1;32m   1358\u001b[0m       \u001b[0mmessage\u001b[0m \u001b[0;34m=\u001b[0m \u001b[0mcompat\u001b[0m\u001b[0;34m.\u001b[0m\u001b[0mas_text\u001b[0m\u001b[0;34m(\u001b[0m\u001b[0me\u001b[0m\u001b[0;34m.\u001b[0m\u001b[0mmessage\u001b[0m\u001b[0;34m)\u001b[0m\u001b[0;34m\u001b[0m\u001b[0;34m\u001b[0m\u001b[0m\n",
      "\u001b[0;32m/usr/local/lib/python3.7/site-packages/tensorflow/python/client/session.py\u001b[0m in \u001b[0;36m_run_fn\u001b[0;34m(feed_dict, fetch_list, target_list, options, run_metadata)\u001b[0m\n\u001b[1;32m   1337\u001b[0m     \u001b[0;32mdef\u001b[0m \u001b[0m_run_fn\u001b[0m\u001b[0;34m(\u001b[0m\u001b[0mfeed_dict\u001b[0m\u001b[0;34m,\u001b[0m \u001b[0mfetch_list\u001b[0m\u001b[0;34m,\u001b[0m \u001b[0mtarget_list\u001b[0m\u001b[0;34m,\u001b[0m \u001b[0moptions\u001b[0m\u001b[0;34m,\u001b[0m \u001b[0mrun_metadata\u001b[0m\u001b[0;34m)\u001b[0m\u001b[0;34m:\u001b[0m\u001b[0;34m\u001b[0m\u001b[0;34m\u001b[0m\u001b[0m\n\u001b[1;32m   1338\u001b[0m       \u001b[0;31m# Ensure any changes to the graph are reflected in the runtime.\u001b[0m\u001b[0;34m\u001b[0m\u001b[0;34m\u001b[0m\u001b[0;34m\u001b[0m\u001b[0m\n\u001b[0;32m-> 1339\u001b[0;31m       \u001b[0mself\u001b[0m\u001b[0;34m.\u001b[0m\u001b[0m_extend_graph\u001b[0m\u001b[0;34m(\u001b[0m\u001b[0;34m)\u001b[0m\u001b[0;34m\u001b[0m\u001b[0;34m\u001b[0m\u001b[0m\n\u001b[0m\u001b[1;32m   1340\u001b[0m       return self._call_tf_sessionrun(\n\u001b[1;32m   1341\u001b[0m           options, feed_dict, fetch_list, target_list, run_metadata)\n",
      "\u001b[0;32m/usr/local/lib/python3.7/site-packages/tensorflow/python/client/session.py\u001b[0m in \u001b[0;36m_extend_graph\u001b[0;34m(self)\u001b[0m\n\u001b[1;32m   1372\u001b[0m   \u001b[0;32mdef\u001b[0m \u001b[0m_extend_graph\u001b[0m\u001b[0;34m(\u001b[0m\u001b[0mself\u001b[0m\u001b[0;34m)\u001b[0m\u001b[0;34m:\u001b[0m\u001b[0;34m\u001b[0m\u001b[0;34m\u001b[0m\u001b[0m\n\u001b[1;32m   1373\u001b[0m     \u001b[0;32mwith\u001b[0m \u001b[0mself\u001b[0m\u001b[0;34m.\u001b[0m\u001b[0m_graph\u001b[0m\u001b[0;34m.\u001b[0m\u001b[0m_session_run_lock\u001b[0m\u001b[0;34m(\u001b[0m\u001b[0;34m)\u001b[0m\u001b[0;34m:\u001b[0m  \u001b[0;31m# pylint: disable=protected-access\u001b[0m\u001b[0;34m\u001b[0m\u001b[0;34m\u001b[0m\u001b[0m\n\u001b[0;32m-> 1374\u001b[0;31m       \u001b[0mtf_session\u001b[0m\u001b[0;34m.\u001b[0m\u001b[0mExtendSession\u001b[0m\u001b[0;34m(\u001b[0m\u001b[0mself\u001b[0m\u001b[0;34m.\u001b[0m\u001b[0m_session\u001b[0m\u001b[0;34m)\u001b[0m\u001b[0;34m\u001b[0m\u001b[0;34m\u001b[0m\u001b[0m\n\u001b[0m\u001b[1;32m   1375\u001b[0m \u001b[0;34m\u001b[0m\u001b[0m\n\u001b[1;32m   1376\u001b[0m   \u001b[0;31m# The threshold to run garbage collection to delete dead tensors.\u001b[0m\u001b[0;34m\u001b[0m\u001b[0;34m\u001b[0m\u001b[0;34m\u001b[0m\u001b[0m\n",
      "\u001b[0;31mKeyboardInterrupt\u001b[0m: "
     ]
    }
   ],
   "source": [
    "accs, precs, AUCs = train_models_and_get_scores(training_df, equalized_precisions_threshold)"
   ]
  },
  {
   "cell_type": "code",
   "execution_count": null,
   "metadata": {},
   "outputs": [],
   "source": [
    "print(\"Models performance on unseen data:\\n\\n\")\n",
    "custom_ordered_keys = [\"industrial\", \"project\", \"market\", \"inspired\", \"civic\", \"domestic\", \"green\", \"renown\"]\n",
    "for k in custom_ordered_keys:\n",
    "    avg_acc = \"%.3f\" % np.mean(accs[k])\n",
    "    avg_auc = \"%.3f\" % np.mean(AUCs[k])\n",
    "    avg_prec = \"%.3f\" % np.mean(precs[k])\n",
    "    \n",
    "    print(\"{} & {}  & {} & {}\\\\\".format(k, avg_acc, avg_prec, avg_auc))\n",
    "    print(\"\\hline\")\n",
    "  "
   ]
  },
  {
   "cell_type": "code",
   "execution_count": 145,
   "metadata": {},
   "outputs": [],
   "source": [
    "def compute_confusions(conv, models_, training_x, training_y, calibration_threshold=0.656):\n",
    "    matches = [0] * len(classifier_thresholds.keys())\n",
    "    \n",
    "    #print(training_y[conv][:,1])\n",
    "    #print(np.argwhere(training_y[conv][:,1]==1))\n",
    "    \n",
    "    sentences = training_x[conv][np.argwhere(training_y[conv][:,1]==1)]\n",
    "    \n",
    "    shape = sentences.shape\n",
    "    sentences = sentences.reshape(shape[0], shape[2])\n",
    "    sent_length = len(sentences)\n",
    "    \n",
    "    \n",
    "    for idx, k in enumerate(classifier_thresholds.keys()):\n",
    "        \n",
    "        print(sentences.shape)\n",
    "        pred = models_[k].predict(sentences, verbose=0)\n",
    "\n",
    "\n",
    "        pred = np.array(pred)\n",
    "\n",
    "        matches[idx] = (pred[pred[:,1]> classifier_thresholds[k]]).sum()\n",
    "    \n",
    "        \n",
    "    return matches, sent_length\n",
    "\n",
    "def plot_confusion_matrix(cm, classes,\n",
    "                          normalize=False,\n",
    "                          title=None,\n",
    "                          cmap=plt.cm.Blues,\n",
    "                          class_lengths = None):\n",
    "    \n",
    "    #print(cm)\n",
    "    if normalize:\n",
    "        if class_lengths:\n",
    "            cm = cm.astype('float') / np.array(class_lengths)[:, np.newaxis]\n",
    "        else:\n",
    "            cm = cm.astype('float') / cm.sum(axis=1)[:, np.newaxis]\n",
    "        #print(\"Normalized confusion matrix\")\n",
    "    else:\n",
    "        #print('Confusion matrix, without normalization')\n",
    "        pass\n",
    "    print(np.sum(cm[:,1]))\n",
    "    \n",
    "    if not title:\n",
    "        if normalize:\n",
    "            title = 'Normalized confusion matrix \\n Accuracy: \"%.5f\"' % np.mean(cm.diagonal()) \n",
    "        else:\n",
    "            title = 'Confusion matrix, without normalization \\n Accuracy: \"%.5f\"' % np.mean(cm.diagonal()) \n",
    "            \n",
    "    classes = [c.capitalize() for c in classes]\n",
    "    fig, ax = plt.subplots()\n",
    "    im = ax.imshow(cm, interpolation='nearest', cmap=cmap)\n",
    "    ax.figure.colorbar(im, ax=ax)\n",
    "    # We want to show all ticks...\n",
    "    ax.set(xticks=np.arange(cm.shape[1]),\n",
    "           yticks=np.arange(cm.shape[0]),\n",
    "           # ... and label them with the respective list entries\n",
    "           xticklabels=classes, yticklabels=classes,\n",
    "           title=title,\n",
    "           ylabel='True label',\n",
    "           xlabel='Predicted label')\n",
    "    \n",
    "    ax.set_ylim(cm.shape[0]-0.5, -0.5)\n",
    "\n",
    "    # Rotate the tick labels and set their alignment.\n",
    "    plt.setp(ax.get_xticklabels(), rotation=45, ha=\"right\",\n",
    "             rotation_mode=\"anchor\")\n",
    "\n",
    "    \n",
    "    # Loop over data dimensions and create text annotations.\n",
    "    fmt = '.2f'\n",
    "    thresh = cm.max() / 2.\n",
    "    \n",
    "    #thresh = 0.5\n",
    "    for i in range(cm.shape[0]):\n",
    "        for j in range(cm.shape[1]):\n",
    "            ax.text(j, i, format(cm[i, j], fmt),\n",
    "                    ha=\"center\", va=\"center\",\n",
    "                    #color=cm[i,j])\n",
    "                    color=\"white\" if cm[i, j] > thresh else \"black\")\n",
    "    \n",
    "    #fig.tight_layout()\n",
    "    return ax"
   ]
  },
  {
   "cell_type": "code",
   "execution_count": 146,
   "metadata": {},
   "outputs": [
    {
     "name": "stdout",
     "output_type": "stream",
     "text": [
      " -- domestic     \n",
      "(34, 32)\n",
      "(34, 32)\n",
      "(34, 32)\n",
      "(34, 32)\n",
      "(34, 32)\n",
      "(34, 32)\n",
      "(34, 32)\n",
      " -- civic     \n",
      "(46, 32)\n",
      "(46, 32)\n",
      "(46, 32)\n",
      "(46, 32)\n",
      "(46, 32)\n",
      "(46, 32)\n",
      "(46, 32)\n",
      " -- project     \n",
      "(69, 32)\n",
      "(69, 32)\n",
      "(69, 32)\n",
      "(69, 32)\n",
      "(69, 32)\n",
      "(69, 32)\n",
      "(69, 32)\n",
      " -- inspired     \n",
      "(34, 32)\n",
      "(34, 32)\n",
      "(34, 32)\n",
      "(34, 32)\n",
      "(34, 32)\n",
      "(34, 32)\n",
      "(34, 32)\n",
      " -- green     \n",
      "(158, 32)\n",
      "(158, 32)\n",
      "(158, 32)\n",
      "(158, 32)\n",
      "(158, 32)\n",
      "(158, 32)\n",
      "(158, 32)\n",
      " -- market     \n",
      "(60, 32)\n",
      "(60, 32)\n",
      "(60, 32)\n",
      "(60, 32)\n",
      "(60, 32)\n",
      "(60, 32)\n",
      "(60, 32)\n",
      " -- industrial     \n",
      "(127, 32)\n",
      "(127, 32)\n",
      "(127, 32)\n",
      "(127, 32)\n",
      "(127, 32)\n",
      "(127, 32)\n",
      "(127, 32)\n"
     ]
    }
   ],
   "source": [
    "y_true = []\n",
    "y_pred = []\n",
    "\n",
    "conf_matrix = []\n",
    "class_lengths = []\n",
    "\n",
    "\n",
    "for idx, k in enumerate(list(classifier_thresholds.keys())):\n",
    "\n",
    "    print(\" -- {}     \".format(k))\n",
    "\n",
    "\n",
    "    matches, cl_len = compute_confusions(k, _DLModels, _DLData_val_x, _DLData_val_y)\n",
    "    \n",
    "    conf_matrix.append(matches)\n",
    "    \n",
    "    class_lengths.append(cl_len)\n",
    "\n",
    "conf_matrix = np.array(conf_matrix)"
   ]
  },
  {
   "cell_type": "code",
   "execution_count": 147,
   "metadata": {},
   "outputs": [
    {
     "name": "stdout",
     "output_type": "stream",
     "text": [
      "1.9701788870809875\n"
     ]
    },
    {
     "data": {
      "text/plain": [
       "<matplotlib.axes._subplots.AxesSubplot at 0x1eb286390>"
      ]
     },
     "execution_count": 147,
     "metadata": {},
     "output_type": "execute_result"
    },
    {
     "data": {
      "image/png": "[encoded data removed]",
      "text/plain": [
       "<Figure size 432x288 with 2 Axes>"
      ]
     },
     "metadata": {},
     "output_type": "display_data"
    }
   ],
   "source": [
    "class_names = list(classifier_thresholds.keys())\n",
    "\n",
    "plot_confusion_matrix(conf_matrix, class_names, normalize=True, class_lengths = class_lengths)"
   ]
  },
  {
   "cell_type": "code",
   "execution_count": 91,
   "metadata": {},
   "outputs": [
    {
     "data": {
      "text/plain": [
       "array([[ 23.,  15.,  18.,   4.,  13.,  12.,  14.,   0.],\n",
       "       [ 16.,  36.,  24.,   5.,  21.,  17.,  17.,   0.],\n",
       "       [ 23.,  34.,  56.,  12.,  13.,  17.,  21.,   0.],\n",
       "       [ 11.,   6.,  17.,   5.,  10.,  13.,  22.,   0.],\n",
       "       [ 39., 102., 116.,  13., 166.,  75., 174.,   0.],\n",
       "       [ 10.,  23.,  43.,   6.,  15.,  44.,  37.,   0.],\n",
       "       [ 54.,  61.,  94.,  14.,  15.,  62., 132.,   0.]])"
      ]
     },
     "execution_count": 91,
     "metadata": {},
     "output_type": "execute_result"
    }
   ],
   "source": [
    "conf_matrix"
   ]
  },
  {
   "cell_type": "markdown",
   "metadata": {},
   "source": [
    "## Matches histograms"
   ]
  },
  {
   "cell_type": "code",
   "execution_count": 114,
   "metadata": {},
   "outputs": [],
   "source": [
    "def plot_matches_histogram_multiclass(_matches, _models, title=None, data_sources=[]):\n",
    "\n",
    "    f, ax = plt.subplots(figsize=[12,6])\n",
    "    \n",
    "    elems = [k.replace(\"training_\", \"\").replace(\".txt\", \"\").capitalize()  for k in list(_models.keys())]\n",
    "\n",
    "    \n",
    "    barWidth = 0.25  # the width of the bars\n",
    "    # Set position of bar on X axis\n",
    "    r1 = np.arange(len(elems))\n",
    "    r2 = [x + barWidth for x in r1]\n",
    "    r3 = [x + barWidth for x in r2]\n",
    "    \n",
    "    rs = [r1,r2,r3]\n",
    "\n",
    "\n",
    "    \n",
    "    for m_idx, m in enumerate(_matches):\n",
    "        f = np.array(m).sum(axis=0)\n",
    "        f = f / np.sum(f)\n",
    "        \n",
    "        print(f)\n",
    "        print(r1)\n",
    "\n",
    "        plt.bar(rs[m_idx], f, width=barWidth, edgecolor='white', label=data_sources[m_idx])\n",
    "        \n",
    "    # Add xticks on the middle of the group bars\n",
    "    plt.xlabel('Conventions', fontweight='bold')\n",
    "    plt.ylabel('Percentage', fontweight='bold')\n",
    "    plt.xticks([r + barWidth for r in range(len(elems))], elems)\n",
    "    plt.legend()\n",
    "    plt.show()"
   ]
  },
  {
   "cell_type": "code",
   "execution_count": 96,
   "metadata": {},
   "outputs": [],
   "source": [
    "def get_model_matches(sequences, model):\n",
    "    data = pad_sequences(sequences, maxlen=MAX_SEQUENCE_LENGTH)\n",
    "    preds = model.predict(data)\n",
    "\n",
    "    return preds"
   ]
  },
  {
   "cell_type": "code",
   "execution_count": 77,
   "metadata": {},
   "outputs": [],
   "source": [
    "def count_positive_preds(preds):\n",
    "    count = 0\n",
    "    for j in range(len(preds)):\n",
    "    \n",
    "        count += int(preds[j][1]>preds[j][0])\n",
    "    return count"
   ]
  },
  {
   "cell_type": "code",
   "execution_count": 78,
   "metadata": {},
   "outputs": [],
   "source": [
    "def count_positive_preds_with_threshold(preds, threshold=0.5):\n",
    "    count = 0\n",
    "    for j in range(len(preds)):\n",
    "    \n",
    "        count += int(preds[j][1]>=threshold)\n",
    "    return count"
   ]
  },
  {
   "cell_type": "code",
   "execution_count": 79,
   "metadata": {},
   "outputs": [],
   "source": [
    "def calculate_matches(repositories_descriptions, _models, _tokenizers, model_preds_func=count_positive_preds, threshold=None):\n",
    "    _repos_matches = []\n",
    "\n",
    "    ##Â Counting number of matches per model for each repo\n",
    "    for r_description in repositories_descriptions:\n",
    "        r_description = r_description.split(\"\\n\")\n",
    "\n",
    "        this_repo_matches = []\n",
    "        for model_key in _models.keys():\n",
    "            matches=0\n",
    "\n",
    "            tokenized_r_description = _tokenizers[model_key].texts_to_sequences(r_description)\n",
    "\n",
    "            preds = get_model_matches(tokenized_r_description, _models[model_key])\n",
    "\n",
    "            if threshold is None:\n",
    "                num_matches = model_preds_func(preds)\n",
    "            else:\n",
    "                num_matches = model_preds_func(preds, threshold)\n",
    "\n",
    "            this_repo_matches.append(num_matches)\n",
    "\n",
    "        _repos_matches.append(this_repo_matches)\n",
    "        \n",
    "    return _repos_matches\n",
    "    "
   ]
  },
  {
   "cell_type": "code",
   "execution_count": 120,
   "metadata": {},
   "outputs": [],
   "source": [
    "AI_repos = pd.read_csv(\"Data/ToBeAnalyzed/github_AI_repos_dump.csv\", sep=\";\")\n",
    "not_AI_repos = pd.read_csv(\"Data/ToBeAnalyzed/github_non_AI_repos_dump.csv\")"
   ]
  },
  {
   "cell_type": "code",
   "execution_count": 121,
   "metadata": {},
   "outputs": [
    {
     "data": {
      "text/html": [
       "<div>\n",
       "<style scoped>\n",
       "    .dataframe tbody tr th:only-of-type {\n",
       "        vertical-align: middle;\n",
       "    }\n",
       "\n",
       "    .dataframe tbody tr th {\n",
       "        vertical-align: top;\n",
       "    }\n",
       "\n",
       "    .dataframe thead th {\n",
       "        text-align: right;\n",
       "    }\n",
       "</style>\n",
       "<table border=\"1\" class=\"dataframe\">\n",
       "  <thead>\n",
       "    <tr style=\"text-align: right;\">\n",
       "      <th></th>\n",
       "      <th>Unnamed: 0</th>\n",
       "      <th>repo_name</th>\n",
       "      <th>repo_creation_date</th>\n",
       "      <th>repo_last_update</th>\n",
       "      <th>repo_id</th>\n",
       "      <th>repo_language</th>\n",
       "      <th>repo_owner</th>\n",
       "      <th>repo_topics</th>\n",
       "      <th>repo_num_stars</th>\n",
       "      <th>repo_num_subscribers</th>\n",
       "      <th>repo_raw_description</th>\n",
       "      <th>repo_num_forks</th>\n",
       "      <th>repo_num_open_issue</th>\n",
       "      <th>repo_size</th>\n",
       "      <th>cleaned_descriptions</th>\n",
       "      <th>similar_to</th>\n",
       "    </tr>\n",
       "  </thead>\n",
       "  <tbody>\n",
       "    <tr>\n",
       "      <td>0</td>\n",
       "      <td>0</td>\n",
       "      <td>facebook/react</td>\n",
       "      <td>2013-05-24 16:15:54</td>\n",
       "      <td>NaN</td>\n",
       "      <td>10270250</td>\n",
       "      <td>JavaScript</td>\n",
       "      <td>NamedUser(login=\"facebook\")</td>\n",
       "      <td>['javascript', 'react', 'frontend', 'declarati...</td>\n",
       "      <td>136712</td>\n",
       "      <td>6607</td>\n",
       "      <td>b'# [react](https://reactjs.org/) &amp;middot; [![...</td>\n",
       "      <td>25764</td>\n",
       "      <td>796</td>\n",
       "      <td>NaN</td>\n",
       "      <td>b react react is a javascript library for buil...</td>\n",
       "      <td>tensorflow/tensorflow</td>\n",
       "    </tr>\n",
       "    <tr>\n",
       "      <td>1</td>\n",
       "      <td>1</td>\n",
       "      <td>ossu/computer-science</td>\n",
       "      <td>2014-05-04 00:18:39</td>\n",
       "      <td>NaN</td>\n",
       "      <td>19415064</td>\n",
       "      <td>NaN</td>\n",
       "      <td>NamedUser(login=\"ossu\")</td>\n",
       "      <td>['computer-science', 'awesome-list', 'courses']</td>\n",
       "      <td>46132</td>\n",
       "      <td>3028</td>\n",
       "      <td>b'![open source society university (ossu)](htt...</td>\n",
       "      <td>6622</td>\n",
       "      <td>29</td>\n",
       "      <td>NaN</td>\n",
       "      <td>b open source society university path to a fre...</td>\n",
       "      <td>keras-team/keras</td>\n",
       "    </tr>\n",
       "    <tr>\n",
       "      <td>2</td>\n",
       "      <td>2</td>\n",
       "      <td>jekyll/jekyll</td>\n",
       "      <td>2008-10-20 06:29:03</td>\n",
       "      <td>NaN</td>\n",
       "      <td>65252</td>\n",
       "      <td>Ruby</td>\n",
       "      <td>NamedUser(login=\"jekyll\")</td>\n",
       "      <td>['ruby', 'jekyll', 'static-site-generator', 'b...</td>\n",
       "      <td>38760</td>\n",
       "      <td>1462</td>\n",
       "      <td>b'# [jekyll](https://jekyllrb.com/)\\n\\n[![gem ...</td>\n",
       "      <td>8462</td>\n",
       "      <td>138</td>\n",
       "      <td>NaN</td>\n",
       "      <td>b jekyll ruby-gems travis appveyor codeclimate...</td>\n",
       "      <td>scikit-learn/scikit-learn</td>\n",
       "    </tr>\n",
       "    <tr>\n",
       "      <td>3</td>\n",
       "      <td>3</td>\n",
       "      <td>nodejs/node-v0.x-archive</td>\n",
       "      <td>2009-05-27 16:29:46</td>\n",
       "      <td>NaN</td>\n",
       "      <td>211666</td>\n",
       "      <td>NaN</td>\n",
       "      <td>NamedUser(login=\"nodejs\")</td>\n",
       "      <td>[]</td>\n",
       "      <td>35388</td>\n",
       "      <td>2173</td>\n",
       "      <td>b'\\nthis repository is an archive of node.js b...</td>\n",
       "      <td>7765</td>\n",
       "      <td>571</td>\n",
       "      <td>NaN</td>\n",
       "      <td>b this repository is an archive of node.js bef...</td>\n",
       "      <td>aymericdamien/TensorFlow-Examples</td>\n",
       "    </tr>\n",
       "    <tr>\n",
       "      <td>4</td>\n",
       "      <td>4</td>\n",
       "      <td>vsouza/awesome-ios</td>\n",
       "      <td>2014-07-10 16:03:45</td>\n",
       "      <td>NaN</td>\n",
       "      <td>21700699</td>\n",
       "      <td>Swift</td>\n",
       "      <td>NamedUser(login=\"vsouza\")</td>\n",
       "      <td>['awesome', 'swift-library', 'swift-extensions...</td>\n",
       "      <td>33027</td>\n",
       "      <td>1788</td>\n",
       "      <td>b'&lt;img src=\"https://github.com/vsouza/awesome-...</td>\n",
       "      <td>5563</td>\n",
       "      <td>5</td>\n",
       "      <td>NaN</td>\n",
       "      <td>b abouta curated list of awesome ios framework...</td>\n",
       "      <td>pytorch/pytorch</td>\n",
       "    </tr>\n",
       "  </tbody>\n",
       "</table>\n",
       "</div>"
      ],
      "text/plain": [
       "   Unnamed: 0                 repo_name   repo_creation_date  \\\n",
       "0           0            facebook/react  2013-05-24 16:15:54   \n",
       "1           1     ossu/computer-science  2014-05-04 00:18:39   \n",
       "2           2             jekyll/jekyll  2008-10-20 06:29:03   \n",
       "3           3  nodejs/node-v0.x-archive  2009-05-27 16:29:46   \n",
       "4           4        vsouza/awesome-ios  2014-07-10 16:03:45   \n",
       "\n",
       "   repo_last_update   repo_id repo_language                   repo_owner  \\\n",
       "0               NaN  10270250    JavaScript  NamedUser(login=\"facebook\")   \n",
       "1               NaN  19415064           NaN      NamedUser(login=\"ossu\")   \n",
       "2               NaN     65252          Ruby    NamedUser(login=\"jekyll\")   \n",
       "3               NaN    211666           NaN    NamedUser(login=\"nodejs\")   \n",
       "4               NaN  21700699         Swift    NamedUser(login=\"vsouza\")   \n",
       "\n",
       "                                         repo_topics  repo_num_stars  \\\n",
       "0  ['javascript', 'react', 'frontend', 'declarati...          136712   \n",
       "1    ['computer-science', 'awesome-list', 'courses']           46132   \n",
       "2  ['ruby', 'jekyll', 'static-site-generator', 'b...           38760   \n",
       "3                                                 []           35388   \n",
       "4  ['awesome', 'swift-library', 'swift-extensions...           33027   \n",
       "\n",
       "   repo_num_subscribers                               repo_raw_description  \\\n",
       "0                  6607  b'# [react](https://reactjs.org/) &middot; [![...   \n",
       "1                  3028  b'![open source society university (ossu)](htt...   \n",
       "2                  1462  b'# [jekyll](https://jekyllrb.com/)\\n\\n[![gem ...   \n",
       "3                  2173  b'\\nthis repository is an archive of node.js b...   \n",
       "4                  1788  b'<img src=\"https://github.com/vsouza/awesome-...   \n",
       "\n",
       "   repo_num_forks  repo_num_open_issue  repo_size  \\\n",
       "0           25764                  796        NaN   \n",
       "1            6622                   29        NaN   \n",
       "2            8462                  138        NaN   \n",
       "3            7765                  571        NaN   \n",
       "4            5563                    5        NaN   \n",
       "\n",
       "                                cleaned_descriptions  \\\n",
       "0  b react react is a javascript library for buil...   \n",
       "1  b open source society university path to a fre...   \n",
       "2  b jekyll ruby-gems travis appveyor codeclimate...   \n",
       "3  b this repository is an archive of node.js bef...   \n",
       "4  b abouta curated list of awesome ios framework...   \n",
       "\n",
       "                          similar_to  \n",
       "0              tensorflow/tensorflow  \n",
       "1                   keras-team/keras  \n",
       "2          scikit-learn/scikit-learn  \n",
       "3  aymericdamien/TensorFlow-Examples  \n",
       "4                    pytorch/pytorch  "
      ]
     },
     "execution_count": 121,
     "metadata": {},
     "output_type": "execute_result"
    }
   ],
   "source": [
    "not_AI_repos.head()"
   ]
  },
  {
   "cell_type": "code",
   "execution_count": 15,
   "metadata": {},
   "outputs": [],
   "source": [
    "MAX_SEQUENCE_LENGTH=32"
   ]
  },
  {
   "cell_type": "code",
   "execution_count": 123,
   "metadata": {},
   "outputs": [],
   "source": [
    "AI_texts = AI_repos['cleaned_descriptions'].values\n",
    "\n",
    "#AI_texts =[t.split(\"\\n\") for t in AI_texts]\n",
    "AI_repos_matches = calculate_matches(AI_texts, \n",
    "                                     models[0][0], \n",
    "                                    models[0][1],\n",
    "                                    model_preds_func=count_positive_preds_with_threshold, \n",
    "                                    threshold = 0.656) ##As obtained above!\n",
    "\n"
   ]
  },
  {
   "cell_type": "code",
   "execution_count": 124,
   "metadata": {},
   "outputs": [],
   "source": [
    "not_AI_texts = not_AI_repos['cleaned_descriptions'].values\n",
    "not_AI_repos_matches = calculate_matches(not_AI_texts, \n",
    "                                     models[0][0], \n",
    "                                    models[0][1],\n",
    "                                    model_preds_func=count_positive_preds_with_threshold, \n",
    "                                    threshold = 0.656) ##As obtained above!\n",
    "\n"
   ]
  },
  {
   "cell_type": "code",
   "execution_count": null,
   "metadata": {},
   "outputs": [],
   "source": [
    "S2_texts = []\n",
    "with open(\"Data/ToBeAnalyzed/s2_random_3345_nn.txt\", \"rb\") as f:\n",
    "    S2_texts = f.readlines()\n",
    "    f.close()\n",
    "S2_texts = [str(s) for s in S2_texts]\n",
    "    \n",
    "S2_matches = calculate_matches(S2_texts, \n",
    "                                     models[0][0], \n",
    "                                    models[0][1],\n",
    "                                    model_preds_func=count_positive_preds_with_threshold, \n",
    "                                    threshold = 0.656) ##As obtained above!\n",
    "\n",
    "\n"
   ]
  },
  {
   "cell_type": "code",
   "execution_count": 277,
   "metadata": {},
   "outputs": [
    {
     "name": "stdout",
     "output_type": "stream",
     "text": [
      "[0.06951143 0.03326595 0.24418328 0.09338085 0.00307895 0.09783359\n",
      " 0.3643679  0.09437805]\n",
      "[0 1 2 3 4 5 6 7]\n",
      "[0.09722348 0.03550687 0.23687746 0.06382753 0.00152511 0.14390106\n",
      " 0.32328879 0.09784969]\n",
      "[0 1 2 3 4 5 6 7]\n",
      "[0.04166128 0.0663734  0.20494242 0.05873981 0.03118127 0.04217881\n",
      " 0.37068185 0.18424117]\n",
      "[0 1 2 3 4 5 6 7]\n"
     ]
    },
    {
     "data": {
      "image/png": "[encoded data removed]",
      "text/plain": [
       "<Figure size 864x432 with 1 Axes>"
      ]
     },
     "metadata": {},
     "output_type": "display_data"
    }
   ],
   "source": [
    "data_sources = ['AI repositories', 'Not AI repositories', 'AI scientific articles']\n",
    "plot_matches_histogram_multiclass([AI_repos_matches, not_AI_repos_matches, S2_matches], models[0][0], \"Conventions for not AI research articles\", data_sources)"
   ]
  },
  {
   "cell_type": "code",
   "execution_count": 126,
   "metadata": {},
   "outputs": [
    {
     "name": "stdout",
     "output_type": "stream",
     "text": [
      "8609\n",
      "5358\n"
     ]
    }
   ],
   "source": [
    "print(len(AI_repos))\n",
    "print(len(not_AI_repos))okay"
   ]
  },
  {
   "cell_type": "code",
   "execution_count": 135,
   "metadata": {},
   "outputs": [
    {
     "data": {
      "text/plain": [
       "138085"
      ]
     },
     "execution_count": 135,
     "metadata": {},
     "output_type": "execute_result"
    }
   ],
   "source": [
    "ai_sents = []\n",
    "for t in AI_repos['cleaned_descriptions'].values:\n",
    "    for term in t.split(\"\\n\"):\n",
    "        ai_sents.append(str(term))\n",
    "len(ai_sents)"
   ]
  },
  {
   "cell_type": "code",
   "execution_count": 136,
   "metadata": {},
   "outputs": [
    {
     "data": {
      "text/plain": [
       "76274"
      ]
     },
     "execution_count": 136,
     "metadata": {},
     "output_type": "execute_result"
    }
   ],
   "source": [
    "not_ai_sents = []\n",
    "for t in not_AI_repos['cleaned_descriptions'].values:\n",
    "    for term in t.split(\"\\n\"):\n",
    "        not_ai_sents.append(str(term))\n",
    "len(not_ai_sents)"
   ]
  },
  {
   "cell_type": "code",
   "execution_count": 141,
   "metadata": {},
   "outputs": [
    {
     "data": {
      "text/plain": [
       "<matplotlib.axes._subplots.AxesSubplot at 0x33e4d5a90>"
      ]
     },
     "execution_count": 141,
     "metadata": {},
     "output_type": "execute_result"
    },
    {
     "data": {
      "image/png": "[encoded data removed]",
      "text/plain": [
       "<Figure size 432x288 with 1 Axes>"
      ]
     },
     "metadata": {},
     "output_type": "display_data"
    }
   ],
   "source": [
    "AI_repos['repo_num_stars'].hist(bins=50)"
   ]
  },
  {
   "cell_type": "code",
   "execution_count": 142,
   "metadata": {},
   "outputs": [
    {
     "data": {
      "text/plain": [
       "271.43489371587873"
      ]
     },
     "execution_count": 142,
     "metadata": {},
     "output_type": "execute_result"
    }
   ],
   "source": [
    "np.mean(AI_repos['repo_num_stars'])"
   ]
  },
  {
   "cell_type": "code",
   "execution_count": 145,
   "metadata": {},
   "outputs": [
    {
     "data": {
      "text/plain": [
       "453.5194102276969"
      ]
     },
     "execution_count": 145,
     "metadata": {},
     "output_type": "execute_result"
    }
   ],
   "source": [
    "np.mean(not_AI_repos['repo_num_stars'])"
   ]
  },
  {
   "cell_type": "code",
   "execution_count": 143,
   "metadata": {},
   "outputs": [
    {
     "data": {
      "text/plain": [
       "133935"
      ]
     },
     "execution_count": 143,
     "metadata": {},
     "output_type": "execute_result"
    }
   ],
   "source": [
    "np.max(AI_repos['repo_num_stars'])"
   ]
  },
  {
   "cell_type": "code",
   "execution_count": 144,
   "metadata": {},
   "outputs": [
    {
     "data": {
      "text/plain": [
       "271.43489371587873"
      ]
     },
     "execution_count": 144,
     "metadata": {},
     "output_type": "execute_result"
    }
   ],
   "source": [
    "np.mean(AI_repos['repo_num_stars'])"
   ]
  },
  {
   "cell_type": "code",
   "execution_count": 147,
   "metadata": {},
   "outputs": [
    {
     "data": {
      "text/html": [
       "<div>\n",
       "<style scoped>\n",
       "    .dataframe tbody tr th:only-of-type {\n",
       "        vertical-align: middle;\n",
       "    }\n",
       "\n",
       "    .dataframe tbody tr th {\n",
       "        vertical-align: top;\n",
       "    }\n",
       "\n",
       "    .dataframe thead th {\n",
       "        text-align: right;\n",
       "    }\n",
       "</style>\n",
       "<table border=\"1\" class=\"dataframe\">\n",
       "  <thead>\n",
       "    <tr style=\"text-align: right;\">\n",
       "      <th></th>\n",
       "      <th>repo_name</th>\n",
       "      <th>repo_creation_date</th>\n",
       "      <th>repo_last_update</th>\n",
       "      <th>repo_id</th>\n",
       "      <th>repo_language</th>\n",
       "      <th>repo_owner</th>\n",
       "      <th>repo_topics</th>\n",
       "      <th>repo_num_stars</th>\n",
       "      <th>repo_num_subscribers</th>\n",
       "      <th>repo_raw_description</th>\n",
       "      <th>repo_num_forks</th>\n",
       "      <th>repo_num_open_issue</th>\n",
       "      <th>repo_size</th>\n",
       "      <th>cleaned_descriptions</th>\n",
       "    </tr>\n",
       "  </thead>\n",
       "  <tbody>\n",
       "    <tr>\n",
       "      <td>0</td>\n",
       "      <td>tensorflow/tensorflow</td>\n",
       "      <td>2015-11-07 01:19:20</td>\n",
       "      <td>2015-11-07 01:19:20</td>\n",
       "      <td>45717250</td>\n",
       "      <td>C++</td>\n",
       "      <td>NamedUser(login=\"tensorflow\")</td>\n",
       "      <td>['tensorflow', 'machine-learning', 'python', '...</td>\n",
       "      <td>133935</td>\n",
       "      <td>8585</td>\n",
       "      <td>b'&lt;div align=\"center\"&gt;\\n  &lt;img src=\"https://ww...</td>\n",
       "      <td>77239</td>\n",
       "      <td>2672</td>\n",
       "      <td>398370</td>\n",
       "      <td>b documentation  tensorflow is an end-to-end o...</td>\n",
       "    </tr>\n",
       "    <tr>\n",
       "      <td>1</td>\n",
       "      <td>keras-team/keras</td>\n",
       "      <td>2015-03-28 00:35:42</td>\n",
       "      <td>2015-03-28 00:35:42</td>\n",
       "      <td>33015583</td>\n",
       "      <td>Python</td>\n",
       "      <td>NamedUser(login=\"keras-team\")</td>\n",
       "      <td>['deep-learning', 'tensorflow', 'neural-networ...</td>\n",
       "      <td>44041</td>\n",
       "      <td>2065</td>\n",
       "      <td>b'\\xef\\xbb\\xbf# keras: deep learning for human...</td>\n",
       "      <td>16755</td>\n",
       "      <td>2538</td>\n",
       "      <td>13239</td>\n",
       "      <td>b keras deep learning for humans you have just...</td>\n",
       "    </tr>\n",
       "    <tr>\n",
       "      <td>2</td>\n",
       "      <td>scikit-learn/scikit-learn</td>\n",
       "      <td>2010-08-17 09:43:38</td>\n",
       "      <td>2010-08-17 09:43:38</td>\n",
       "      <td>843222</td>\n",
       "      <td>Python</td>\n",
       "      <td>NamedUser(login=\"scikit-learn\")</td>\n",
       "      <td>['machine-learning', 'python', 'statistics', '...</td>\n",
       "      <td>36964</td>\n",
       "      <td>2270</td>\n",
       "      <td>b'.. -*- mode: rst -*-\\n\\n|azure|_ |travis|_ |...</td>\n",
       "      <td>18180</td>\n",
       "      <td>1939</td>\n",
       "      <td>107837</td>\n",
       "      <td>b ..  mode rst  azure travis codecov circleci ...</td>\n",
       "    </tr>\n",
       "    <tr>\n",
       "      <td>3</td>\n",
       "      <td>aymericdamien/TensorFlow-Examples</td>\n",
       "      <td>2015-11-11 14:21:19</td>\n",
       "      <td>2015-11-11 14:21:19</td>\n",
       "      <td>45986162</td>\n",
       "      <td>Jupyter Notebook</td>\n",
       "      <td>NamedUser(login=\"aymericdamien\")</td>\n",
       "      <td>['tensorflow', 'tutorial', 'examples', 'deep-l...</td>\n",
       "      <td>33929</td>\n",
       "      <td>2054</td>\n",
       "      <td>b'# tensorflow examples\\n\\nthis tutorial was d...</td>\n",
       "      <td>12813</td>\n",
       "      <td>180</td>\n",
       "      <td>9552</td>\n",
       "      <td>b tensorflow examplesthis tutorial was designe...</td>\n",
       "    </tr>\n",
       "    <tr>\n",
       "      <td>4</td>\n",
       "      <td>pytorch/pytorch</td>\n",
       "      <td>2016-08-13 05:26:41</td>\n",
       "      <td>2016-08-13 05:26:41</td>\n",
       "      <td>65600975</td>\n",
       "      <td>C++</td>\n",
       "      <td>NamedUser(login=\"pytorch\")</td>\n",
       "      <td>['neural-network', 'autograd', 'gpu', 'numpy',...</td>\n",
       "      <td>31533</td>\n",
       "      <td>1325</td>\n",
       "      <td>b'![pytorch logo](https://github.com/pytorch/p...</td>\n",
       "      <td>7758</td>\n",
       "      <td>4090</td>\n",
       "      <td>205280</td>\n",
       "      <td>b pytorch is a python package that provides tw...</td>\n",
       "    </tr>\n",
       "  </tbody>\n",
       "</table>\n",
       "</div>"
      ],
      "text/plain": [
       "                           repo_name   repo_creation_date  \\\n",
       "0              tensorflow/tensorflow  2015-11-07 01:19:20   \n",
       "1                   keras-team/keras  2015-03-28 00:35:42   \n",
       "2          scikit-learn/scikit-learn  2010-08-17 09:43:38   \n",
       "3  aymericdamien/TensorFlow-Examples  2015-11-11 14:21:19   \n",
       "4                    pytorch/pytorch  2016-08-13 05:26:41   \n",
       "\n",
       "      repo_last_update   repo_id     repo_language  \\\n",
       "0  2015-11-07 01:19:20  45717250               C++   \n",
       "1  2015-03-28 00:35:42  33015583            Python   \n",
       "2  2010-08-17 09:43:38    843222            Python   \n",
       "3  2015-11-11 14:21:19  45986162  Jupyter Notebook   \n",
       "4  2016-08-13 05:26:41  65600975               C++   \n",
       "\n",
       "                         repo_owner  \\\n",
       "0     NamedUser(login=\"tensorflow\")   \n",
       "1     NamedUser(login=\"keras-team\")   \n",
       "2   NamedUser(login=\"scikit-learn\")   \n",
       "3  NamedUser(login=\"aymericdamien\")   \n",
       "4        NamedUser(login=\"pytorch\")   \n",
       "\n",
       "                                         repo_topics  repo_num_stars  \\\n",
       "0  ['tensorflow', 'machine-learning', 'python', '...          133935   \n",
       "1  ['deep-learning', 'tensorflow', 'neural-networ...           44041   \n",
       "2  ['machine-learning', 'python', 'statistics', '...           36964   \n",
       "3  ['tensorflow', 'tutorial', 'examples', 'deep-l...           33929   \n",
       "4  ['neural-network', 'autograd', 'gpu', 'numpy',...           31533   \n",
       "\n",
       "   repo_num_subscribers                               repo_raw_description  \\\n",
       "0                  8585  b'<div align=\"center\">\\n  <img src=\"https://ww...   \n",
       "1                  2065  b'\\xef\\xbb\\xbf# keras: deep learning for human...   \n",
       "2                  2270  b'.. -*- mode: rst -*-\\n\\n|azure|_ |travis|_ |...   \n",
       "3                  2054  b'# tensorflow examples\\n\\nthis tutorial was d...   \n",
       "4                  1325  b'![pytorch logo](https://github.com/pytorch/p...   \n",
       "\n",
       "   repo_num_forks  repo_num_open_issue  repo_size  \\\n",
       "0           77239                 2672     398370   \n",
       "1           16755                 2538      13239   \n",
       "2           18180                 1939     107837   \n",
       "3           12813                  180       9552   \n",
       "4            7758                 4090     205280   \n",
       "\n",
       "                                cleaned_descriptions  \n",
       "0  b documentation  tensorflow is an end-to-end o...  \n",
       "1  b keras deep learning for humans you have just...  \n",
       "2  b ..  mode rst  azure travis codecov circleci ...  \n",
       "3  b tensorflow examplesthis tutorial was designe...  \n",
       "4  b pytorch is a python package that provides tw...  "
      ]
     },
     "execution_count": 147,
     "metadata": {},
     "output_type": "execute_result"
    }
   ],
   "source": [
    "AI_repos.head()"
   ]
  },
  {
   "cell_type": "code",
   "execution_count": 149,
   "metadata": {},
   "outputs": [
    {
     "data": {
      "text/plain": [
       "0    Python\n",
       "dtype: object"
      ]
     },
     "execution_count": 149,
     "metadata": {},
     "output_type": "execute_result"
    }
   ],
   "source": [
    "AI_repos['repo_language'].mode()"
   ]
  },
  {
   "cell_type": "code",
   "execution_count": 150,
   "metadata": {},
   "outputs": [
    {
     "data": {
      "text/plain": [
       "0    JavaScript\n",
       "dtype: object"
      ]
     },
     "execution_count": 150,
     "metadata": {},
     "output_type": "execute_result"
    }
   ],
   "source": [
    "not_AI_repos['repo_language'].mode()"
   ]
  },
  {
   "cell_type": "code",
   "execution_count": 153,
   "metadata": {},
   "outputs": [
    {
     "data": {
      "text/plain": [
       "0.3897084446509467"
      ]
     },
     "execution_count": 153,
     "metadata": {},
     "output_type": "execute_result"
    }
   ],
   "source": [
    "len(AI_repos[AI_repos['repo_language'] == 'Python']) / len(AI_repos)"
   ]
  },
  {
   "cell_type": "code",
   "execution_count": 152,
   "metadata": {},
   "outputs": [
    {
     "data": {
      "text/plain": [
       "0.255692422545726"
      ]
     },
     "execution_count": 152,
     "metadata": {},
     "output_type": "execute_result"
    }
   ],
   "source": [
    "len(not_AI_repos[not_AI_repos['repo_language'] == 'JavaScript']) / len(not_AI_repos)"
   ]
  },
  {
   "cell_type": "code",
   "execution_count": 175,
   "metadata": {},
   "outputs": [],
   "source": [
    "docs = []\n",
    "\n",
    "for c in custom_ordered_keys:\n",
    "    docs.append(\"\\n\".join(list(training_df[training_df['convention'] == c]['text'].values)))"
   ]
  },
  {
   "cell_type": "code",
   "execution_count": 176,
   "metadata": {},
   "outputs": [],
   "source": [
    "stopwords = stopwords=parsing_helpers.get_stop_words(\"Data/Iterative-models-building/Training data/resources/stopwords.txt\")"
   ]
  },
  {
   "cell_type": "code",
   "execution_count": 177,
   "metadata": {},
   "outputs": [
    {
     "name": "stderr",
     "output_type": "stream",
     "text": [
      "/usr/local/lib/python3.7/site-packages/sklearn/feature_extraction/text.py:300: UserWarning: Your stop_words may be inconsistent with your preprocessing. Tokenizing the stop words generated tokens ['come', 'vis', 'viser', 'visest'] not in stop_words.\n",
      "  'stop_words.' % sorted(inconsistent))\n"
     ]
    }
   ],
   "source": [
    "#create a vocabulary of words, \n",
    "#ignore words that appear in 85% of documents, \n",
    "#eliminate stop words\n",
    "cv=CountVectorizer(max_df=0.85,stop_words=stopwords)\n",
    "word_count_vector=cv.fit_transform(docs)\n",
    "\n",
    "tfidf_transformer=TfidfTransformer(smooth_idf=True,use_idf=True)\n",
    "tfidf_transformer.fit(word_count_vector)\n",
    "\n",
    "MIN_TFIDF_SCORE = 0.05\n",
    "def sort_coo(coo_matrix):\n",
    "    tuples = zip(coo_matrix.col, coo_matrix.data)\n",
    "    return sorted(tuples, key=lambda x: (x[1], x[0]), reverse=True)\n",
    "\n",
    "def extract_topn_from_vector(feature_names, sorted_items, topn=10, min_score=MIN_TFIDF_SCORE):\n",
    "    \"\"\"get the feature names and tf-idf score of top n items\"\"\"\n",
    "    \n",
    "    #use only topn items from vector\n",
    "    sorted_items = [[idx, score] for idx,score in sorted_items if score>=min_score]##sorted_items[:topn]\n",
    "\n",
    "    score_vals = []\n",
    "    feature_vals = []\n",
    "\n",
    "    for idx, score in sorted_items:\n",
    "        fname = feature_names[idx]\n",
    "        \n",
    "        #keep track of feature name and its corresponding score\n",
    "        score_vals.append(round(score, 3))\n",
    "        feature_vals.append(feature_names[idx])\n",
    "\n",
    "    #create a tuples of feature,score\n",
    "    #results = zip(feature_vals,score_vals)\n",
    "    results= {}\n",
    "    for idx in range(len(feature_vals)):\n",
    "        results[feature_vals[idx]]=score_vals[idx]\n",
    "    \n",
    "    return results"
   ]
  },
  {
   "cell_type": "code",
   "execution_count": 179,
   "metadata": {},
   "outputs": [
    {
     "name": "stdout",
     "output_type": "stream",
     "text": [
      "=====================================\n",
      "         industrial                   \n",
      "=====================================\n",
      "{'efficiency': 0.134, 'software': 0.129, 'functionality': 0.124, 'benchmarks': 0.121, 'output': 0.12, 'production': 0.111, 'progress': 0.086, 'benchmark': 0.086, 'database': 0.085, 'functional': 0.081, 'economic': 0.081, 'xe2': 0.079, 'load': 0.079, 'python': 0.076, 'boot': 0.073, 'analogy': 0.069, 'engineering': 0.067, 'planning': 0.064, 'functions': 0.064, 'operations': 0.062, 'licensed': 0.062, 'flexibility': 0.062, 'fast': 0.062, 'powerful': 0.061, 'unit': 0.059, 'professional': 0.059, 'implement': 0.059, 'brand': 0.059, 'dubbo': 0.057, 'usage': 0.057, 'java': 0.057, 'device': 0.057, 'account': 0.057, 'scalable': 0.055, 'component': 0.055, 'x80': 0.055, 'spring': 0.054, 'productivity': 0.054, 'press': 0.053, 'names': 0.053, 'devices': 0.053, 'competition': 0.053, 'big': 0.053, 'app': 0.053}\n",
      "=====================================\n",
      "         project                   \n",
      "=====================================\n",
      "{'projective': 0.196, 'indian': 0.131, 'bears': 0.106, '1994': 0.106, 'employability': 0.101, 'engage': 0.095, 'ecology': 0.092, 'aubrey': 0.092, 'famous': 0.09, 'surgeon': 0.083, 'explorer': 0.083, 'ecosystem': 0.083, 'brand': 0.083, 'flexibility': 0.082, '1992': 0.082, 'big': 0.074, 'bellenger': 0.074, 'streamlined': 0.073, '1990': 0.069, 'names': 0.065, 'communication': 0.065, 'capacity': 0.065, 'attract': 0.065, 'longer': 0.064, 'engagement': 0.064, 'grammar': 0.062, 'firm': 0.062, 'contacts': 0.059, 'positions': 0.057, 'medium': 0.057, 'majority': 0.057, 'integrated': 0.057, 'audience': 0.057, 'attachments': 0.057, 'involvement': 0.055, 'connexionist': 0.055, 'skills': 0.055, 'exploring': 0.055, 'develops': 0.055, 'literature': 0.052, 'firms': 0.052, 'enthusiasm': 0.052, 'detours': 0.052, 'attain': 0.052}\n",
      "=====================================\n",
      "         market                   \n",
      "=====================================\n",
      "{'inline': 0.322, 'tex': 0.236, 'math': 0.236, 'customized': 0.154, 'alternatives': 0.148, 'notation': 0.118, 'latex': 0.118, 'cheema': 0.103, '2766065': 0.103, 'competition': 0.096, 'pay': 0.094, 'gif': 0.093, 'owner': 0.089, 'xlink': 0.086, 'href': 0.086, 'graphic': 0.086, 'desires': 0.083, 'customers': 0.077, 'buy': 0.077, 'buyers': 0.075, 'coordination': 0.074, 'activation': 0.073, 'wealth': 0.065, 'sell': 0.065, 'purchase': 0.065, 'online': 0.065, 'process': 0.058, 'method': 0.058, 'communication': 0.058, 'economic': 0.058, 'marketing': 0.057, 'energy': 0.057, 'signals': 0.056, 'threshold': 0.054, 'mandate': 0.054, 'sms': 0.051, 'discriminability': 0.051, 'cardiac': 0.051, 'software': 0.051, 'progress': 0.051, 'device': 0.051, 'account': 0.051, 'vendor': 0.05, 'possession': 0.05, 'opportunity': 0.05, 'convention': 0.05, 'contracts': 0.05, 'content': 0.05}\n",
      "=====================================\n",
      "         inspired                   \n",
      "=====================================\n",
      "{'visual': 0.167, 'labels': 0.1, 'scenes': 0.096, 'egomotions': 0.092, 'disconnected': 0.092, 'probabilistic': 0.087, 'motion': 0.087, 'grasp': 0.087, 'behave': 0.087, 'embedding': 0.083, 'leads': 0.077, 'mechanical': 0.077, 'conspicuously': 0.077, 'theorem': 0.073, 'mind': 0.073, 'graph': 0.073, 'gestures': 0.073, 'artistic': 0.073, 'unimanual': 0.069, 'taxonomies': 0.069, 'srivatsan': 0.069, 'srinivasan': 0.069, 'bimanual': 0.069, 'novel': 0.069, 'approach': 0.069, 'religious': 0.066, 'linear': 0.066, 'spring': 0.064, 'sophisticated': 0.064, 'dream': 0.064, 'creativity': 0.064, 'alchemy': 0.064, 'words': 0.058, 'semantic': 0.058, 'ordinary': 0.058, 'illumination': 0.058, 'earth': 0.058, 'searching': 0.058, 'robotics': 0.058, 'learned': 0.058, 'grails': 0.058, 'cues': 0.058, 'computes': 0.058, 'biological': 0.058, 'unknown': 0.057, 'reveals': 0.057, 'method': 0.057, 'vision': 0.051, 'response': 0.051, 'environments': 0.051, 'denying': 0.051, 'color': 0.051}\n",
      "=====================================\n",
      "         civic                   \n",
      "=====================================\n",
      "{'chapter': 0.156, 'solidarity': 0.14, 'representative': 0.117, 'union': 0.114, 'civil': 0.114, 'delegates': 0.106, 'law': 0.094, 'untouched': 0.083, 'software': 0.083, 'names': 0.083, 'big': 0.083, 'renown': 0.073, 'policies': 0.073, 'capacity': 0.073, 'base': 0.073, 'membership': 0.07, 'functions': 0.07, 'debate': 0.07, 'mandate': 0.07, 'delegate': 0.066, 'association': 0.066, 'press': 0.062, 'licensed': 0.062, 'electoral': 0.062, 'citizens': 0.062, 'bears': 0.062, 'voltdb': 0.06, 'practices': 0.053, 'owner': 0.053, 'individualism': 0.053, 'github': 0.053, 'elected': 0.053, 'contributing': 0.053, 'apple': 0.053, 'agents': 0.053, 'encryption': 0.052, 'demonstrations': 0.052, 'conscience': 0.052, 'archiving': 0.052, 'supported': 0.052, 'regulations': 0.052, 'official': 0.052, 'device': 0.052, 'buy': 0.052, 'account': 0.052}\n",
      "=====================================\n",
      "         domestic                   \n",
      "=====================================\n",
      "{'untouched': 0.1, 'output': 0.086, 'manners': 0.086, 'law': 0.086, 'inferiors': 0.086, 'generation': 0.086, 'train': 0.08, 'subordination': 0.08, 'craft': 0.08, 'bearing': 0.08, 'tomorrow': 0.073, 'subordinates': 0.073, 'emphasized': 0.073, 'agents': 0.073, 'intimates': 0.072, 'cupti': 0.072, 'cuda': 0.072, 'conscience': 0.072, 'unity': 0.071, 'leader': 0.071, 'duties': 0.071, 'civil': 0.071, 'chain': 0.071, 'solidarity': 0.064, 'birth': 0.064, 'ballot': 0.064, 'thoughtfulness': 0.057, 'divorce': 0.057, 'cordial': 0.057, 'union': 0.057, 'superiority': 0.057, 'projective': 0.057, 'parents': 0.057, 'naturalness': 0.057, 'mobile': 0.057, 'indian': 0.057, 'honor': 0.057, 'habitats': 0.057, 'grow': 0.057, 'depending': 0.057, 'circumstances': 0.057, 'bears': 0.057, 'aim': 0.057, '1994': 0.057, 'unmarried': 0.054, 'ranks': 0.054, 'profiling': 0.054, 'participation': 0.054, 'informed': 0.054, 'fault': 0.054, 'exemplary': 0.054, 'engenderment': 0.054, 'doors': 0.054, 'continuity': 0.054, 'ancestors': 0.054}\n",
      "=====================================\n",
      "         green                   \n",
      "=====================================\n",
      "{'economy': 0.559, 'growth': 0.454, 'carbon': 0.298, 'economic': 0.193, 'sustainable': 0.17, 'unep': 0.113, 'change': 0.11, 'climate': 0.108, 'nations': 0.107, 'oecd': 0.1, 'energy': 0.09, 'rio': 0.089, 'emissions': 0.08, 'strategy': 0.08, 'countries': 0.079, 'strategies': 0.072, 'government': 0.069, 'policies': 0.067, 'transition': 0.062, 'inclusive': 0.056, 'sustainability': 0.053, 'concept': 0.052}\n",
      "=====================================\n",
      "         renown                   \n",
      "=====================================\n",
      "{'press': 0.208, 'indian': 0.147, 'influence': 0.123, 'media': 0.11, 'famous': 0.11, 'audience': 0.11, 'brand': 0.096, 'accuracy': 0.093, 'renown': 0.086, 'petetin': 0.086, 'tweets': 0.082, 'saliency': 0.082, 'eco': 0.082, 'viewpoint': 0.074, 'medium': 0.074, 'demonstration': 0.074, 'bears': 0.074, 'approach': 0.074, 'driving': 0.071, 'ecosystem': 0.069, 'sender': 0.062, 'review': 0.062, 'receiver': 0.062, 'occur': 0.062, 'interviews': 0.062, 'velocity': 0.062, 'successful': 0.061, 'stars': 0.061, 'sake': 0.061, 'rumor': 0.061, 'names': 0.061, 'majority': 0.061, 'compares': 0.061, 'big': 0.061, 'visual': 0.055, 'unconfirmed': 0.055, 'tracking': 0.055, 'proud': 0.055, 'legislators': 0.055, 'journalists': 0.055, 'indifference': 0.055, 'ideal': 0.055, 'maximization': 0.053, 'influential': 0.053, 'hair': 0.053, 'feather': 0.053, 'exemplar': 0.053, 'dresses': 0.053, 'costumes': 0.053, 'clustering': 0.053, 'classifiers': 0.053}\n"
     ]
    }
   ],
   "source": [
    "# you only needs to do this once\n",
    "feature_names=cv.get_feature_names()\n",
    "\n",
    "\n",
    "\n",
    "# get the document that we want to extract keywords from\n",
    "for doc_idx, doc in enumerate(docs):\n",
    "    print(\"=====================================\")\n",
    "    print(\"         {}                   \".format(custom_ordered_keys[doc_idx]))\n",
    "    print(\"=====================================\")\n",
    "    \n",
    "    #doc=docs[0]\n",
    "\n",
    "    #generate tf-idf for the given document\n",
    "    tf_idf_vector=tfidf_transformer.transform(cv.transform([doc]))\n",
    "\n",
    "    #sort the tf-idf vectors by descending order of scores\n",
    "    sorted_items=sort_coo(tf_idf_vector.tocoo())\n",
    "\n",
    "    #extract only the top n; n here is 10\n",
    "    keywords=extract_topn_from_vector(feature_names,sorted_items,30)\n",
    "    print(keywords)\n",
    "        \n",
    "       "
   ]
  },
  {
   "cell_type": "code",
   "execution_count": 185,
   "metadata": {},
   "outputs": [
    {
     "data": {
      "text/html": [
       "<div>\n",
       "<style scoped>\n",
       "    .dataframe tbody tr th:only-of-type {\n",
       "        vertical-align: middle;\n",
       "    }\n",
       "\n",
       "    .dataframe tbody tr th {\n",
       "        vertical-align: top;\n",
       "    }\n",
       "\n",
       "    .dataframe thead th {\n",
       "        text-align: right;\n",
       "    }\n",
       "</style>\n",
       "<table border=\"1\" class=\"dataframe\">\n",
       "  <thead>\n",
       "    <tr style=\"text-align: right;\">\n",
       "      <th></th>\n",
       "      <th>Unnamed: 0</th>\n",
       "      <th>convention</th>\n",
       "      <th>index</th>\n",
       "      <th>label</th>\n",
       "      <th>provenance</th>\n",
       "      <th>text</th>\n",
       "    </tr>\n",
       "  </thead>\n",
       "  <tbody>\n",
       "    <tr>\n",
       "      <td>1431</td>\n",
       "      <td>1985</td>\n",
       "      <td>inspired</td>\n",
       "      <td>1985</td>\n",
       "      <td>1</td>\n",
       "      <td>Manually_gathered</td>\n",
       "      <td>If you\\'re feeling confident, use</td>\n",
       "    </tr>\n",
       "    <tr>\n",
       "      <td>1432</td>\n",
       "      <td>1986</td>\n",
       "      <td>inspired</td>\n",
       "      <td>1986</td>\n",
       "      <td>1</td>\n",
       "      <td>Manually_gathered</td>\n",
       "      <td>you\\'re just looking for [some inspiration][in...</td>\n",
       "    </tr>\n",
       "    <tr>\n",
       "      <td>1433</td>\n",
       "      <td>1987</td>\n",
       "      <td>inspired</td>\n",
       "      <td>1987</td>\n",
       "      <td>1</td>\n",
       "      <td>Manually_gathered</td>\n",
       "      <td>if you found this project helpful, any monetar...</td>\n",
       "    </tr>\n",
       "    <tr>\n",
       "      <td>1434</td>\n",
       "      <td>1988</td>\n",
       "      <td>inspired</td>\n",
       "      <td>1988</td>\n",
       "      <td>1</td>\n",
       "      <td>Manually_gathered</td>\n",
       "      <td>the inspiration for mozdef comes from the larg...</td>\n",
       "    </tr>\n",
       "    <tr>\n",
       "      <td>1435</td>\n",
       "      <td>1989</td>\n",
       "      <td>inspired</td>\n",
       "      <td>1989</td>\n",
       "      <td>1</td>\n",
       "      <td>Manually_gathered</td>\n",
       "      <td>we want designers to be as creative as possibl...</td>\n",
       "    </tr>\n",
       "    <tr>\n",
       "      <td>...</td>\n",
       "      <td>...</td>\n",
       "      <td>...</td>\n",
       "      <td>...</td>\n",
       "      <td>...</td>\n",
       "      <td>...</td>\n",
       "      <td>...</td>\n",
       "    </tr>\n",
       "    <tr>\n",
       "      <td>4297</td>\n",
       "      <td>5997</td>\n",
       "      <td>inspired</td>\n",
       "      <td>671</td>\n",
       "      <td>1</td>\n",
       "      <td>Semantic Scholar</td>\n",
       "      <td>Our experiments demonstrate that the models tr...</td>\n",
       "    </tr>\n",
       "    <tr>\n",
       "      <td>4298</td>\n",
       "      <td>5998</td>\n",
       "      <td>inspired</td>\n",
       "      <td>672</td>\n",
       "      <td>1</td>\n",
       "      <td>Semantic Scholar</td>\n",
       "      <td>We develop a new learning rule designed around...</td>\n",
       "    </tr>\n",
       "    <tr>\n",
       "      <td>4299</td>\n",
       "      <td>5999</td>\n",
       "      <td>inspired</td>\n",
       "      <td>673</td>\n",
       "      <td>1</td>\n",
       "      <td>Semantic Scholar</td>\n",
       "      <td>In this paper, we propose a novel Web services...</td>\n",
       "    </tr>\n",
       "    <tr>\n",
       "      <td>4300</td>\n",
       "      <td>6000</td>\n",
       "      <td>inspired</td>\n",
       "      <td>674</td>\n",
       "      <td>1</td>\n",
       "      <td>Semantic Scholar</td>\n",
       "      <td>To solve dynamic Sylvester equation in the pre...</td>\n",
       "    </tr>\n",
       "    <tr>\n",
       "      <td>4303</td>\n",
       "      <td>6003</td>\n",
       "      <td>inspired</td>\n",
       "      <td>677</td>\n",
       "      <td>1</td>\n",
       "      <td>Semantic Scholar</td>\n",
       "      <td>This paper presents a new approach for indexin...</td>\n",
       "    </tr>\n",
       "  </tbody>\n",
       "</table>\n",
       "<p>346 rows × 6 columns</p>\n",
       "</div>"
      ],
      "text/plain": [
       "      Unnamed: 0 convention  index  label         provenance  \\\n",
       "1431        1985   inspired   1985      1  Manually_gathered   \n",
       "1432        1986   inspired   1986      1  Manually_gathered   \n",
       "1433        1987   inspired   1987      1  Manually_gathered   \n",
       "1434        1988   inspired   1988      1  Manually_gathered   \n",
       "1435        1989   inspired   1989      1  Manually_gathered   \n",
       "...          ...        ...    ...    ...                ...   \n",
       "4297        5997   inspired    671      1   Semantic Scholar   \n",
       "4298        5998   inspired    672      1   Semantic Scholar   \n",
       "4299        5999   inspired    673      1   Semantic Scholar   \n",
       "4300        6000   inspired    674      1   Semantic Scholar   \n",
       "4303        6003   inspired    677      1   Semantic Scholar   \n",
       "\n",
       "                                                   text  \n",
       "1431                 If you\\'re feeling confident, use   \n",
       "1432  you\\'re just looking for [some inspiration][in...  \n",
       "1433  if you found this project helpful, any monetar...  \n",
       "1434  the inspiration for mozdef comes from the larg...  \n",
       "1435  we want designers to be as creative as possibl...  \n",
       "...                                                 ...  \n",
       "4297  Our experiments demonstrate that the models tr...  \n",
       "4298  We develop a new learning rule designed around...  \n",
       "4299  In this paper, we propose a novel Web services...  \n",
       "4300  To solve dynamic Sylvester equation in the pre...  \n",
       "4303  This paper presents a new approach for indexin...  \n",
       "\n",
       "[346 rows x 6 columns]"
      ]
     },
     "execution_count": 185,
     "metadata": {},
     "output_type": "execute_result"
    }
   ],
   "source": [
    "training_df[training_df['convention'] == 'inspired']"
   ]
  },
  {
   "cell_type": "code",
   "execution_count": 187,
   "metadata": {},
   "outputs": [
    {
     "name": "stdout",
     "output_type": "stream",
     "text": [
      "domestic\n",
      "364\n",
      "\n",
      "civic\n",
      "466\n",
      "\n",
      "project\n",
      "630\n",
      "\n",
      "inspired\n",
      "346\n",
      "\n",
      "green\n",
      "1574\n",
      "\n",
      "market\n",
      "578\n",
      "\n",
      "industrial\n",
      "1342\n",
      "\n",
      "renown\n",
      "308\n",
      "\n"
     ]
    }
   ],
   "source": [
    "for c in training_df['convention'].unique():\n",
    "    print(c)\n",
    "    print(len(training_df[training_df['convention'] == c]))\n",
    "    print()"
   ]
  },
  {
   "cell_type": "code",
   "execution_count": 275,
   "metadata": {},
   "outputs": [],
   "source": []
  },
  {
   "cell_type": "code",
   "execution_count": 276,
   "metadata": {},
   "outputs": [
    {
     "name": "stdout",
     "output_type": "stream",
     "text": [
      "[0.06951143 0.03326595 0.24418328 0.09338085 0.00307895 0.09783359\n",
      " 0.3643679  0.09437805]\n",
      "[0 1 2 3 4 5 6 7]\n",
      "[0.09722348 0.03550687 0.23687746 0.06382753 0.00152511 0.14390106\n",
      " 0.32328879 0.09784969]\n",
      "[0 1 2 3 4 5 6 7]\n",
      "[0.04166128 0.0663734  0.20494242 0.05873981 0.03118127 0.04217881\n",
      " 0.37068185 0.18424117]\n",
      "[0 1 2 3 4 5 6 7]\n"
     ]
    },
    {
     "data": {
      "image/png": "[encoded data removed]",
      "text/plain": [
       "<Figure size 864x432 with 1 Axes>"
      ]
     },
     "metadata": {},
     "output_type": "display_data"
    }
   ],
   "source": []
  },
  {
   "cell_type": "code",
   "execution_count": 19,
   "metadata": {},
   "outputs": [
    {
     "name": "stdout",
     "output_type": "stream",
     "text": [
      "plt.legend([x.replace(\"training_\", \"\").replace(\".txt\", \"\")+\" model\"\n",
      "            for x in list(_conventions_matches_precissions.keys())], fontsize=15)\n",
      "\n"
     ]
    },
    {
     "data": {
      "image/png": "[encoded data removed]",
      "text/plain": [
       "<Figure size 432x288 with 1 Axes>"
      ]
     },
     "metadata": {},
     "output_type": "display_data"
    },
    {
     "data": {
      "image/png": "[encoded data removed]",
      "text/plain": [
       "<Figure size 432x288 with 1 Axes>"
      ]
     },
     "metadata": {},
     "output_type": "display_data"
    }
   ],
   "source": [
    "print(__doc__)\n",
    "\n",
    "import numpy as np\n",
    "import matplotlib.pyplot as plt\n",
    "from sklearn.naive_bayes import GaussianNB\n",
    "from sklearn.svm import SVC\n",
    "from sklearn.datasets import load_digits\n",
    "from sklearn.model_selection import learning_curve\n",
    "from sklearn.model_selection import ShuffleSplit\n",
    "\n",
    "\n",
    "def plot_learning_curve(estimator, title, X, y, ylim=None, cv=None,\n",
    "                        n_jobs=None, train_sizes=np.linspace(.1, 1.0, 5)):\n",
    "    \"\"\"\n",
    "    Generate a simple plot of the test and training learning curve.\n",
    "\n",
    "    Parameters\n",
    "    ----------\n",
    "    estimator : object type that implements the \"fit\" and \"predict\" methods\n",
    "        An object of that type which is cloned for each validation.\n",
    "\n",
    "    title : string\n",
    "        Title for the chart.\n",
    "\n",
    "    X : array-like, shape (n_samples, n_features)\n",
    "        Training vector, where n_samples is the number of samples and\n",
    "        n_features is the number of features.\n",
    "\n",
    "    y : array-like, shape (n_samples) or (n_samples, n_features), optional\n",
    "        Target relative to X for classification or regression;\n",
    "        None for unsupervised learning.\n",
    "\n",
    "    ylim : tuple, shape (ymin, ymax), optional\n",
    "        Defines minimum and maximum yvalues plotted.\n",
    "\n",
    "    cv : int, cross-validation generator or an iterable, optional\n",
    "        Determines the cross-validation splitting strategy.\n",
    "        Possible inputs for cv are:\n",
    "          - None, to use the default 3-fold cross-validation,\n",
    "          - integer, to specify the number of folds.\n",
    "          - :term:`CV splitter`,\n",
    "          - An iterable yielding (train, test) splits as arrays of indices.\n",
    "\n",
    "        For integer/None inputs, if ``y`` is binary or multiclass,\n",
    "        :class:`StratifiedKFold` used. If the estimator is not a classifier\n",
    "        or if ``y`` is neither binary nor multiclass, :class:`KFold` is used.\n",
    "\n",
    "        Refer :ref:`User Guide <cross_validation>` for the various\n",
    "        cross-validators that can be used here.\n",
    "\n",
    "    n_jobs : int or None, optional (default=None)\n",
    "        Number of jobs to run in parallel.\n",
    "        ``None`` means 1 unless in a :obj:`joblib.parallel_backend` context.\n",
    "        ``-1`` means using all processors. See :term:`Glossary <n_jobs>`\n",
    "        for more details.\n",
    "\n",
    "    train_sizes : array-like, shape (n_ticks,), dtype float or int\n",
    "        Relative or absolute numbers of training examples that will be used to\n",
    "        generate the learning curve. If the dtype is float, it is regarded as a\n",
    "        fraction of the maximum size of the training set (that is determined\n",
    "        by the selected validation method), i.e. it has to be within (0, 1].\n",
    "        Otherwise it is interpreted as absolute sizes of the training sets.\n",
    "        Note that for classification the number of samples usually have to\n",
    "        be big enough to contain at least one sample from each class.\n",
    "        (default: np.linspace(0.1, 1.0, 5))\n",
    "    \"\"\"\n",
    "    plt.figure()\n",
    "    plt.title(title)\n",
    "    if ylim is not None:\n",
    "        plt.ylim(*ylim)\n",
    "    plt.xlabel(\"Training examples\")\n",
    "    plt.ylabel(\"Score\")\n",
    "    train_sizes, train_scores, test_scores = learning_curve(\n",
    "        estimator, X, y, cv=cv, n_jobs=n_jobs, train_sizes=train_sizes)\n",
    "    train_scores_mean = np.mean(train_scores, axis=1)\n",
    "    train_scores_std = np.std(train_scores, axis=1)\n",
    "    test_scores_mean = np.mean(test_scores, axis=1)\n",
    "    test_scores_std = np.std(test_scores, axis=1)\n",
    "    plt.grid()\n",
    "\n",
    "    plt.fill_between(train_sizes, train_scores_mean - train_scores_std,\n",
    "                     train_scores_mean + train_scores_std, alpha=0.1,\n",
    "                     color=\"r\")\n",
    "    plt.fill_between(train_sizes, test_scores_mean - test_scores_std,\n",
    "                     test_scores_mean + test_scores_std, alpha=0.1, color=\"g\")\n",
    "    plt.plot(train_sizes, train_scores_mean, 'o-', color=\"r\",\n",
    "             label=\"Training score\")\n",
    "    plt.plot(train_sizes, test_scores_mean, 'o-', color=\"g\",\n",
    "             label=\"Cross-validation score\")\n",
    "\n",
    "    plt.legend(loc=\"best\")\n",
    "    return plt\n",
    "\n",
    "\n",
    "digits = load_digits()\n",
    "X, y = digits.data, digits.target\n",
    "\n",
    "\n",
    "title = \"Learning Curves (Naive Bayes)\"\n",
    "# Cross validation with 100 iterations to get smoother mean test and train\n",
    "# score curves, each time with 20% data randomly selected as a validation set.\n",
    "cv = ShuffleSplit(n_splits=100, test_size=0.2, random_state=0)\n",
    "\n",
    "estimator = GaussianNB()\n",
    "plot_learning_curve(estimator, title, X, y, ylim=(0.7, 1.01), cv=cv, n_jobs=4)\n",
    "\n",
    "title = r\"Learning Curves (SVM, RBF kernel, $\\gamma=0.001$)\"\n",
    "# SVC is more expensive so we do a lower number of CV iterations:\n",
    "cv = ShuffleSplit(n_splits=10, test_size=0.2, random_state=0)\n",
    "estimator = SVC(gamma=0.001)\n",
    "plot_learning_curve(estimator, title, X, y, (0.7, 1.01), cv=cv, n_jobs=4)\n",
    "\n",
    "plt.show()"
   ]
  },
  {
   "cell_type": "code",
   "execution_count": 20,
   "metadata": {},
   "outputs": [],
   "source": [
    "from keras.wrappers.scikit_learn import KerasClassifier"
   ]
  },
  {
   "cell_type": "code",
   "execution_count": 21,
   "metadata": {},
   "outputs": [],
   "source": [
    "# Function to create model, required for KerasClassifier\n",
    "def create_model(epochs=20):\n",
    "    word_index = extended_tokenizer.word_index\n",
    "    num_epochs = epochs\n",
    "    EMBEDDING_DIM=100\n",
    "    MAX_SEQUENCE_LENGTH=32\n",
    "    \n",
    "    embedding_matrix = np.random.random((len(word_index) + 1, EMBEDDING_DIM))\n",
    "    for word, i in word_index.items():\n",
    "        embedding_vector = embeddings_index.get(word)\n",
    "        if embedding_vector is not None:\n",
    "            # words not found in embedding index will be all-zeros.\n",
    "            embedding_matrix[i] = embedding_vector\n",
    "\n",
    "    embedding_layer = Embedding(len(word_index) + 1,\n",
    "                                EMBEDDING_DIM,\n",
    "                                weights=[embedding_matrix],\n",
    "                                input_length=MAX_SEQUENCE_LENGTH,\n",
    "                                trainable=False)\n",
    "\n",
    "\n",
    "    convs = []\n",
    "    filter_sizes = [3,4,5]\n",
    "\n",
    "    sequence_input = Input(shape=(MAX_SEQUENCE_LENGTH,), dtype='int32')\n",
    "    embedded_sequences = embedding_layer(sequence_input)\n",
    "\n",
    "    for fsz in filter_sizes:\n",
    "        l_conv = Conv1D(nb_filter=128,filter_length=fsz,activation='relu')(embedded_sequences)\n",
    "        l_pool = MaxPooling1D(5)(l_conv)\n",
    "        convs.append(l_pool)\n",
    "\n",
    "    l_merge = Concatenate(axis=1)(convs)#\n",
    "\n",
    "    l_cov1= Conv1D(128, 5, activation='relu')(l_merge)\n",
    "    l_pool1 = MaxPooling1D(5)(l_cov1)\n",
    "\n",
    "    l_flat = Flatten()(l_pool1)\n",
    "    l_dense = Dense(128, activation='relu')(l_flat)\n",
    "    preds = Dense(2, activation='softmax')(l_dense)\n",
    "\n",
    "    model = Model(sequence_input, preds)\n",
    "    model.compile(loss='categorical_crossentropy',\n",
    "                  optimizer='rmsprop',\n",
    "                  metrics=['acc'])\n",
    "    return model\n",
    "    \n",
    "model = KerasClassifier(build_fn=create_model, epochs=20, verbose=0)"
   ]
  },
  {
   "cell_type": "code",
   "execution_count": 22,
   "metadata": {},
   "outputs": [
    {
     "data": {
      "text/plain": [
       "array([0.1, 1. ])"
      ]
     },
     "execution_count": 22,
     "metadata": {},
     "output_type": "execute_result"
    }
   ],
   "source": [
    "np.linspace(.1, 1.0, 2)"
   ]
  },
  {
   "cell_type": "code",
   "execution_count": 23,
   "metadata": {},
   "outputs": [],
   "source": [
    "import numpy as np\n",
    "import matplotlib.pyplot as plt\n",
    "\n",
    "from sklearn.model_selection import learning_curve\n",
    "from sklearn.model_selection import ShuffleSplit\n",
    "def plot_learning_curve(estimator, title, X, y, ylim=None, cv=None,\n",
    "                        n_jobs=None, train_sizes=np.linspace(.1, 1.0, 10)):\n",
    "    \"\"\"\n",
    "    Generate a simple plot of the test and training learning curve.\n",
    "\n",
    "    Parameters\n",
    "    ----------\n",
    "    estimator : object type that implements the \"fit\" and \"predict\" methods\n",
    "        An object of that type which is cloned for each validation.\n",
    "\n",
    "    title : string\n",
    "        Title for the chart.\n",
    "\n",
    "    X : array-like, shape (n_samples, n_features)\n",
    "        Training vector, where n_samples is the number of samples and\n",
    "        n_features is the number of features.\n",
    "\n",
    "    y : array-like, shape (n_samples) or (n_samples, n_features), optional\n",
    "        Target relative to X for classification or regression;\n",
    "        None for unsupervised learning.\n",
    "\n",
    "    ylim : tuple, shape (ymin, ymax), optional\n",
    "        Defines minimum and maximum yvalues plotted.\n",
    "\n",
    "    cv : int, cross-validation generator or an iterable, optional\n",
    "        Determines the cross-validation splitting strategy.\n",
    "        Possible inputs for cv are:\n",
    "          - None, to use the default 3-fold cross-validation,\n",
    "          - integer, to specify the number of folds.\n",
    "          - :term:`CV splitter`,\n",
    "          - An iterable yielding (train, test) splits as arrays of indices.\n",
    "\n",
    "        For integer/None inputs, if ``y`` is binary or multiclass,\n",
    "        :class:`StratifiedKFold` used. If the estimator is not a classifier\n",
    "        or if ``y`` is neither binary nor multiclass, :class:`KFold` is used.\n",
    "\n",
    "        Refer :ref:`User Guide <cross_validation>` for the various\n",
    "        cross-validators that can be used here.\n",
    "\n",
    "    n_jobs : int or None, optional (default=None)\n",
    "        Number of jobs to run in parallel.\n",
    "        ``None`` means 1 unless in a :obj:`joblib.parallel_backend` context.\n",
    "        ``-1`` means using all processors. See :term:`Glossary <n_jobs>`\n",
    "        for more details.\n",
    "\n",
    "    train_sizes : array-like, shape (n_ticks,), dtype float or int\n",
    "        Relative or absolute numbers of training examples that will be used to\n",
    "        generate the learning curve. If the dtype is float, it is regarded as a\n",
    "        fraction of the maximum size of the training set (that is determined\n",
    "        by the selected validation method), i.e. it has to be within (0, 1].\n",
    "        Otherwise it is interpreted as absolute sizes of the training sets.\n",
    "        Note that for classification the number of samples usually have to\n",
    "        be big enough to contain at least one sample from each class.\n",
    "        (default: np.linspace(0.1, 1.0, 5))\n",
    "    \"\"\"\n",
    "    plt.figure()\n",
    "    plt.title(title)\n",
    "    if ylim is not None:\n",
    "        plt.ylim(*ylim)\n",
    "    plt.xlabel(\"Training examples\")\n",
    "    plt.ylabel(\"Score\")\n",
    "    train_sizes, train_scores, test_scores = learning_curve(\n",
    "        estimator, X, y, cv=cv, n_jobs=n_jobs, train_sizes=train_sizes)\n",
    "    train_scores_mean = np.mean(train_scores, axis=1)\n",
    "    train_scores_std = np.std(train_scores, axis=1)\n",
    "    test_scores_mean = np.mean(test_scores, axis=1)\n",
    "    test_scores_std = np.std(test_scores, axis=1)\n",
    "    plt.grid()\n",
    "\n",
    "    plt.fill_between(train_sizes, train_scores_mean - train_scores_std,\n",
    "                     train_scores_mean + train_scores_std, alpha=0.1,\n",
    "                     color=\"r\")\n",
    "    plt.fill_between(train_sizes, test_scores_mean - test_scores_std,\n",
    "                     test_scores_mean + test_scores_std, alpha=0.1, color=\"g\")\n",
    "    plt.plot(train_sizes, train_scores_mean, 'o-', color=\"r\",\n",
    "             label=\"Training score\")\n",
    "    plt.plot(train_sizes, test_scores_mean, 'o-', color=\"g\",\n",
    "             label=\"Cross-validation score\")\n",
    "\n",
    "    plt.legend(loc=\"best\")\n",
    "    return plt"
   ]
  },
  {
   "cell_type": "code",
   "execution_count": 24,
   "metadata": {},
   "outputs": [
    {
     "data": {
      "text/plain": [
       "array(['domestic', 'civic', 'project', 'inspired', 'green', 'market',\n",
       "       'industrial', 'renown'], dtype=object)"
      ]
     },
     "execution_count": 24,
     "metadata": {},
     "output_type": "execute_result"
    }
   ],
   "source": [
    "training_df['convention'].unique()"
   ]
  },
  {
   "cell_type": "code",
   "execution_count": 25,
   "metadata": {
    "scrolled": false
   },
   "outputs": [
    {
     "name": "stderr",
     "output_type": "stream",
     "text": [
      "/usr/local/lib/python3.7/site-packages/joblib/externals/loky/process_executor.py:706: UserWarning: A worker stopped while some jobs were given to the executor. This can be caused by a too short worker timeout or by a memory leak.\n",
      "  \"timeout or by a memory leak.\", UserWarning\n"
     ]
    },
    {
     "data": {
      "image/png": "[encoded data removed]",
      "text/plain": [
       "<Figure size 432x288 with 1 Axes>"
      ]
     },
     "metadata": {},
     "output_type": "display_data"
    },
    {
     "data": {
      "image/png": "[encoded data removed]",
      "text/plain": [
       "<Figure size 432x288 with 1 Axes>"
      ]
     },
     "metadata": {},
     "output_type": "display_data"
    },
    {
     "data": {
      "image/png": "[encoded data removed]",
      "text/plain": [
       "<Figure size 432x288 with 1 Axes>"
      ]
     },
     "metadata": {},
     "output_type": "display_data"
    },
    {
     "data": {
      "image/png": "[encoded data removed]",
      "text/plain": [
       "<Figure size 432x288 with 1 Axes>"
      ]
     },
     "metadata": {},
     "output_type": "display_data"
    },
    {
     "data": {
      "image/png": "[encoded data removed]",
      "text/plain": [
       "<Figure size 432x288 with 1 Axes>"
      ]
     },
     "metadata": {},
     "output_type": "display_data"
    },
    {
     "data": {
      "image/png": "[encoded data removed]",
      "text/plain": [
       "<Figure size 432x288 with 1 Axes>"
      ]
     },
     "metadata": {},
     "output_type": "display_data"
    },
    {
     "data": {
      "image/png": "[encoded data removed]",
      "text/plain": [
       "<Figure size 432x288 with 1 Axes>"
      ]
     },
     "metadata": {},
     "output_type": "display_data"
    },
    {
     "data": {
      "image/png": "[encoded data removed]",
      "text/plain": [
       "<Figure size 432x288 with 1 Axes>"
      ]
     },
     "metadata": {},
     "output_type": "display_data"
    }
   ],
   "source": [
    "for _conv in training_df['convention'].unique():\n",
    "    tmp_df_train = training_df[training_df['convention']==_conv]\n",
    "\n",
    "    texts = tmp_df_train['text'].values\n",
    "    labels = tmp_df_train['label'].values\n",
    "\n",
    "    sequences = extended_tokenizer.texts_to_sequences(texts)\n",
    "\n",
    "\n",
    "    data = pad_sequences(sequences, maxlen=MAX_SEQUENCE_LENGTH)\n",
    "\n",
    "    labels = to_categorical(np.asarray(labels))\n",
    "\n",
    "    X=data\n",
    "    y=labels\n",
    "\n",
    "    title = \"Learning Curves ({})\".format(_conv.capitalize())\n",
    "    # Cross validation with 100 iterations to get smoother mean test and train\n",
    "    # score curves, each time with 20% data randomly selected as a validation set.\n",
    "    cv = ShuffleSplit(n_splits=10, test_size=0.2, random_state=0)\n",
    "\n",
    "    estimator = KerasClassifier(build_fn=create_model, epochs=20, verbose=0)\n",
    "    plot_learning_curve(estimator, title, X, y, ylim=(0.6, 1.01), cv=cv, n_jobs=4)\n",
    "\n",
    "    plt.show()"
   ]
  },
  {
   "cell_type": "code",
   "execution_count": 303,
   "metadata": {},
   "outputs": [
    {
     "name": "stdout",
     "output_type": "stream",
     "text": [
      "[0.1 0.2 0.3 0.4 0.5 0.6 0.7 0.8 0.9 1. ]\n"
     ]
    },
    {
     "ename": "AttributeError",
     "evalue": "'KerasClassifier' object has no attribute 'train'",
     "output_type": "error",
     "traceback": [
      "\u001b[0;31m---------------------------------------------\u001b[0m",
      "\u001b[0;31mAttributeError\u001b[0mTraceback (most recent call last)",
      "\u001b[0;32m<ipython-input-303-39b4b6581713>\u001b[0m in \u001b[0;36m<module>\u001b[0;34m\u001b[0m\n\u001b[1;32m     36\u001b[0m \u001b[0;34m\u001b[0m\u001b[0m\n\u001b[1;32m     37\u001b[0m \u001b[0;34m\u001b[0m\u001b[0m\n\u001b[0;32m---> 38\u001b[0;31m     \u001b[0mestimator\u001b[0m\u001b[0;34m.\u001b[0m\u001b[0mtrain\u001b[0m\u001b[0;34m(\u001b[0m\u001b[0mtmp_x\u001b[0m\u001b[0;34m)\u001b[0m\u001b[0;34m\u001b[0m\u001b[0;34m\u001b[0m\u001b[0m\n\u001b[0m\u001b[1;32m     39\u001b[0m \u001b[0;34m\u001b[0m\u001b[0m\n\u001b[1;32m     40\u001b[0m \u001b[0;34m\u001b[0m\u001b[0m\n",
      "\u001b[0;31mAttributeError\u001b[0m: 'KerasClassifier' object has no attribute 'train'"
     ]
    }
   ],
   "source": [
    "data_portions = np.arange(.1, 1.01, 0.10)\n",
    "print(data_portions)\n",
    "\n",
    "accs = []\n",
    "\n",
    "for p in data_portions:\n",
    "    \n",
    "    tmp_df_train = training_df[training_df['convention']=='industrial']\n",
    "\n",
    "    texts = tmp_df_train['text'].values\n",
    "    labels = tmp_df_train['label'].values\n",
    "\n",
    "    sequences = extended_tokenizer.texts_to_sequences(texts)\n",
    "\n",
    "\n",
    "    data = pad_sequences(sequences, maxlen=MAX_SEQUENCE_LENGTH)\n",
    "\n",
    "    labels = to_categorical(np.asarray(labels))\n",
    "    \n",
    "    selected_indexes = random.choice(list(enumerate(X)))[0]\n",
    "    \n",
    "    tmp_x = data[selected_indexes]\n",
    "    tmp_y = labels[selected_indexes]\n",
    "    \n",
    "    \n",
    "    \n",
    "    \n",
    "    \n",
    "\n",
    "    title = \"Learning Curves (Industrial)\"\n",
    "    # Cross validation with 100 iterations to get smoother mean test and train\n",
    "    # score curves, each time with 20% data randomly selected as a validation set.\n",
    "    #cv = ShuffleSplit(n_splits=100, test_size=0.2, random_state=0)\n",
    "\n",
    "    estimator = KerasClassifier(build_fn=create_model, epochs=20, verbose=0)\n",
    "    \n",
    "    \n",
    "    estimator.train(tmp_x)\n",
    "\n",
    "    \n",
    "    accs.append(metrics.accuracy_score())"
   ]
  },
  {
   "cell_type": "code",
   "execution_count": null,
   "metadata": {},
   "outputs": [],
   "source": []
  }
 ],
 "metadata": {
  "kernelspec": {
   "display_name": "Python 3",
   "language": "python",
   "name": "python3"
  },
  "language_info": {
   "codemirror_mode": {
    "name": "ipython",
    "version": 3
   },
   "file_extension": ".py",
   "mimetype": "text/x-python",
   "name": "python",
   "nbconvert_exporter": "python",
   "pygments_lexer": "ipython3",
   "version": "3.7.4"
  }
 },
 "nbformat": 4,
 "nbformat_minor": 2
}
