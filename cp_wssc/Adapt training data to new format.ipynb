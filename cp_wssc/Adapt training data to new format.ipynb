{
 "cells": [
  {
   "cell_type": "code",
   "execution_count": 21,
   "metadata": {},
   "outputs": [],
   "source": [
    "import pandas as pd\n",
    "import numpy as np\n",
    "import os\n",
    "\n",
    "#visualization imports\n",
    "from IPython.display import display\n",
    "import seaborn as sns\n",
    "import matplotlib.pyplot as plt\n",
    "import matplotlib.image as mpimg\n",
    "import base64\n",
    "import io\n",
    "%matplotlib inline"
   ]
  },
  {
   "cell_type": "code",
   "execution_count": 3,
   "metadata": {},
   "outputs": [],
   "source": [
    "training_data_folder = \"Data/Iterative-models-building/Training data/Conventions/\""
   ]
  },
  {
   "cell_type": "code",
   "execution_count": 4,
   "metadata": {},
   "outputs": [
    {
     "data": {
      "text/plain": [
       "['training_Domestic.txt',\n",
       " 'training_Civic.txt',\n",
       " 'training_Project.txt',\n",
       " 'training_Inspired.txt',\n",
       " 'training_Green.txt',\n",
       " 'training_Market.txt',\n",
       " 'training_Industrial.txt',\n",
       " 'training_Renown.txt']"
      ]
     },
     "execution_count": 4,
     "metadata": {},
     "output_type": "execute_result"
    }
   ],
   "source": [
    "training_data_files = [f for f in os.listdir(training_data_folder) \n",
    "                              if (os.path.isfile(os.path.join(training_data_folder, f)) \n",
    "                                  and not f.startswith( '.' ) \n",
    "                                  and not \"random\" in f \n",
    "                                  and \"training_\" in f)]\n",
    "training_data_files"
   ]
  },
  {
   "cell_type": "code",
   "execution_count": 12,
   "metadata": {},
   "outputs": [],
   "source": [
    "dfs = []\n",
    "for f_name in training_data_files:\n",
    "    tmp_df = pd.read_csv(os.path.join(training_data_folder, f_name), sep=\"\\t\")\n",
    "    \n",
    "    tmp_df['provenance'] = \"Manually_gathered\"\n",
    "    tmp_df['convention'] = \"{}\".format(f_name.replace(\"training_\", \"\").replace(\".txt\", \"\"))\n",
    "    dfs.append(tmp_df)\n",
    "    \n",
    "df = pd.concat(dfs)"
   ]
  },
  {
   "cell_type": "code",
   "execution_count": 13,
   "metadata": {},
   "outputs": [
    {
     "data": {
      "text/plain": [
       "(5326, 4)"
      ]
     },
     "execution_count": 13,
     "metadata": {},
     "output_type": "execute_result"
    }
   ],
   "source": [
    "df.shape"
   ]
  },
  {
   "cell_type": "code",
   "execution_count": 14,
   "metadata": {},
   "outputs": [
    {
     "data": {
      "text/html": [
       "<div>\n",
       "<style scoped>\n",
       "    .dataframe tbody tr th:only-of-type {\n",
       "        vertical-align: middle;\n",
       "    }\n",
       "\n",
       "    .dataframe tbody tr th {\n",
       "        vertical-align: top;\n",
       "    }\n",
       "\n",
       "    .dataframe thead th {\n",
       "        text-align: right;\n",
       "    }\n",
       "</style>\n",
       "<table border=\"1\" class=\"dataframe\">\n",
       "  <thead>\n",
       "    <tr style=\"text-align: right;\">\n",
       "      <th></th>\n",
       "      <th>category</th>\n",
       "      <th>text</th>\n",
       "      <th>provenance</th>\n",
       "      <th>convention</th>\n",
       "    </tr>\n",
       "  </thead>\n",
       "  <tbody>\n",
       "    <tr>\n",
       "      <td>0</td>\n",
       "      <td>1</td>\n",
       "      <td>an exotic payload crafted:</td>\n",
       "      <td>Manually_gathered</td>\n",
       "      <td>Domestic</td>\n",
       "    </tr>\n",
       "    <tr>\n",
       "      <td>1</td>\n",
       "      <td>1</td>\n",
       "      <td>this package provides routines to construct gr...</td>\n",
       "      <td>Manually_gathered</td>\n",
       "      <td>Domestic</td>\n",
       "    </tr>\n",
       "    <tr>\n",
       "      <td>2</td>\n",
       "      <td>1</td>\n",
       "      <td>** clearly see how your habits improved over</td>\n",
       "      <td>Manually_gathered</td>\n",
       "      <td>Domestic</td>\n",
       "    </tr>\n",
       "    <tr>\n",
       "      <td>3</td>\n",
       "      <td>1</td>\n",
       "      <td>** create an individual reminder for each habi...</td>\n",
       "      <td>Manually_gathered</td>\n",
       "      <td>Domestic</td>\n",
       "    </tr>\n",
       "    <tr>\n",
       "      <td>4</td>\n",
       "      <td>1</td>\n",
       "      <td>unit of work and continuity.</td>\n",
       "      <td>Manually_gathered</td>\n",
       "      <td>Domestic</td>\n",
       "    </tr>\n",
       "  </tbody>\n",
       "</table>\n",
       "</div>"
      ],
      "text/plain": [
       "   category                                               text  \\\n",
       "0         1                        an exotic payload crafted:    \n",
       "1         1  this package provides routines to construct gr...   \n",
       "2         1      ** clearly see how your habits improved over    \n",
       "3         1  ** create an individual reminder for each habi...   \n",
       "4         1                      unit of work and continuity.    \n",
       "\n",
       "          provenance convention  \n",
       "0  Manually_gathered   Domestic  \n",
       "1  Manually_gathered   Domestic  \n",
       "2  Manually_gathered   Domestic  \n",
       "3  Manually_gathered   Domestic  \n",
       "4  Manually_gathered   Domestic  "
      ]
     },
     "execution_count": 14,
     "metadata": {},
     "output_type": "execute_result"
    }
   ],
   "source": [
    "df.head()"
   ]
  },
  {
   "cell_type": "code",
   "execution_count": 15,
   "metadata": {},
   "outputs": [
    {
     "data": {
      "text/html": [
       "<div>\n",
       "<style scoped>\n",
       "    .dataframe tbody tr th:only-of-type {\n",
       "        vertical-align: middle;\n",
       "    }\n",
       "\n",
       "    .dataframe tbody tr th {\n",
       "        vertical-align: top;\n",
       "    }\n",
       "\n",
       "    .dataframe thead th {\n",
       "        text-align: right;\n",
       "    }\n",
       "</style>\n",
       "<table border=\"1\" class=\"dataframe\">\n",
       "  <thead>\n",
       "    <tr style=\"text-align: right;\">\n",
       "      <th></th>\n",
       "      <th>label</th>\n",
       "      <th>text</th>\n",
       "      <th>provenance</th>\n",
       "      <th>convention</th>\n",
       "    </tr>\n",
       "  </thead>\n",
       "  <tbody>\n",
       "    <tr>\n",
       "      <td>0</td>\n",
       "      <td>1</td>\n",
       "      <td>an exotic payload crafted:</td>\n",
       "      <td>Manually_gathered</td>\n",
       "      <td>Domestic</td>\n",
       "    </tr>\n",
       "    <tr>\n",
       "      <td>1</td>\n",
       "      <td>1</td>\n",
       "      <td>this package provides routines to construct gr...</td>\n",
       "      <td>Manually_gathered</td>\n",
       "      <td>Domestic</td>\n",
       "    </tr>\n",
       "    <tr>\n",
       "      <td>2</td>\n",
       "      <td>1</td>\n",
       "      <td>** clearly see how your habits improved over</td>\n",
       "      <td>Manually_gathered</td>\n",
       "      <td>Domestic</td>\n",
       "    </tr>\n",
       "    <tr>\n",
       "      <td>3</td>\n",
       "      <td>1</td>\n",
       "      <td>** create an individual reminder for each habi...</td>\n",
       "      <td>Manually_gathered</td>\n",
       "      <td>Domestic</td>\n",
       "    </tr>\n",
       "    <tr>\n",
       "      <td>4</td>\n",
       "      <td>1</td>\n",
       "      <td>unit of work and continuity.</td>\n",
       "      <td>Manually_gathered</td>\n",
       "      <td>Domestic</td>\n",
       "    </tr>\n",
       "    <tr>\n",
       "      <td>...</td>\n",
       "      <td>...</td>\n",
       "      <td>...</td>\n",
       "      <td>...</td>\n",
       "      <td>...</td>\n",
       "    </tr>\n",
       "    <tr>\n",
       "      <td>359</td>\n",
       "      <td>0</td>\n",
       "      <td>beings in the state of unworthiness are define...</td>\n",
       "      <td>Manually_gathered</td>\n",
       "      <td>Renown</td>\n",
       "    </tr>\n",
       "    <tr>\n",
       "      <td>360</td>\n",
       "      <td>0</td>\n",
       "      <td>create, discover, quest, imagine, dream, explo...</td>\n",
       "      <td>Manually_gathered</td>\n",
       "      <td>Renown</td>\n",
       "    </tr>\n",
       "    <tr>\n",
       "      <td>361</td>\n",
       "      <td>0</td>\n",
       "      <td>indeed, in the inspired world, the objects and...</td>\n",
       "      <td>Manually_gathered</td>\n",
       "      <td>Renown</td>\n",
       "    </tr>\n",
       "    <tr>\n",
       "      <td>362</td>\n",
       "      <td>0</td>\n",
       "      <td>if you found this project helpful, any monetar...</td>\n",
       "      <td>Manually_gathered</td>\n",
       "      <td>Renown</td>\n",
       "    </tr>\n",
       "    <tr>\n",
       "      <td>363</td>\n",
       "      <td>0</td>\n",
       "      <td>finally, activists refer to the natural harmon...</td>\n",
       "      <td>Manually_gathered</td>\n",
       "      <td>Renown</td>\n",
       "    </tr>\n",
       "  </tbody>\n",
       "</table>\n",
       "<p>5326 rows × 4 columns</p>\n",
       "</div>"
      ],
      "text/plain": [
       "     label                                               text  \\\n",
       "0        1                        an exotic payload crafted:    \n",
       "1        1  this package provides routines to construct gr...   \n",
       "2        1      ** clearly see how your habits improved over    \n",
       "3        1  ** create an individual reminder for each habi...   \n",
       "4        1                      unit of work and continuity.    \n",
       "..     ...                                                ...   \n",
       "359      0  beings in the state of unworthiness are define...   \n",
       "360      0  create, discover, quest, imagine, dream, explo...   \n",
       "361      0  indeed, in the inspired world, the objects and...   \n",
       "362      0  if you found this project helpful, any monetar...   \n",
       "363      0  finally, activists refer to the natural harmon...   \n",
       "\n",
       "            provenance convention  \n",
       "0    Manually_gathered   Domestic  \n",
       "1    Manually_gathered   Domestic  \n",
       "2    Manually_gathered   Domestic  \n",
       "3    Manually_gathered   Domestic  \n",
       "4    Manually_gathered   Domestic  \n",
       "..                 ...        ...  \n",
       "359  Manually_gathered     Renown  \n",
       "360  Manually_gathered     Renown  \n",
       "361  Manually_gathered     Renown  \n",
       "362  Manually_gathered     Renown  \n",
       "363  Manually_gathered     Renown  \n",
       "\n",
       "[5326 rows x 4 columns]"
      ]
     },
     "execution_count": 15,
     "metadata": {},
     "output_type": "execute_result"
    }
   ],
   "source": [
    "df.rename(columns={\"category\": \"label\"})"
   ]
  },
  {
   "cell_type": "code",
   "execution_count": 36,
   "metadata": {},
   "outputs": [],
   "source": [
    "df.to_csv(os.path.join(training_data_folder, \"training_aggregated_conventions.tsv\"), sep=\"\\t\", index=False)"
   ]
  },
  {
   "cell_type": "code",
   "execution_count": 37,
   "metadata": {},
   "outputs": [
    {
     "data": {
      "image/png": "[encoded data removed]",
      "text/plain": [
       "<Figure size 432x288 with 1 Axes>"
      ]
     },
     "metadata": {
      "needs_background": "light"
     },
     "output_type": "display_data"
    }
   ],
   "source": [
    "df['convention'].value_counts().plot(kind='bar')\n",
    "plt.savefig('convention_training_data_proportions.png')"
   ]
  },
  {
   "cell_type": "code",

   "execution_count": 34,
   "metadata": {},
   "outputs": [
    {
     "data": {
      "text/plain": [
       "array(['Domestic', 'Civic', 'Project', 'Inspired', 'Green', 'Market',\n",
       "       'Industrial', 'Renown'], dtype=object)"
      ]
     },
     "execution_count": 34,
     "metadata": {},
     "output_type": "execute_result"
    }
   ],
   "source": [
    "df['convention'].unique()"
   ]
  },
  {
   "cell_type": "code",
   "execution_count": null,
   "metadata": {},
   "outputs": [],
   "source": []
  }
 ],
 "metadata": {
  "kernelspec": {
   "display_name": "Python 3",
   "language": "python",
   "name": "python3"
  },
  "language_info": {
   "codemirror_mode": {
    "name": "ipython",
    "version": 3
   },
   "file_extension": ".py",
   "mimetype": "text/x-python",
   "name": "python",
   "nbconvert_exporter": "python",
   "pygments_lexer": "ipython3",
   "version": "3.7.4"
  }
 },
 "nbformat": 4,
 "nbformat_minor": 2
}
